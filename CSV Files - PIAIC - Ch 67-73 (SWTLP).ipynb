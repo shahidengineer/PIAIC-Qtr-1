{
 "cells": [
  {
   "cell_type": "markdown",
   "metadata": {},
   "source": [
    "# PIAIC\n",
    "\n",
    "# CSV FILES\n",
    "- CSV stands for comma seperated files. For example\n",
    "        Year, Event, Winner\n",
    "        1995, Best-Kept Lawn, None\n",
    "        1999, Gobstornes, Welch National\n",
    "        2006, World Cup, Burkina Faso\n",
    "- Each row in speadsheet is a seperate line\n",
    "\n",
    "## CODING\n",
    "### Reading a File\n",
    "\n",
    "import csv\n",
    "\n",
    "with open (competitions.csv) as f:\n",
    "\n",
    "    content = csv.reader(f)\n",
    "\n",
    "- The CSV files arent useable as yet. We need to loop through the data stored in the contents line by line in a list as below\n",
    "\n",
    "with open (\"competitions.csv\") as f:\n",
    "\n",
    "    contents_of_f = csv.reader(f)\n",
    "    \n",
    "    potter_competitions = []\n",
    "    \n",
    "    for each_line in contents_of)f:\n",
    "    \n",
    "    potter_competitions += each_line\n",
    "\n",
    "### Writing a CSV file\n",
    "\n",
    "with open(\"whatever.csv\",\"w\", newline=\"\") as f:\n",
    "    \n",
    "    data_handler = csv.writer (f,delimiter=\",\")\n",
    "    \n",
    "    data_hnadler.writerow ([\"Year\",\"Event\",\"Winner\"])\n",
    "    \n",
    "    data_hnadler.writerow ([\"1995\",\"Best-Kept Lawn\",\"None\"])\n",
    "    \n",
    "    data_hnadler.writerow ([\"1999\",\"Gobsotnes\",\"W Naitonal\"])\n",
    "    \n",
    "### Appending to a CSV file\n",
    "\n",
    "with open(\"whatever.csv\",\"a\", newline=\"\") as f:\n",
    "    \n",
    "    data_handler = csv.writer (f,delimiter=\",\")\n",
    "    \n",
    "    data_hnadler.writerow ([\"Year\",\"Event\",\"Winner\"])\n",
    "    \n",
    "    data_hnadler.writerow ([\"1995\",\"Best-Kept Lawn\",\"None\"])\n",
    "    \n",
    "    data_hnadler.writerow ([\"1999\",\"Gobsotnes\",\"W Naitonal\"])"
   ]
  },
  {
   "cell_type": "code",
   "execution_count": 1,
   "metadata": {},
   "outputs": [],
   "source": [
    "import csv"
   ]
  },
  {
   "cell_type": "code",
   "execution_count": 5,
   "metadata": {},
   "outputs": [
    {
     "name": "stdout",
     "output_type": "stream",
     "text": [
      "['Year', ' Event', ' Winner']\n",
      "['1995', ' Best-Kept Lawn', ' None']\n",
      "['1999', ' Gobstornes', ' Welch National']\n",
      "['2006', ' World Cup', ' Burkina Faso']\n"
     ]
    }
   ],
   "source": [
    "# Reading Data from a CSV File\n",
    "with open (\"abc.csv\", \"r\") as file:\n",
    "    contents = csv.reader(file)\n",
    "    for content in contents:\n",
    "        print (content)"
   ]
  },
  {
   "cell_type": "code",
   "execution_count": 6,
   "metadata": {},
   "outputs": [],
   "source": [
    "# Writing to a CSV File\n",
    "with open (\"xyz.csv\",\"w\", newline = \"\") as file:\n",
    "    fileWriter = csv.writer(file)\n",
    "    fileWriter.writerow([\"2019\",\"CW2019\", \"England\"])"
   ]
  },
  {
   "cell_type": "code",
   "execution_count": 7,
   "metadata": {},
   "outputs": [],
   "source": [
    "with open (\"xyz.csv\",\"w\", newline = \"\") as file:\n",
    "    fileWriter = csv.writer(file)\n",
    "    fileWriter.writerow([\"2020\",\"CW2019\", \"England\"])\n",
    "# This will overwrite the file"
   ]
  },
  {
   "cell_type": "code",
   "execution_count": 8,
   "metadata": {},
   "outputs": [],
   "source": [
    "# Appending to a CSV file\n",
    "with open (\"xyz.csv\",\"a\", newline = \"\") as file:\n",
    "    fileWriter = csv.writer(file)\n",
    "    fileWriter.writerow([\"2021\",\"CW2019\", \"England\"])\n",
    "    fileWriter.writerow([\"2022\",\"CW2019\", \"England\"])"
   ]
  },
  {
   "cell_type": "markdown",
   "metadata": {},
   "source": [
    "## SMARTER WAY TO LEARN PYTHON"
   ]
  },
  {
   "cell_type": "markdown",
   "metadata": {},
   "source": [
    "CSV files are text-only files that are simplified versions of a spreadsheet or database. \"CSV\" stands for \"Comma-Separated Values.\"\n",
    "\n",
    "The CSV file looks like this…\n",
    "\n",
    "    Year,Event,Winner\n",
    "    1995,Best-Kept Lawn,None\n",
    "    1999,Gobstones,Welch National\n",
    "    2006,World Cup,Burkina Faso\n",
    "\n",
    "Each row of the spreadsheet is a separte line in the CSV file. Within each row, each cell is separated by a comma.\n",
    "Notice that the formatting in the Excel file has disappeared in the CSV file. A CSV file is nothing but text."
   ]
  },
  {
   "cell_type": "code",
   "execution_count": 9,
   "metadata": {},
   "outputs": [],
   "source": [
    "import csv"
   ]
  },
  {
   "cell_type": "code",
   "execution_count": 23,
   "metadata": {},
   "outputs": [
    {
     "name": "stdout",
     "output_type": "stream",
     "text": [
      "['Year', ' Event', ' Winner', '1995', ' Best-Kept Lawn', ' None', '1999', ' Gobstones', ' Welch National', '2006', ' World Cup', ' Burkina Faso']\n"
     ]
    }
   ],
   "source": [
    "# Chap 67 - CSV Files \n",
    "# Ch-68 CSV files: Reading them\n",
    "\n",
    "# Reading a File\n",
    "file_name = \"competitions.csv\"\n",
    "with open (file_name) as f: # opened in read-mode\n",
    "    contents = csv.reader(f) #reader is a function called in csv for reading\n",
    "    potter_competitions = []\n",
    "    for content in contents:\n",
    "        potter_competitions += content\n",
    "print (potter_competitions)"
   ]
  },
  {
   "cell_type": "code",
   "execution_count": 21,
   "metadata": {},
   "outputs": [
    {
     "name": "stdout",
     "output_type": "stream",
     "text": [
      "[['Year', 'Event', 'Winner'], ['1995', 'Best-Kept Lawn', 'None'], ['1999', 'Gobstones', 'Welch National'], ['2006', 'World Cup', 'Burkina Faso']]\n"
     ]
    }
   ],
   "source": [
    "# Making a list of CSV data\n",
    "import csv\n",
    "file_name = \"competitions.csv\"\n",
    "with open (file_name, \"r\", newline=\"\") as file:\n",
    "    contents = csv.reader(file, skipinitialspace=True)\n",
    "    list_of_csv = list(contents)\n",
    "print (list_of_csv)"
   ]
  },
  {
   "cell_type": "code",
   "execution_count": 22,
   "metadata": {},
   "outputs": [
    {
     "name": "stdout",
     "output_type": "stream",
     "text": [
      "[('Year', 'Event', 'Winner'), ('1995', 'Best-Kept Lawn', 'None'), ('1999', 'Gobstones', 'Welch National'), ('2006', 'World Cup', 'Burkina Faso')]\n"
     ]
    }
   ],
   "source": [
    "# Making a tuple of CSV data\n",
    "import csv\n",
    "file_name = \"competitions.csv\"\n",
    "with open (file_name, newline=\"\") as file:\n",
    "    contents = csv.reader(file, skipinitialspace=True)\n",
    "    tup_of_csv = [tuple(item) for item in contents]\n",
    "print (tup_of_csv)"
   ]
  },
  {
   "cell_type": "code",
   "execution_count": 31,
   "metadata": {},
   "outputs": [
    {
     "name": "stdout",
     "output_type": "stream",
     "text": [
      "['Year', 'Event', 'Winner', '1995', 'Best-Kept Lawn', 'None', '1999', 'Gobstones', 'Welch National', '2006', 'World Cup', 'Burkina Faso']\n",
      "Enter the name of competition:Gobstones\n",
      "The winner of the competition Gobstones in year 1999 is Welch National.\n"
     ]
    }
   ],
   "source": [
    "# Ch-69 CSV files: Picking information out of them\n",
    "file_name = \"competitions.csv\"\n",
    "with open (file_name) as f: # opened in read-mode\n",
    "    contents = csv.reader(f, skipinitialspace=True) \n",
    "    #reader is a function called in csv for reading\n",
    "    #skipinitialspace removes the white space before.\n",
    "    potter_competitions = []\n",
    "    for content in contents:\n",
    "        potter_competitions += content\n",
    "print (potter_competitions)\n",
    "target_event = str (input(\"Enter the name of competition:\"))\n",
    "target_index = potter_competitions.index(target_event) + 1\n",
    "print (f\"The winner of the competition {target_event} in year {potter_competitions[target_index-2]} is {potter_competitions[target_index]}.\")"
   ]
  },
  {
   "cell_type": "code",
   "execution_count": 35,
   "metadata": {},
   "outputs": [
    {
     "name": "stdout",
     "output_type": "stream",
     "text": [
      "['Year', 'Event', 'Winner']\n",
      "['1995', 'Best-Kept Lawn', 'None']\n",
      "['1999', 'Gobstones', 'Welch National']\n"
     ]
    }
   ],
   "source": [
    "# Ch-70 CSV files: Loading information into them. (Part 1)\n",
    "# Ch-71 CSV files: Loading information into them. (Part 2)\n",
    "# Ch-72 CSV files: Loading information into them. (Part 3)\n",
    "\n",
    "import csv\n",
    "\n",
    "# WRITING CSV FILES\n",
    "file_name = \"whatever.csv\"\n",
    "with open (file_name, \"w\", newline=\"\") as file:\n",
    "    # newline=\"\" is a technical requirement.\n",
    "    writer = csv.writer(file, delimiter = \",\")\n",
    "    # csv.writer is the command for writing\n",
    "    # file is the reference\n",
    "    # delimiter will seperate the enteries with \",\"\n",
    "    writer.writerow ([\"Year\", \"Event\", \"Winner\"])\n",
    "    writer.writerow ([\"1995\", \"Best-Kept Lawn\", \"None\"])\n",
    "    writer.writerow ([\"1999\", \"Gobstones\", \"Welch National\"])\n",
    "    #file_ref.writerow() will write lines\n",
    "    # every entry should be writter in list form in csv []\n",
    "\n",
    "# READING THE NEW FILE\n",
    "with open (file_name, \"r\", newline=\"\") as file:\n",
    "    contents = csv.reader(file)\n",
    "    for content in contents:\n",
    "        print (content)"
   ]
  },
  {
   "cell_type": "code",
   "execution_count": 36,
   "metadata": {},
   "outputs": [
    {
     "name": "stdout",
     "output_type": "stream",
     "text": [
      "['Year', 'Event', 'Winner']\n",
      "['1995', 'Best-Kept Lawn', 'None']\n",
      "['1999', 'Gobstones', 'Welch National']\n",
      "['2006', 'World Cup', 'Burkina Faso']\n",
      "['2011', 'Butter Cup', 'France']\n",
      "['2012', 'Coffee Cup', 'Brazil']\n"
     ]
    }
   ],
   "source": [
    "# Ch-73 CSV files: Appending rows to them.\n",
    "\n",
    "# APPENDING CSV FILES\n",
    "file_name = \"whatever.csv\"\n",
    "with open (file_name, \"a\", newline=\"\") as file:\n",
    "    # newline=\"\" is a technical requirement.\n",
    "    writer = csv.writer(file, delimiter = \",\")\n",
    "    # csv.writer is the command for writing\n",
    "    # file is the reference\n",
    "    # delimiter will seperate the enteries with \",\"\n",
    "    writer.writerow ([\"2006\", \"World Cup\", \"Burkina Faso\"])\n",
    "    writer.writerow ([\"2011\", \"Butter Cup\", \"France\"])\n",
    "    writer.writerow ([\"2012\", \"Coffee Cup\", \"Brazil\"])\n",
    "    #file_ref.writerow() will write lines\n",
    "    # every entry should be writter in list form in csv []\n",
    "\n",
    "# READING THE NEW FILE\n",
    "with open (file_name, \"r\", newline=\"\") as file:\n",
    "    contents = csv.reader(file)\n",
    "    for content in contents:\n",
    "        print (content)"
   ]
  },
  {
   "cell_type": "code",
   "execution_count": null,
   "metadata": {},
   "outputs": [],
   "source": []
  }
 ],
 "metadata": {
  "kernelspec": {
   "display_name": "Python 3",
   "language": "python",
   "name": "python3"
  },
  "language_info": {
   "codemirror_mode": {
    "name": "ipython",
    "version": 3
   },
   "file_extension": ".py",
   "mimetype": "text/x-python",
   "name": "python",
   "nbconvert_exporter": "python",
   "pygments_lexer": "ipython3",
   "version": "3.7.6"
  }
 },
 "nbformat": 4,
 "nbformat_minor": 4
}
