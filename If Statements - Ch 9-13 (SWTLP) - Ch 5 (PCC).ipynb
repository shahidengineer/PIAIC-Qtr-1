{
 "cells": [
  {
   "cell_type": "code",
   "execution_count": 1,
   "metadata": {},
   "outputs": [],
   "source": [
    "# Understanding about comparison operators\n",
    "# == equal to\n",
    "# != not equal to\n",
    "# > is greater than\n",
    "# < is less than\n",
    "# >= is greater than or equal to\n",
    "# <= is less than or equal to\n",
    "# Testing conditions will be further tested using \"and\" & \"or\" functions\n",
    "# All these will be used to test if conditions"
   ]
  },
  {
   "cell_type": "code",
   "execution_count": 2,
   "metadata": {},
   "outputs": [
    {
     "name": "stdout",
     "output_type": "stream",
     "text": [
      "Species is Cat\n"
     ]
    }
   ],
   "source": [
    "species = \"cat\"\n",
    "if species == \"cat\":\n",
    "    print (\"Species is Cat\")\n",
    "else:\n",
    "    print (\"Species is not cat\")"
   ]
  },
  {
   "cell_type": "code",
   "execution_count": 3,
   "metadata": {},
   "outputs": [
    {
     "name": "stdout",
     "output_type": "stream",
     "text": [
      "Species is not cat\n",
      "Its a Dog!\n"
     ]
    }
   ],
   "source": [
    "species = \"Dog\"\n",
    "# only if the \"If-condition\" is true only then it will move further\n",
    "if species == \"cat\":\n",
    "    print (\"Species is Cat\")\n",
    "elif species == \"Dog\":\n",
    "    print (\"Species is not cat\")\n",
    "    print (\"Its a Dog!\")\n",
    "else:\n",
    "    print (\"No cats or dogs\")"
   ]
  },
  {
   "cell_type": "code",
   "execution_count": 4,
   "metadata": {},
   "outputs": [
    {
     "name": "stdout",
     "output_type": "stream",
     "text": [
      "No cats or dogs\n"
     ]
    }
   ],
   "source": [
    "species = \"Fish\"\n",
    "# only if the \"If-condition\" is true only then it will move further\n",
    "if species == \"cat\":\n",
    "    print (\"Species is Cat\")\n",
    "elif species == \"Dog\":\n",
    "    print (\"Species is not cat\")\n",
    "    print (\"Its a Dog!\")\n",
    "else:\n",
    "    print (\"No cats or dogs\")"
   ]
  },
  {
   "cell_type": "code",
   "execution_count": 5,
   "metadata": {},
   "outputs": [
    {
     "name": "stdout",
     "output_type": "stream",
     "text": [
      "2+2=4\n"
     ]
    }
   ],
   "source": [
    "# Checking Mathematical Operator\n",
    "c = 4\n",
    "if 2+2 == c:\n",
    "    print (\"2+2=4\")"
   ]
  },
  {
   "cell_type": "code",
   "execution_count": 6,
   "metadata": {},
   "outputs": [
    {
     "name": "stdout",
     "output_type": "stream",
     "text": [
      "A. Strawberry Donut\n",
      "B. Vanilla Donut\n",
      "C. Chocolate Donut\n",
      "Enter A, B or C as your choice:a\n",
      "Price of Strawberry Donut = 10.00\n"
     ]
    }
   ],
   "source": [
    "print (\"A. Strawberry Donut\\nB. Vanilla Donut\\nC. Chocolate Donut\")\n",
    "req = str(input (\"Enter A, B or C as your choice:\"))\n",
    "req = req.upper()\n",
    "if req == \"A\":\n",
    "    print (\"Price of Strawberry Donut = 10.00\")\n",
    "elif req == \"B\":\n",
    "    print (\"Price of Vanila Donut = 7.50\")\n",
    "elif req == \"C\":\n",
    "    print (\"Price of Chocolate Donut = 15.00\")\n",
    "else:\n",
    "    print (\"Invalid Entry, Thank you!\")"
   ]
  },
  {
   "cell_type": "code",
   "execution_count": 7,
   "metadata": {},
   "outputs": [
    {
     "name": "stdout",
     "output_type": "stream",
     "text": [
      "A. Strawberry Donut\n",
      "B. Vanilla Donut\n",
      "C. Chocolate Donut\n",
      "Enter A, B or C as your choice:f\n",
      "Invalid Entry, Thank you!\n"
     ]
    }
   ],
   "source": [
    "print (\"A. Strawberry Donut\\nB. Vanilla Donut\\nC. Chocolate Donut\")\n",
    "req = str(input (\"Enter A, B or C as your choice:\"))\n",
    "req = req.upper()\n",
    "if req == \"A\":\n",
    "    print (\"Price of Strawberry Donut = 10.00\")\n",
    "elif req == \"B\":\n",
    "    print (\"Price of Vanila Donut = 7.50\")\n",
    "elif req == \"C\":\n",
    "    print (\"Price of Chocolate Donut = 15.00\")\n",
    "else:\n",
    "    print (\"Invalid Entry, Thank you!\")"
   ]
  },
  {
   "cell_type": "code",
   "execution_count": 18,
   "metadata": {},
   "outputs": [
    {
     "name": "stdout",
     "output_type": "stream",
     "text": [
      "Enter your course name:AI\n",
      "Enter the numbers you scored:100\n",
      "Enter the total numbers:100\n",
      "Your Grade for Subject AI is A and your precentage is 100.0%\n"
     ]
    }
   ],
   "source": [
    "# Testing Set of Conditions using \"and\"\n",
    "\n",
    "subject = str (input (\"Enter your course name:\"))\n",
    "subject = subject.upper()\n",
    "a = float (input(\"Enter the numbers you scored:\"))\n",
    "b = float (input(\"Enter the total numbers:\"))\n",
    "c = (a/b)*100\n",
    "if c >= 60 and c <= 100:\n",
    "    if c >= 90:\n",
    "        print (f\"Your Grade for Subject {subject} is A and your precentage is {round(c,2)}%\")\n",
    "    elif c >= 80:\n",
    "        print (f\"Your Grade for Subject {subject} is B and your precentage is {round(c,2)}%\")\n",
    "    elif c >= 70:\n",
    "        print (f\"Your Grade for Subject {subject} is C and your precentage is {round(c,2)}%\")\n",
    "    else:\n",
    "        print (f\"Your Grade for Subject {subject} is D and your precentage is {round(c,2)}%\")\n",
    "elif c > 100:\n",
    "    print (\"Input numbers are wrong, % > 100\")\n",
    "else:\n",
    "    print (f\"Your Failed in Subject {subject} and your grade is F and your precentage is {round(c,2)}%\")"
   ]
  },
  {
   "cell_type": "code",
   "execution_count": 8,
   "metadata": {},
   "outputs": [
    {
     "data": {
      "text/plain": [
       "2.68"
      ]
     },
     "execution_count": 8,
     "metadata": {},
     "output_type": "execute_result"
    }
   ],
   "source": [
    "round (2.67861,2)"
   ]
  }
 ],
 "metadata": {
  "kernelspec": {
   "display_name": "Python 3",
   "language": "python",
   "name": "python3"
  },
  "language_info": {
   "codemirror_mode": {
    "name": "ipython",
    "version": 3
   },
   "file_extension": ".py",
   "mimetype": "text/x-python",
   "name": "python",
   "nbconvert_exporter": "python",
   "pygments_lexer": "ipython3",
   "version": "3.7.6"
  }
 },
 "nbformat": 4,
 "nbformat_minor": 4
}
