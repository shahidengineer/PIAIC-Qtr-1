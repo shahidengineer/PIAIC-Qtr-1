{
 "cells": [
  {
   "cell_type": "markdown",
   "metadata": {},
   "source": [
    "# PYTHON CRASH COURSE"
   ]
  },
  {
   "cell_type": "code",
   "execution_count": 26,
   "metadata": {},
   "outputs": [],
   "source": [
    "class Car():\n",
    "# Created a class named as Car\n",
    "\n",
    "# Initialization of instance \"Self\" with __init__\n",
    "# self.Make, self.model and self.year are attributes\n",
    "# Variables that are accessible through instances like this are called attributes.\n",
    "    def __init__(self, make, model, year):\n",
    "        self.make = make\n",
    "        self.model = model\n",
    "        self.year = year\n",
    "        self.oddometer_reading = 0\n",
    "        self.gas_reading = 0\n",
    "\n",
    "# Added the definition of method, the instances can access\n",
    "    def get_descriptive_name (self):\n",
    "        full_name = str(self.year) + \" \" + self.make + \" \" + self.model\n",
    "        return full_name.title()\n",
    "\n",
    "# Adding another method for oddometer reading access\n",
    "    def read_oddometer (self):\n",
    "        print(\"This \"+ self.get_descriptive_name() +\" has \" + str(self.oddometer_reading) + \" miles on it.\")\n",
    "        # In this method, I called another method get_descriptive_name for printing car full description\n",
    "        # We can now access this method using self.read_oddometer\n",
    "\n",
    "# Adding another method for adding the oddometer reading\n",
    "    def update_oddometer (self, mileage):\n",
    "        if mileage < self.oddometer_reading:\n",
    "            print (\"You can't roll back an odometer!\")\n",
    "        else:\n",
    "            self.oddometer_reading = mileage\n",
    "\n",
    "# Incrementing an Attribute’s Value Through a Method\n",
    "    def increment_oddometer (self, miles):\n",
    "        self.oddometer_reading += miles\n",
    "\n",
    "# Adding a method to fill gas in the car\n",
    "    def fill_gas(self, qty):\n",
    "        self.gas_reading += qty\n",
    "        print (f\"{qty} gallons of gas filled in the car.\")\n",
    "        \n",
    "# Adding a method to check gas level in the car\n",
    "    def check_gas (self):\n",
    "        print (f\"Currently the car {self.get_descriptive_name()} has {self.gas_reading} gallons of gas.\")\n",
    "\n",
    "# Defining an independent class battery to reduce clutter in subclass\n",
    "class Battery():\n",
    "    \n",
    "    def __init__ (self, battery_size = 70): # Battery size default = 70\n",
    "        self.battery_size = battery_size\n",
    "    \n",
    "# Defining method for Battery class\n",
    "    def describe_battery(self):\n",
    "        print (f\"This car has a battery size of {self.battery_size}.\")\n",
    "\n",
    "# Defining a method set_battery_size\n",
    "    def set_battery_size(self, value):\n",
    "        self.battery_size = value\n",
    "        print (f\"The battery size is now {self.battery_size}\")\n",
    "        return self.battery_size\n",
    "    \n",
    "# Defining another method for getting range as get_range\n",
    "    def get_range (self):\n",
    "        if self.battery_size <= 70:\n",
    "            print (f\"The car can go up to 200 miles.\")\n",
    "        elif self.battery_size >= 85:\n",
    "            print (f\"The car can go up to 240 miles.\")\n",
    "\n",
    "# Defining a method upgrade_battery\n",
    "    def upgrade_battery(self):\n",
    "        if self.battery_size < 85:\n",
    "            self.battery_size = 85\n",
    "            print (\"The battery has been upgraded to 85 kWh.\")\n",
    "        else:\n",
    "            print (\"The battery size is already 85 kWh or higher.\")\n",
    "            \n",
    "# Defining a child class ElectricCars as class ElectricCars(Cars)\n",
    "class ElectricCar(Car):\n",
    "    # The __init__ method() takes the required information to make Car instance\n",
    "    def __init__(self, make, model, year):\n",
    "        # The following line initializes the superclass (Parent Class) Car\n",
    "        # The superfunction helps Python make connections with Parent Class\n",
    "        # Parent Class = SuperClass\n",
    "        # Child Class = SubClass\n",
    "        super().__init__(make, model, year)\n",
    "        # Adding attribute by calling Battery Class\n",
    "        self.battery = Battery()\n",
    "        \n",
    "#     Making a method to get battery size\n",
    "#     def describe_battery(self):\n",
    "#         print (f\"This car has a battery size of {self.battery_size} KWh.\")\n",
    "#     We can also make a class of battery in order to\n",
    "#     avoid clutter in the subclass but since we use\n",
    "#     battery in our subclass therefore we need to define\n",
    "#     it before ElectricCars()\n",
    "\n",
    "# Overriding the fill gas methods in Parent Class (cars)\n",
    "    def fill_gas(self, qty):\n",
    "        print (f\"The car {self.get_descriptive_name()} is electric so cannot fill gas.\")\n",
    "        \n",
    "    def check_gas (self):\n",
    "        print (f\"The car {self.get_descriptive_name()} is electric so cannot check gas.\")"
   ]
  },
  {
   "cell_type": "code",
   "execution_count": 27,
   "metadata": {},
   "outputs": [],
   "source": [
    "car1 = Car(\"audi\", \"a4\", 2016)"
   ]
  },
  {
   "cell_type": "code",
   "execution_count": 28,
   "metadata": {},
   "outputs": [
    {
     "data": {
      "text/plain": [
       "'2016 Audi A4'"
      ]
     },
     "execution_count": 28,
     "metadata": {},
     "output_type": "execute_result"
    }
   ],
   "source": [
    "car1.get_descriptive_name()"
   ]
  },
  {
   "cell_type": "code",
   "execution_count": 29,
   "metadata": {},
   "outputs": [
    {
     "name": "stdout",
     "output_type": "stream",
     "text": [
      "This 2016 Audi A4 has 0 miles on it.\n"
     ]
    }
   ],
   "source": [
    "# Accessing the meter reading with car1.read_oddometer method\n",
    "car1.read_oddometer()"
   ]
  },
  {
   "cell_type": "code",
   "execution_count": 30,
   "metadata": {},
   "outputs": [
    {
     "name": "stdout",
     "output_type": "stream",
     "text": [
      "This 2016 Audi A4 has 0 miles on it.\n"
     ]
    }
   ],
   "source": [
    "# As above with different method\n",
    "Car.read_oddometer(car1)"
   ]
  },
  {
   "cell_type": "code",
   "execution_count": 31,
   "metadata": {},
   "outputs": [
    {
     "name": "stdout",
     "output_type": "stream",
     "text": [
      "This 2016 Audi A4 has 23 miles on it.\n"
     ]
    }
   ],
   "source": [
    "# Changing the car mileage for Car1 only\n",
    "car1.oddometer_reading = 23\n",
    "# Accessing the car mileage after change\n",
    "car1.read_oddometer ()"
   ]
  },
  {
   "cell_type": "code",
   "execution_count": 32,
   "metadata": {},
   "outputs": [
    {
     "data": {
      "text/plain": [
       "'Audi'"
      ]
     },
     "execution_count": 32,
     "metadata": {},
     "output_type": "execute_result"
    }
   ],
   "source": [
    "# Accessing the instances i.e. Make in title format\n",
    "car1.make.title()"
   ]
  },
  {
   "cell_type": "code",
   "execution_count": 33,
   "metadata": {},
   "outputs": [
    {
     "data": {
      "text/plain": [
       "2020"
      ]
     },
     "execution_count": 33,
     "metadata": {},
     "output_type": "execute_result"
    }
   ],
   "source": [
    "# Changing the instance of the car i.e. Year\n",
    "car1.year = 2020\n",
    "# calling the modified instance\n",
    "car1.year"
   ]
  },
  {
   "cell_type": "code",
   "execution_count": 34,
   "metadata": {},
   "outputs": [
    {
     "name": "stdout",
     "output_type": "stream",
     "text": [
      "This 2020 Audi A4 has 24 miles on it.\n"
     ]
    }
   ],
   "source": [
    "# Updating oddometer reading with method\n",
    "car1.update_oddometer (24)\n",
    "car1.read_oddometer()"
   ]
  },
  {
   "cell_type": "code",
   "execution_count": 35,
   "metadata": {},
   "outputs": [],
   "source": [
    "# Adding another car to the class\n",
    "car2 = Car (\"subaru\", \"outback\", 2013)"
   ]
  },
  {
   "cell_type": "code",
   "execution_count": 36,
   "metadata": {},
   "outputs": [
    {
     "data": {
      "text/plain": [
       "0"
      ]
     },
     "execution_count": 36,
     "metadata": {},
     "output_type": "execute_result"
    }
   ],
   "source": [
    "# Accessing the oddometer reading\n",
    "car2.oddometer_reading"
   ]
  },
  {
   "cell_type": "code",
   "execution_count": 37,
   "metadata": {},
   "outputs": [
    {
     "name": "stdout",
     "output_type": "stream",
     "text": [
      "This 2013 Subaru Outback has 23500 miles on it.\n"
     ]
    }
   ],
   "source": [
    "# Updating the oddometer reading\n",
    "car2.update_oddometer(23500)\n",
    "car2.read_oddometer()"
   ]
  },
  {
   "cell_type": "code",
   "execution_count": 38,
   "metadata": {},
   "outputs": [
    {
     "name": "stdout",
     "output_type": "stream",
     "text": [
      "20 gallons of gas filled in the car.\n"
     ]
    }
   ],
   "source": [
    "# Filling Gas\n",
    "car1.fill_gas(20)"
   ]
  },
  {
   "cell_type": "code",
   "execution_count": 39,
   "metadata": {},
   "outputs": [
    {
     "name": "stdout",
     "output_type": "stream",
     "text": [
      "Currently the car 2020 Audi A4 has 20 gallons of gas.\n"
     ]
    }
   ],
   "source": [
    "# Checking Gas\n",
    "car1.check_gas()"
   ]
  },
  {
   "cell_type": "code",
   "execution_count": 40,
   "metadata": {},
   "outputs": [],
   "source": [
    "# Adding Electric Car in ElectricCar Class\n",
    "my_tesla = ElectricCar (\"tesla\",\"model s\", 2019)"
   ]
  },
  {
   "cell_type": "code",
   "execution_count": 41,
   "metadata": {},
   "outputs": [
    {
     "data": {
      "text/plain": [
       "'2019 Tesla Model S'"
      ]
     },
     "execution_count": 41,
     "metadata": {},
     "output_type": "execute_result"
    }
   ],
   "source": [
    "my_tesla.get_descriptive_name()"
   ]
  },
  {
   "cell_type": "code",
   "execution_count": 42,
   "metadata": {},
   "outputs": [
    {
     "data": {
      "text/plain": [
       "2019"
      ]
     },
     "execution_count": 42,
     "metadata": {},
     "output_type": "execute_result"
    }
   ],
   "source": [
    "my_tesla.year"
   ]
  },
  {
   "cell_type": "code",
   "execution_count": 43,
   "metadata": {},
   "outputs": [
    {
     "name": "stdout",
     "output_type": "stream",
     "text": [
      "This car has a battery size of 70.\n"
     ]
    }
   ],
   "source": [
    "# For accessing method of one class in another class you need to write\n",
    "# self.callingclass.callingmethod()\n",
    "my_tesla.battery.describe_battery()"
   ]
  },
  {
   "cell_type": "code",
   "execution_count": 44,
   "metadata": {},
   "outputs": [
    {
     "name": "stdout",
     "output_type": "stream",
     "text": [
      "The car can go up to 200 miles.\n"
     ]
    }
   ],
   "source": [
    "my_tesla.battery.get_range()"
   ]
  },
  {
   "cell_type": "code",
   "execution_count": 48,
   "metadata": {},
   "outputs": [],
   "source": [
    "# Changing the battery of the tesla car\n",
    "my_tesla.battery.battery_size = 70"
   ]
  },
  {
   "cell_type": "code",
   "execution_count": 49,
   "metadata": {},
   "outputs": [
    {
     "data": {
      "text/plain": [
       "70"
      ]
     },
     "execution_count": 49,
     "metadata": {},
     "output_type": "execute_result"
    }
   ],
   "source": [
    "# Checking the car battery size for tesla\n",
    "my_tesla.battery.battery_size"
   ]
  },
  {
   "cell_type": "code",
   "execution_count": 50,
   "metadata": {},
   "outputs": [
    {
     "name": "stdout",
     "output_type": "stream",
     "text": [
      "The car can go up to 200 miles.\n"
     ]
    }
   ],
   "source": [
    "# Checking the mileage of the car\n",
    "my_tesla.battery.get_range()"
   ]
  },
  {
   "cell_type": "code",
   "execution_count": 51,
   "metadata": {},
   "outputs": [
    {
     "name": "stdout",
     "output_type": "stream",
     "text": [
      "The car 2019 Tesla Model S is electric so cannot fill gas.\n"
     ]
    }
   ],
   "source": [
    "my_tesla.fill_gas(20)"
   ]
  },
  {
   "cell_type": "code",
   "execution_count": 52,
   "metadata": {},
   "outputs": [
    {
     "name": "stdout",
     "output_type": "stream",
     "text": [
      "The car 2019 Tesla Model S is electric so cannot check gas.\n"
     ]
    }
   ],
   "source": [
    "my_tesla.check_gas()"
   ]
  },
  {
   "cell_type": "code",
   "execution_count": 53,
   "metadata": {},
   "outputs": [
    {
     "data": {
      "text/plain": [
       "70"
      ]
     },
     "execution_count": 53,
     "metadata": {},
     "output_type": "execute_result"
    }
   ],
   "source": [
    "my_tesla.battery.battery_size"
   ]
  },
  {
   "cell_type": "code",
   "execution_count": 54,
   "metadata": {},
   "outputs": [
    {
     "name": "stdout",
     "output_type": "stream",
     "text": [
      "The battery has been upgraded to 85 kWh.\n"
     ]
    }
   ],
   "source": [
    "my_tesla.battery.upgrade_battery()"
   ]
  },
  {
   "cell_type": "code",
   "execution_count": 55,
   "metadata": {},
   "outputs": [
    {
     "name": "stdout",
     "output_type": "stream",
     "text": [
      "This car has a battery size of 85.\n"
     ]
    }
   ],
   "source": [
    "my_tesla.battery.describe_battery()"
   ]
  },
  {
   "cell_type": "code",
   "execution_count": 56,
   "metadata": {},
   "outputs": [],
   "source": [
    "battery_2 = Battery()"
   ]
  },
  {
   "cell_type": "code",
   "execution_count": 58,
   "metadata": {},
   "outputs": [
    {
     "data": {
      "text/plain": [
       "70"
      ]
     },
     "execution_count": 58,
     "metadata": {},
     "output_type": "execute_result"
    }
   ],
   "source": [
    "battery_2.battery_size"
   ]
  },
  {
   "cell_type": "code",
   "execution_count": null,
   "metadata": {},
   "outputs": [],
   "source": []
  }
 ],
 "metadata": {
  "kernelspec": {
   "display_name": "Python 3",
   "language": "python",
   "name": "python3"
  },
  "language_info": {
   "codemirror_mode": {
    "name": "ipython",
    "version": 3
   },
   "file_extension": ".py",
   "mimetype": "text/x-python",
   "name": "python",
   "nbconvert_exporter": "python",
   "pygments_lexer": "ipython3",
   "version": "3.7.6"
  }
 },
 "nbformat": 4,
 "nbformat_minor": 4
}
