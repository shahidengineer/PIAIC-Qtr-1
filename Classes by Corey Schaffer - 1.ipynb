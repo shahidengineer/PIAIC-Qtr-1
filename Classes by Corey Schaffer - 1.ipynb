{
 "cells": [
  {
   "cell_type": "markdown",
   "metadata": {},
   "source": [
    "# CLASS - COREY SCHAFER (YOUTUBE)"
   ]
  },
  {
   "cell_type": "code",
   "execution_count": 1,
   "metadata": {},
   "outputs": [],
   "source": [
    "class Employee:\n",
    "\n",
    "# CLASS VARIABLES\n",
    "\n",
    "    raise_amt = 1.04 #class variable\n",
    "    num_of_emps = 0  #class variable\n",
    "\n",
    "# INIT FOR DEFINING INSTANCE\n",
    "\n",
    "    def __init__ (self, first, last, pay):\n",
    "        self.first = first\n",
    "        self.last = last\n",
    "        self.pay = pay\n",
    "        self.email = first.lower()+\".\"+last.lower()+\"@company.com\"\n",
    "# Calling Class Variable    \n",
    "        Employee.num_of_emps += 1 \n",
    "\n",
    "# REGULAR METHODS\n",
    "\n",
    "# These are regular method that take instance as the first arg\n",
    "    def fullname(self):\n",
    "        return f\"{self.first} {self.last}\"\n",
    "    \n",
    "    def apply_raise(self): #regular method\n",
    "        self.pay = int (self.pay * self.raise_amt) \n",
    "# to access the raise_amount you need to enter the class or instance before it.\n",
    "# we used self.raise_amount instead of \n",
    "# Employee.raise_amount in order to override the \n",
    "# class variable relative to the instance variable (self)\n",
    "\n",
    "# CLASS METHODS\n",
    "\n",
    "# These are class method and they take class as the 1st arg.\n",
    "# The decorator made this method a class method\n",
    "    \n",
    "#decorator - this takes class as the first argument\n",
    "    @classmethod \n",
    "    def set_raise_amt(cls, amount): #cls is class variable name\n",
    "        cls.raise_amt = amount\n",
    "\n",
    "# Let's say if we have a special case wherein the employee\n",
    "# list is given in form of hyphens for example\n",
    "# emp_str_1 = \"John-Doe-70000\"\n",
    "# emp_str_2 = \"Steve-Smith-30000\"\n",
    "# emp_str_3 = \"Jane-Doe-90000\"\n",
    "# now we need to form a class method to get that values\n",
    "# change it into desired format and accept as instances\n",
    "# for that the class method will be good\n",
    "\n",
    "#Class method for accepting instances with strings\n",
    "    @classmethod\n",
    "    def from_string (cls, emp_str):\n",
    "# We do not need to use self\n",
    "        first, last, pay = emp_str.split(\"-\")\n",
    "# These are positional arguments\n",
    "# cls(parameters) should be used b/c its a class method\n",
    "        return cls(first, last, pay)\n",
    "\n",
    "#STATIC METHODS\n",
    "\n",
    "# Static method are similar to the regular method \n",
    "# but they do not take instance as an argument\n",
    "# Similarly they are different compared with class methods\n",
    "# because they don't take cls as first argument\n",
    "# Instead they are methods that are related to overall class\n",
    "# but are not directly related to any.\n",
    "# For example if we want to check that whether XYZ day is a\n",
    "# working day or not then \"it falls under static method\"\n",
    "    \n",
    "    @staticmethod\n",
    "    def is_workday(day):\n",
    "# the below is from datetime module\n",
    "        if day.weekday() == 5 or day.weekday() == 6:\n",
    "            return False\n",
    "        return True\n",
    "    \n",
    "# INHERITANCE\n",
    "\n",
    "class Developer(Employee):\n",
    "    \n",
    "    raise_amt = 1.10\n",
    "    \n",
    "    def __init__(self, first, last, email, prog_lang):\n",
    "        super().__init__(first, last, email)\n",
    "# Super() will take the first, last & email\n",
    "# from the Parent Class - Employee\n",
    "# We can also use Employee.__init__ but this wont work\n",
    "# if the inheritance is from multiple classes.\n",
    "        self.prog_lang = prog_lang\n",
    "        Employee.num_of_emps += 1\n",
    "\n",
    "class Manager(Employee):\n",
    "    \n",
    "    def __init__(self, first, last, email, employees=None):\n",
    "        super().__init__(first, last, email)\n",
    "        if employees is None:\n",
    "            self.employees = []\n",
    "        else:\n",
    "            self.employees = employees\n",
    "    \n",
    "    def add_emp (self, emp):\n",
    "        if emp not in self.employees:\n",
    "            self.employees.append (emp)\n",
    "    \n",
    "    def remove_emp(self, emp):\n",
    "        if emp in self.employees:\n",
    "            self.employees.remove(emp)\n",
    "    \n",
    "    def print_employees(self):\n",
    "        for emp in self.employees:\n",
    "            print (\"-->\", emp.fullname())"
   ]
  },
  {
   "cell_type": "code",
   "execution_count": 2,
   "metadata": {},
   "outputs": [
    {
     "data": {
      "text/plain": [
       "0"
      ]
     },
     "execution_count": 2,
     "metadata": {},
     "output_type": "execute_result"
    }
   ],
   "source": [
    "Employee.num_of_emps"
   ]
  },
  {
   "cell_type": "code",
   "execution_count": 3,
   "metadata": {},
   "outputs": [],
   "source": [
    "# Adding Employees\n",
    "emp_1 = Employee (\"Corey\", \"Schaffer\", 50000)\n",
    "emp_2 = Employee (\"Test\", \"User\", 60000)"
   ]
  },
  {
   "cell_type": "code",
   "execution_count": 4,
   "metadata": {},
   "outputs": [
    {
     "data": {
      "text/plain": [
       "2"
      ]
     },
     "execution_count": 4,
     "metadata": {},
     "output_type": "execute_result"
    }
   ],
   "source": [
    "# Checking no. of Employees after addition\n",
    "Employee.num_of_emps"
   ]
  },
  {
   "cell_type": "code",
   "execution_count": 5,
   "metadata": {},
   "outputs": [
    {
     "data": {
      "text/plain": [
       "'Corey Schaffer'"
      ]
     },
     "execution_count": 5,
     "metadata": {},
     "output_type": "execute_result"
    }
   ],
   "source": [
    "# Full Name of Employee\n",
    "emp_1.fullname()"
   ]
  },
  {
   "cell_type": "code",
   "execution_count": 6,
   "metadata": {},
   "outputs": [
    {
     "data": {
      "text/plain": [
       "'User'"
      ]
     },
     "execution_count": 6,
     "metadata": {},
     "output_type": "execute_result"
    }
   ],
   "source": [
    "# Calling Emp_2 Last Name\n",
    "emp_2.last"
   ]
  },
  {
   "cell_type": "code",
   "execution_count": 7,
   "metadata": {},
   "outputs": [
    {
     "data": {
      "text/plain": [
       "'Users'"
      ]
     },
     "execution_count": 7,
     "metadata": {},
     "output_type": "execute_result"
    }
   ],
   "source": [
    "# Changing the last name of Employee 2\n",
    "emp_2.last = \"Users\"\n",
    "emp_2.last"
   ]
  },
  {
   "cell_type": "code",
   "execution_count": 8,
   "metadata": {},
   "outputs": [
    {
     "name": "stdout",
     "output_type": "stream",
     "text": [
      "50000\n"
     ]
    }
   ],
   "source": [
    "print (emp_1.pay)"
   ]
  },
  {
   "cell_type": "code",
   "execution_count": 9,
   "metadata": {},
   "outputs": [],
   "source": [
    "# Applying Raise of 4% on Emp1 Pay\n",
    "emp_1.apply_raise()"
   ]
  },
  {
   "cell_type": "code",
   "execution_count": 10,
   "metadata": {},
   "outputs": [
    {
     "name": "stdout",
     "output_type": "stream",
     "text": [
      "52000\n"
     ]
    }
   ],
   "source": [
    "print (emp_1.pay)"
   ]
  },
  {
   "cell_type": "code",
   "execution_count": 11,
   "metadata": {},
   "outputs": [],
   "source": [
    "# Changing the raise of Emp2 from 4 to 5%\n",
    "emp_2.raise_amt = 1.08"
   ]
  },
  {
   "cell_type": "code",
   "execution_count": 12,
   "metadata": {},
   "outputs": [
    {
     "name": "stdout",
     "output_type": "stream",
     "text": [
      "1.08\n"
     ]
    }
   ],
   "source": [
    "print (emp_2.raise_amt)"
   ]
  },
  {
   "cell_type": "code",
   "execution_count": 13,
   "metadata": {},
   "outputs": [
    {
     "name": "stdout",
     "output_type": "stream",
     "text": [
      "1.04\n",
      "1.04\n",
      "1.08\n"
     ]
    }
   ],
   "source": [
    "print (Employee.raise_amt)\n",
    "print (emp_1.raise_amt)\n",
    "print (emp_2.raise_amt)"
   ]
  },
  {
   "cell_type": "code",
   "execution_count": 14,
   "metadata": {},
   "outputs": [],
   "source": [
    "# Applying raise of 5% on emp_2\n",
    "emp_2.apply_raise()"
   ]
  },
  {
   "cell_type": "code",
   "execution_count": 15,
   "metadata": {},
   "outputs": [
    {
     "name": "stdout",
     "output_type": "stream",
     "text": [
      "64800\n"
     ]
    }
   ],
   "source": [
    "print (emp_2.pay)"
   ]
  },
  {
   "cell_type": "code",
   "execution_count": 16,
   "metadata": {},
   "outputs": [
    {
     "name": "stdout",
     "output_type": "stream",
     "text": [
      "{'first': 'Test', 'last': 'Users', 'pay': 64800, 'email': 'test.user@company.com', 'raise_amt': 1.08}\n"
     ]
    }
   ],
   "source": [
    "print (emp_2.__dict__)"
   ]
  },
  {
   "cell_type": "code",
   "execution_count": 17,
   "metadata": {},
   "outputs": [
    {
     "name": "stdout",
     "output_type": "stream",
     "text": [
      "{'__module__': '__main__', 'raise_amt': 1.04, 'num_of_emps': 2, '__init__': <function Employee.__init__ at 0x00000243A075EEE8>, 'fullname': <function Employee.fullname at 0x00000243A075ECA8>, 'apply_raise': <function Employee.apply_raise at 0x00000243A075ED38>, 'set_raise_amt': <classmethod object at 0x00000243A0797D48>, 'from_string': <classmethod object at 0x00000243A079A1C8>, 'is_workday': <staticmethod object at 0x00000243A079A3C8>, '__dict__': <attribute '__dict__' of 'Employee' objects>, '__weakref__': <attribute '__weakref__' of 'Employee' objects>, '__doc__': None}\n"
     ]
    }
   ],
   "source": [
    "print (Employee.__dict__)"
   ]
  },
  {
   "cell_type": "code",
   "execution_count": 18,
   "metadata": {},
   "outputs": [],
   "source": [
    "# Resetting the raise amount of class to 1.05\n",
    "Employee.raise_amt = 1.05\n",
    "# This will change the raise amount of class & instances\n",
    "# but my case is different as below"
   ]
  },
  {
   "cell_type": "code",
   "execution_count": 19,
   "metadata": {},
   "outputs": [
    {
     "name": "stdout",
     "output_type": "stream",
     "text": [
      "1.05\n",
      "1.05\n",
      "1.08\n"
     ]
    }
   ],
   "source": [
    "print (Employee.raise_amt)\n",
    "print (emp_1.raise_amt)\n",
    "print (emp_2.raise_amt)"
   ]
  },
  {
   "cell_type": "code",
   "execution_count": 20,
   "metadata": {},
   "outputs": [],
   "source": [
    "emp_1.raise_amt = 1.01"
   ]
  },
  {
   "cell_type": "code",
   "execution_count": 21,
   "metadata": {},
   "outputs": [
    {
     "name": "stdout",
     "output_type": "stream",
     "text": [
      "{'first': 'Corey', 'last': 'Schaffer', 'pay': 52000, 'email': 'corey.schaffer@company.com', 'raise_amt': 1.01}\n"
     ]
    }
   ],
   "source": [
    "print (emp_1.__dict__)"
   ]
  },
  {
   "cell_type": "code",
   "execution_count": 22,
   "metadata": {},
   "outputs": [
    {
     "name": "stdout",
     "output_type": "stream",
     "text": [
      "1.05\n",
      "1.01\n",
      "1.08\n"
     ]
    }
   ],
   "source": [
    "print (Employee.raise_amt)\n",
    "print (emp_1.raise_amt)\n",
    "print (emp_2.raise_amt)"
   ]
  },
  {
   "cell_type": "code",
   "execution_count": 23,
   "metadata": {},
   "outputs": [
    {
     "data": {
      "text/plain": [
       "2"
      ]
     },
     "execution_count": 23,
     "metadata": {},
     "output_type": "execute_result"
    }
   ],
   "source": [
    "Employee.num_of_emps"
   ]
  },
  {
   "cell_type": "code",
   "execution_count": 24,
   "metadata": {},
   "outputs": [],
   "source": [
    "# Adding Employees\n",
    "emp_1 = Employee (\"Corey\", \"Schaffer\", 50000)\n",
    "emp_2 = Employee (\"Test\", \"User\", 60000)"
   ]
  },
  {
   "cell_type": "code",
   "execution_count": 25,
   "metadata": {},
   "outputs": [
    {
     "data": {
      "text/plain": [
       "4"
      ]
     },
     "execution_count": 25,
     "metadata": {},
     "output_type": "execute_result"
    }
   ],
   "source": [
    "Employee.num_of_emps"
   ]
  },
  {
   "cell_type": "code",
   "execution_count": 26,
   "metadata": {},
   "outputs": [],
   "source": [
    "Employee.raise_amt = 1.09\n",
    "# The class variable change should change the instances as well\n",
    "# however my case is not similar.\n",
    "# After resetting figures the result is good"
   ]
  },
  {
   "cell_type": "code",
   "execution_count": 27,
   "metadata": {},
   "outputs": [
    {
     "name": "stdout",
     "output_type": "stream",
     "text": [
      "1.09\n",
      "1.09\n",
      "1.09\n"
     ]
    }
   ],
   "source": [
    "print (Employee.raise_amt)\n",
    "print (emp_1.raise_amt)\n",
    "print (emp_2.raise_amt)"
   ]
  },
  {
   "cell_type": "code",
   "execution_count": 28,
   "metadata": {},
   "outputs": [],
   "source": [
    "# Deleting & Adding back Employeee for Resetting raises\n",
    "# Deleting Employee\n",
    "del emp_1\n",
    "del emp_2\n",
    "# Adding Employees\n",
    "emp_1 = Employee (\"Corey\", \"Schaffer\", 50000)\n",
    "emp_2 = Employee (\"Test\", \"User\", 60000)"
   ]
  },
  {
   "cell_type": "code",
   "execution_count": 29,
   "metadata": {},
   "outputs": [
    {
     "name": "stdout",
     "output_type": "stream",
     "text": [
      "1.06\n",
      "1.06\n",
      "1.06\n"
     ]
    }
   ],
   "source": [
    "# Applying Class method to set raise amount\n",
    "# This is equivalent to Employee.raise_amt = XXX\n",
    "Employee.set_raise_amt(1.06)\n",
    "# By setting the class method we changed the class variable\n",
    "print (Employee.raise_amt)\n",
    "print (emp_1.raise_amt)\n",
    "print (emp_2.raise_amt)"
   ]
  },
  {
   "cell_type": "code",
   "execution_count": 30,
   "metadata": {},
   "outputs": [
    {
     "name": "stdout",
     "output_type": "stream",
     "text": [
      "1.07\n",
      "1.07\n",
      "1.07\n"
     ]
    }
   ],
   "source": [
    "# We can use instance in class method to \n",
    "# change the class variable as well \n",
    "# but that wont make much sense\n",
    "emp_1.set_raise_amt(1.07)\n",
    "print (Employee.raise_amt)\n",
    "print (emp_1.raise_amt)\n",
    "print (emp_2.raise_amt)"
   ]
  },
  {
   "cell_type": "code",
   "execution_count": 31,
   "metadata": {},
   "outputs": [],
   "source": [
    "# Details of Employees with strings\n",
    "emp_str_1 = \"John-Doe-70000\"\n",
    "emp_str_2 = \"Steve-Smith-30000\"\n",
    "emp_str_3 = \"Jane-Doe-90000\"\n",
    "# Here class method is applied to change the string\n",
    "# and get the instance\n",
    "new_emp_1 = Employee.from_string(emp_str_1)\n",
    "new_emp_2 = Employee.from_string(emp_str_2)\n",
    "new_emp_3 = Employee.from_string(emp_str_3)"
   ]
  },
  {
   "cell_type": "code",
   "execution_count": 32,
   "metadata": {},
   "outputs": [
    {
     "data": {
      "text/plain": [
       "'john.doe@company.com'"
      ]
     },
     "execution_count": 32,
     "metadata": {},
     "output_type": "execute_result"
    }
   ],
   "source": [
    "new_emp_1.email"
   ]
  },
  {
   "cell_type": "code",
   "execution_count": 33,
   "metadata": {},
   "outputs": [
    {
     "data": {
      "text/plain": [
       "'90000'"
      ]
     },
     "execution_count": 33,
     "metadata": {},
     "output_type": "execute_result"
    }
   ],
   "source": [
    "new_emp_3.pay"
   ]
  },
  {
   "cell_type": "code",
   "execution_count": 34,
   "metadata": {},
   "outputs": [],
   "source": [
    "# Deleting & Adding back Employeee for Resetting raises\n",
    "\n",
    "# Deleting Employee\n",
    "del emp_1\n",
    "del emp_2\n",
    "del new_emp_1\n",
    "del new_emp_2\n",
    "del new_emp_3\n",
    "\n",
    "# Adding Employees\n",
    "emp_1 = Employee (\"Corey\", \"Schaffer\", 50000)\n",
    "emp_2 = Employee (\"Test\", \"User\", 60000)\n",
    "\n",
    "emp_str_1 = \"John-Doe-70000\"\n",
    "emp_str_2 = \"Steve-Smith-30000\"\n",
    "emp_str_3 = \"Jane-Doe-90000\"\n",
    "\n",
    "new_emp_1 = Employee.from_string(emp_str_1)\n",
    "new_emp_2 = Employee.from_string(emp_str_2)\n",
    "new_emp_3 = Employee.from_string(emp_str_3)"
   ]
  },
  {
   "cell_type": "code",
   "execution_count": 35,
   "metadata": {},
   "outputs": [
    {
     "name": "stdout",
     "output_type": "stream",
     "text": [
      "True\n"
     ]
    }
   ],
   "source": [
    "import datetime\n",
    "my_date = datetime.date (2020, 6, 30)\n",
    "# This is a static method\n",
    "# Yet if you need to call it you need to start with a class\n",
    "print (Employee.is_workday(my_date))"
   ]
  },
  {
   "cell_type": "code",
   "execution_count": 36,
   "metadata": {},
   "outputs": [],
   "source": [
    "# Deleting & Adding back Employeee for Resetting raises\n",
    "\n",
    "# Deleting Employee\n",
    "del emp_1\n",
    "del emp_2\n",
    "del new_emp_1\n",
    "del new_emp_2\n",
    "del new_emp_3\n",
    "\n",
    "# Adding Employees\n",
    "emp_1 = Employee (\"Corey\", \"Schaffer\", 50000)\n",
    "emp_2 = Employee (\"Test\", \"User\", 60000)\n",
    "\n",
    "emp_str_1 = \"John-Doe-70000\"\n",
    "emp_str_2 = \"Steve-Smith-30000\"\n",
    "emp_str_3 = \"Jane-Doe-90000\"\n",
    "\n",
    "new_emp_1 = Employee.from_string(emp_str_1)\n",
    "new_emp_2 = Employee.from_string(emp_str_2)\n",
    "new_emp_3 = Employee.from_string(emp_str_3)"
   ]
  },
  {
   "cell_type": "code",
   "execution_count": 37,
   "metadata": {},
   "outputs": [
    {
     "name": "stdout",
     "output_type": "stream",
     "text": [
      "Help on class Developer in module __main__:\n",
      "\n",
      "class Developer(Employee)\n",
      " |  Developer(first, last, email, prog_lang)\n",
      " |  \n",
      " |  Method resolution order:\n",
      " |      Developer\n",
      " |      Employee\n",
      " |      builtins.object\n",
      " |  \n",
      " |  Methods defined here:\n",
      " |  \n",
      " |  __init__(self, first, last, email, prog_lang)\n",
      " |      Initialize self.  See help(type(self)) for accurate signature.\n",
      " |  \n",
      " |  ----------------------------------------------------------------------\n",
      " |  Data and other attributes defined here:\n",
      " |  \n",
      " |  raise_amt = 1.1\n",
      " |  \n",
      " |  ----------------------------------------------------------------------\n",
      " |  Methods inherited from Employee:\n",
      " |  \n",
      " |  apply_raise(self)\n",
      " |  \n",
      " |  fullname(self)\n",
      " |  \n",
      " |  ----------------------------------------------------------------------\n",
      " |  Class methods inherited from Employee:\n",
      " |  \n",
      " |  from_string(emp_str) from builtins.type\n",
      " |  \n",
      " |  set_raise_amt(amount) from builtins.type\n",
      " |  \n",
      " |  ----------------------------------------------------------------------\n",
      " |  Static methods inherited from Employee:\n",
      " |  \n",
      " |  is_workday(day)\n",
      " |  \n",
      " |  ----------------------------------------------------------------------\n",
      " |  Data descriptors inherited from Employee:\n",
      " |  \n",
      " |  __dict__\n",
      " |      dictionary for instance variables (if defined)\n",
      " |  \n",
      " |  __weakref__\n",
      " |      list of weak references to the object (if defined)\n",
      " |  \n",
      " |  ----------------------------------------------------------------------\n",
      " |  Data and other attributes inherited from Employee:\n",
      " |  \n",
      " |  num_of_emps = 19\n",
      "\n"
     ]
    }
   ],
   "source": [
    "# Inheritance\n",
    "\n",
    "(help(Developer))"
   ]
  },
  {
   "cell_type": "code",
   "execution_count": 38,
   "metadata": {},
   "outputs": [],
   "source": [
    "dev1 = Developer(\"Shahid\", \"Iqbal\", 100000, \"Python\")"
   ]
  },
  {
   "cell_type": "code",
   "execution_count": 39,
   "metadata": {},
   "outputs": [],
   "source": [
    "dev2 = Developer(\"Yousuf\", \"Iqbal\", 80000, \"JavaScript\")"
   ]
  },
  {
   "cell_type": "code",
   "execution_count": 40,
   "metadata": {},
   "outputs": [
    {
     "data": {
      "text/plain": [
       "23"
      ]
     },
     "execution_count": 40,
     "metadata": {},
     "output_type": "execute_result"
    }
   ],
   "source": [
    "Employee.num_of_emps"
   ]
  },
  {
   "cell_type": "code",
   "execution_count": 41,
   "metadata": {},
   "outputs": [
    {
     "data": {
      "text/plain": [
       "'shahid.iqbal@company.com'"
      ]
     },
     "execution_count": 41,
     "metadata": {},
     "output_type": "execute_result"
    }
   ],
   "source": [
    "dev1.email"
   ]
  },
  {
   "cell_type": "code",
   "execution_count": 42,
   "metadata": {},
   "outputs": [
    {
     "data": {
      "text/plain": [
       "1.1"
      ]
     },
     "execution_count": 42,
     "metadata": {},
     "output_type": "execute_result"
    }
   ],
   "source": [
    "dev2.raise_amt"
   ]
  },
  {
   "cell_type": "code",
   "execution_count": 43,
   "metadata": {},
   "outputs": [
    {
     "data": {
      "text/plain": [
       "'Python'"
      ]
     },
     "execution_count": 43,
     "metadata": {},
     "output_type": "execute_result"
    }
   ],
   "source": [
    "dev1.prog_lang"
   ]
  },
  {
   "cell_type": "code",
   "execution_count": 44,
   "metadata": {},
   "outputs": [
    {
     "name": "stdout",
     "output_type": "stream",
     "text": [
      "sue.smith@company.com\n"
     ]
    }
   ],
   "source": [
    "mgr_1 = Manager(\"Sue\", \"Smith\", 90000, [dev1])\n",
    "print (mgr_1.email)"
   ]
  },
  {
   "cell_type": "code",
   "execution_count": 45,
   "metadata": {},
   "outputs": [],
   "source": [
    "mgr_1.add_emp(dev2)"
   ]
  },
  {
   "cell_type": "code",
   "execution_count": 46,
   "metadata": {},
   "outputs": [
    {
     "name": "stdout",
     "output_type": "stream",
     "text": [
      "--> Shahid Iqbal\n",
      "--> Yousuf Iqbal\n"
     ]
    }
   ],
   "source": [
    "mgr_1.print_employees()"
   ]
  },
  {
   "cell_type": "code",
   "execution_count": 47,
   "metadata": {},
   "outputs": [],
   "source": [
    "mgr_1.remove_emp(dev1)"
   ]
  },
  {
   "cell_type": "code",
   "execution_count": 48,
   "metadata": {},
   "outputs": [
    {
     "name": "stdout",
     "output_type": "stream",
     "text": [
      "--> Yousuf Iqbal\n"
     ]
    }
   ],
   "source": [
    "mgr_1.print_employees()"
   ]
  },
  {
   "cell_type": "code",
   "execution_count": 49,
   "metadata": {},
   "outputs": [
    {
     "name": "stdout",
     "output_type": "stream",
     "text": [
      "True\n",
      "True\n",
      "False\n"
     ]
    }
   ],
   "source": [
    "# Isinstance function\n",
    "# This will tell if the particular instance is a part of class\n",
    "print (isinstance(mgr_1, Manager))\n",
    "print (isinstance(mgr_1, Employee))\n",
    "print (isinstance(mgr_1, Developer))"
   ]
  },
  {
   "cell_type": "code",
   "execution_count": 50,
   "metadata": {},
   "outputs": [
    {
     "name": "stdout",
     "output_type": "stream",
     "text": [
      "True\n",
      "True\n",
      "False\n"
     ]
    }
   ],
   "source": [
    "#issubclass function\n",
    "# This will check if the particular class is a subclass of\n",
    "# other class or not\n",
    "print (issubclass(Manager, Employee))\n",
    "print (issubclass(Developer, Employee))\n",
    "print (issubclass(Manager, Developer))"
   ]
  }
 ],
 "metadata": {
  "kernelspec": {
   "display_name": "Python 3",
   "language": "python",
   "name": "python3"
  },
  "language_info": {
   "codemirror_mode": {
    "name": "ipython",
    "version": 3
   },
   "file_extension": ".py",
   "mimetype": "text/x-python",
   "name": "python",
   "nbconvert_exporter": "python",
   "pygments_lexer": "ipython3",
   "version": "3.7.6"
  }
 },
 "nbformat": 4,
 "nbformat_minor": 4
}
