{
 "cells": [
  {
   "cell_type": "markdown",
   "metadata": {},
   "source": [
    "## Introduction to Decorator Functions\n",
    "A decorator in Python is any callable Python object that is used to modify a function or a class. A reference to a function func\" or a class \"C\" is passed to a decorator and the decorator returns a modified function or class. The modified unctions or classes usually contain calls to the original function \"func\" or class \"C\"."
   ]
  },
  {
   "cell_type": "code",
   "execution_count": 1,
   "metadata": {},
   "outputs": [
    {
     "name": "stdout",
     "output_type": "stream",
     "text": [
      "This is the function 'f'\n",
      "I am calling 'g' now:\n",
      "Hi, it's me 'g'\n",
      "Thanks for calling me\n"
     ]
    }
   ],
   "source": [
    "def f(): # Main Function / Decorator Function\n",
    "    \n",
    "    def g(): # Wrapper Function\n",
    "        print(\"Hi, it's me 'g'\")\n",
    "        print(\"Thanks for calling me\")\n",
    "    # The below will run first    \n",
    "    print(\"This is the function 'f'\")\n",
    "    print(\"I am calling 'g' now:\")\n",
    "    g() # The g() function will be called at the end\n",
    "\n",
    "f()"
   ]
  },
  {
   "cell_type": "code",
   "execution_count": 3,
   "metadata": {},
   "outputs": [
    {
     "name": "stdout",
     "output_type": "stream",
     "text": [
      "It's 68.0 degrees!\n"
     ]
    }
   ],
   "source": [
    "def temperature(t):\n",
    "    def celsius2fahrenheit(x):\n",
    "        return 9 * x / 5 + 32\n",
    "    # In the below, the wrapper function is called within \n",
    "    # the decorator function and assigned to a variable \n",
    "    # in the main function\n",
    "    result = \"It's \" + str(celsius2fahrenheit(t)) + \" degrees!\" \n",
    "    return print (result)\n",
    "temperature (20)"
   ]
  },
  {
   "cell_type": "markdown",
   "metadata": {},
   "source": [
    "## Functions as Parameters\n",
    "\n",
    "If you solely look at the previous examples, this doesn't seem to be very useful. It gets useful in combination with two further powerful possibilities of Python functions. Due to the fact that every parameter of a function is a reference to an object and functions are objects as well, we can pass functions - or better \"references to functions\" - as parameters to a function."
   ]
  },
  {
   "cell_type": "code",
   "execution_count": 6,
   "metadata": {},
   "outputs": [
    {
     "name": "stdout",
     "output_type": "stream",
     "text": [
      "Hi, it's me 'f'\n",
      "I will call 'func' now\n",
      "Hi, it's me 'g'\n",
      "Thanks for calling me\n"
     ]
    }
   ],
   "source": [
    "def g():\n",
    "    print(\"Hi, it's me 'g'\")\n",
    "    print(\"Thanks for calling me\")\n",
    "    \n",
    "def f(func):\n",
    "    print(\"Hi, it's me 'f'\")\n",
    "    print(\"I will call 'func' now\")\n",
    "    func()\n",
    "# Here I am calling f() and the parameter is another\n",
    "# function g(). This will first run the f() function & \n",
    "# after that by virtue of the def., it will call g()\n",
    "# function at the end of f() function automatically.\n",
    "f(g)"
   ]
  },
  {
   "cell_type": "code",
   "execution_count": 8,
   "metadata": {},
   "outputs": [
    {
     "name": "stdout",
     "output_type": "stream",
     "text": [
      "Hi, it's me 'f'\n",
      "I will call 'func' now\n",
      "Hi, it's me 'g'\n",
      "Thanks for calling me\n",
      "func's real name is g\n"
     ]
    }
   ],
   "source": [
    "def g():\n",
    "    print(\"Hi, it's me 'g'\")\n",
    "    print(\"Thanks for calling me\")\n",
    "    \n",
    "def f(func):\n",
    "    print(\"Hi, it's me 'f'\")\n",
    "    print(\"I will call 'func' now\")\n",
    "    func()\n",
    "    # The line below will run after the func()\n",
    "    # this will carry the name of the last \n",
    "    # function called\n",
    "    print(\"func's real name is \" + func.__name__) \n",
    "    # func.__name__ will print the function name\n",
    "          \n",
    "f(g)"
   ]
  },
  {
   "cell_type": "markdown",
   "metadata": {},
   "source": [
    "## Functions returning Functions\n",
    "The output of a function is also a reference to an object. Therefore functions can return references to function objects."
   ]
  },
  {
   "cell_type": "code",
   "execution_count": 20,
   "metadata": {},
   "outputs": [
    {
     "name": "stdout",
     "output_type": "stream",
     "text": [
      "<function f.<locals>.g at 0x0000015D39531558>\n",
      "5\n",
      "7\n"
     ]
    }
   ],
   "source": [
    "def f(x): #main function\n",
    "    def g(y): #wrapper function\n",
    "        return y + x + 3 \n",
    "        # this will run the combination of \n",
    "        # parameters for f() & g()\n",
    "    return g\n",
    "num1 = f(1) #the output of f(1) is assigned to num1\n",
    "print (num1) # it will not display result because the \n",
    "             # other parameter is missing\n",
    "num2 = f(3)\n",
    "print (num1(1))\n",
    "print (num2(1))"
   ]
  },
  {
   "cell_type": "markdown",
   "metadata": {},
   "source": [
    "## A Simple Decorator\n",
    "Now we have everything ready to define our first simple decorator:"
   ]
  },
  {
   "cell_type": "code",
   "execution_count": 33,
   "metadata": {},
   "outputs": [
    {
     "name": "stdout",
     "output_type": "stream",
     "text": [
      "We call foo before decoration:\n",
      "Hi, foo has been called with Hi\n",
      "=================================\n",
      "=================================\n",
      "We now decorate foo with f:\n",
      "We call foo after decoration:\n",
      "Before calling foo\n",
      "Hi, foo has been called with Hi\n",
      "After calling foo\n"
     ]
    }
   ],
   "source": [
    "def our_decorator(func):\n",
    "    def function_wrapper(x):\n",
    "        print(\"Before calling \" + func.__name__)\n",
    "        func(x)\n",
    "        print(\"After calling \" + func.__name__)\n",
    "    return function_wrapper\n",
    "\n",
    "def foo(x):\n",
    "    print(\"Hi, foo has been called with \" + str(x))\n",
    "\n",
    "print(\"We call foo before decoration:\")\n",
    "foo(\"Hi\")\n",
    "# Running the foo function only .. did nothing much\n",
    "print (\"=================================\")  \n",
    "print (\"=================================\")  \n",
    "print(\"We now decorate foo with f:\")\n",
    "foo = our_decorator(foo)\n",
    "# you must assign the output of decorated function in \n",
    "# a variable after which you can call it by using the\n",
    "# calling function\n",
    "print(\"We call foo after decoration:\")\n",
    "foo(\"Hi\")"
   ]
  },
  {
   "cell_type": "code",
   "execution_count": 28,
   "metadata": {},
   "outputs": [
    {
     "name": "stdout",
     "output_type": "stream",
     "text": [
      "We call foo before decoration:\n",
      "Hi, foo has been called with Hi\n",
      "=================================\n",
      "We now decorate foo with f:\n"
     ]
    }
   ],
   "source": [
    "def our_decorator(func):\n",
    "    def function_wrapper(x):\n",
    "        print(\"Before calling \" + func.__name__)\n",
    "        func(x)\n",
    "        print(\"After calling \" + func.__name__)\n",
    "    return function_wrapper\n",
    "\n",
    "def foo(x):\n",
    "    print(\"Hi, foo has been called with \" + str(x))\n",
    "\n",
    "print(\"We call foo before decoration:\")\n",
    "a = foo(\"Hi\")\n",
    "print (\"=================================\")  \n",
    "print(\"We now decorate foo with f:\")\n",
    "foo = our_decorator(a)\n",
    "# You cannot decorate a function by assigning it to a \n",
    "# variable, the calling function must be assigned to the\n",
    "# docrated function which then stores the value for the \n",
    "# return function then you may do your work"
   ]
  },
  {
   "cell_type": "code",
   "execution_count": 34,
   "metadata": {},
   "outputs": [
    {
     "name": "stdout",
     "output_type": "stream",
     "text": [
      "Before calling foo\n",
      "Hi, foo has been called with Hi\n",
      "After calling foo\n"
     ]
    }
   ],
   "source": [
    "def our_decorator(func): #decorator function always have function\n",
    "    def function_wrapper(x): # wrapper function always have parameter\n",
    "        print(\"Before calling \" + func.__name__)\n",
    "        func(x)\n",
    "        print(\"After calling \" + func.__name__)\n",
    "    return function_wrapper\n",
    "\n",
    "# foo = our_decorator(foo)\n",
    "# foo(\"Hi\")\n",
    "# These two line will be replaced by @ as below\n",
    "\n",
    "@our_decorator\n",
    "def foo(x):\n",
    "    print(\"Hi, foo has been called with \" + str(x))\n",
    "\n",
    "foo(\"Hi\")"
   ]
  },
  {
   "cell_type": "code",
   "execution_count": 35,
   "metadata": {},
   "outputs": [
    {
     "name": "stdout",
     "output_type": "stream",
     "text": [
      "Before calling succ\n",
      "11\n",
      "After calling succ\n"
     ]
    }
   ],
   "source": [
    "def our_decorator(func):\n",
    "    def function_wrapper(x):\n",
    "        print(\"Before calling \" + func.__name__)\n",
    "        res = func(x)\n",
    "        print(res)\n",
    "        print(\"After calling \" + func.__name__)\n",
    "    return function_wrapper\n",
    "\n",
    "@our_decorator\n",
    "def succ(n):\n",
    "    return n + 1\n",
    "\n",
    "succ(10)"
   ]
  },
  {
   "cell_type": "code",
   "execution_count": 8,
   "metadata": {},
   "outputs": [
    {
     "name": "stdout",
     "output_type": "stream",
     "text": [
      "Good evening, foo returns:\n",
      "42\n"
     ]
    }
   ],
   "source": [
    "def evening_greeting(func):\n",
    "    def function_wrapper(x):\n",
    "        print(\"Good evening, \" + func.__name__ + \" returns:\")\n",
    "        func(x)\n",
    "    return function_wrapper\n",
    "\n",
    "def morning_greeting(func):\n",
    "    def function_wrapper(x):\n",
    "        print(\"Good morning, \" + func.__name__ + \" returns:\")\n",
    "        func(x)\n",
    "    return function_wrapper\n",
    "\n",
    "@evening_greeting\n",
    "def foo(x):\n",
    "    print(42)\n",
    "\n",
    "foo(\"Hi\")"
   ]
  },
  {
   "cell_type": "code",
   "execution_count": 11,
   "metadata": {},
   "outputs": [
    {
     "name": "stdout",
     "output_type": "stream",
     "text": [
      "Good Evening, foo returns:\n",
      "42\n"
     ]
    }
   ],
   "source": [
    "def greeting(expr):\n",
    "    def greeting_decorator(func):\n",
    "        def function_wrapper(x):\n",
    "            print(expr + \", \" + func.__name__ + \" returns:\")\n",
    "            func(x)\n",
    "        return function_wrapper\n",
    "    return greeting_decorator\n",
    "\n",
    "@greeting(\"Good Evening\")\n",
    "def foo(x):\n",
    "    print(42)\n",
    "\n",
    "foo(\"x\")"
   ]
  },
  {
   "cell_type": "markdown",
   "metadata": {},
   "source": [
    "## EDUREKA"
   ]
  },
  {
   "cell_type": "code",
   "execution_count": 27,
   "metadata": {},
   "outputs": [
    {
     "name": "stdout",
     "output_type": "stream",
     "text": [
      "printing func3 with func1 arugment\n",
      "Func1 runs, Func3 runs with func4!\n",
      "===========================================\n",
      "printing func3 with func2 argument\n",
      "func2 runs, Func3 runs with func4!\n",
      "===========================================\n",
      "printing func2 with func1 argument\n",
      "func2 runs, <function func1 at 0x000001FD08E66798>\n",
      "===========================================\n",
      "printing func1 with func2 argument\n",
      "Func1 runs, <function func2 at 0x000001FD08E669D8>\n",
      "===========================================\n",
      "printing func1 with func3 argument\n",
      "Func1 runs, <function func3 at 0x000001FD08E66F78>\n",
      "===========================================\n",
      "printing func2 with func3 argument\n",
      "func2 runs, <function func3 at 0x000001FD08E66F78>\n",
      "===========================================\n",
      "printing func2 with func3 argument\n",
      "func3() missing 1 required positional argument: 'func4\n"
     ]
    }
   ],
   "source": [
    "def func1 (name):\n",
    "    return f\"Func1 runs, {name}\"\n",
    "\n",
    "def func2 (name):\n",
    "    return f\"func2 runs, {name}\"\n",
    "\n",
    "def func3 (func4): # This function requires another function as argument\n",
    "    return func4(\"Func3 runs with func4!\")\n",
    "# The function above will run the argument function first and then print the statement\n",
    "# When the func4 is called as func1 or func2, the argument inside the func4 will \n",
    "# act as the argument for func1 or func2\n",
    "\n",
    "print (\"printing func3 with func1 arugment\")\n",
    "print (func3(func1)) #printing func3 with func1 arugment\n",
    "print (\"===========================================\")\n",
    "print (\"printing func3 with func2 argument\")\n",
    "print (func3(func2))\n",
    "print (\"===========================================\")\n",
    "print (\"printing func2 with func1 argument\")\n",
    "print (func2(func1))\n",
    "print (\"===========================================\")\n",
    "print (\"printing func1 with func2 argument\")\n",
    "print (func1(func2))\n",
    "print (\"===========================================\")\n",
    "print (\"printing func1 with func3 argument\")\n",
    "print (func1(func3))\n",
    "print (\"===========================================\")\n",
    "print (\"printing func2 with func3 argument\")\n",
    "print (func2(func3))\n",
    "print (\"===========================================\")\n",
    "try:\n",
    "    print (\"printing func2 with func3 argument\")\n",
    "    print (func3())\n",
    "except:\n",
    "    print(\"func3() missing 1 required positional argument: 'func4\")"
   ]
  },
  {
   "cell_type": "code",
   "execution_count": 28,
   "metadata": {},
   "outputs": [
    {
     "name": "stdout",
     "output_type": "stream",
     "text": [
      "This is the parent / outer fnction\n",
      "This is the 1st child/ inner function\n",
      "This is the 2nd child / inner function\n"
     ]
    }
   ],
   "source": [
    "# Inner Functions and Outer Functions\n",
    "def func():\n",
    "    print (\"This is the parent / outer fnction\")\n",
    "    def func_inner1():\n",
    "        print (\"This is the 1st child/ inner function\")\n",
    "    def func_inner2():\n",
    "        print (\"This is the 2nd child / inner function\")\n",
    "    # calling inner functions at the end\n",
    "    func_inner1()\n",
    "    func_inner2()\n",
    "\n",
    "func()"
   ]
  },
  {
   "cell_type": "code",
   "execution_count": 29,
   "metadata": {},
   "outputs": [
    {
     "name": "stdout",
     "output_type": "stream",
     "text": [
      "This is the parent / outer fnction\n",
      "This is the 1st child/ inner function\n",
      "This is the grand child / inner function\n"
     ]
    }
   ],
   "source": [
    "# Inner Functions and Outer Functions\n",
    "def func():\n",
    "    print (\"This is the parent / outer fnction\")\n",
    "    def func_inner1():\n",
    "        print (\"This is the 1st child/ inner function\")\n",
    "        def func_inner_inner1():\n",
    "            print (\"This is the grand child / inner function\")\n",
    "        func_inner_inner1()\n",
    "    # calling inner functions at the end\n",
    "    func_inner1()\n",
    "\n",
    "func()"
   ]
  },
  {
   "cell_type": "code",
   "execution_count": 30,
   "metadata": {},
   "outputs": [
    {
     "name": "stdout",
     "output_type": "stream",
     "text": [
      "---------------------------------------\n",
      "Function 1 executed\n",
      "---------------------------------------\n",
      "Function 2 executed\n"
     ]
    }
   ],
   "source": [
    "# Return a Function from a Function\n",
    "def func(n):\n",
    "    def func1():\n",
    "        return \"Function 1 executed\"\n",
    "    def func2():\n",
    "        return \"Function 2 executed\"\n",
    "    if n == 1:\n",
    "        return func1()\n",
    "    else:\n",
    "        return func2()\n",
    "\n",
    "# Here a is a variable because in return command we used func1() and fun2()\n",
    "a = func(1)\n",
    "b = func(2)\n",
    "print (\"---------------------------------------\")\n",
    "print (a)\n",
    "print (\"---------------------------------------\")\n",
    "print (b)"
   ]
  },
  {
   "cell_type": "code",
   "execution_count": 31,
   "metadata": {},
   "outputs": [
    {
     "name": "stdout",
     "output_type": "stream",
     "text": [
      "---------------------------------------\n",
      "Function 1 executed\n",
      "---------------------------------------\n",
      "Function 2 executed\n"
     ]
    }
   ],
   "source": [
    "# Return a Function from a Function\n",
    "# Another way of the same program\n",
    "def func(n):\n",
    "    def func1():\n",
    "        return \"Function 1 executed\"\n",
    "    def func2():\n",
    "        return \"Function 2 executed\"\n",
    "    if n == 1:\n",
    "        return func1\n",
    "    else:\n",
    "        return func2\n",
    "\n",
    "# Here a is a function because in return command we used func1 and func2\n",
    "a = func(1)\n",
    "b = func(2)\n",
    "print (\"---------------------------------------\")\n",
    "print (a())\n",
    "print (\"---------------------------------------\")\n",
    "print (b())"
   ]
  },
  {
   "cell_type": "code",
   "execution_count": 32,
   "metadata": {},
   "outputs": [
    {
     "name": "stdout",
     "output_type": "stream",
     "text": [
      "Wrapper Function called, this is line 1 before calling argumented function\n",
      "++++++++++++++++++++++++++++++++++++++++++++++++++++++++++++++++++++++++++++\n",
      "This is function which will be decorated\n",
      "==============================================================================================\n",
      "Wrapper Function called, Argumented Function Called, this is after calling argumented function\n"
     ]
    }
   ],
   "source": [
    "# Basic Decorator Example\n",
    "\n",
    "def function1(function):\n",
    "    def wrapper_function():\n",
    "        print (\"Wrapper Function called, this is line 1 before calling argumented function\")\n",
    "        print ('++++++++++++++++++++++++++++++++++++++++++++++++++++++++++++++++++++++++++++')\n",
    "        function() # Cannot use return here because it will cause the function to leave the definition\n",
    "        print (\"==============================================================================================\")\n",
    "        print (\"Wrapper Function called, Argumented Function Called, this is after calling argumented function\")\n",
    "    return wrapper_function\n",
    "\n",
    "def out_function():\n",
    "    print (\"This is function which will be decorated\")\n",
    "    \n",
    "out_function = function1 (out_function)\n",
    "out_function()"
   ]
  },
  {
   "cell_type": "code",
   "execution_count": 33,
   "metadata": {},
   "outputs": [
    {
     "name": "stdout",
     "output_type": "stream",
     "text": [
      "decorator_function is called\n",
      "**************************************************\n",
      "wrapper_function called, this is line 1 before calling argumented function\n",
      "++++++++++++++++++++++++++++++++++++++++++++++++++++++++++++++++++++++++++++\n",
      "Decorated Function is called for print.\n",
      "==============================================================================================\n",
      "Wrapper Function called, Argumented Function Called, this is after calling argumented function\n"
     ]
    }
   ],
   "source": [
    "# Basic Decorator Example\n",
    "# Making it simple using \"@\"\n",
    "\n",
    "def decorator_function(function):\n",
    "    print(decorator_function.__name__, \"is called\")\n",
    "    print (\"**************************************************\")\n",
    "    def wrapper_function():\n",
    "        print (f\"{wrapper_function.__name__} called, this is line 1 before calling argumented function\")\n",
    "        print ('++++++++++++++++++++++++++++++++++++++++++++++++++++++++++++++++++++++++++++')\n",
    "        function() # Cannot use return here because it will cause the function to leave the definition\n",
    "        print (\"==============================================================================================\")\n",
    "        print (\"Wrapper Function called, Argumented Function Called, this is after calling argumented function\")\n",
    "    return wrapper_function\n",
    "\n",
    "@decorator_function\n",
    "def decorated_function():\n",
    "    print (\"Decorated Function is called for print.\")\n",
    "    \n",
    "#Calling decorated function\n",
    "decorated_function()"
   ]
  },
  {
   "cell_type": "code",
   "execution_count": 34,
   "metadata": {},
   "outputs": [
    {
     "name": "stdout",
     "output_type": "stream",
     "text": [
      "decorator_function is called\n",
      "**************************************************\n",
      "wrapper_function called, this is line 1 before calling argumented function\n",
      "++++++++++++++++++++++++++++++++++++++++++++++++++++++++++++++++++++++++++++\n",
      "Decorated function\n",
      "==============================================================================================\n",
      "Wrapper Function called, Argumented Function Called, this is after calling argumented function\n"
     ]
    }
   ],
   "source": [
    "# Decorator example with arguments\n",
    "\n",
    "def decorator_function(function):\n",
    "    print(decorator_function.__name__, \"is called\")\n",
    "    print (\"**************************************************\")\n",
    "    def wrapper_function(*args, **kwargs):\n",
    "        print (f\"{wrapper_function.__name__} called, this is line 1 before calling argumented function\")\n",
    "        print ('++++++++++++++++++++++++++++++++++++++++++++++++++++++++++++++++++++++++++++')\n",
    "        function(*args, **kwargs) # Cannot use return here because it will cause the function to leave the definition\n",
    "        print (\"==============================================================================================\")\n",
    "        print (\"Wrapper Function called, Argumented Function Called, this is after calling argumented function\")\n",
    "    return wrapper_function\n",
    "\n",
    "@decorator_function\n",
    "def decorated_function(name):\n",
    "    print (f\"{name}\")\n",
    "    \n",
    "#Calling decorated function\n",
    "decorated_function(\"Decorated function\")"
   ]
  },
  {
   "cell_type": "code",
   "execution_count": 35,
   "metadata": {},
   "outputs": [
    {
     "name": "stdout",
     "output_type": "stream",
     "text": [
      "decorator_function is called\n",
      "**************************************************\n",
      "wrapper_function called, this is line 1 before calling argumented function\n",
      "++++++++++++++++++++++++++++++++++++++++++++++++++++++++++++++++++++++++++++\n",
      "==============================================================================================\n",
      "Wrapper Function called, Argumented Function missing, this is after calling argumented function\n"
     ]
    }
   ],
   "source": [
    "# Decorator example with arguments without decorated function call in wrapper function\n",
    "\n",
    "def decorator_function(function):\n",
    "    print(decorator_function.__name__, \"is called\")\n",
    "    print (\"**************************************************\")\n",
    "    def wrapper_function(*args, **kwargs):\n",
    "        print (f\"{wrapper_function.__name__} called, this is line 1 before calling argumented function\")\n",
    "        print ('++++++++++++++++++++++++++++++++++++++++++++++++++++++++++++++++++++++++++++')\n",
    "        print (\"==============================================================================================\")\n",
    "        print (\"Wrapper Function called, Argumented Function missing, this is after calling argumented function\")\n",
    "    return wrapper_function\n",
    "\n",
    "@decorator_function\n",
    "def decorated_function(name):\n",
    "    print (f\"{name}\")\n",
    "    \n",
    "#Calling decorated function\n",
    "decorated_function(\"Decorated function\")"
   ]
  },
  {
   "cell_type": "code",
   "execution_count": 37,
   "metadata": {},
   "outputs": [
    {
     "name": "stdout",
     "output_type": "stream",
     "text": [
      "Hello Shahid\n",
      "Hello Shahid\n"
     ]
    }
   ],
   "source": [
    "def do_twice(func):\n",
    "    def wrapper_do_twice(*args, **kwargs):\n",
    "        func(*args, **kwargs)\n",
    "        func(*args, **kwargs)\n",
    "    return wrapper_do_twice\n",
    "\n",
    "@do_twice\n",
    "def greet(name):\n",
    "    print(f\"Hello {name}\")\n",
    "\n",
    "greet (\"Shahid\")"
   ]
  },
  {
   "cell_type": "code",
   "execution_count": 44,
   "metadata": {},
   "outputs": [
    {
     "name": "stdout",
     "output_type": "stream",
     "text": [
      "Creating greeting\n",
      "Creating greeting\n"
     ]
    }
   ],
   "source": [
    "def do_twice(func):\n",
    "    def wrapper_do_twice(*args, **kwargs):\n",
    "        func(*args, **kwargs)\n",
    "        func(*args, **kwargs)\n",
    "    return wrapper_do_twice\n",
    "\n",
    "@do_twice\n",
    "def return_greeting(name):\n",
    "    print(\"Creating greeting\")\n",
    "    return (f\"Hi {name}\")\n",
    "\n",
    "return_greeting(\"Shahid\")"
   ]
  },
  {
   "cell_type": "code",
   "execution_count": 45,
   "metadata": {},
   "outputs": [
    {
     "name": "stdout",
     "output_type": "stream",
     "text": [
      "<b><i><u>hello world</u></i></b>\n"
     ]
    }
   ],
   "source": [
    "def make_bold(fn):\n",
    "    def wrapped():\n",
    "        return \"<b>\" + fn() + \"</b>\"\n",
    "    return wrapped\n",
    "\n",
    "def make_italic(fn):\n",
    "    def wrapped():\n",
    "        return \"<i>\" + fn() + \"</i>\"\n",
    "    return wrapped\n",
    "\n",
    "def make_underline(fn):\n",
    "    def wrapped():\n",
    "        return \"<u>\" + fn() + \"</u>\"\n",
    "    return wrapped\n",
    "\n",
    "@make_bold\n",
    "@make_italic\n",
    "@make_underline\n",
    "def hello():\n",
    "    return \"hello world\"\n",
    "print(hello())"
   ]
  },
  {
   "cell_type": "code",
   "execution_count": null,
   "metadata": {},
   "outputs": [],
   "source": []
  }
 ],
 "metadata": {
  "kernelspec": {
   "display_name": "Python 3",
   "language": "python",
   "name": "python3"
  },
  "language_info": {
   "codemirror_mode": {
    "name": "ipython",
    "version": 3
   },
   "file_extension": ".py",
   "mimetype": "text/x-python",
   "name": "python",
   "nbconvert_exporter": "python",
   "pygments_lexer": "ipython3",
   "version": "3.7.6"
  }
 },
 "nbformat": 4,
 "nbformat_minor": 4
}
