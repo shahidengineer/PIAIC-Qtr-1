{
 "cells": [
  {
   "cell_type": "markdown",
   "metadata": {},
   "source": [
    "# DATA FILES - SWTLP"
   ]
  },
  {
   "cell_type": "code",
   "execution_count": 5,
   "metadata": {},
   "outputs": [],
   "source": [
    "# The below code opens the file greet.txt\n",
    "# There are three modes\n",
    "# read, \"r\"\n",
    "# write, \"w\"\n",
    "# append, \"a\""
   ]
  },
  {
   "cell_type": "code",
   "execution_count": 6,
   "metadata": {},
   "outputs": [],
   "source": [
    "# Writing Data Files\n",
    "with open (\"greet.txt\", \"w\") as f:\n",
    "    f.write(\"Hello, World!\")"
   ]
  },
  {
   "cell_type": "code",
   "execution_count": 3,
   "metadata": {},
   "outputs": [
    {
     "name": "stdout",
     "output_type": "stream",
     "text": [
      "Hello, World!\n",
      "Hello, World!\n"
     ]
    }
   ],
   "source": [
    "# Reading Data Files\n",
    "with open (\"greet.txt\", \"r\") as f:\n",
    "    content = f.read()\n",
    "    print (content)\n",
    "\n",
    "# OR\n",
    "\n",
    "with open (\"greet.txt\", \"r\") as f:\n",
    "    print (f.read())"
   ]
  },
  {
   "cell_type": "code",
   "execution_count": 4,
   "metadata": {},
   "outputs": [
    {
     "name": "stdout",
     "output_type": "stream",
     "text": [
      "Hello, World!\n"
     ]
    }
   ],
   "source": [
    "# Read mode is default mode and even if you write\n",
    "# with open (\"greet.txt\") as f \n",
    "# and the whole program you will get the same results.\n",
    "with open (\"greet.txt\") as f:\n",
    "    print (f.read())"
   ]
  },
  {
   "cell_type": "code",
   "execution_count": 9,
   "metadata": {},
   "outputs": [
    {
     "name": "stdout",
     "output_type": "stream",
     "text": [
      "Hello, World!\n",
      "Have a nice day.\n",
      "Have a nice day.\n"
     ]
    }
   ],
   "source": [
    "# Appending Data\n",
    "with open (\"greet.txt\", \"a\") as f:\n",
    "    f.write(\"\\nHave a nice day.\")\n",
    "with open (\"greet.txt\", \"r\") as f:\n",
    "    content = f.read()\n",
    "    print (content)"
   ]
  },
  {
   "cell_type": "markdown",
   "metadata": {},
   "source": [
    "# DATA FILES - CH10 - PCC"
   ]
  },
  {
   "cell_type": "markdown",
   "metadata": {},
   "source": [
    "# READING A FILE"
   ]
  },
  {
   "cell_type": "code",
   "execution_count": 15,
   "metadata": {},
   "outputs": [
    {
     "name": "stdout",
     "output_type": "stream",
     "text": [
      "3.1415926535 \n",
      "  8979323846 \n",
      "  2643383279\n",
      "  \n"
     ]
    }
   ],
   "source": [
    "with open (\"pi_digits.txt\") as f:\n",
    "    contents = f.read()\n",
    "    print(contents)"
   ]
  },
  {
   "cell_type": "code",
   "execution_count": 16,
   "metadata": {},
   "outputs": [
    {
     "name": "stdout",
     "output_type": "stream",
     "text": [
      "3.1415926535 \n",
      "  8979323846 \n",
      "  2643383279\n"
     ]
    }
   ],
   "source": [
    "with open (\"pi_digits.txt\") as f:\n",
    "    contents = f.read()\n",
    "    print(contents.rstrip())"
   ]
  },
  {
   "cell_type": "code",
   "execution_count": 17,
   "metadata": {},
   "outputs": [
    {
     "name": "stdout",
     "output_type": "stream",
     "text": [
      "3.1415926535 \n",
      "  8979323846 \n",
      "  2643383279\n"
     ]
    }
   ],
   "source": [
    "# Using Full Path of the file\n",
    "with open (\"E:\\Anaconda\\PythonPrograms\\pi_digits.txt\") as f:\n",
    "    content = f.read()\n",
    "    print (contents.rstrip())"
   ]
  },
  {
   "cell_type": "code",
   "execution_count": 18,
   "metadata": {},
   "outputs": [
    {
     "name": "stdout",
     "output_type": "stream",
     "text": [
      "3.1415926535 \n",
      "  8979323846 \n",
      "  2643383279\n"
     ]
    }
   ],
   "source": [
    "# Making the file path equal to variable\n",
    "file_path = \"E:\\Anaconda\\PythonPrograms\\pi_digits.txt\"\n",
    "with open (file_path) as f:\n",
    "    content = f.read()\n",
    "    print (contents.rstrip())"
   ]
  },
  {
   "cell_type": "code",
   "execution_count": 19,
   "metadata": {},
   "outputs": [
    {
     "name": "stdout",
     "output_type": "stream",
     "text": [
      "3.1415926535 \n",
      "\n",
      "  8979323846 \n",
      "\n",
      "  2643383279\n",
      "\n",
      "  \n"
     ]
    }
   ],
   "source": [
    "# Reading line by line from the file.\n",
    "file_path = \"E:\\Anaconda\\PythonPrograms\\pi_digits.txt\"\n",
    "with open (file_path) as f:\n",
    "    for line in f:\n",
    "        print (line)"
   ]
  },
  {
   "cell_type": "code",
   "execution_count": 21,
   "metadata": {
    "scrolled": true
   },
   "outputs": [
    {
     "name": "stdout",
     "output_type": "stream",
     "text": [
      "3.1415926535\n",
      "  8979323846\n",
      "  2643383279\n",
      "\n"
     ]
    }
   ],
   "source": [
    "# Reading line by line from the file using rstrip()\n",
    "file_path = \"E:\\Anaconda\\PythonPrograms\\pi_digits.txt\"\n",
    "with open (file_path) as f:\n",
    "    for line in f:\n",
    "        print (line.rstrip())"
   ]
  },
  {
   "cell_type": "code",
   "execution_count": 25,
   "metadata": {},
   "outputs": [
    {
     "name": "stdout",
     "output_type": "stream",
     "text": [
      "3.1415926535\n",
      "  8979323846\n",
      "  2643383279\n",
      "\n"
     ]
    }
   ],
   "source": [
    "# Making a list of lines from a file\n",
    "file_path = \"E:\\Anaconda\\PythonPrograms\\pi_digits.txt\"\n",
    "with open (file_path) as f:\n",
    "    lines = f.readlines()\n",
    "# readlines() take each line from the file and stores it in \n",
    "# a list\n",
    "for line in lines:\n",
    "    print (line.rstrip())"
   ]
  },
  {
   "cell_type": "code",
   "execution_count": 27,
   "metadata": {},
   "outputs": [
    {
     "name": "stdout",
     "output_type": "stream",
     "text": [
      "3.1415926535  8979323846  2643383279\n",
      "36\n"
     ]
    }
   ],
   "source": [
    "#Working with a File’s Contents\n",
    "# Buidling a single string in the file with no whitespaces\n",
    "file_path = \"E:\\Anaconda\\PythonPrograms\\pi_digits.txt\"\n",
    "with open (file_path) as f:\n",
    "    lines = f.readlines()\n",
    "\n",
    "pi_string =\"\"\n",
    "for line in lines:\n",
    "    pi_string += line.rstrip()\n",
    "# The line above will add the lines as list in pi_string\n",
    "print (pi_string)\n",
    "print (len(pi_string))"
   ]
  },
  {
   "cell_type": "code",
   "execution_count": 29,
   "metadata": {},
   "outputs": [
    {
     "name": "stdout",
     "output_type": "stream",
     "text": [
      "3.141592653589793238462643383279\n",
      "32\n"
     ]
    }
   ],
   "source": [
    "#Working with a File’s Contents\n",
    "# Stripping it completely with strip()\n",
    "file_path = \"E:\\Anaconda\\PythonPrograms\\pi_digits.txt\"\n",
    "with open (file_path) as f:\n",
    "    lines = f.readlines()\n",
    "\n",
    "pi_string =\"\"\n",
    "for line in lines:\n",
    "    pi_string += line.strip()\n",
    "# The line above will add the lines as list in pi_string\n",
    "print (pi_string)\n",
    "print (len(pi_string))"
   ]
  },
  {
   "cell_type": "code",
   "execution_count": 31,
   "metadata": {},
   "outputs": [
    {
     "name": "stdout",
     "output_type": "stream",
     "text": [
      "3.14159265358979323846264338327950288419716939937510 ...\n",
      "1000002\n"
     ]
    }
   ],
   "source": [
    "# Large Files: One Million Digits\n",
    "file_path = \"E:\\Anaconda\\PythonPrograms\\pi_million_digits.txt\"\n",
    "with open (file_path) as f:\n",
    "       lines = f.readlines()\n",
    "\n",
    "pi_string =\"\"\n",
    "for line in lines:\n",
    "    pi_string += line.strip()\n",
    "# The line above will add the lines as list in pi_string\n",
    "# the line below will only print elements till index 51\n",
    "print (pi_string[:52],\"...\")\n",
    "print (len(pi_string)) "
   ]
  },
  {
   "cell_type": "code",
   "execution_count": 34,
   "metadata": {},
   "outputs": [
    {
     "name": "stdout",
     "output_type": "stream",
     "text": [
      "Enter you birthday in format mmddyy: 120372\n",
      "Your Birthday appears in the first million digits of pi!\n"
     ]
    }
   ],
   "source": [
    "# Is Your Birthday Contained in Pi?\n",
    "# Using the pi_string to find a number\n",
    "file_path = \"E:\\Anaconda\\PythonPrograms\\pi_million_digits.txt\"\n",
    "with open (file_path) as f:\n",
    "       lines = f.readlines()\n",
    "\n",
    "pi_string =\"\"\n",
    "for line in lines:\n",
    "    pi_string += line.strip()\n",
    "\n",
    "birthday = input (\"Enter you birthday in format mmddyy: \")\n",
    "if birthday in pi_string:\n",
    "    print (\"Your Birthday appears in the first million digits of pi!\")\n",
    "else:\n",
    "    print (\"Your Birthday does not appear in the first million digits of pi!\")"
   ]
  },
  {
   "cell_type": "code",
   "execution_count": 35,
   "metadata": {},
   "outputs": [],
   "source": [
    "# 10-1. Learning Python: Open a blank file in your text editor and write a few\n",
    "# lines summarizing what you’ve learned about Python so far. Start each line\n",
    "# with the phrase In Python you can.... Save the file as learning_python.txt in the\n",
    "# same directory as your exercises from this chapter. Write a program that reads\n",
    "# the file and prints what you wrote three times. Print the contents once by reading\n",
    "# in the entire file, once by looping over the file object, and once by storing\n",
    "# the lines in a list and then working with them outside the with block.\n",
    "# 10-2. Learning C: You can use the replace() method to replace any word in a\n",
    "# string with a different word. Here’s a quick example showing how to replace\n",
    "# 'dog' with 'cat' in a sentence:\n",
    "# >>> message = \"I really like dogs.\"\n",
    "# >>> message.replace('dog', 'cat')\n",
    "# 'I really like cats.'\n",
    "# Read in each line from the file you just created, learning_python.txt, and\n",
    "# replace the word Python with the name of another language, such as C. Print\n",
    "# each modified line to the screen."
   ]
  },
  {
   "cell_type": "code",
   "execution_count": 45,
   "metadata": {},
   "outputs": [
    {
     "name": "stdout",
     "output_type": "stream",
     "text": [
      "====================================\n",
      "Part-1\n",
      "In Python you can store as much information as you want.\n",
      "In Python you can connect pieces of information.\n",
      "In Python you can model real-world situations.\n",
      "====================================\n",
      "Part-2\n",
      "In Python you can store as much information as you want.\n",
      "In Python you can connect pieces of information.\n",
      "In Python you can model real-world situations.\n",
      "====================================\n",
      "Part-3\n",
      "In Python you can store as much information as you want.\n",
      "In Python you can connect pieces of information.\n",
      "In Python you can model real-world situations.\n",
      "====================================\n",
      "Part-4 - Extra\n",
      "In Python you can store as much information as you want.In Python you can connect pieces of information.In Python you can model real-world situations.\n",
      "150\n"
     ]
    }
   ],
   "source": [
    "# 10-1\n",
    "print (\"====================================\")\n",
    "print (\"Part-1\")\n",
    "file_path = \"E:\\Anaconda\\PythonPrograms\\learning_python.txt\"\n",
    "with open (file_path) as f:\n",
    "    contents = f.read()\n",
    "    print (contents)\n",
    "print (\"====================================\")\n",
    "print (\"Part-2\")\n",
    "file_path = \"E:\\Anaconda\\PythonPrograms\\learning_python.txt\"\n",
    "with open (file_path) as f:\n",
    "    for line in f:\n",
    "        print (line.rstrip())\n",
    "print (\"====================================\")\n",
    "print (\"Part-3\")\n",
    "file_path = \"E:\\Anaconda\\PythonPrograms\\learning_python.txt\"\n",
    "with open (file_path) as f:\n",
    "    lines = f.readlines()\n",
    "for line in lines:\n",
    "    print (line.rstrip())\n",
    "print (\"====================================\")\n",
    "print (\"Part-4 - Extra\")\n",
    "with open (file_path) as f:\n",
    "    lines = f.readlines()\n",
    "line_string = \"\"\n",
    "for line in lines:\n",
    "    line_string += line.rstrip()\n",
    "print (line_string)\n",
    "print (len(line_string))"
   ]
  },
  {
   "cell_type": "code",
   "execution_count": 55,
   "metadata": {},
   "outputs": [
    {
     "name": "stdout",
     "output_type": "stream",
     "text": [
      "10-2, Part-1\n",
      "In C you can store as much information as you want.\n",
      "In C you can connect pieces of information.\n",
      "In C you can model real-world situations.\n"
     ]
    }
   ],
   "source": [
    "# 10-2\n",
    "print (\"10-2, Part-1\")\n",
    "file_path = \"E:\\Anaconda\\PythonPrograms\\learning_python.txt\"\n",
    "with open (file_path) as f:\n",
    "    contents = f.readlines() \n",
    "#readlines actually converts the full line in one string of list.\n",
    "for line in contents:\n",
    "    line = line.strip()\n",
    "    print (line.replace(\"Python\", \"C\"))\n",
    "    # replace do not impact the main file"
   ]
  },
  {
   "cell_type": "markdown",
   "metadata": {},
   "source": [
    "# Writing to a File"
   ]
  },
  {
   "cell_type": "code",
   "execution_count": 57,
   "metadata": {},
   "outputs": [
    {
     "name": "stdout",
     "output_type": "stream",
     "text": [
      "I love Programming.\n"
     ]
    }
   ],
   "source": [
    "# For Writing we need to add \"w\" after comma and file_name\n",
    "file_name = \"Programming.txt\"\n",
    "with open (file_name, \"w\") as f:\n",
    "    f.write (\"I love Programming.\")\n",
    "with open (file_name, \"r\") as f:\n",
    "    print (f.read())"
   ]
  },
  {
   "cell_type": "code",
   "execution_count": 58,
   "metadata": {},
   "outputs": [
    {
     "name": "stdout",
     "output_type": "stream",
     "text": [
      "I love Programming.\n",
      "I love making games.\n",
      "This is the 3rd line.\n"
     ]
    }
   ],
   "source": [
    "# Creating Multiple Lines\n",
    "file_name = \"Programming.txt\"\n",
    "with open (file_name, \"w\") as f:\n",
    "    f.write (\"I love Programming.\\n\")\n",
    "    f.write (\"I love making games.\\n\")\n",
    "    f.write (\"This is the 3rd line.\")\n",
    "with open (file_name, \"r\") as f:\n",
    "    print (f.read())"
   ]
  },
  {
   "cell_type": "markdown",
   "metadata": {},
   "source": [
    "# Appending to a File"
   ]
  },
  {
   "cell_type": "code",
   "execution_count": 60,
   "metadata": {},
   "outputs": [
    {
     "name": "stdout",
     "output_type": "stream",
     "text": [
      "I love Programming.\n",
      "I love making games.\n",
      "This is the 3rd line.\n",
      "I also love finding meaning of large datasets.\n",
      "I love creating apps that can run in a browser.\n",
      "\n",
      "I also love finding meaning of large datasets.\n",
      "I love creating apps that can run in a browser.\n",
      "\n"
     ]
    }
   ],
   "source": [
    "# For append we will use \"a\"\n",
    "file_name = \"Programming.txt\"\n",
    "with open (file_name, \"a\") as f:\n",
    "    f.write (\"\\nI also love finding meaning of large datasets.\\n\")\n",
    "    f.write (\"I love creating apps that can run in a browser.\\n\")\n",
    "with open (file_name) as f:\n",
    "    contents = f.read()\n",
    "    print (contents)"
   ]
  },
  {
   "cell_type": "code",
   "execution_count": 62,
   "metadata": {},
   "outputs": [
    {
     "name": "stdout",
     "output_type": "stream",
     "text": [
      "10-3\n",
      "Enter the Guest name or enter q to quit: Shahid\n",
      "Enter the Guest name or enter q to quit: Iqbal\n",
      "Enter the Guest name or enter q to quit: Shoaib\n",
      "Enter the Guest name or enter q to quit: Asma\n",
      "Enter the Guest name or enter q to quit: shagufta\n",
      "Enter the Guest name or enter q to quit: q\n"
     ]
    }
   ],
   "source": [
    "# 10-3. Guest: Write a program that prompts the user for their name. When they\n",
    "# respond, write their name to a file called guest.txt.\n",
    "print (\"10-3\")\n",
    "file_name = \"guest.txt\"\n",
    "with open (file_name,\"w\") as f:\n",
    "    a = 1\n",
    "    while True:\n",
    "        guest_name = str (input (\"Enter the Guest name or enter q to quit: \"))\n",
    "        guest_name = guest_name.title()\n",
    "        if guest_name == \"Q\":\n",
    "            break\n",
    "        else:\n",
    "            f.write (f\"{a}. {guest_name}.\\n\")\n",
    "            a += 1"
   ]
  },
  {
   "cell_type": "code",
   "execution_count": 63,
   "metadata": {},
   "outputs": [
    {
     "name": "stdout",
     "output_type": "stream",
     "text": [
      "1. Shahid.\n",
      "2. Iqbal.\n",
      "3. Shoaib.\n",
      "4. Asma.\n",
      "5. Shagufta.\n",
      "\n"
     ]
    }
   ],
   "source": [
    "file_name = \"guest.txt\"\n",
    "with open (file_name,\"r\") as f:\n",
    "    contents = f.read()\n",
    "    print (contents)"
   ]
  },
  {
   "cell_type": "code",
   "execution_count": 64,
   "metadata": {},
   "outputs": [
    {
     "name": "stdout",
     "output_type": "stream",
     "text": [
      "10-4\n",
      "Enter the Guest name or enter q to quit: Shahid\n",
      "Hello Shahid, welcome to the party!\n",
      "Enter the Guest name or enter q to quit: Shoaib\n",
      "Hello Shoaib, welcome to the party!\n",
      "Enter the Guest name or enter q to quit: Asma Iqbal\n",
      "Hello Asma Iqbal, welcome to the party!\n",
      "Enter the Guest name or enter q to quit: Shagufta\n",
      "Hello Shagufta, welcome to the party!\n",
      "Enter the Guest name or enter q to quit: q\n"
     ]
    }
   ],
   "source": [
    "# 10-4. Guest Book: Write a while loop that prompts users for their name. When\n",
    "# they enter their name, print a greeting to the screen and add a line recording\n",
    "# their visit in a file called guest_book.txt. Make sure each entry appears on a\n",
    "# new line in the file.\n",
    "print (\"10-4\")\n",
    "file_name = \"guest.txt\"\n",
    "with open (file_name,\"w\") as f:\n",
    "    while True:\n",
    "        guest_name = str (input (\"Enter the Guest name or enter q to quit: \"))\n",
    "        guest_name = guest_name.title()\n",
    "        if guest_name == \"Q\":\n",
    "            break\n",
    "        else:\n",
    "            print (f\"Hello {guest_name}, welcome to the party!\")\n",
    "            f.write (f\"{guest_name} has arrived at the party.\\n\")"
   ]
  },
  {
   "cell_type": "code",
   "execution_count": 65,
   "metadata": {},
   "outputs": [
    {
     "name": "stdout",
     "output_type": "stream",
     "text": [
      "Shahid has arrived at the party.\n",
      "Shoaib has arrived at the party.\n",
      "Asma Iqbal has arrived at the party.\n",
      "Shagufta has arrived at the party.\n",
      "\n"
     ]
    }
   ],
   "source": [
    "file_name = \"guest.txt\"\n",
    "with open (file_name,\"r\") as f:\n",
    "    contents = f.read()\n",
    "    print (contents)"
   ]
  },
  {
   "cell_type": "code",
   "execution_count": 69,
   "metadata": {},
   "outputs": [
    {
     "name": "stdout",
     "output_type": "stream",
     "text": [
      "10-5\n",
      "Please give us a reason as to why you like programming? Behtareen\n",
      "Will you like others to participate in the poll (y/n):n\n",
      "Behtareen\n",
      "\n"
     ]
    }
   ],
   "source": [
    "# 10-5. Programming Poll: Write a while loop that asks people why they like\n",
    "# programming. Each time someone enters a reason, add their reason to a file\n",
    "# that stores all the responses\n",
    "print (\"10-5\")\n",
    "file_name = \"Programming_Poll.txt\"\n",
    "responses = []\n",
    "while True:\n",
    "    rep_1 = str (input (\"Please give us a reason as to why you like programming? \"))\n",
    "    responses.append(rep_1)\n",
    "    rep_2 = str (input (\"Will you like others to participate in the poll (y/n):\"))\n",
    "    if rep_2 == \"n\" or rep_2 == \"N\":\n",
    "        break\n",
    "    else:\n",
    "        continue\n",
    "with open (file_name, \"a\") as f:\n",
    "    for response in responses:\n",
    "        f.write (response+\"\\n\")\n",
    "\n",
    "with open (file_name,\"r\") as f:\n",
    "    contents = f.read()\n",
    "    print (contents)"
   ]
  },
  {
   "cell_type": "markdown",
   "metadata": {},
   "source": [
    "# DATA FILES - EDUREKA"
   ]
  },
  {
   "cell_type": "markdown",
   "metadata": {},
   "source": [
    "READING FILES"
   ]
  },
  {
   "cell_type": "code",
   "execution_count": 2,
   "metadata": {},
   "outputs": [
    {
     "name": "stdout",
     "output_type": "stream",
     "text": [
      "3.141\n"
     ]
    }
   ],
   "source": [
    "file_name = \"pi_digits.txt\"\n",
    "with open (file_name) as f:\n",
    "# Reading 05 characters through read command.\n",
    "    contents = f.read(5)\n",
    "    print (contents)"
   ]
  },
  {
   "cell_type": "code",
   "execution_count": 25,
   "metadata": {},
   "outputs": [
    {
     "name": "stdout",
     "output_type": "stream",
     "text": [
      "3.1415926535\n",
      "=============================\n",
      "3.1\n",
      "=============================\n",
      "['3.1415926535 \\n', '  8979323846 \\n', '  2643383279\\n', '  ']\n",
      "=============================\n"
     ]
    }
   ],
   "source": [
    "with open (file_name) as f:\n",
    "    contents = f.readline()\n",
    "    # This will print only one line\n",
    "    print (contents.strip())\n",
    "print(\"=============================\")\n",
    "with open (file_name) as f:\n",
    "    # This will print first 03 chars of 1st line\n",
    "    contents = f.readline(3)\n",
    "    print (contents)\n",
    "print(\"=============================\")\n",
    "with open (file_name) as f:\n",
    "    # This will return the output in list form\n",
    "    # The output confirms that the lines are converted to\n",
    "    # elements in a list\n",
    "    contents = f.readlines()\n",
    "    print (contents)\n",
    "print(\"=============================\")"
   ]
  },
  {
   "cell_type": "code",
   "execution_count": 26,
   "metadata": {},
   "outputs": [
    {
     "name": "stdout",
     "output_type": "stream",
     "text": [
      "3.1415926535\n",
      "8979323846\n",
      "2643383279\n",
      "\n"
     ]
    }
   ],
   "source": [
    "# Loops in readline will make it efficient\n",
    "with open (file_name) as f:\n",
    "    for line in f:\n",
    "        print (line.strip())"
   ]
  },
  {
   "cell_type": "markdown",
   "metadata": {},
   "source": [
    "Writing Files"
   ]
  },
  {
   "cell_type": "code",
   "execution_count": 30,
   "metadata": {},
   "outputs": [],
   "source": [
    "# mode is important\n",
    "# \"w\" will overwrite the file if wrongly placed\n",
    "with open (\"demofile.txt\", \"w\") as f:\n",
    "    f.write(\"Hello World!\")"
   ]
  },
  {
   "cell_type": "code",
   "execution_count": 31,
   "metadata": {},
   "outputs": [
    {
     "ename": "FileExistsError",
     "evalue": "[Errno 17] File exists: 'demofile.txt'",
     "output_type": "error",
     "traceback": [
      "\u001b[1;31m---------------------------------------------------------------------------\u001b[0m",
      "\u001b[1;31mFileExistsError\u001b[0m                           Traceback (most recent call last)",
      "\u001b[1;32m<ipython-input-31-47f156e8a730>\u001b[0m in \u001b[0;36m<module>\u001b[1;34m\u001b[0m\n\u001b[0;32m      2\u001b[0m \u001b[1;31m# we can use open method\u001b[0m\u001b[1;33m\u001b[0m\u001b[1;33m\u001b[0m\u001b[1;33m\u001b[0m\u001b[0m\n\u001b[0;32m      3\u001b[0m \u001b[1;31m# the \"w\" method & \"x\" method will create a file]\u001b[0m\u001b[1;33m\u001b[0m\u001b[1;33m\u001b[0m\u001b[1;33m\u001b[0m\u001b[0m\n\u001b[1;32m----> 4\u001b[1;33m \u001b[1;32mwith\u001b[0m \u001b[0mopen\u001b[0m \u001b[1;33m(\u001b[0m\u001b[1;34m\"demofile.txt\"\u001b[0m\u001b[1;33m,\u001b[0m \u001b[1;34m\"x\"\u001b[0m\u001b[1;33m)\u001b[0m \u001b[1;32mas\u001b[0m \u001b[0mf\u001b[0m\u001b[1;33m:\u001b[0m\u001b[1;33m\u001b[0m\u001b[1;33m\u001b[0m\u001b[0m\n\u001b[0m\u001b[0;32m      5\u001b[0m     \u001b[0mf\u001b[0m\u001b[1;33m.\u001b[0m\u001b[0mwrite\u001b[0m \u001b[1;33m(\u001b[0m\u001b[1;34m\"Hello World!\"\u001b[0m\u001b[1;33m)\u001b[0m\u001b[1;33m\u001b[0m\u001b[1;33m\u001b[0m\u001b[0m\n",
      "\u001b[1;31mFileExistsError\u001b[0m: [Errno 17] File exists: 'demofile.txt'"
     ]
    }
   ],
   "source": [
    "# create a new file with python\n",
    "# we can use open method\n",
    "# the \"w\" method & \"x\" method will create a file]\n",
    "with open (\"demofile.txt\", \"x\") as f:\n",
    "    f.write (\"Hello World!\")"
   ]
  },
  {
   "cell_type": "code",
   "execution_count": 32,
   "metadata": {},
   "outputs": [],
   "source": [
    "# Deleting a File using python\n",
    "# for that you need to import os function\n",
    "# os.remove() function\n",
    "import os\n",
    "os.remove (\"demofile.txt\")\n",
    "# This actually deleted the file and we can \n",
    "# no longer access this."
   ]
  },
  {
   "cell_type": "code",
   "execution_count": 33,
   "metadata": {},
   "outputs": [
    {
     "name": "stdout",
     "output_type": "stream",
     "text": [
      "The file doesn't exist!\n"
     ]
    }
   ],
   "source": [
    "# Conditional statment to see if file exists\n",
    "import os\n",
    "if os.path.exists(\"demofile.txt\"):\n",
    "    os.remove (\"demofile.txt\")\n",
    "else:\n",
    "    print (\"The file doesn't exist!\")"
   ]
  },
  {
   "cell_type": "code",
   "execution_count": 34,
   "metadata": {},
   "outputs": [],
   "source": [
    "# To delete a folder \n",
    "import os\n",
    "os.rmdir (\"Folder2remove\")\n",
    "# This will remove the folder for good!!!"
   ]
  },
  {
   "cell_type": "code",
   "execution_count": 20,
   "metadata": {},
   "outputs": [
    {
     "name": "stdout",
     "output_type": "stream",
     "text": [
      "This is line number 1.\n",
      "This is line number 2.\n",
      "This is line number 3.\n",
      "This is line number 4.\n",
      "This is line number 5.\n",
      "This is line number 6.\n",
      "This is line number 7.\n",
      "This is line number 8.\n",
      "This is line number 9.\n",
      "This is line number 10.\n",
      "\n",
      "================================\n",
      "With readlines(), an additional space will be entered b/w lines\n",
      "This is line number 1.\n",
      "\n",
      "This is line number 2.\n",
      "\n",
      "This is line number 3.\n",
      "\n",
      "This is line number 4.\n",
      "\n",
      "This is line number 5.\n",
      "\n",
      "This is line number 6.\n",
      "\n",
      "This is line number 7.\n",
      "\n",
      "This is line number 8.\n",
      "\n",
      "This is line number 9.\n",
      "\n",
      "This is line number 10.\n",
      "\n"
     ]
    }
   ],
   "source": [
    "# Writing in a for - loop\n",
    "file_name = \"testfile.txt\"\n",
    "with open (file_name, \"w\") as f:\n",
    "    for i in range(10):\n",
    "        f.write (f\"This is line number {i+1}.\\n\")\n",
    "with open (file_name) as f:\n",
    "    contents = f.read()\n",
    "    print (contents)\n",
    "print (\"================================\")\n",
    "print (\"With readlines(), an additional space will be entered b/w lines\")\n",
    "with open (file_name) as f:\n",
    "    contents = f.readlines()\n",
    "    for line in contents:\n",
    "        print (line)"
   ]
  },
  {
   "cell_type": "code",
   "execution_count": 22,
   "metadata": {},
   "outputs": [],
   "source": [
    "file_name = \"guru99.txt\"\n",
    "with open (file_name, \"w+\") as f:\n",
    "    for i in range(10):\n",
    "        f.write(\"This is line %d\\r\\n\" % (i+1))"
   ]
  },
  {
   "cell_type": "code",
   "execution_count": 23,
   "metadata": {},
   "outputs": [],
   "source": [
    "with open (file_name, \"a+\") as f:\n",
    "    for i in range (2):\n",
    "        f.write(f\"Appended line {i+1}\\n\\r\")"
   ]
  },
  {
   "cell_type": "code",
   "execution_count": 25,
   "metadata": {},
   "outputs": [
    {
     "name": "stdout",
     "output_type": "stream",
     "text": [
      "This is line 1\n",
      "\n",
      "This is line 2\n",
      "\n",
      "This is line 3\n",
      "\n",
      "This is line 4\n",
      "\n",
      "This is line 5\n",
      "\n",
      "This is line 6\n",
      "\n",
      "This is line 7\n",
      "\n",
      "This is line 8\n",
      "\n",
      "This is line 9\n",
      "\n",
      "This is line 10\n",
      "\n",
      "Appended line 1\n",
      "\n",
      "Appended line 2\n",
      "\n"
     ]
    }
   ],
   "source": [
    "with open (file_name) as f:\n",
    "    for line in f:\n",
    "        print (line.strip())"
   ]
  },
  {
   "cell_type": "code",
   "execution_count": 29,
   "metadata": {},
   "outputs": [
    {
     "name": "stdout",
     "output_type": "stream",
     "text": [
      "Using the os.path.exists(file)\n",
      "True\n",
      "False\n"
     ]
    }
   ],
   "source": [
    "print (\"Using the os.path.exists(file)\")\n",
    "#Using path.exists you can quickly check \n",
    "# that a file or directory exists\n",
    "import os\n",
    "a = os.path.exists(\"guru99.txt\")\n",
    "b = os.path.exists (\"guru89.txt\")\n",
    "print (a)\n",
    "print (b)"
   ]
  },
  {
   "cell_type": "code",
   "execution_count": 31,
   "metadata": {},
   "outputs": [
    {
     "name": "stdout",
     "output_type": "stream",
     "text": [
      "Using the os.path.isfile(file)\n",
      "True\n",
      "False\n"
     ]
    }
   ],
   "source": [
    "print (\"Using the os.path.isfile(file)\")\n",
    "# We can use the isfile command to check whether a given \n",
    "# input is a file or directory\n",
    "import os\n",
    "a = os.path.isfile(\"guru99.txt\")\n",
    "b = os.path.isfile (\"guru89.txt\")\n",
    "print (a)\n",
    "print (b)"
   ]
  },
  {
   "cell_type": "code",
   "execution_count": 33,
   "metadata": {},
   "outputs": [
    {
     "name": "stdout",
     "output_type": "stream",
     "text": [
      "Using the os.path.isdir(Directory_name)\n",
      "True\n",
      "False\n"
     ]
    }
   ],
   "source": [
    "print (\"Using the os.path.isdir(Directory_name)\")\n",
    "# If we want to confirm that a given path points to a directory, \n",
    "# we can use the os.path.dir() function\n",
    "import os\n",
    "a = os.path.isdir(\"For Print\")\n",
    "b = os.path.isfile (\"XYZ\")\n",
    "print (a)\n",
    "print (b)"
   ]
  },
  {
   "cell_type": "code",
   "execution_count": 39,
   "metadata": {},
   "outputs": [
    {
     "name": "stdout",
     "output_type": "stream",
     "text": [
      "Using the os.path.isfile(file)\n",
      "\n",
      "guru99.txt\n",
      "File Exists\n",
      "\n",
      "guru89.txt\n",
      "File Not Found\n"
     ]
    }
   ],
   "source": [
    "# pathlibPath.exists() For Python 3.4\n",
    "# Python 3.4 and above versions have pathlib Module \n",
    "# for handling with file system path. It used object-oriented \n",
    "# approach to check if file exist or not.\n",
    "print (\"Using the os.path.isfile(file)\")\n",
    "# We can use the isfile command to check whether a given \n",
    "# input is a file or directory\n",
    "import pathlib\n",
    "file_1 = pathlib.Path(\"guru99.txt\")\n",
    "file_2 = pathlib.Path(\"guru89.txt\")\n",
    "print()\n",
    "print (\"guru99.txt\")\n",
    "if file_1.exists():\n",
    "    print (\"File Exists\")\n",
    "else:\n",
    "    print (\"File Not Found\")\n",
    "print ()\n",
    "print (\"guru89.txt\")\n",
    "if file_2.exists():\n",
    "    print (\"File Exists\")\n",
    "else:\n",
    "    print (\"File Not Found\")"
   ]
  },
  {
   "cell_type": "code",
   "execution_count": 41,
   "metadata": {},
   "outputs": [
    {
     "ename": "AttributeError",
     "evalue": "module 'os' has no attribute 'fileno'",
     "output_type": "error",
     "traceback": [
      "\u001b[1;31m---------------------------------------------------------------------------\u001b[0m",
      "\u001b[1;31mAttributeError\u001b[0m                            Traceback (most recent call last)",
      "\u001b[1;32m<ipython-input-41-e448d82422f7>\u001b[0m in \u001b[0;36m<module>\u001b[1;34m\u001b[0m\n\u001b[0;32m      2\u001b[0m \u001b[1;31m# Returns an integer number (file descriptor) of the file.\u001b[0m\u001b[1;33m\u001b[0m\u001b[1;33m\u001b[0m\u001b[1;33m\u001b[0m\u001b[0m\n\u001b[0;32m      3\u001b[0m \u001b[1;32mimport\u001b[0m \u001b[0mos\u001b[0m\u001b[1;33m\u001b[0m\u001b[1;33m\u001b[0m\u001b[0m\n\u001b[1;32m----> 4\u001b[1;33m \u001b[0ma\u001b[0m \u001b[1;33m=\u001b[0m \u001b[0mos\u001b[0m\u001b[1;33m.\u001b[0m\u001b[0mfileno\u001b[0m\u001b[1;33m(\u001b[0m\u001b[1;34m\"guru99.txt\"\u001b[0m\u001b[1;33m)\u001b[0m\u001b[1;33m\u001b[0m\u001b[1;33m\u001b[0m\u001b[0m\n\u001b[0m",
      "\u001b[1;31mAttributeError\u001b[0m: module 'os' has no attribute 'fileno'"
     ]
    }
   ],
   "source": [
    "# fileno()\n",
    "# Returns an integer number (file descriptor) of the file.\n",
    "import os\n",
    "a = os.fileno(\"guru99.txt\")"
   ]
  },
  {
   "cell_type": "code",
   "execution_count": 43,
   "metadata": {},
   "outputs": [],
   "source": [
    "# r+ Opens a file for both reading and writing. \n",
    "# The file pointer placed at the beginning of the file.\n",
    "\n",
    "# w+: Opens a file for both writing and reading. \n",
    "# Overwrites the existing file if the file exists. \n",
    "# If the file does not exist, creates a new file for \n",
    "# reading and writing\n",
    "\n",
    "# a+: Opens a file for both appending and reading. \n",
    "# The file pointer is at the end of the file if the \n",
    "# file exists. The file opens in the append mode. \n",
    "# If the file does not exist, it creates a new file \n",
    "# for reading and writing"
   ]
  },
  {
   "cell_type": "code",
   "execution_count": 45,
   "metadata": {},
   "outputs": [
    {
     "name": "stdout",
     "output_type": "stream",
     "text": [
      "Name of the file:  guru99.txt\n",
      "Closed or not :  False\n",
      "Opening mode :  r\n"
     ]
    }
   ],
   "source": [
    "# Other misc operators in File Handling\n",
    "fo = open(\"guru99.txt\", \"r\")\n",
    "print (\"Name of the file: \", fo.name)\n",
    "print (\"Closed or not : \", fo.closed)\n",
    "print (\"Opening mode : \", fo.mode)\n",
    "fo.close()"
   ]
  },
  {
   "cell_type": "markdown",
   "metadata": {},
   "source": [
    "# PIAIC\n",
    "## Video Lectures, Review Classes & Workshops"
   ]
  },
  {
   "cell_type": "markdown",
   "metadata": {},
   "source": [
    "•\tr: Opens the file in read-only mode. Starts reading from the beginning of the file and is the default mode for the open() function.\n",
    "\n",
    "•\tr+: Opens a file for reading and writing, placing the pointer at the beginning of the file.\n",
    "\n",
    "•\tw: Opens in write-only mode. The pointer is placed at the beginning of the file and this will overwrite any existing file with the same name. It will create a new file if one with the same name doesn't exist.\n",
    "\n",
    "•\tw+: Opens a file for writing and reading.\n",
    "\n",
    "•\ta: Opens a file for appending new information to it. The pointer is placed at the end of the file. A new file is created if one with the same name doesn't exist.\n",
    "\n",
    "•\ta+: Opens a file for both appending and reading."
   ]
  },
  {
   "cell_type": "code",
   "execution_count": 1,
   "metadata": {},
   "outputs": [
    {
     "name": "stdout",
     "output_type": "stream",
     "text": [
      "This is a test file. We wil read the file from python code.\n"
     ]
    }
   ],
   "source": [
    "file_name = \"testingdatafiles.txt\"\n",
    "with open (file_name, \"r\") as file:\n",
    "    contents = file.read()\n",
    "    print (contents)"
   ]
  },
  {
   "cell_type": "code",
   "execution_count": 4,
   "metadata": {},
   "outputs": [],
   "source": [
    "with open (file_name, \"w\") as file:\n",
    "    file.write (\"Hello Data Files\")\n",
    "# This will overwrite the original file"
   ]
  },
  {
   "cell_type": "code",
   "execution_count": 6,
   "metadata": {},
   "outputs": [],
   "source": [
    "with open (file_name, \"w\") as file:\n",
    "    file.write(\"This is Testing File.\")"
   ]
  },
  {
   "cell_type": "code",
   "execution_count": 7,
   "metadata": {},
   "outputs": [
    {
     "ename": "FileNotFoundError",
     "evalue": "[Errno 2] No such file or directory: 'nonExistFile.txt'",
     "output_type": "error",
     "traceback": [
      "\u001b[1;31m---------------------------------------------------------------------------\u001b[0m",
      "\u001b[1;31mFileNotFoundError\u001b[0m                         Traceback (most recent call last)",
      "\u001b[1;32m<ipython-input-7-722a931424cd>\u001b[0m in \u001b[0;36m<module>\u001b[1;34m\u001b[0m\n\u001b[1;32m----> 1\u001b[1;33m \u001b[1;32mwith\u001b[0m \u001b[0mopen\u001b[0m \u001b[1;33m(\u001b[0m\u001b[1;34m\"nonExistFile.txt\"\u001b[0m\u001b[1;33m,\u001b[0m \u001b[1;34m\"r\"\u001b[0m\u001b[1;33m)\u001b[0m \u001b[1;32mas\u001b[0m \u001b[0mfile\u001b[0m\u001b[1;33m:\u001b[0m\u001b[1;33m\u001b[0m\u001b[1;33m\u001b[0m\u001b[0m\n\u001b[0m\u001b[0;32m      2\u001b[0m     \u001b[0mcontents\u001b[0m \u001b[1;33m=\u001b[0m \u001b[0mfile\u001b[0m\u001b[1;33m.\u001b[0m\u001b[0mread\u001b[0m\u001b[1;33m(\u001b[0m\u001b[1;33m)\u001b[0m\u001b[1;33m\u001b[0m\u001b[1;33m\u001b[0m\u001b[0m\n\u001b[0;32m      3\u001b[0m     \u001b[0mprint\u001b[0m \u001b[1;33m(\u001b[0m\u001b[0mcontents\u001b[0m\u001b[1;33m)\u001b[0m\u001b[1;33m\u001b[0m\u001b[1;33m\u001b[0m\u001b[0m\n\u001b[0;32m      4\u001b[0m     \u001b[1;31m# This wil give error because there is no file\u001b[0m\u001b[1;33m\u001b[0m\u001b[1;33m\u001b[0m\u001b[1;33m\u001b[0m\u001b[0m\n",
      "\u001b[1;31mFileNotFoundError\u001b[0m: [Errno 2] No such file or directory: 'nonExistFile.txt'"
     ]
    }
   ],
   "source": [
    "with open (\"nonExistFile.txt\", \"r\") as file:\n",
    "    contents = file.read()\n",
    "    print (contents)\n",
    "    # This wil give error because there is no file"
   ]
  },
  {
   "cell_type": "code",
   "execution_count": 9,
   "metadata": {},
   "outputs": [],
   "source": [
    "with open (\"nonExistFile.txt\", \"w\") as file:\n",
    "    file.write (\"This file doesn't exist\")\n",
    "# with \"w\" you can create the file and write in that file"
   ]
  },
  {
   "cell_type": "code",
   "execution_count": 11,
   "metadata": {},
   "outputs": [],
   "source": [
    "with open (\"nonExistFile.txt\", \"a\") as file:\n",
    "    file.write (\"This file is writted in append mode\")\n",
    "# append will add the line above after the written lines"
   ]
  },
  {
   "cell_type": "markdown",
   "metadata": {},
   "source": [
    "## r+ & w+ mode"
   ]
  },
  {
   "cell_type": "code",
   "execution_count": 12,
   "metadata": {},
   "outputs": [
    {
     "ename": "FileNotFoundError",
     "evalue": "[Errno 2] No such file or directory: 'myNewFile.txt'",
     "output_type": "error",
     "traceback": [
      "\u001b[1;31m---------------------------------------------------------------------------\u001b[0m",
      "\u001b[1;31mFileNotFoundError\u001b[0m                         Traceback (most recent call last)",
      "\u001b[1;32m<ipython-input-12-ce0890c8f15c>\u001b[0m in \u001b[0;36m<module>\u001b[1;34m\u001b[0m\n\u001b[1;32m----> 1\u001b[1;33m \u001b[1;32mwith\u001b[0m \u001b[0mopen\u001b[0m \u001b[1;33m(\u001b[0m\u001b[1;34m\"myNewFile.txt\"\u001b[0m\u001b[1;33m,\u001b[0m \u001b[1;34m\"r+\"\u001b[0m\u001b[1;33m)\u001b[0m \u001b[1;32mas\u001b[0m \u001b[0mfile\u001b[0m\u001b[1;33m:\u001b[0m\u001b[1;33m\u001b[0m\u001b[1;33m\u001b[0m\u001b[0m\n\u001b[0m\u001b[0;32m      2\u001b[0m     \u001b[0mfile\u001b[0m\u001b[1;33m.\u001b[0m\u001b[0mwrite\u001b[0m \u001b[1;33m(\u001b[0m\u001b[1;34m\"This file doesn't exist\"\u001b[0m\u001b[1;33m)\u001b[0m\u001b[1;33m\u001b[0m\u001b[1;33m\u001b[0m\u001b[0m\n\u001b[0;32m      3\u001b[0m     \u001b[0mcontents\u001b[0m \u001b[1;33m=\u001b[0m \u001b[0mfile\u001b[0m\u001b[1;33m.\u001b[0m\u001b[0mread\u001b[0m\u001b[1;33m(\u001b[0m\u001b[1;33m)\u001b[0m\u001b[1;33m\u001b[0m\u001b[1;33m\u001b[0m\u001b[0m\n\u001b[0;32m      4\u001b[0m     \u001b[0mprint\u001b[0m \u001b[1;33m(\u001b[0m\u001b[0mcontents\u001b[0m\u001b[1;33m)\u001b[0m\u001b[1;33m\u001b[0m\u001b[1;33m\u001b[0m\u001b[0m\n",
      "\u001b[1;31mFileNotFoundError\u001b[0m: [Errno 2] No such file or directory: 'myNewFile.txt'"
     ]
    }
   ],
   "source": [
    "with open (\"myNewFile.txt\", \"r+\") as file:\n",
    "    file.write (\"This file doesn't exist\")\n",
    "    contents = file.read()\n",
    "    print (contents)\n",
    "# r+ mode will never create a file"
   ]
  },
  {
   "cell_type": "code",
   "execution_count": 16,
   "metadata": {},
   "outputs": [
    {
     "name": "stdout",
     "output_type": "stream",
     "text": [
      "\n"
     ]
    }
   ],
   "source": [
    "# w+ mode will never create a file\n",
    "with open (\"myNewFile.txt\", \"w+\") as file:\n",
    "    file.write (\"This file doesn't exist\")\n",
    "    contents = file.read()\n",
    "    print (f\"{contents}\")\n",
    "# print is not showing up because the cursor is at the end\n",
    "# In order to avoid this issue we will use seek"
   ]
  },
  {
   "cell_type": "code",
   "execution_count": 17,
   "metadata": {},
   "outputs": [
    {
     "name": "stdout",
     "output_type": "stream",
     "text": [
      "This file doesn't exist\n"
     ]
    }
   ],
   "source": [
    "with open (\"myNewFile.txt\", \"w+\") as file:\n",
    "    file.write (\"This file doesn't exist\")\n",
    "    file.seek(0)\n",
    "    contents = file.read()\n",
    "    print (f\"{contents}\")"
   ]
  },
  {
   "cell_type": "code",
   "execution_count": 24,
   "metadata": {},
   "outputs": [
    {
     "name": "stdout",
     "output_type": "stream",
     "text": [
      "This file doesn't existThis file doesn't existThis file doesn't existThis file doesn't existThis file doesn't existThis file doesn't exist\n"
     ]
    }
   ],
   "source": [
    "with open (\"myNewFile.txt\", \"r+\") as file:\n",
    "    file.write (\"This file doesn't exist\")\n",
    "    file.write (\"This file doesn't exist\")\n",
    "    file.write (\"This file doesn't exist\")\n",
    "    file.write (\"This file doesn't exist\")\n",
    "    file.write (\"This file doesn't exist\")\n",
    "    file.seek(0)\n",
    "    print (file.read())"
   ]
  },
  {
   "cell_type": "code",
   "execution_count": null,
   "metadata": {},
   "outputs": [],
   "source": []
  }
 ],
 "metadata": {
  "kernelspec": {
   "display_name": "Python 3",
   "language": "python",
   "name": "python3"
  },
  "language_info": {
   "codemirror_mode": {
    "name": "ipython",
    "version": 3
   },
   "file_extension": ".py",
   "mimetype": "text/x-python",
   "name": "python",
   "nbconvert_exporter": "python",
   "pygments_lexer": "ipython3",
   "version": "3.7.6"
  }
 },
 "nbformat": 4,
 "nbformat_minor": 4
}
