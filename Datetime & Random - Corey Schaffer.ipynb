{
 "cells": [
  {
   "cell_type": "code",
   "execution_count": 2,
   "metadata": {},
   "outputs": [
    {
     "name": "stdout",
     "output_type": "stream",
     "text": [
      "2020-07-26\n",
      "26\n",
      "2020\n",
      "7\n",
      "6\n",
      "7\n"
     ]
    }
   ],
   "source": [
    "import datetime\n",
    "tday = datetime.date.today()\n",
    "print (tday)\n",
    "print (tday.day)\n",
    "print (tday.year)\n",
    "print (tday.month)\n",
    "print (tday.weekday()) # Starts with Monday = 0\n",
    "print (tday.isoweekday()) # starts with Monday = 1"
   ]
  },
  {
   "cell_type": "code",
   "execution_count": 4,
   "metadata": {},
   "outputs": [
    {
     "name": "stdout",
     "output_type": "stream",
     "text": [
      "2020-08-02\n",
      "2020-07-19\n"
     ]
    }
   ],
   "source": [
    "import datetime\n",
    "tday = datetime.date.today()\n",
    "tdelta = datetime.timedelta(days=7)\n",
    "# One week from now\n",
    "print (tday + tdelta)\n",
    "# One week in past\n",
    "print (tday - tdelta)\n",
    "# If we add or subtract a date we get timedelta\n",
    "# date2 = date1 + timedelta\n",
    "# timedelata = date1 + date2"
   ]
  },
  {
   "cell_type": "code",
   "execution_count": 5,
   "metadata": {},
   "outputs": [
    {
     "name": "stdout",
     "output_type": "stream",
     "text": [
      "60 days, 0:00:00\n",
      "60\n",
      "5184000.0\n"
     ]
    }
   ],
   "source": [
    "# How many days from birthday\n",
    "tday = datetime.date.today()\n",
    "bday = datetime.date(2020, 9, 24)\n",
    "till_bday = bday - tday\n",
    "print (till_bday)\n",
    "print (till_bday.days)\n",
    "print (till_bday.total_seconds())"
   ]
  },
  {
   "cell_type": "code",
   "execution_count": 8,
   "metadata": {},
   "outputs": [
    {
     "name": "stdout",
     "output_type": "stream",
     "text": [
      "07:58:58.013132\n"
     ]
    }
   ],
   "source": [
    "# Datetime.date works with date\n",
    "# Datetime.time works with hours, min, seconds, mircoseconds\n",
    "import datetime\n",
    "t = datetime.time(7,58,58,13132)\n",
    "print (t)"
   ]
  },
  {
   "cell_type": "code",
   "execution_count": 13,
   "metadata": {},
   "outputs": [
    {
     "name": "stdout",
     "output_type": "stream",
     "text": [
      "2016-07-26 12:30:45.010000\n",
      "2016-07-26\n",
      "12:30:45.010000\n",
      "2016\n",
      "7\n"
     ]
    }
   ],
   "source": [
    "import datetime\n",
    "#datetime.datetime works with both\n",
    "dt = datetime.datetime (2016,7,26,12,30,45,10000)\n",
    "print (dt)\n",
    "print (dt.date())\n",
    "print (dt.time())\n",
    "print (dt.year)\n",
    "print (dt.month)\n"
   ]
  },
  {
   "cell_type": "code",
   "execution_count": 14,
   "metadata": {},
   "outputs": [
    {
     "name": "stdout",
     "output_type": "stream",
     "text": [
      "2016-08-02 12:30:45.010000\n",
      "2016-07-27 00:30:45.010000\n"
     ]
    }
   ],
   "source": [
    "tdelta = datetime.timedelta(days=7)\n",
    "print (dt+tdelta)  # one week from now\n",
    "tdelta = datetime.timedelta(hours=12)\n",
    "print (dt+tdelta)  # 12 hours from dt  "
   ]
  },
  {
   "cell_type": "code",
   "execution_count": 15,
   "metadata": {},
   "outputs": [
    {
     "name": "stdout",
     "output_type": "stream",
     "text": [
      "2020-07-26 20:02:32.038358\n",
      "2020-07-26 20:02:32.038357\n",
      "2020-07-26 15:02:32.038357\n"
     ]
    }
   ],
   "source": [
    "dt_today = datetime.datetime.today()\n",
    "dt_now = datetime.datetime.now()\n",
    "# The above two are same \n",
    "# .today works with local time\n",
    "# .now gives us the option of adding timezone\n",
    "dt_utcnow = datetime.datetime.utcnow()\n",
    "# utctime \n",
    "print (dt_today)\n",
    "print(dt_now)\n",
    "print (dt_utcnow)"
   ]
  },
  {
   "cell_type": "code",
   "execution_count": 10,
   "metadata": {},
   "outputs": [
    {
     "name": "stdout",
     "output_type": "stream",
     "text": [
      "July 26, 2020\n"
     ]
    }
   ],
   "source": [
    "import datetime\n",
    "tday = datetime.datetime.now()\n",
    "print(tday.strftime(\"%B %d, %Y\"))"
   ]
  },
  {
   "cell_type": "code",
   "execution_count": 11,
   "metadata": {},
   "outputs": [
    {
     "name": "stdout",
     "output_type": "stream",
     "text": [
      "2020-07-26 00:00:00\n"
     ]
    }
   ],
   "source": [
    "# converting string to datetime\n",
    "dt_str = \"July 26, 2020\"\n",
    "dt = datetime.datetime.strptime(dt_str,\"%B %d, %Y\")\n",
    "print (dt)"
   ]
  },
  {
   "cell_type": "code",
   "execution_count": 12,
   "metadata": {},
   "outputs": [],
   "source": [
    "#strftime = converts time to string\n",
    "#strptime = converts string to time"
   ]
  },
  {
   "cell_type": "code",
   "execution_count": 22,
   "metadata": {},
   "outputs": [
    {
     "name": "stdout",
     "output_type": "stream",
     "text": [
      "2020-08-01 4554.17\n",
      "2020-09-01 4103.51\n",
      "2020-10-01 3647.96\n",
      "2020-11-01 3187.48\n",
      "2020-12-01 2722.01\n",
      "2021-01-01 2251.5\n",
      "2021-02-01 1775.89\n",
      "2021-03-01 1295.13\n",
      "2021-04-01 809.16\n",
      "2021-05-01 317.93\n",
      "2021-06-01 0\n"
     ]
    }
   ],
   "source": [
    "import datetime\n",
    "import calendar\n",
    "balance = 5000\n",
    "interest_rate = 13 * .01\n",
    "monthly_payment = 500\n",
    "today = datetime.date.today()\n",
    "days_in_current_month = calendar.monthrange(today.year, today.month)\n",
    "days_in_current_month = days_in_current_month[1]\n",
    "days_till_end_month = days_in_current_month - today.day\n",
    "\n",
    "start_date = today + datetime.timedelta (days=days_till_end_month+1)\n",
    "end_date = start_date\n",
    "\n",
    "while balance > 0:\n",
    "    interest_charge = (interest_rate/12)*balance\n",
    "    balance += interest_charge\n",
    "    balance -= monthly_payment\n",
    "    balance = round(balance,2)\n",
    "    if balance < 0:\n",
    "        balance = 0\n",
    "#     balance = 0 if balance < 0 else round (balance,2)\n",
    "    print (end_date, balance)\n",
    "    days_in_current_month = calendar.monthrange(end_date.year, end_date.month)\n",
    "    days_in_current_month = days_in_current_month[1]\n",
    "    end_date = end_date + datetime.timedelta (days=days_in_current_month)"
   ]
  },
  {
   "cell_type": "code",
   "execution_count": 24,
   "metadata": {},
   "outputs": [
    {
     "name": "stdout",
     "output_type": "stream",
     "text": [
      "0.4025596157294512\n",
      "0.8977545554808126\n",
      "0.12747604715521255\n",
      "0.014198736723793903\n",
      "0.1756089693348334\n",
      "0.5046504988250043\n",
      "0.2489301894604783\n",
      "0.7138151706438637\n",
      "0.23219759919329896\n",
      "0.42351394453743285\n"
     ]
    }
   ],
   "source": [
    "import random\n",
    "# Print all values from 0 to 1\n",
    "a = 0\n",
    "while a <10:\n",
    "    print (random.random())\n",
    "    a += 1"
   ]
  },
  {
   "cell_type": "code",
   "execution_count": 25,
   "metadata": {},
   "outputs": [
    {
     "name": "stdout",
     "output_type": "stream",
     "text": [
      "4.560257865937223\n",
      "8.239366774027259\n",
      "8.196231002498276\n",
      "3.5519713449828068\n",
      "7.070907076043252\n",
      "4.237519514187408\n",
      "3.6080590165685833\n",
      "7.056095771434184\n",
      "2.218637179170376\n",
      "8.397056158466857\n"
     ]
    }
   ],
   "source": [
    "import random\n",
    "# Print random floating points value from 1 to 10\n",
    "a = 0\n",
    "while a <10:\n",
    "    print (random.uniform(1,10))\n",
    "    a += 1"
   ]
  },
  {
   "cell_type": "code",
   "execution_count": 26,
   "metadata": {},
   "outputs": [
    {
     "name": "stdout",
     "output_type": "stream",
     "text": [
      "1\n",
      "3\n",
      "4\n",
      "4\n",
      "5\n",
      "2\n"
     ]
    }
   ],
   "source": [
    "import random\n",
    "# random int\n",
    "a = 0\n",
    "while a <= 5:\n",
    "    value = random.randint(1,6) # from 1 to 6 (6 included)\n",
    "    print (value)\n",
    "    a += 1"
   ]
  },
  {
   "cell_type": "code",
   "execution_count": 31,
   "metadata": {},
   "outputs": [
    {
     "name": "stdout",
     "output_type": "stream",
     "text": [
      "Hello Shahid!\n"
     ]
    }
   ],
   "source": [
    "import random\n",
    "# random number, str from list\n",
    "# will return only one value\n",
    "greetings = [\"Hello\", \"Hi\", \"Welcome\", \"Hey\", \"Hola\"]\n",
    "value = random.choice(greetings)\n",
    "print (value+\" Shahid!\")"
   ]
  },
  {
   "cell_type": "code",
   "execution_count": 35,
   "metadata": {},
   "outputs": [
    {
     "name": "stdout",
     "output_type": "stream",
     "text": [
      "['Black', 'Red', 'Green', 'Red', 'Black', 'Black', 'Red', 'Black', 'Red', 'Black']\n",
      "['Black', 'Red', 'Red', 'Black', 'Black', 'Black', 'Red', 'Black', 'Black', 'Black']\n"
     ]
    }
   ],
   "source": [
    "import random\n",
    "# random.choices will help in choosing from a list \"k\" no. of times\n",
    "# k - you can say is no. of spins\n",
    "colors = [\"Red\",\"Black\",\"Green\"]\n",
    "results = random.choices(colors, k=10)\n",
    "print (results)\n",
    "# You can also assign weights the choices in selection as a list\n",
    "results = random.choices(colors, weights= [18,18,2], k=10)\n",
    "print (results)"
   ]
  },
  {
   "cell_type": "code",
   "execution_count": 41,
   "metadata": {},
   "outputs": [
    {
     "name": "stdout",
     "output_type": "stream",
     "text": [
      "[1, 2, 3, 4, 5, 6, 7, 8, 9, 10, 11, 12, 13, 14, 15, 16, 17, 18, 19, 20, 21, 22, 23, 24, 25, 26, 27, 28, 29, 30, 31, 32, 33, 34, 35, 36, 37, 38, 39, 40, 41, 42, 43, 44, 45, 46, 47, 48, 49, 50, 51, 52]\n"
     ]
    }
   ],
   "source": [
    "import random\n",
    "deck = list (range(1,53))\n",
    "print (deck)"
   ]
  },
  {
   "cell_type": "code",
   "execution_count": 44,
   "metadata": {},
   "outputs": [
    {
     "name": "stdout",
     "output_type": "stream",
     "text": [
      "[13, 40, 27, 32, 43, 12, 23, 52, 50, 22, 39, 16, 9, 49, 25, 35, 33, 36, 37, 2, 51, 4, 38, 18, 45, 5, 14, 6, 31, 42, 10, 8, 41, 48, 1, 15, 34, 28, 19, 26, 30, 24, 3, 44, 7, 17, 11, 29, 20, 21, 46, 47]\n"
     ]
    }
   ],
   "source": [
    "# for Shuffle\n",
    "random.shuffle(deck)\n",
    "print (deck)"
   ]
  },
  {
   "cell_type": "code",
   "execution_count": 45,
   "metadata": {},
   "outputs": [
    {
     "name": "stdout",
     "output_type": "stream",
     "text": [
      "[43, 33, 2, 38, 30]\n"
     ]
    }
   ],
   "source": [
    "# For getting 05 cards at random (unique)\n",
    "hand = random.sample(deck,5)\n",
    "print (hand)"
   ]
  },
  {
   "cell_type": "code",
   "execution_count": 46,
   "metadata": {},
   "outputs": [
    {
     "ename": "SyntaxError",
     "evalue": "invalid syntax (<ipython-input-46-b51587a72e89>, line 1)",
     "output_type": "error",
     "traceback": [
      "\u001b[1;36m  File \u001b[1;32m\"<ipython-input-46-b51587a72e89>\"\u001b[1;36m, line \u001b[1;32m1\u001b[0m\n\u001b[1;33m    -m pydoc pow\u001b[0m\n\u001b[1;37m           ^\u001b[0m\n\u001b[1;31mSyntaxError\u001b[0m\u001b[1;31m:\u001b[0m invalid syntax\n"
     ]
    }
   ],
   "source": [
    "-m pydoc pow"
   ]
  },
  {
   "cell_type": "code",
   "execution_count": null,
   "metadata": {},
   "outputs": [],
   "source": []
  }
 ],
 "metadata": {
  "kernelspec": {
   "display_name": "Python 3",
   "language": "python",
   "name": "python3"
  },
  "language_info": {
   "codemirror_mode": {
    "name": "ipython",
    "version": 3
   },
   "file_extension": ".py",
   "mimetype": "text/x-python",
   "name": "python",
   "nbconvert_exporter": "python",
   "pygments_lexer": "ipython3",
   "version": "3.7.6"
  }
 },
 "nbformat": 4,
 "nbformat_minor": 4
}
