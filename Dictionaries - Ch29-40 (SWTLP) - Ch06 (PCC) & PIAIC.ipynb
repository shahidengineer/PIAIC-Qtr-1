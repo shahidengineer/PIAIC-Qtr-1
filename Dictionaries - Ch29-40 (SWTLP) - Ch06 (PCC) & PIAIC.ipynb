{
 "cells": [
  {
   "cell_type": "markdown",
   "metadata": {},
   "source": [
    "# DICTIONARIES - PCC"
   ]
  },
  {
   "cell_type": "code",
   "execution_count": 1,
   "metadata": {},
   "outputs": [],
   "source": [
    "# Dictionary (Dict) is a key:value pair\n",
    "# You can add limitless information in Dictionary\n",
    "# Dictionary are mutable i.e. you can change the entries\n",
    "# Dictionaries are always written in curly brackets {}"
   ]
  },
  {
   "cell_type": "code",
   "execution_count": 2,
   "metadata": {},
   "outputs": [
    {
     "name": "stdout",
     "output_type": "stream",
     "text": [
      "{'color': 'green', 'points': 5}\n"
     ]
    }
   ],
   "source": [
    "# Creating Dictionary\n",
    "dict_a = {\"color\":\"green\", \"points\":5}\n",
    "# strings are bound to be in \"\" and integers without it\n",
    "print (dict_a)"
   ]
  },
  {
   "cell_type": "code",
   "execution_count": 3,
   "metadata": {},
   "outputs": [
    {
     "data": {
      "text/plain": [
       "dict_keys(['name', 'age', 'gender'])"
      ]
     },
     "execution_count": 3,
     "metadata": {},
     "output_type": "execute_result"
    }
   ],
   "source": [
    "# Accessing Keys in dictionary\n",
    "# dict_name.keys ()\n",
    "dict_c = {\"name\":\"Shahid\",\"age\":35, \"gender\":\"male\"}\n",
    "dict_c.keys()\n",
    "# This function will display all the keys in the dictionary"
   ]
  },
  {
   "cell_type": "code",
   "execution_count": 4,
   "metadata": {},
   "outputs": [
    {
     "data": {
      "text/plain": [
       "dict_values(['Shahid', 35, 'male'])"
      ]
     },
     "execution_count": 4,
     "metadata": {},
     "output_type": "execute_result"
    }
   ],
   "source": [
    "# Accessing Values in dictionary\n",
    "# dict_name.values()\n",
    "dict_c = {\"name\":\"Shahid\",\"age\":35, \"gender\":\"male\"}\n",
    "dict_c.values()"
   ]
  },
  {
   "cell_type": "code",
   "execution_count": 41,
   "metadata": {},
   "outputs": [
    {
     "name": "stdout",
     "output_type": "stream",
     "text": [
      "green\n",
      "Congratulations you have earned 5 points.\n",
      "\n",
      "green\n"
     ]
    }
   ],
   "source": [
    "# Accessing values in Dictionary\n",
    "dict_a = {\"color\":\"green\", \"points\":5}\n",
    "print (dict_a[\"color\"])\n",
    "# Unlike sets you cannot use index numbers in dictionary\n",
    "# Say a player hits green then he gets 05 points\n",
    "points = dict_a[\"points\"]\n",
    "print (f\"Congratulations you have earned {points} points.\")\n",
    "print()\n",
    "print (dict_a.get(\"color\"))"
   ]
  },
  {
   "cell_type": "code",
   "execution_count": 6,
   "metadata": {},
   "outputs": [
    {
     "name": "stdout",
     "output_type": "stream",
     "text": [
      "35\n",
      "None\n"
     ]
    }
   ],
   "source": [
    "# Accessing values in Dictionary\n",
    "# Using dict_name.get(key)\n",
    "# This will get you the value (if present) corresponding to the key\n",
    "dict_b = {\"name\":\"Shahid\",\"age\":35, \"gender\":\"male\", \"name\":\"Iqbal\"} \n",
    "print (dict_b.get(\"age\")) # This will return 35\n",
    "print (dict_b.get(\"study\")) # This will return none"
   ]
  },
  {
   "cell_type": "code",
   "execution_count": 7,
   "metadata": {},
   "outputs": [
    {
     "name": "stdout",
     "output_type": "stream",
     "text": [
      "{'color': 'green', 'points': 5, 'x_pos': 0, 'y-pos': 25}\n",
      "4\n"
     ]
    }
   ],
   "source": [
    "# Adding new key:value pairs in dictionary\n",
    "# dict_name[key] = value\n",
    "dict_a [\"x_pos\"] = 0\n",
    "dict_a [\"y-pos\"] = 25\n",
    "print (dict_a)\n",
    "print (len(dict_a))\n",
    "# finding length of dictionary"
   ]
  },
  {
   "cell_type": "code",
   "execution_count": 8,
   "metadata": {},
   "outputs": [
    {
     "name": "stdout",
     "output_type": "stream",
     "text": [
      "{'color': 'yellow', 'points': 5, 'x_pos': 0, 'y-pos': 25}\n"
     ]
    }
   ],
   "source": [
    "# Modifying Dictionary\n",
    "# dict_name [key] = value\n",
    "dict_a [\"color\"]=\"yellow\"\n",
    "print (dict_a)"
   ]
  },
  {
   "cell_type": "code",
   "execution_count": 9,
   "metadata": {},
   "outputs": [
    {
     "name": "stdout",
     "output_type": "stream",
     "text": [
      "Original x-position: 0\n",
      "New x-position: 2\n",
      "{'x_position': 2, 'y_position': 25, 'speed': 'medium'}\n"
     ]
    }
   ],
   "source": [
    "# Using conditions in dictionary\n",
    "alien_0 = {'x_position': 0, 'y_position': 25, 'speed': 'medium'}\n",
    "print(\"Original x-position: \" + str(alien_0['x_position']))\n",
    "# Move the alien to the right.\n",
    "# Determine how far to move the alien based on its current speed.\n",
    "if alien_0['speed'] == 'slow':\n",
    "    x_increment = 1\n",
    "elif alien_0['speed'] == 'medium':\n",
    "    x_increment = 2\n",
    "else: # This must be a fast alien.\n",
    "    x_increment = 3\n",
    "# The new position is the old position plus the increment.\n",
    "alien_0['x_position'] = alien_0['x_position'] + x_increment\n",
    "# You can add and subtract integers in the dictionary as required\n",
    "print(\"New x-position: \" + str(alien_0['x_position']))\n",
    "print (alien_0)"
   ]
  },
  {
   "cell_type": "code",
   "execution_count": 10,
   "metadata": {},
   "outputs": [
    {
     "name": "stdout",
     "output_type": "stream",
     "text": [
      "This is the early data {'x': 0, 'y': 25, 'speed': 'fast'}.\n",
      "-------------------------------\n",
      "Thw new position of x is 25.\n",
      "This is the new data {'x': 25, 'y': 25, 'speed': 'fast'}.\n"
     ]
    }
   ],
   "source": [
    "# Using if, elif & else in dictionaries\n",
    "data = {\"x\": 0, \"y\" : 25, \"speed\":\"fast\"}\n",
    "print (f\"This is the early data {data}.\")\n",
    "print (\"-------------------------------\")\n",
    "if data[\"speed\"]==\"slow\":\n",
    "    x_new = 5\n",
    "elif data[\"speed\"]==\"medium\":\n",
    "    x_new = 10\n",
    "else:\n",
    "    x_new = 25\n",
    "data[\"x\"] = data[\"x\"] + x_new\n",
    "inc = data[\"x\"]\n",
    "print (f\"Thw new position of x is {inc}.\")\n",
    "print (f\"This is the new data {data}.\")"
   ]
  },
  {
   "cell_type": "code",
   "execution_count": 11,
   "metadata": {},
   "outputs": [
    {
     "name": "stdout",
     "output_type": "stream",
     "text": [
      "This is the early data {'x': 0, 'y': 25, 'speed': 'fast'}.\n",
      "This is the new data {'x': 0, 'speed': 'fast'}.\n"
     ]
    }
   ],
   "source": [
    "# Removing key:values in dict\n",
    "# del dict_name[key]\n",
    "data = {\"x\": 0, \"y\" : 25, \"speed\":\"fast\"}\n",
    "print (f\"This is the early data {data}.\")\n",
    "del data [\"y\"]\n",
    "print (f\"This is the new data {data}.\")"
   ]
  },
  {
   "cell_type": "code",
   "execution_count": 12,
   "metadata": {},
   "outputs": [
    {
     "name": "stdout",
     "output_type": "stream",
     "text": [
      "This is the early data {'x': 0, 'y': 25, 'speed': 'fast'}.\n",
      "The removed key is 25\n",
      "This is the new data {'x': 0, 'speed': 'fast'}.\n"
     ]
    }
   ],
   "source": [
    "# Removing key:values in dict\n",
    "# dict_name.pop[key]\n",
    "data = {\"x\": 0, \"y\" : 25, \"speed\":\"fast\"}\n",
    "print (f\"This is the early data {data}.\")\n",
    "rem_key = data.pop(\"y\")\n",
    "print (\"The removed key is \" + str(rem_key))\n",
    "print (f\"This is the new data {data}.\")"
   ]
  },
  {
   "cell_type": "code",
   "execution_count": 13,
   "metadata": {},
   "outputs": [
    {
     "name": "stdout",
     "output_type": "stream",
     "text": [
      "{}\n"
     ]
    }
   ],
   "source": [
    "# Removing Items in dictionary\n",
    "# dict_name.clear()\n",
    "# This command deletes all the keys:values in the dictionary\n",
    "dict_b = {\"name\":\"Shahid\",\"age\":35, \"gender\":\"male\", \"name\":\"Iqbal\"} \n",
    "dict_b.clear()\n",
    "print (dict_b)"
   ]
  },
  {
   "cell_type": "code",
   "execution_count": 14,
   "metadata": {},
   "outputs": [
    {
     "name": "stdout",
     "output_type": "stream",
     "text": [
      "{'jen': 'python', 'sarah': 'c', 'edward': 'ruby', 'phil': 'python'}\n",
      "The favourite language of Sarah is C\n"
     ]
    }
   ],
   "source": [
    "# Dictionary of similar objects\n",
    "fav_lang = {\n",
    "'jen': 'python',\n",
    "'sarah': 'c',\n",
    "'edward': 'ruby',\n",
    "'phil': 'python',\n",
    "}\n",
    "print (fav_lang)\n",
    "print (\"The favourite language of Sarah is \"+ str(fav_lang[\"sarah\"].title()))"
   ]
  },
  {
   "cell_type": "code",
   "execution_count": 15,
   "metadata": {},
   "outputs": [],
   "source": [
    "# Dicitionary of similar keys\n",
    "dict_b = {\"name\":\"Shahid\",\"age\":35, \"gender\":\"male\", \"name\":\"Iqbal\"} "
   ]
  },
  {
   "cell_type": "code",
   "execution_count": 16,
   "metadata": {},
   "outputs": [
    {
     "name": "stdout",
     "output_type": "stream",
     "text": [
      "{'name': 'Iqbal', 'age': 35, 'gender': 'male'}\n"
     ]
    }
   ],
   "source": [
    "print (dict_b)\n",
    "# Dictionary cannot have similar keys but can have similar multiple values"
   ]
  },
  {
   "cell_type": "code",
   "execution_count": 18,
   "metadata": {},
   "outputs": [
    {
     "name": "stdout",
     "output_type": "stream",
     "text": [
      "{'name': 'Shahid', 'age': 35, 'gender': 'male'}\n",
      "\n",
      " dict_items([('name', 'Shahid'), ('age', 35), ('gender', 'male')])\n",
      "\n",
      "Deleting Age Key\n",
      "new dictionary {'name': 'Shahid', 'gender': 'male'}\n",
      "dict_items([('name', 'Shahid'), ('gender', 'male')])\n",
      "\n",
      "While items are copied from dictionary, \n",
      "any change in dictionary will make changes in the tuples as well\n"
     ]
    }
   ],
   "source": [
    "# Converting key:values in tuples from dictionary\n",
    "# the function used witll dict_name.items()\n",
    "dict_c = {\"name\":\"Shahid\",\"age\":35, \"gender\":\"male\"}\n",
    "print (dict_c)\n",
    "items = dict_c.items()\n",
    "# items will always be printed as dict_items\n",
    "print (\"\\n\",items)\n",
    "print (\"\\nDeleting Age Key\")\n",
    "del dict_c[\"age\"]\n",
    "print (\"new dictionary\", dict_c)\n",
    "print (items)\n",
    "print (\"\\nWhile items are copied from dictionary, \\nany change in dictionary will make changes in the tuples as well\")"
   ]
  },
  {
   "cell_type": "code",
   "execution_count": 21,
   "metadata": {},
   "outputs": [
    {
     "name": "stdout",
     "output_type": "stream",
     "text": [
      "Dict_c = {'name': 'Shahid', 'age': 35, 'gender': 'male'}\n",
      "Dict_x = {'name': 'Shahid', 'age': 35, 'gender': 'male'}\n",
      "\n",
      "After deleting age key:\n",
      "Dict_c = {'name': 'Shahid', 'age': 35, 'gender': 'male', 'subject': 'python'}\n",
      "Dict_x = {'name': 'Shahid', 'age': 35, 'gender': 'male'}\n"
     ]
    }
   ],
   "source": [
    "# Copying Dictionaries\n",
    "# Copying by value - new dict will copy elements from the \n",
    "# other dict by dict_new=dict_old.copy()\n",
    "# any further changes in the dictionary will not have any impact\n",
    "# on the new dictionary\n",
    "dict_c = {\"name\":\"Shahid\",\"age\":35, \"gender\":\"male\"}\n",
    "dict_x = dict_c.copy()\n",
    "print (f\"Dict_c = {dict_c}\")\n",
    "print (f\"Dict_x = {dict_x}\")\n",
    "dict_c[\"subject\"]=\"python\"\n",
    "print ()\n",
    "print (\"After deleting age key:\")\n",
    "print (f\"Dict_c = {dict_c}\")\n",
    "print (f\"Dict_x = {dict_x}\")"
   ]
  },
  {
   "cell_type": "code",
   "execution_count": 22,
   "metadata": {},
   "outputs": [
    {
     "name": "stdout",
     "output_type": "stream",
     "text": [
      "Dict_c = {'name': 'Shahid', 'age': 35, 'gender': 'male'}\n",
      "Dict_x = {'name': 'Shahid', 'age': 35, 'gender': 'male'}\n",
      "\n",
      "After deleting age key:\n",
      "Dict_c = {'name': 'Shahid', 'age': 35, 'gender': 'male', 'subject': 'python'}\n",
      "Dict_x = {'name': 'Shahid', 'age': 35, 'gender': 'male', 'subject': 'python'}\n"
     ]
    }
   ],
   "source": [
    "# Copying Dictionaries\n",
    "# Copying by refernce new_dict = old_dict\n",
    "# Any changes in the old dict will reflect in new one\n",
    "dict_c = {\"name\":\"Shahid\",\"age\":35, \"gender\":\"male\"}\n",
    "dict_x = dict_c\n",
    "print (f\"Dict_c = {dict_c}\")\n",
    "print (f\"Dict_x = {dict_x}\")\n",
    "dict_c[\"subject\"]=\"python\"\n",
    "print ()\n",
    "print (\"After deleting age key:\")\n",
    "print (f\"Dict_c = {dict_c}\")\n",
    "print (f\"Dict_x = {dict_x}\")"
   ]
  },
  {
   "cell_type": "code",
   "execution_count": 6,
   "metadata": {},
   "outputs": [
    {
     "name": "stdout",
     "output_type": "stream",
     "text": [
      "Dictionary.fromkeys without values.\n",
      " {'name': None, 'age': None, 'gender': None}\n",
      "\n",
      "Dictionary.fromkeys with values.\n",
      " {'name': ('Shahid', 'Iqbal'), 'age': ('Shahid', 'Iqbal'), 'gender': ('Shahid', 'Iqbal')}\n"
     ]
    }
   ],
   "source": [
    "# Creating Dictionary using the keys & values\n",
    "# Dictionary with Tuples\n",
    "key_a = [\"name\",\"age\", \"gender\"]\n",
    "dict_a = dict.fromkeys(key_a)\n",
    "print (\"Dictionary.fromkeys without values.\\n\", dict_a)\n",
    "print ()\n",
    "value_a = \"Shahid\", \"Iqbal\"\n",
    "dict_a = dict.fromkeys(key_a, value_a)\n",
    "print (\"Dictionary.fromkeys with values.\\n\", dict_a)"
   ]
  },
  {
   "cell_type": "code",
   "execution_count": 4,
   "metadata": {},
   "outputs": [
    {
     "name": "stdout",
     "output_type": "stream",
     "text": [
      "Dictionary.fromkeys without values.\n",
      " {'name': None, 'age': None, 'gender': None}\n",
      "\n",
      "Dictionary.fromkeys with values.\n",
      " {'name': 'Shahid', 'age': 'Shahid', 'gender': 'Shahid'}\n"
     ]
    }
   ],
   "source": [
    "# Creating Dictionary using the keys & values\n",
    "# Dictionary with single element variable\n",
    "key_a = [\"name\",\"age\", \"gender\"]\n",
    "dict_a = dict.fromkeys(key_a)\n",
    "print (\"Dictionary.fromkeys without values.\\n\", dict_a)\n",
    "print ()\n",
    "value_a = \"Shahid\"\n",
    "dict_a = dict.fromkeys(key_a, value_a)\n",
    "print (\"Dictionary.fromkeys with values.\\n\", dict_a)"
   ]
  },
  {
   "cell_type": "code",
   "execution_count": 5,
   "metadata": {},
   "outputs": [
    {
     "name": "stdout",
     "output_type": "stream",
     "text": [
      "Dictionary.fromkeys without values.\n",
      " {'name': None, 'age': None, 'gender': None}\n",
      "\n",
      "Dictionary.fromkeys with values.\n",
      " {'name': ['Shahid'], 'age': ['Shahid'], 'gender': ['Shahid']}\n",
      "\n",
      "Dictionary.fromkeys with values & after append.\n",
      " {'name': ['Shahid', 'Iqbal'], 'age': ['Shahid', 'Iqbal'], 'gender': ['Shahid', 'Iqbal']}\n"
     ]
    }
   ],
   "source": [
    "# Creating Dictionary using the keys & values\n",
    "# Dict with lists\n",
    "# Copy by Reference\n",
    "key_a = [\"name\",\"age\", \"gender\"]\n",
    "dict_a = dict.fromkeys(key_a)\n",
    "print (\"Dictionary.fromkeys without values.\\n\", dict_a)\n",
    "print ()\n",
    "value_a = [\"Shahid\"]\n",
    "dict_a = dict.fromkeys(key_a, value_a)\n",
    "print (\"Dictionary.fromkeys with values.\\n\", dict_a)\n",
    "value_a.append(\"Iqbal\")\n",
    "print ()\n",
    "print (\"Dictionary.fromkeys with values & after append.\\n\", dict_a)"
   ]
  },
  {
   "cell_type": "code",
   "execution_count": 2,
   "metadata": {},
   "outputs": [
    {
     "name": "stdout",
     "output_type": "stream",
     "text": [
      "['name', 'age', 'gender']\n",
      "['Shahid']\n",
      "{'name': ['Shahid'], 'age': ['Shahid'], 'gender': ['Shahid']}\n",
      "\n",
      "List Value_b after append\n",
      " ['Shahid', 'Iqbal']\n",
      "\n",
      "Dict_b after append\n",
      " {'name': ['Shahid'], 'age': ['Shahid'], 'gender': ['Shahid']}\n"
     ]
    }
   ],
   "source": [
    "# Creating Dictionary without fromkeys() and using for in commands\n",
    "# This will copy the values \"by VALUE\" and any changes in the\n",
    "# value will not change the dictionary at all\n",
    "# new_dict = {key:for list(value_list) for key in key_list}\n",
    "key_b = [\"name\",\"age\", \"gender\"]\n",
    "value_b = [\"Shahid\"]\n",
    "dict_b = {key : list(value_b) for key in key_b}\n",
    "print (key_b)\n",
    "print (value_b)\n",
    "print (dict_b)\n",
    "print()\n",
    "value_b.append(\"Iqbal\")\n",
    "print (\"List Value_b after append\\n\", value_b)\n",
    "print ()\n",
    "print (\"Dict_b after append\\n\", dict_b)"
   ]
  },
  {
   "cell_type": "code",
   "execution_count": 14,
   "metadata": {},
   "outputs": [
    {
     "name": "stdout",
     "output_type": "stream",
     "text": [
      "\n",
      "1 KEY:  Shahid\n",
      "VALUE: Python\n",
      "\n",
      "2 KEY:  Sajid\n",
      "VALUE: AI\n",
      "\n",
      "3 KEY:  Nida\n",
      "VALUE: Freelancing\n",
      "\n",
      "4 KEY:  Shagufta\n",
      "VALUE: Medical\n",
      "\n",
      "5 KEY:  Shoaib\n",
      "VALUE: Electronics\n",
      "\n",
      "6 KEY:  Asma\n",
      "VALUE: Dentistry\n"
     ]
    }
   ],
   "source": [
    "# LOOPING WITH DICTIONARIES\n",
    "# With keys and values combined\n",
    "dict_x = {\n",
    "    \"Shahid\":\"Python\",\n",
    "    \"Sajid\":\"AI\",\n",
    "    \"Nida\":\"Freelancing\",\n",
    "    \"Shagufta\":\"Medical\",\n",
    "    \"Shoaib\":\"Electronics\",\n",
    "    \"Asma\":\"Dentistry\"\n",
    "}\n",
    "a = 1\n",
    "# REMEMBER THE FORMULA HERE\n",
    "# it says run the loop for both key & value in dict_name.itmes() \n",
    "for key, value in dict_x.items():\n",
    "    print ()\n",
    "    print (a, \"KEY: \", key)\n",
    "    print (\"VALUE:\", value)\n",
    "    a += 1"
   ]
  },
  {
   "cell_type": "code",
   "execution_count": 19,
   "metadata": {},
   "outputs": [
    {
     "name": "stdout",
     "output_type": "stream",
     "text": [
      "\n",
      "KEY:  Shahid\n",
      "VALUE: Python\n",
      "\n",
      "KEY:  Sajid\n",
      "VALUE: AI\n",
      "\n",
      "KEY:  Nida\n",
      "VALUE: Freelancing\n",
      "\n",
      "KEY:  Shagufta\n",
      "VALUE: Medical\n",
      "\n",
      "KEY:  Shoaib\n",
      "VALUE: Electronics\n",
      "\n",
      "KEY:  Asma\n",
      "VALUE: Dentistry\n"
     ]
    }
   ],
   "source": [
    "# LOOPING WITH DICTIONARIES\n",
    "# With keys and values combined - Part 2\n",
    "dict_x = {\n",
    "    \"Shahid\":\"Python\",\n",
    "    \"Sajid\":\"AI\",\n",
    "    \"Nida\":\"Freelancing\",\n",
    "    \"Shagufta\":\"Medical\",\n",
    "    \"Shoaib\":\"Electronics\",\n",
    "    \"Asma\":\"Dentistry\"\n",
    "}\n",
    "a = 1\n",
    "# REMEMBER THE FORMULA HERE\n",
    "# you can use k & v instead of key & value in for loop\n",
    "# doing so you need to change the same in others as well\n",
    "for k, v in dict_x.items():\n",
    "    print ()\n",
    "    print (\"KEY: \", k)\n",
    "    print (\"VALUE:\", v)\n",
    "    a += 1"
   ]
  },
  {
   "cell_type": "code",
   "execution_count": 24,
   "metadata": {},
   "outputs": [
    {
     "name": "stdout",
     "output_type": "stream",
     "text": [
      "\n",
      "NAME:  SHAHID\n",
      "FAV. SUBJECT: PYTHON\n",
      "\n",
      "NAME:  SAJID\n",
      "FAV. SUBJECT: AI\n",
      "\n",
      "NAME:  NIDA\n",
      "FAV. SUBJECT: FREELANCING\n",
      "\n",
      "NAME:  SHAGUFTA\n",
      "FAV. SUBJECT: MEDICAL\n",
      "\n",
      "NAME:  SHOAIB\n",
      "FAV. SUBJECT: ELECTRONICS\n",
      "\n",
      "NAME:  ASMA\n",
      "FAV. SUBJECT: DENTISTRY\n"
     ]
    }
   ],
   "source": [
    "# LOOPING WITH DICTIONARIES\n",
    "# With keys and values combined - Part 3\n",
    "dict_x = {\n",
    "    \"Shahid\":\"Python\",\n",
    "    \"Sajid\":\"AI\",\n",
    "    \"Nida\":\"Freelancing\",\n",
    "    \"Shagufta\":\"Medical\",\n",
    "    \"Shoaib\":\"Electronics\",\n",
    "    \"Asma\":\"Dentistry\"\n",
    "}\n",
    "# REMEMBER THE FORMULA HERE\n",
    "# Here we changed the key & value with the actual classification of elements\n",
    "# The result will be the same\n",
    "for name, subject in dict_x.items():\n",
    "    print ()\n",
    "    print (\"NAME: \", name.upper())\n",
    "    print (\"FAV. SUBJECT:\", subject.upper())"
   ]
  },
  {
   "cell_type": "code",
   "execution_count": 30,
   "metadata": {},
   "outputs": [
    {
     "name": "stdout",
     "output_type": "stream",
     "text": [
      "dict_keys(['Shahid', 'Sajid', 'Nida', 'Shagufta', 'Shoaib', 'Asma'])\n",
      "Enter the name of the person: Shahid\n",
      "\n",
      "NAME:  SHAHID\n",
      "FAV. SUBJECT: PYTHON\n"
     ]
    }
   ],
   "source": [
    "# LOOPING WITH DICTIONARIES\n",
    "# With keys for specific element\n",
    "dict_x = {\n",
    "    \"Shahid\":\"Python\",\n",
    "    \"Sajid\":\"AI\",\n",
    "    \"Nida\":\"Freelancing\",\n",
    "    \"Shagufta\":\"Medical\",\n",
    "    \"Shoaib\":\"Electronics\",\n",
    "    \"Asma\":\"Dentistry\"\n",
    "}\n",
    "# REMEMBER THE FORMULA HERE\n",
    "# Here we changed the key & value with the actual classification of elements\n",
    "# The result will be the same\n",
    "print (dict_x.keys())\n",
    "var = str (input (\"Enter the name of the person: \"))\n",
    "var = var.title()\n",
    "for name, subject in dict_x.items():\n",
    "    if var in dict_x.keys():\n",
    "        break\n",
    "print ()\n",
    "print (\"NAME: \", name.upper())\n",
    "print (\"FAV. SUBJECT:\", subject.upper())"
   ]
  },
  {
   "cell_type": "code",
   "execution_count": 7,
   "metadata": {},
   "outputs": [
    {
     "name": "stdout",
     "output_type": "stream",
     "text": [
      "dict_values(['Python', 'Ai', 'Freelancing', 'Medical', 'Electronics', 'Dentistry'])\n",
      "Enter the name of the subject: ana\n",
      "Not Found\n"
     ]
    }
   ],
   "source": [
    "# LOOPING WITH DICTIONARIES\n",
    "# With values for specific element by user input\n",
    "dict_x = {\n",
    "    \"Shahid\":\"Python\",\n",
    "    \"Sajid\":\"Ai\",\n",
    "    \"Nida\":\"Freelancing\",\n",
    "    \"Shagufta\":\"Medical\",\n",
    "    \"Shoaib\":\"Electronics\",\n",
    "    \"Asma\":\"Dentistry\"\n",
    "}\n",
    "print (dict_x.values())\n",
    "var = str (input (\"Enter the name of the subject: \"))\n",
    "var = var.title()\n",
    "for key in dict_x.keys():\n",
    "    if dict_x[key] == var:\n",
    "        break\n",
    "if dict_x [key] != var:\n",
    "    print (\"Not Found\")\n",
    "else:\n",
    "    print ()\n",
    "    print (\"NAME: \", key.upper())\n",
    "    print (\"FAV. SUBJECT:\", dict_x[key])"
   ]
  },
  {
   "cell_type": "code",
   "execution_count": 12,
   "metadata": {},
   "outputs": [
    {
     "name": "stdout",
     "output_type": "stream",
     "text": [
      "\n",
      "List of keys:\n",
      " ['Shahid', 'Sajid', 'Nida', 'Shagufta', 'Shoaib', 'Asma']\n",
      "\n",
      "List of values:\n",
      " ['Python', 'Ai', 'Freelancing', 'Medical', 'Electronics', 'Dentistry']\n"
     ]
    }
   ],
   "source": [
    "# Converting Dictionary into lists of keys & values\n",
    "# IF CONDTIONS WITH DICTIONARIES\n",
    "# for Values for specific element by user input\n",
    "dict_x = {\n",
    "    \"Shahid\":\"Python\",\n",
    "    \"Sajid\":\"Ai\",\n",
    "    \"Nida\":\"Freelancing\",\n",
    "    \"Shagufta\":\"Medical\",\n",
    "    \"Shoaib\":\"Electronics\",\n",
    "    \"Asma\":\"Dentistry\"\n",
    "}\n",
    "key_list = list (dict_x.keys())\n",
    "val_list = list (dict_x.values())\n",
    "print (\"\\nList of keys:\\n\", key_list)\n",
    "print (\"\\nList of values:\\n\", val_list)"
   ]
  },
  {
   "cell_type": "code",
   "execution_count": 21,
   "metadata": {},
   "outputs": [
    {
     "name": "stdout",
     "output_type": "stream",
     "text": [
      "dict_values(['Python', 'Ai', 'Freelancing', 'Medical', 'Electronics', 'Dentistry'])\n",
      "Enter the name of the subject: sdkashdk\n",
      "Subject not found!\n"
     ]
    }
   ],
   "source": [
    "# IF CONDTIONS WITH DICTIONARIES\n",
    "# for Values for specific element by user input\n",
    "dict_x = {\n",
    "    \"Shahid\":\"Python\",\n",
    "    \"Sajid\":\"Ai\",\n",
    "    \"Nida\":\"Freelancing\",\n",
    "    \"Shagufta\":\"Medical\",\n",
    "    \"Shoaib\":\"Electronics\",\n",
    "    \"Asma\":\"Dentistry\"\n",
    "}\n",
    "print (dict_x.values())\n",
    "key_list = list (dict_x.keys())\n",
    "val_list = list (dict_x.values())\n",
    "var = str (input (\"Enter the name of the subject: \"))\n",
    "var = var.title()\n",
    "if var in val_list:\n",
    "    a = val_list.index(var)\n",
    "    print (\"\\nThe name of the subject you choose was\", val_list[a])\n",
    "    print (\"The Student name is\", key_list[val_list.index(var)])\n",
    "else:\n",
    "    print (\"Subject not found!\")"
   ]
  },
  {
   "cell_type": "code",
   "execution_count": 23,
   "metadata": {},
   "outputs": [
    {
     "name": "stdout",
     "output_type": "stream",
     "text": [
      "dict_keys(['Shahid', 'Sajid', 'Nida', 'Shagufta', 'Shoaib', 'Asma'])\n",
      "Enter the name of the student: Asma\n",
      "\n",
      "The name of the student you choose was Asma\n",
      "The subject name is Dentistry\n"
     ]
    }
   ],
   "source": [
    "# IF CONDTIONS WITH DICTIONARIES\n",
    "# for Keys for specific element by user input\n",
    "dict_x = {\n",
    "    \"Shahid\":\"Python\",\n",
    "    \"Sajid\":\"Ai\",\n",
    "    \"Nida\":\"Freelancing\",\n",
    "    \"Shagufta\":\"Medical\",\n",
    "    \"Shoaib\":\"Electronics\",\n",
    "    \"Asma\":\"Dentistry\"\n",
    "}\n",
    "print (dict_x.keys())\n",
    "key_list = list (dict_x.keys())\n",
    "val_list = list (dict_x.values())\n",
    "var = str (input (\"Enter the name of the student: \"))\n",
    "var = var.title()\n",
    "if var in key_list:\n",
    "    a = key_list.index(var)\n",
    "    print (\"\\nThe name of the student you choose was\", key_list[a])\n",
    "    print (\"The subject name is\", val_list[key_list.index(var)])\n",
    "else:\n",
    "    print (\"Student not found!\")"
   ]
  },
  {
   "cell_type": "code",
   "execution_count": 26,
   "metadata": {},
   "outputs": [
    {
     "name": "stdout",
     "output_type": "stream",
     "text": [
      "ASMA, Thank you for taking the poll\n",
      "NIDA, Thank you for taking the poll\n",
      "SAJID, Thank you for taking the poll\n",
      "SHAGUFTA, Thank you for taking the poll\n",
      "SHAHID, Thank you for taking the poll\n",
      "SHOAIB, Thank you for taking the poll\n"
     ]
    }
   ],
   "source": [
    "# Looping Through a Dictionary’s Keys in Order (Sorted) temporary\n",
    "dict_x = {\n",
    "    \"Shahid\":\"Python\",\n",
    "    \"Sajid\":\"Ai\",\n",
    "    \"Nida\":\"Freelancing\",\n",
    "    \"Shagufta\":\"Medical\",\n",
    "    \"Shoaib\":\"Electronics\",\n",
    "    \"Asma\":\"Dentistry\"\n",
    "}\n",
    "# This program will sort the dictionary in order\n",
    "for name in sorted (dict_x.keys()):\n",
    "    print (name.upper()+ \", Thank you for taking the poll\")"
   ]
  },
  {
   "cell_type": "code",
   "execution_count": 27,
   "metadata": {},
   "outputs": [
    {
     "name": "stdout",
     "output_type": "stream",
     "text": [
      "{'color': 'green', 'points': 5}\n",
      "{'color': 'yellow', 'points': 10}\n",
      "{'color': 'red', 'points': 15}\n"
     ]
    }
   ],
   "source": [
    "# List of Dictionaries\n",
    "alien_0 = {'color': 'green', 'points': 5}\n",
    "alien_1 = {'color': 'yellow', 'points': 10}\n",
    "alien_2 = {'color': 'red', 'points': 15}\n",
    "# The step below will make the 03 dictionaries combined in alien list\n",
    "aliens = [alien_0, alien_1, alien_2]\n",
    "# For checking the dictionaries in list (comb. dict)\n",
    "for alien in aliens:\n",
    "    print(alien)"
   ]
  },
  {
   "cell_type": "code",
   "execution_count": 40,
   "metadata": {},
   "outputs": [
    {
     "name": "stdout",
     "output_type": "stream",
     "text": [
      "{'speed': 'medium', 'color': 'yellow', 'points': 10}\n",
      "{'speed': 'medium', 'color': 'yellow', 'points': 10}\n",
      "{'speed': 'medium', 'color': 'yellow', 'points': 10}\n",
      "{'speed': 'medium', 'color': 'yellow', 'points': 10}\n",
      "{'speed': 'medium', 'color': 'yellow', 'points': 10}\n",
      "{'speed': 'medium', 'color': 'yellow', 'points': 10}\n",
      "{'speed': 'medium', 'color': 'yellow', 'points': 10}\n",
      "{'speed': 'medium', 'color': 'yellow', 'points': 10}\n",
      "{'speed': 'medium', 'color': 'yellow', 'points': 10}\n",
      "{'speed': 'medium', 'color': 'yellow', 'points': 10}\n",
      "\n",
      "{'speed': 'medium', 'color': 'yellow', 'points': 10}\n",
      "{'speed': 'medium', 'color': 'yellow', 'points': 10}\n",
      "{'speed': 'medium', 'color': 'yellow', 'points': 10}\n",
      "{'speed': 'medium', 'color': 'yellow', 'points': 10}\n",
      "{'speed': 'medium', 'color': 'yellow', 'points': 10}\n",
      "\n",
      "The new list of dictionaries for aliens:\n",
      "[{'speed': 'medium', 'color': 'yellow', 'points': 10}, {'speed': 'medium', 'color': 'yellow', 'points': 10}, {'speed': 'medium', 'color': 'yellow', 'points': 10}, {'speed': 'medium', 'color': 'yellow', 'points': 10}, {'speed': 'medium', 'color': 'yellow', 'points': 10}, {'speed': 'medium', 'color': 'yellow', 'points': 10}, {'speed': 'medium', 'color': 'yellow', 'points': 10}, {'speed': 'medium', 'color': 'yellow', 'points': 10}, {'speed': 'medium', 'color': 'yellow', 'points': 10}, {'speed': 'medium', 'color': 'yellow', 'points': 10}]\n"
     ]
    }
   ],
   "source": [
    "# List of Dictionaries - Part 2\n",
    "aliens = []\n",
    "# The code below will create 10 identical aliens\n",
    "for alien in range (10):\n",
    "    alien = {'speed':'medium','color': 'yellow', 'points': 10}\n",
    "    aliens.append(alien)\n",
    "    print (alien)\n",
    "print ()\n",
    "for alien in aliens [:5]:\n",
    "    print (alien) \n",
    "print ()\n",
    "print (\"The new list of dictionaries for aliens:\")\n",
    "print (aliens)"
   ]
  },
  {
   "cell_type": "code",
   "execution_count": 43,
   "metadata": {},
   "outputs": [
    {
     "name": "stdout",
     "output_type": "stream",
     "text": [
      "\n",
      "The new list of dictionaries for aliens till first 05:\n",
      "[{'speed': 'slow', 'color': 'green', 'points': 5}, {'speed': 'slow', 'color': 'green', 'points': 5}, {'speed': 'slow', 'color': 'green', 'points': 5}, {'speed': 'medium', 'color': 'yellow', 'points': 10}, {'speed': 'medium', 'color': 'yellow', 'points': 10}]\n"
     ]
    }
   ],
   "source": [
    "# This is the same program as above but here we will change \n",
    "# the first 03 elements\n",
    "for alien in aliens [0:3]:\n",
    "    if alien [\"color\"] == \"yellow\":\n",
    "        alien [\"color\"] = \"green\"\n",
    "        alien [\"speed\"] = \"slow\"\n",
    "        alien [\"points\"] = 5\n",
    "print ()\n",
    "print (\"The new list of dictionaries for aliens till first 05:\")\n",
    "print (aliens[0:5])"
   ]
  },
  {
   "cell_type": "code",
   "execution_count": 44,
   "metadata": {},
   "outputs": [
    {
     "name": "stdout",
     "output_type": "stream",
     "text": [
      "\n",
      "The new list of dictionaries for aliens till first 05:\n",
      "[{'speed': 'slow', 'color': 'green', 'points': 5}, {'speed': 'medium', 'color': 'yellow', 'points': 10}, {'speed': 'slow', 'color': 'green', 'points': 5}, {'speed': 'medium', 'color': 'yellow', 'points': 10}, {'speed': 'slow', 'color': 'green', 'points': 5}]\n"
     ]
    }
   ],
   "source": [
    "# This is the same program as above but here we will change \n",
    "# the odd values only\n",
    "aliens = [{'speed': 'medium', 'color': 'yellow', 'points': 10}, {'speed': 'medium', 'color': 'yellow', 'points': 10}, {'speed': 'medium', 'color': 'yellow', 'points': 10}, {'speed': 'medium', 'color': 'yellow', 'points': 10}, {'speed': 'medium', 'color': 'yellow', 'points': 10}, {'speed': 'medium', 'color': 'yellow', 'points': 10}, {'speed': 'medium', 'color': 'yellow', 'points': 10}, {'speed': 'medium', 'color': 'yellow', 'points': 10}, {'speed': 'medium', 'color': 'yellow', 'points': 10}, {'speed': 'medium', 'color': 'yellow', 'points': 10}]\n",
    "for alien in aliens [0:10:2]:\n",
    "    if alien [\"speed\"] == \"medium\":\n",
    "        alien [\"color\"] = \"green\"\n",
    "        alien [\"speed\"] = \"slow\"\n",
    "        alien [\"points\"] = 5\n",
    "print ()\n",
    "print (\"The new list of dictionaries for aliens till first 05:\")\n",
    "print (aliens[0:5])"
   ]
  },
  {
   "cell_type": "code",
   "execution_count": 2,
   "metadata": {},
   "outputs": [
    {
     "name": "stdout",
     "output_type": "stream",
     "text": [
      "PIZAA WITH TWO TOPPINGS\n",
      "=========================\n",
      "\n",
      "Enter the Pizza Flavor: 1\n",
      "Enter Topping # 01: 2\n",
      "Enter Topping # 02: 3\n",
      "\n",
      "The Pizza you chose was 1\n",
      "\n",
      "The list of the topping is\n",
      " ['2', '3']\n",
      "\n",
      "\n",
      " The dictionary with Topping list is as below\n",
      " {'1': ['2', '3']}\n"
     ]
    }
   ],
   "source": [
    "# List in Dictionary\n",
    "# Making a list and dictionary with user inputs\n",
    "print (\"PIZAA WITH TWO TOPPINGS\")\n",
    "print (\"=========================\\n\")\n",
    "dict_p={}\n",
    "pizza = str (input (\"Enter the Pizza Flavor: \"))\n",
    "top_a = str (input (\"Enter Topping # 01: \"))\n",
    "top_b = str (input (\"Enter Topping # 02: \"))\n",
    "print (\"\\nThe Pizza you chose was \"+pizza)\n",
    "list_top = [top_a, top_b]\n",
    "print (\"\\nThe list of the topping is\\n\", list_top)\n",
    "print ()\n",
    "dict_p[pizza] = list_top\n",
    "print (\"\\n The dictionary with Topping list is as below\\n\", dict_p)"
   ]
  },
  {
   "cell_type": "code",
   "execution_count": 2,
   "metadata": {},
   "outputs": [
    {
     "name": "stdout",
     "output_type": "stream",
     "text": [
      "PIZZA(s) WITH TOPPINGS\n",
      "=========================\n",
      "\n",
      "Enter the no. of pizzas you want to buy (max 3): 2\n",
      "Enter the toppings you would like in each pizza (max 4): 2\n",
      "\n",
      "\n",
      "Enter the flavor of Pizza No. 1: 1\n",
      "Enter the flavor of Topping No. 1: 2\n",
      "Enter the flavor of Topping No. 2: 3\n",
      "\n",
      "\n",
      "Enter the flavor of Pizza No. 2: 4\n",
      "Enter the flavor of Topping No. 1: 5\n",
      "Enter the flavor of Topping No. 2: 6\n",
      "\n",
      "dict_keys(['1', '4'])\n",
      "dict_values([['2', '3'], ['5', '6']])\n",
      "{'1': ['2', '3'], '4': ['5', '6']}\n"
     ]
    }
   ],
   "source": [
    "# List in Dictionary\n",
    "# Making a list and dictionary with user inputs\n",
    "print (\"PIZZA(s) WITH TOPPINGS\")\n",
    "print (\"=========================\\n\")\n",
    "p = int (input (\"Enter the no. of pizzas you want to buy (max 3): \"))\n",
    "t = int (input (\"Enter the toppings you would like in each pizza (max 4): \"))\n",
    "\n",
    "if p <= 3 and t <= 4:\n",
    "    b = 1\n",
    "    dict_pizza = {}\n",
    "    for _ in range(p):\n",
    "        print()\n",
    "        pizza = str(input(f\"\\nEnter the flavor of Pizza No. {b}: \"))\n",
    "        dict_pizza[pizza] = []\n",
    "        b += 1\n",
    "        c = 1\n",
    "        for _ in range(t):    \n",
    "            topping = str(input(f\"Enter the flavor of Topping No. {c}: \"))\n",
    "            dict_pizza[pizza].append(topping)\n",
    "            c += 1\n",
    "    print ()\n",
    "    print (dict_pizza.keys())\n",
    "    print (dict_pizza.values())\n",
    "    print (dict_pizza)\n",
    "else:\n",
    "    print (\"\\nYou exceeded the limit of pizzas or toppings!\")"
   ]
  },
  {
   "cell_type": "markdown",
   "metadata": {},
   "source": [
    "# SMARTER WAYS TO LEARN PYTHON - CH 33 to 40"
   ]
  },
  {
   "cell_type": "code",
   "execution_count": 5,
   "metadata": {},
   "outputs": [
    {
     "name": "stdout",
     "output_type": "stream",
     "text": [
      "The customer's first name is David.\n",
      "The customer's last name is Elliott.\n",
      "The customer's address is 4803 Wellesley St..\n"
     ]
    }
   ],
   "source": [
    "# Printing the list using for loop for each key\n",
    "customer_29876 = {\n",
    "    \"first name\": \"David\",\n",
    "    \"last name\": \"Elliott\",\n",
    "    \"address\": \"4803 Wellesley St.\",\n",
    "}\n",
    "for key, value in customer_29876.items():\n",
    "    print (\"The customer's \"+key+ \" is \"+value+\".\")"
   ]
  },
  {
   "cell_type": "code",
   "execution_count": 12,
   "metadata": {},
   "outputs": [
    {
     "name": "stdout",
     "output_type": "stream",
     "text": [
      "[{'customer-id': 0, 'first name': 'Shahid', 'last name': 'Iqbal', 'address': 'Karachi'}, {'customer-id': 1, 'first name': 'Noman', 'last name': 'Ahmed', 'address': 'Lahore'}, {'customer-id': 2, 'first name': 'Badar', 'last name': 'Siddiqui', 'address': 'Islamabad'}]\n",
      "\n",
      " <class 'list'>\n",
      "\n",
      " <class 'dict'>\n"
     ]
    }
   ],
   "source": [
    "# Creating list of dictionaries\n",
    "customer_0 = {\n",
    "    \"customer-id\": 0,\n",
    "    \"first name\": \"Shahid\",\n",
    "    \"last name\": \"Iqbal\",\n",
    "    \"address\": \"Karachi\",\n",
    "}\n",
    "customer_1 = {\n",
    "    \"customer-id\": 1,\n",
    "    \"first name\": \"Noman\",\n",
    "    \"last name\": \"Ahmed\",\n",
    "    \"address\": \"Lahore\",\n",
    "}\n",
    "customer_2 = {\n",
    "    \"customer-id\": 2,\n",
    "    \"first name\": \"Badar\",\n",
    "    \"last name\": \"Siddiqui\",\n",
    "    \"address\": \"Islamabad\",\n",
    "}\n",
    "customers = [customer_0,customer_1,customer_2]\n",
    "print (customers)\n",
    "print (\"\\n\",type(customers))\n",
    "print (\"\\n\",type(customer_0))"
   ]
  },
  {
   "cell_type": "code",
   "execution_count": 15,
   "metadata": {},
   "outputs": [
    {
     "name": "stdout",
     "output_type": "stream",
     "text": [
      "Karachi\n"
     ]
    }
   ],
   "source": [
    "# Creating list of dictionaries\n",
    "customer_0 = {\n",
    "    \"customer-id\": 0,\n",
    "    \"first name\": \"Shahid\",\n",
    "    \"last name\": \"Iqbal\",\n",
    "    \"address\": \"Karachi\",\n",
    "}\n",
    "customer_1 = {\n",
    "    \"customer-id\": 1,\n",
    "    \"first name\": \"Noman\",\n",
    "    \"last name\": \"Ahmed\",\n",
    "    \"address\": \"Lahore\",\n",
    "}\n",
    "customer_2 = {\n",
    "    \"customer-id\": 2,\n",
    "    \"first name\": \"Badar\",\n",
    "    \"last name\": \"Siddiqui\",\n",
    "    \"address\": \"Islamabad\",\n",
    "}\n",
    "customers = [customer_0,customer_1,customer_2]\n",
    "\n",
    "# Accessing the members in the list of dictionaries\n",
    "print (customer_0[\"address\"])\n",
    "# remember you must only use the commands applicable \n",
    "# for lists"
   ]
  },
  {
   "cell_type": "code",
   "execution_count": 2,
   "metadata": {},
   "outputs": [
    {
     "data": {
      "text/plain": [
       "'Islamabad'"
      ]
     },
     "execution_count": 2,
     "metadata": {},
     "output_type": "execute_result"
    }
   ],
   "source": [
    "# Creating list of dictionaries\n",
    "customer_0 = {\n",
    "    \"customer-id\": 0,\n",
    "    \"first name\": \"Shahid\",\n",
    "    \"last name\": \"Iqbal\",\n",
    "    \"address\": \"Karachi\",\n",
    "}\n",
    "customer_1 = {\n",
    "    \"customer-id\": 1,\n",
    "    \"first name\": \"Noman\",\n",
    "    \"last name\": \"Ahmed\",\n",
    "    \"address\": \"Lahore\",\n",
    "}\n",
    "customer_2 = {\n",
    "    \"customer-id\": 2,\n",
    "    \"first name\": \"Badar\",\n",
    "    \"last name\": \"Siddiqui\",\n",
    "    \"address\": \"Islamabad\",\n",
    "}\n",
    "customers = [customer_0,customer_1,customer_2]\n",
    "\n",
    "# For example if we want to check the address of customer ID 2\n",
    "#      List name [customer id] [dictionary key]    \n",
    "print (customers[2][\"address\"])"
   ]
  },
  {
   "cell_type": "code",
   "execution_count": 3,
   "metadata": {},
   "outputs": [
    {
     "name": "stdout",
     "output_type": "stream",
     "text": [
      "\n",
      "[{'customer-id': 0, 'first name': 'Shahid', 'last name': 'Iqbal', 'address': 'Karachi'}, {'customer-id': 1, 'first name': 'Noman', 'last name': 'Ahmed', 'address': 'Lahore'}, {'customer-id': 2, 'first name': 'Badar', 'last name': 'Siddiqui', 'address': 'Islamabad'}, {'customer-id': 3, 'first name': 'Rizwan', 'last name': 'Khan', 'address': 'Hyderabad'}]\n"
     ]
    }
   ],
   "source": [
    "# 36 How to append a new dictionary to a list of dictionaries\n",
    "\n",
    "customer_0 = {\n",
    "    \"customer-id\": 0,\n",
    "    \"first name\": \"Shahid\",\n",
    "    \"last name\": \"Iqbal\",\n",
    "    \"address\": \"Karachi\",\n",
    "}\n",
    "customer_1 = {\n",
    "    \"customer-id\": 1,\n",
    "    \"first name\": \"Noman\",\n",
    "    \"last name\": \"Ahmed\",\n",
    "    \"address\": \"Lahore\",\n",
    "}\n",
    "customer_2 = {\n",
    "    \"customer-id\": 2,\n",
    "    \"first name\": \"Badar\",\n",
    "    \"last name\": \"Siddiqui\",\n",
    "    \"address\": \"Islamabad\",\n",
    "}\n",
    "customers = [customer_0,customer_1,customer_2]\n",
    "\n",
    "#lets says if we want to add another customer\n",
    "#Point to ponder here is the fact that the dict position\n",
    "# corresponds to the customer ID\n",
    "new_customer_id = len (customers)\n",
    "customer_3 = {\n",
    "    \"customer-id\": new_customer_id,\n",
    "    \"first name\": \"Rizwan\",\n",
    "    \"last name\": \"Khan\",\n",
    "    \"address\": \"Hyderabad\",\n",
    "}\n",
    "customers.append (customer_3)\n",
    "print ()\n",
    "print (customers)"
   ]
  },
  {
   "cell_type": "code",
   "execution_count": 6,
   "metadata": {},
   "outputs": [
    {
     "name": "stdout",
     "output_type": "stream",
     "text": [
      "{'customer-id': 3, 'first name': 'Rizwan', 'last name': 'Khan', 'address': 'Hyderabad', 'discounts': ['standard', 'volume', 'loyatly']}\n",
      "Original Price = 100.0\n",
      "Price after discount = 90.0\n"
     ]
    }
   ],
   "source": [
    "# 37 - Creating a dictionary that contains lists\n",
    "customer_new = {\n",
    "    \"customer-id\": new_customer_id,\n",
    "    \"first name\": \"Rizwan\",\n",
    "    \"last name\": \"Khan\",\n",
    "    \"address\": \"Hyderabad\",\n",
    "    \"discounts\": [\"standard\", \"volume\", \"loyatly\"]\n",
    "}\n",
    "print (customer_new)\n",
    "\n",
    "# 38 How to get information out of a list within a dictionary\n",
    "# Lets say if need to find if customer_new qualifies for a discount\n",
    "\n",
    "if \"brother-in-law\" in customer_new[\"discounts\"]:\n",
    "    discount_amount = .30\n",
    "elif \"loyalty\" in customer_new[\"discounts\"]:\n",
    "    discount_amount = .15\n",
    "elif \"volume\" in customer_new[\"discounts\"]:\n",
    "    discount_amount = .10\n",
    "elif \"standard\" in customer_new[\"discounts\"]:\n",
    "    discount_amount = .05\n",
    "price = 100.00\n",
    "print (f\"Original Price = {price}\")\n",
    "print (f\"Price after discount = {price *(1-discount_amount)}\")"
   ]
  },
  {
   "cell_type": "code",
   "execution_count": 18,
   "metadata": {},
   "outputs": [
    {
     "name": "stdout",
     "output_type": "stream",
     "text": [
      "{0: {'first name': 'Shahid', 'last name': 'Iqbal', 'address': 'Karachi'}, 1: {'first name': 'Noman', 'last name': 'Ahmed', 'address': 'Lahore'}, 2: {'first name': 'Badar', 'last name': 'Siddiqui', 'address': 'Islamabad'}, 3: {'first name': 'Rizwan', 'last name': 'Khan', 'address': 'Hyderabad'}}\n",
      "\n",
      "Hyderabad\n"
     ]
    }
   ],
   "source": [
    "#39 Creating a dictionary that contains a dictionary\n",
    "\n",
    "# Keys being the customer_id we can reduce the no. of elements\n",
    "\n",
    "customers = {\n",
    "    0:{\n",
    "        'first name': 'Shahid', \n",
    "        'last name': 'Iqbal', \n",
    "        'address': 'Karachi'\n",
    "    }, \n",
    "    1:{\n",
    "        'first name': 'Noman', \n",
    "        'last name': 'Ahmed', \n",
    "        'address': 'Lahore'\n",
    "    }, \n",
    "    2:{\n",
    "        'first name': 'Badar', \n",
    "        'last name': 'Siddiqui', \n",
    "        'address': 'Islamabad'\n",
    "    }, \n",
    "    3:{\n",
    "        'first name': 'Rizwan', \n",
    "        'last name': 'Khan', \n",
    "        'address': 'Hyderabad'\n",
    "    },\n",
    "}\n",
    "print (customers)\n",
    "print()\n",
    "#40 How to get information out of a dictionary within another dictionary\n",
    "# Accessing address of customer # 3\n",
    "print (customers[3][\"address\"])\n",
    "# for accessing the dict in dict use double [][] for position"
   ]
  },
  {
   "cell_type": "code",
   "execution_count": null,
   "metadata": {},
   "outputs": [],
   "source": []
  }
 ],
 "metadata": {
  "kernelspec": {
   "display_name": "Python 3",
   "language": "python",
   "name": "python3"
  },
  "language_info": {
   "codemirror_mode": {
    "name": "ipython",
    "version": 3
   },
   "file_extension": ".py",
   "mimetype": "text/x-python",
   "name": "python",
   "nbconvert_exporter": "python",
   "pygments_lexer": "ipython3",
   "version": "3.7.6"
  }
 },
 "nbformat": 4,
 "nbformat_minor": 4
}
