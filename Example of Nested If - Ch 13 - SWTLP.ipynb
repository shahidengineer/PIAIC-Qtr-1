{
 "cells": [
  {
   "cell_type": "code",
   "execution_count": 2,
   "metadata": {},
   "outputs": [
    {
     "name": "stdout",
     "output_type": "stream",
     "text": [
      "Enter your course name:AI\n",
      "Enter the numbers you scored:55\n",
      "Enter the total numbers:100\n",
      "Your Grade for Subject AI is D and your precentage is 55.0%\n"
     ]
    }
   ],
   "source": [
    "# Testing Set of Conditions using \"and\"\n",
    "\n",
    "subject = str (input (\"Enter your course name:\"))\n",
    "subject = subject.upper()\n",
    "a = float (input(\"Enter the numbers you scored:\"))\n",
    "b = float (input(\"Enter the total numbers:\"))\n",
    "c = (a/b)*100\n",
    "if c >= 50 and c <= 100:\n",
    "    if c >= 85:\n",
    "        print (f\"Your Grade for Subject {subject} is A and your precentage is {round(c,2)}%\")\n",
    "    elif c >= 75:\n",
    "        print (f\"Your Grade for Subject {subject} is B and your precentage is {round(c,2)}%\")\n",
    "    elif c >= 65:\n",
    "        print (f\"Your Grade for Subject {subject} is C and your precentage is {round(c,2)}%\")\n",
    "    else:\n",
    "        print (f\"Your Grade for Subject {subject} is D and your precentage is {round(c,2)}%\")\n",
    "elif c > 100:\n",
    "    print (\"Input numbers are wrong, % > 100\")\n",
    "else:\n",
    "    print (f\"Your Failed in Subject {subject} and your grade is F and your precentage is {round(c,2)}%\")"
   ]
  },
  {
   "cell_type": "code",
   "execution_count": null,
   "metadata": {},
   "outputs": [],
   "source": []
  }
 ],
 "metadata": {
  "kernelspec": {
   "display_name": "Python 3",
   "language": "python",
   "name": "python3"
  },
  "language_info": {
   "codemirror_mode": {
    "name": "ipython",
    "version": 3
   },
   "file_extension": ".py",
   "mimetype": "text/x-python",
   "name": "python",
   "nbconvert_exporter": "python",
   "pygments_lexer": "ipython3",
   "version": "3.7.6"
  }
 },
 "nbformat": 4,
 "nbformat_minor": 4
}
