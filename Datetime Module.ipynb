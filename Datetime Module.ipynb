{
 "cells": [
  {
   "cell_type": "markdown",
   "metadata": {},
   "source": [
    "## FROM GEEKS FOR GEEKS"
   ]
  },
  {
   "cell_type": "code",
   "execution_count": 27,
   "metadata": {},
   "outputs": [
    {
     "name": "stdout",
     "output_type": "stream",
     "text": [
      "Today is 2020-07-24 18:57:04.732971\n"
     ]
    }
   ],
   "source": [
    "from datetime import datetime\n",
    "today = datetime.now()\n",
    "print (\"Today is \"+ str(today))"
   ]
  },
  {
   "cell_type": "code",
   "execution_count": 3,
   "metadata": {},
   "outputs": [
    {
     "name": "stdout",
     "output_type": "stream",
     "text": [
      "Today is 2020-07-24 18:43:38.923218\n",
      "Yesterday was 2020-07-23 18:43:38.923218\n"
     ]
    }
   ],
   "source": [
    "from datetime import timedelta, datetime\n",
    "today = datetime.now()\n",
    "diff = timedelta(days=1)\n",
    "print (f\"Today is {today}\")\n",
    "print (f\"Yesterday was {today - diff}\")"
   ]
  },
  {
   "cell_type": "code",
   "execution_count": 8,
   "metadata": {},
   "outputs": [
    {
     "name": "stdout",
     "output_type": "stream",
     "text": [
      "2020-07-24\n",
      "24\n",
      "7\n",
      "2020\n"
     ]
    }
   ],
   "source": [
    "# Entering dates\n",
    "import datetime\n",
    "my_date = datetime.date(2020, 7, 24)\n",
    "print (my_date)\n",
    "print (my_date.day)\n",
    "print (my_date.month)\n",
    "print (my_date.year)"
   ]
  },
  {
   "cell_type": "code",
   "execution_count": 16,
   "metadata": {},
   "outputs": [
    {
     "name": "stdout",
     "output_type": "stream",
     "text": [
      "2020-07-24\n",
      "Date components 2020 7 24\n"
     ]
    }
   ],
   "source": [
    "# Todays date\n",
    "import datetime\n",
    "to_day = datetime.date.today()\n",
    "print (to_day)\n",
    "print(\"Date components\", to_day.year, to_day.month, to_day.day)"
   ]
  },
  {
   "cell_type": "code",
   "execution_count": 24,
   "metadata": {},
   "outputs": [
    {
     "name": "stdout",
     "output_type": "stream",
     "text": [
      "2020-07-24 06:53:55.005465\n",
      "2020\n",
      "7\n",
      "24\n",
      "6\n",
      "53\n",
      "55\n",
      "5465\n"
     ]
    }
   ],
   "source": [
    "# Year, Month, Day, Hour, Minute, Second, Microsecond\n",
    "from datetime import datetime\n",
    "today = datetime(2020,7,24,6,53,55,5465)\n",
    "print (today)\n",
    "print (today.year)\n",
    "print (today.month)\n",
    "print (today.day)\n",
    "print (today.hour)\n",
    "print (today.minute)\n",
    "print (today.second)\n",
    "print (today.microsecond)"
   ]
  },
  {
   "cell_type": "markdown",
   "metadata": {},
   "source": [
    "## From W3Schools"
   ]
  },
  {
   "cell_type": "code",
   "execution_count": 38,
   "metadata": {},
   "outputs": [
    {
     "name": "stdout",
     "output_type": "stream",
     "text": [
      "2020-05-17 00:00:00\n"
     ]
    }
   ],
   "source": [
    "import datetime\n",
    "x = datetime.datetime(2020, 5, 17)\n",
    "print(x)"
   ]
  },
  {
   "cell_type": "code",
   "execution_count": 39,
   "metadata": {},
   "outputs": [
    {
     "name": "stdout",
     "output_type": "stream",
     "text": [
      "2020\n",
      "Friday\n"
     ]
    }
   ],
   "source": [
    "import datetime\n",
    "x = datetime.datetime.now()\n",
    "print(x.year)\n",
    "print(x.strftime(\"%A\"))"
   ]
  },
  {
   "cell_type": "code",
   "execution_count": 40,
   "metadata": {},
   "outputs": [
    {
     "name": "stdout",
     "output_type": "stream",
     "text": [
      "2020-05-17 00:00:00\n"
     ]
    }
   ],
   "source": [
    "# Creating Date Objects\n",
    "# To create a date, we can use the datetime() class (constructor) of the datetime module.\n",
    "# The datetime() class requires three parameters to create a date: year, month, day.\n",
    "import datetime\n",
    "x = datetime.datetime(2020, 5, 17)\n",
    "print(x)"
   ]
  },
  {
   "cell_type": "markdown",
   "metadata": {},
   "source": [
    "### The strftime() Method\n",
    "The datetime object has a method for formatting date objects into readable strings. The method is called strftime(), and takes one parameter, format, to specify the format of the returned string.\n",
    "\n",
    "        %a\tWeekday, short version\t                Wed\n",
    "        %A\tWeekday, full version\t                Wednesday\n",
    "        %w\tWeekday as a number 0-6, 0 is Sunday\t3\n",
    "        %d\tDay of month 01-31\t                    31\n",
    "        %b\tMonth name, short version\t            Dec\n",
    "        %B\tMonth name, full version\t            December\n",
    "        %m\tMonth as a number 01-12\t                12\n",
    "        %y\tYear, short version, without century\t18\n",
    "        %Y\tYear, full version\t                    2018\n",
    "        %H\tHour 00-23\t                            17\n",
    "        %I\tHour 00-12\t                            5\n",
    "        %p\tAM/PM\t                                PM\n",
    "        %M\tMinute 00-59\t                        41\n",
    "        %S\tSecond 00-59\t                        8\n",
    "        %f\tMicrosecond 000000-999999\t            548513\n",
    "        %z\tUTC offset\t                            100\n",
    "        %Z\tTimezone\t                            CST\n",
    "        %j\tDay number of year 001-366\t            365\n",
    "        %U\tWeek number of year, \n",
    "        Sunday as the first day of week, 00-53\t    52\n",
    "        %W\tWeek number of year, \n",
    "        Monday as the first day of week, 00-53\t    52\n",
    "        %c\tLocal version of date and time\t        Mon Dec 31 17:41:00 2018\n",
    "        %x\tLocal version of date\t                12/31/18\n",
    "        %X\tLocal version of time\t                17:41:00\n",
    "        %%\tA % character\t                        %\n"
   ]
  },
  {
   "cell_type": "code",
   "execution_count": 41,
   "metadata": {},
   "outputs": [
    {
     "name": "stdout",
     "output_type": "stream",
     "text": [
      "June\n"
     ]
    }
   ],
   "source": [
    "import datetime\n",
    "x = datetime.datetime(2018, 6, 1)\n",
    "print(x.strftime(\"%B\"))"
   ]
  },
  {
   "cell_type": "markdown",
   "metadata": {},
   "source": [
    "https://www.programiz.com/"
   ]
  },
  {
   "cell_type": "code",
   "execution_count": 43,
   "metadata": {},
   "outputs": [
    {
     "name": "stdout",
     "output_type": "stream",
     "text": [
      "2020-07-24 19:17:40.748950\n"
     ]
    }
   ],
   "source": [
    "# Example 1: Get Current Date and Time\n",
    "\n",
    "import datetime\n",
    "datetime_object = datetime.datetime.now()\n",
    "print(datetime_object)"
   ]
  },
  {
   "cell_type": "code",
   "execution_count": 45,
   "metadata": {},
   "outputs": [
    {
     "name": "stdout",
     "output_type": "stream",
     "text": [
      "2020-07-24 19:17:51.285923\n"
     ]
    }
   ],
   "source": [
    "# Example 2: Get Current Date\n",
    "\n",
    "import datetime\n",
    "date_object = datetime.date.today()\n",
    "print(date_object)"
   ]
  },
  {
   "cell_type": "code",
   "execution_count": 46,
   "metadata": {},
   "outputs": [
    {
     "name": "stdout",
     "output_type": "stream",
     "text": [
      "2020-07-24 19:18:06.131365\n"
     ]
    }
   ],
   "source": [
    "# Example 2A: Get Current Date\n",
    "\n",
    "import datetime\n",
    "date_object = datetime.datetime.today()\n",
    "print(date_object)"
   ]
  },
  {
   "cell_type": "markdown",
   "metadata": {},
   "source": [
    "#### Example 5: Get date from a timestamp\n",
    "We can also create date objects from a timestamp. A Unix timestamp is the number of seconds *between a particular date and January 1, 1970 at UTC*. You can convert a timestamp to date using fromtimestamp() method."
   ]
  },
  {
   "cell_type": "code",
   "execution_count": 52,
   "metadata": {},
   "outputs": [
    {
     "name": "stdout",
     "output_type": "stream",
     "text": [
      "Date = 2012-01-11 06:12:44\n",
      "===============================\n",
      "Date = 2012-01-11\n"
     ]
    }
   ],
   "source": [
    "import datetime\n",
    "\n",
    "timestamp = datetime.datetime.fromtimestamp(1326244364)\n",
    "print(\"Date =\", timestamp)\n",
    "print (\"===============================\")\n",
    "timestamp = datetime.date.fromtimestamp(1326244364)\n",
    "print(\"Date =\", timestamp)"
   ]
  },
  {
   "cell_type": "code",
   "execution_count": 54,
   "metadata": {},
   "outputs": [
    {
     "name": "stdout",
     "output_type": "stream",
     "text": [
      "Current year: 2020\n",
      "Current month: 7\n",
      "Current day: 24\n",
      "==========================\n",
      "Current year: 1983\n",
      "Current month: 9\n",
      "Current day: 24\n"
     ]
    }
   ],
   "source": [
    "# Example 6: Print today's year, month and day\n",
    "# We can get year, month, day, day of the week etc. from the date object easily. Here's how:\n",
    "\n",
    "from datetime import datetime\n",
    "# date object of today's date\n",
    "today = datetime.today() \n",
    "print(\"Current year:\", today.year)\n",
    "print(\"Current month:\", today.month)\n",
    "print(\"Current day:\", today.day)\n",
    "print (\"==========================\")\n",
    "today = datetime(1983, 9, 24)\n",
    "print(\"Current year:\", today.year)\n",
    "print(\"Current month:\", today.month)\n",
    "print(\"Current day:\", today.day)"
   ]
  },
  {
   "cell_type": "code",
   "execution_count": 55,
   "metadata": {},
   "outputs": [
    {
     "name": "stdout",
     "output_type": "stream",
     "text": [
      "a = 00:00:00\n",
      "b = 11:34:56\n",
      "c = 11:34:56\n",
      "d = 11:34:56.234566\n"
     ]
    }
   ],
   "source": [
    "# datetime.time\n",
    "# A time object instantiated from the time class represents the local time. \n",
    "# Example 7: Time object to represent time\n",
    "\n",
    "from datetime import time\n",
    "\n",
    "# time(hour = 0, minute = 0, second = 0)\n",
    "a = time()\n",
    "print(\"a =\", a)\n",
    "\n",
    "# time(hour, minute and second)\n",
    "b = time(11, 34, 56)\n",
    "print(\"b =\", b)\n",
    "\n",
    "# time(hour, minute and second)\n",
    "c = time(hour = 11, minute = 34, second = 56)\n",
    "print(\"c =\", c)\n",
    "\n",
    "# time(hour, minute, second, microsecond)\n",
    "d = time(11, 34, 56, 234566)\n",
    "print(\"d =\", d)"
   ]
  },
  {
   "cell_type": "code",
   "execution_count": 56,
   "metadata": {},
   "outputs": [
    {
     "name": "stdout",
     "output_type": "stream",
     "text": [
      "hour = 11\n",
      "minute = 34\n",
      "second = 56\n",
      "microsecond = 0\n"
     ]
    }
   ],
   "source": [
    "# Example 8: Print hour, minute, second and microsecond\n",
    "# Once you create a time object, you can easily print its attributes such as hour, minute etc.\n",
    "\n",
    "from datetime import time\n",
    "a = time(11, 34, 56)\n",
    "print(\"hour =\", a.hour)\n",
    "print(\"minute =\", a.minute)\n",
    "print(\"second =\", a.second)\n",
    "print(\"microsecond =\", a.microsecond)"
   ]
  },
  {
   "cell_type": "code",
   "execution_count": 57,
   "metadata": {},
   "outputs": [
    {
     "name": "stdout",
     "output_type": "stream",
     "text": [
      "2018-11-28 00:00:00\n",
      "2017-11-28 23:55:59.342380\n"
     ]
    }
   ],
   "source": [
    "#Example 9: Python datetime object\n",
    "\n",
    "from datetime import datetime\n",
    "#datetime(year, month, day)\n",
    "a = datetime(2018, 11, 28)\n",
    "print(a)\n",
    "# datetime(year, month, day, hour, minute, second, microsecond)\n",
    "b = datetime(2017, 11, 28, 23, 55, 59, 342380)\n",
    "print(b)"
   ]
  },
  {
   "cell_type": "code",
   "execution_count": 59,
   "metadata": {},
   "outputs": [
    {
     "name": "stdout",
     "output_type": "stream",
     "text": [
      "year = 2017\n",
      "month = 11\n",
      "hour = 23\n",
      "minute = 55\n",
      "timestamp = 1511895359.34238 from 1970 UTC\n"
     ]
    }
   ],
   "source": [
    "# Example 10: Print year, month, hour, minute and timestamp\n",
    "\n",
    "from datetime import datetime\n",
    "a = datetime(2017, 11, 28, 23, 55, 59, 342380)\n",
    "print(\"year =\", a.year)\n",
    "print(\"month =\", a.month)\n",
    "print(\"hour =\", a.hour)\n",
    "print(\"minute =\", a.minute)\n",
    "print(\"timestamp =\", a.timestamp(), \"from 1970 UTC\")"
   ]
  },
  {
   "cell_type": "code",
   "execution_count": 60,
   "metadata": {},
   "outputs": [
    {
     "name": "stdout",
     "output_type": "stream",
     "text": [
      "t3 = 201 days, 0:00:00\n",
      "t6 = -333 days, 1:14:20\n",
      "type of t3 = <class 'datetime.timedelta'>\n",
      "type of t6 = <class 'datetime.timedelta'>\n"
     ]
    }
   ],
   "source": [
    "# datetime.timedelta\n",
    "# A timedelta object represents the difference between two dates or times.\n",
    "# Example 11: Difference between two dates and times\n",
    "\n",
    "from datetime import datetime, date\n",
    "\n",
    "t1 = date(year = 2018, month = 7, day = 12)\n",
    "t2 = date(year = 2017, month = 12, day = 23)\n",
    "t3 = t1 - t2\n",
    "print(\"t3 =\", t3)\n",
    "\n",
    "t4 = datetime(year = 2018, month = 7, day = 12, hour = 7, minute = 9, second = 33)\n",
    "t5 = datetime(year = 2019, month = 6, day = 10, hour = 5, minute = 55, second = 13)\n",
    "t6 = t4 - t5\n",
    "print(\"t6 =\", t6)\n",
    "\n",
    "print(\"type of t3 =\", type(t3)) \n",
    "print(\"type of t6 =\", type(t6))  "
   ]
  },
  {
   "cell_type": "code",
   "execution_count": 64,
   "metadata": {},
   "outputs": [
    {
     "name": "stdout",
     "output_type": "stream",
     "text": [
      "t3 = 14 days, 13:55:44.413597\n"
     ]
    }
   ],
   "source": [
    "# Example 12: Difference between two timedelta objects\n",
    "\n",
    "from datetime import timedelta\n",
    "t1 = timedelta(weeks = 2, days = 5, hours = 1, seconds = 33, microseconds=5464654)\n",
    "t2 = timedelta(days = 4, hours = 11, minutes = 4, seconds = 54, microseconds=51057)\n",
    "t3 = t1 - t2\n",
    "print(\"t3 =\", t3)"
   ]
  },
  {
   "cell_type": "code",
   "execution_count": 69,
   "metadata": {},
   "outputs": [
    {
     "name": "stdout",
     "output_type": "stream",
     "text": [
      "total seconds = 435633.233423\n"
     ]
    }
   ],
   "source": [
    "# Example 14: Time duration in seconds\n",
    "# You can get the total number of seconds in a timedelta object using total_seconds() method.\n",
    "\n",
    "from datetime import timedelta\n",
    "t = timedelta(days = 5, hours = 1, seconds = 33, microseconds = 233423)\n",
    "print(\"total seconds =\", t.total_seconds())"
   ]
  },
  {
   "cell_type": "markdown",
   "metadata": {},
   "source": [
    "## Python format datetime\n",
    "The way date and time is represented may be different in different places, organizations etc. It's more common to use mm/dd/yyyy in the US, whereas dd/mm/yyyy is more common in the UK.\n",
    "\n",
    "Python has strftime() and strptime() methods to handle this.\n",
    "\n",
    "### Python strftime() - datetime object to string\n",
    "The strftime() method is defined under classes date, datetime and time. The method creates a formatted string from a given date, datetime or time object.Here, %Y, %m, %d, %H etc. are format codes. The strftime() method takes one or more format codes and returns a formatted string based on it.\n",
    "\n",
    "In the program below, t, s1 and s2 are strings.\n",
    "\n",
    "        %Y - year [0001,..., 2018, 2019,..., 9999]\n",
    "        %m - month [01, 02, ..., 11, 12]\n",
    "        %d - day [01, 02, ..., 30, 31]\n",
    "        %H - hour [00, 01, ..., 22, 23\n",
    "        %M - minute [00, 01, ..., 58, 59]\n",
    "        %S - second [00, 01, ..., 58, 59]\n",
    "\n",
    "### Python strptime() - string to datetime\n",
    "The strptime() method creates a datetime object from a given string (representing date and time).\n",
    "The strptime() method takes two arguments:\n",
    "\n",
    "        a string representing date and time\n",
    "        format code equivalent to the first argument\n",
    "\n",
    "By the way, %d, %B and %Y format codes are used for day, month(full name) and year respectively."
   ]
  },
  {
   "cell_type": "markdown",
   "metadata": {},
   "source": [
    "Format Code List\n",
    "The table below shows all the format codes that you can use.\n",
    "\n",
    "Directive\tMeaning\tExample\n",
    "\n",
    "    %a\tAbbreviated weekday name.\tSun, Mon, ...\n",
    "    %A\tFull weekday name.\tSunday, Monday, ...\n",
    "    %w\tWeekday as a decimal number.\t0, 1, ..., 6\n",
    "    %d\tDay of the month as a zero-padded decimal.\t01, 02, ..., 31\n",
    "    %-d\tDay of the month as a decimal number.\t1, 2, ..., 30\n",
    "    %b\tAbbreviated month name.\tJan, Feb, ..., Dec\n",
    "    %B\tFull month name.\tJanuary, February, ...\n",
    "    %m\tMonth as a zero-padded decimal number.\t01, 02, ..., 12\n",
    "    %-m\tMonth as a decimal number.\t1, 2, ..., 12\n",
    "    %y\tYear without century as a zero-padded decimal number.\t00, 01, ..., 99\n",
    "    %-y\tYear without century as a decimal number.\t0, 1, ..., 99\n",
    "    %Y\tYear with century as a decimal number.\t2013, 2019 etc.\n",
    "    %H\tHour (24-hour clock) as a zero-padded decimal number.\t00, 01, ..., 23\n",
    "    %-H\tHour (24-hour clock) as a decimal number.\t0, 1, ..., 23\n",
    "    %I\tHour (12-hour clock) as a zero-padded decimal number.\t01, 02, ..., 12\n",
    "    %-I\tHour (12-hour clock) as a decimal number.\t1, 2, ... 12\n",
    "    %p\tLocale’s AM or PM.\tAM, PM\n",
    "    %M\tMinute as a zero-padded decimal number.\t00, 01, ..., 59\n",
    "    %-M\tMinute as a decimal number.\t0, 1, ..., 59\n",
    "    %S\tSecond as a zero-padded decimal number.\t00, 01, ..., 59\n",
    "    %-S\tSecond as a decimal number.\t0, 1, ..., 59\n",
    "    %f\tMicrosecond as a decimal number, zero-padded on the left.\t000000 - 999999\n",
    "    %z\tUTC offset in the form +HHMM or -HHMM.\t \n",
    "    %Z\tTime zone name.\t \n",
    "    %j\tDay of the year as a zero-padded decimal number.\t001, 002, ..., 366\n",
    "    %-j\tDay of the year as a decimal number.\t1, 2, ..., 366\n",
    "    %U\tWeek number of the year (Sunday as the first day of the week). All days in a new year preceding the first Sunday are considered to be in week 0.\t00, 01, ..., 53\n",
    "    %W\tWeek number of the year (Monday as the first day of the week). All days in a new year preceding the first Monday are considered to be in week 0.\t00, 01, ..., 53\n",
    "    %c\tLocale’s appropriate date and time representation.\tMon Sep 30 07:06:05 2013\n",
    "    %x\tLocale’s appropriate date representation.\t09/30/13\n",
    "    %X\tLocale’s appropriate time representation.\t07:06:05\n",
    "    %%\tA literal '%' character.\t%"
   ]
  },
  {
   "cell_type": "code",
   "execution_count": 71,
   "metadata": {},
   "outputs": [
    {
     "name": "stdout",
     "output_type": "stream",
     "text": [
      "time: 19:39:02\n",
      "s1: 07/24/2020, 19:39:02\n",
      "s2: 24/07/2020, 19:39:02\n"
     ]
    }
   ],
   "source": [
    "# Example 15: Format date using strftime()\n",
    "\n",
    "from datetime import datetime\n",
    "\n",
    "# current date and time\n",
    "now = datetime.now()\n",
    "\n",
    "t = now.strftime(\"%H:%M:%S\")\n",
    "print(\"time:\", t)\n",
    "\n",
    "s1 = now.strftime(\"%m/%d/%Y, %H:%M:%S\")\n",
    "# mm/dd/YY H:M:S format\n",
    "print(\"s1:\", s1)\n",
    "\n",
    "s2 = now.strftime(\"%d/%m/%Y, %H:%M:%S\")\n",
    "# dd/mm/YY H:M:S format\n",
    "print(\"s2:\", s2)"
   ]
  },
  {
   "cell_type": "code",
   "execution_count": 1,
   "metadata": {},
   "outputs": [
    {
     "name": "stdout",
     "output_type": "stream",
     "text": [
      "year: 2020\n",
      "month: 07\n",
      "day: 25\n",
      "time: 16:49:50\n",
      "date and time: 07,25,2020, 16:49:50\n"
     ]
    }
   ],
   "source": [
    "from datetime import datetime\n",
    "\n",
    "now = datetime.now() # current date and time\n",
    "\n",
    "year = now.strftime(\"%Y\")\n",
    "print(\"year:\", year)\n",
    "\n",
    "month = now.strftime(\"%m\")\n",
    "print(\"month:\", month)\n",
    "\n",
    "day = now.strftime(\"%d\")\n",
    "print(\"day:\", day)\n",
    "\n",
    "time = now.strftime(\"%H:%M:%S\")\n",
    "print(\"time:\", time)\n",
    "\n",
    "date_time = now.strftime(\"%m,%d,%Y, %H:%M:%S\")\n",
    "print(\"date and time:\",date_time)\t"
   ]
  },
  {
   "cell_type": "code",
   "execution_count": 83,
   "metadata": {},
   "outputs": [
    {
     "name": "stdout",
     "output_type": "stream",
     "text": [
      "Date time object: 2018-06-12 14:55:22\n",
      "Output 2: 06/12/2018, 14:55:22\n",
      "Output 3: 12 Jun, 2018\n",
      "Output 4: 12 June, 2018\n",
      "Output 5: 02 PM\n",
      "Output 5: 14 Hours PM\n"
     ]
    }
   ],
   "source": [
    "from datetime import datetime\n",
    "\n",
    "timestamp = 1528797322\n",
    "date_time = datetime.fromtimestamp(timestamp)\n",
    "\n",
    "print(\"Date time object:\", date_time)\n",
    "\n",
    "d = date_time.strftime(\"%m/%d/%Y, %H:%M:%S\")\n",
    "print(\"Output 2:\", d)\t\n",
    "\n",
    "d = date_time.strftime(\"%d %b, %Y\")\n",
    "print(\"Output 3:\", d)\n",
    "\n",
    "d = date_time.strftime(\"%d %B, %Y\")\n",
    "print(\"Output 4:\", d)\n",
    "\n",
    "d = date_time.strftime(\"%I %p\")\n",
    "print(\"Output 5:\", d)\n",
    "\n",
    "d = date_time.strftime(\"%H Hours %p\")\n",
    "print(\"Output 5:\", d)"
   ]
  },
  {
   "cell_type": "code",
   "execution_count": 76,
   "metadata": {},
   "outputs": [
    {
     "name": "stdout",
     "output_type": "stream",
     "text": [
      "date_string = 21 June, 2018\n",
      "date_object = 2018-06-21 00:00:00\n"
     ]
    }
   ],
   "source": [
    "# Example 16: strptime()\n",
    "\n",
    "from datetime import datetime\n",
    "date_string = \"21 June, 2018\"\n",
    "print(\"date_string =\", date_string)\n",
    "date_object = datetime.strptime(date_string, \"%d %B, %Y\")\n",
    "print(\"date_object =\", date_object)"
   ]
  },
  {
   "cell_type": "code",
   "execution_count": null,
   "metadata": {},
   "outputs": [],
   "source": []
  }
 ],
 "metadata": {
  "kernelspec": {
   "display_name": "Python 3",
   "language": "python",
   "name": "python3"
  },
  "language_info": {
   "codemirror_mode": {
    "name": "ipython",
    "version": 3
   },
   "file_extension": ".py",
   "mimetype": "text/x-python",
   "name": "python",
   "nbconvert_exporter": "python",
   "pygments_lexer": "ipython3",
   "version": "3.7.6"
  }
 },
 "nbformat": 4,
 "nbformat_minor": 4
}
