{
 "cells": [
  {
   "cell_type": "markdown",
   "metadata": {},
   "source": [
    "### JSON FILES \n",
    "### SWTLP CHAP 74-75\n",
    "\n",
    "Since txt files cannot handle the list type data therefore JSON files are used"
   ]
  },
  {
   "cell_type": "code",
   "execution_count": 1,
   "metadata": {},
   "outputs": [
    {
     "name": "stdout",
     "output_type": "stream",
     "text": [
      "The letters have been stored - info only\n"
     ]
    }
   ],
   "source": [
    "# Chap 74 - How to save a Python list or dictionary in a file: JSON\n",
    "import json\n",
    "alphabet_letters = [\"a\",\"b\",\"c\",\"d\",\"e\"]\n",
    "filename = \"alphabet_letters.json\"\n",
    "with open (filename, \"w\") as f:\n",
    "    json.dump (alphabet_letters, f)\n",
    "    json.dump (alphabet_letters, f)\n",
    "    json.dump (alphabet_letters, f)\n",
    "    print (\"The letters have been stored - info only\")"
   ]
  },
  {
   "cell_type": "code",
   "execution_count": 6,
   "metadata": {},
   "outputs": [
    {
     "name": "stdout",
     "output_type": "stream",
     "text": [
      "The data has been stored - info only\n"
     ]
    }
   ],
   "source": [
    "customer_29876 = {\n",
    "    \"first name\": \"David\",\n",
    "    \"last name\": \"Elliott\",\n",
    "    \"address\": \"4803 Wellesley St.\",\n",
    "}\n",
    "import json\n",
    "file_name = \"customer_29876.json\"\n",
    "with open (file_name, \"w\") as f:\n",
    "    json.dump(customer_29876, f)\n",
    "    print (\"The data has been stored - info only\")"
   ]
  },
  {
   "cell_type": "code",
   "execution_count": 7,
   "metadata": {},
   "outputs": [
    {
     "name": "stdout",
     "output_type": "stream",
     "text": [
      "['a', 'b', 'c', 'd', 'e']\n"
     ]
    }
   ],
   "source": [
    "# Chap 75 - How to retrieve a Python list or dictionary from a JSON file\n",
    "filename = \"alphabet_letters.json\"\n",
    "import json\n",
    "with open (filename, \"r\") as f:\n",
    "    contents = json.load(f)\n",
    "    print (contents)"
   ]
  },
  {
   "cell_type": "code",
   "execution_count": 8,
   "metadata": {},
   "outputs": [
    {
     "name": "stdout",
     "output_type": "stream",
     "text": [
      "4803 Wellesley St.\n"
     ]
    }
   ],
   "source": [
    "# Getting information for the customer_29876 for address\n",
    "import json\n",
    "filename = \"customer_29876.json\"\n",
    "with open (filename, \"r\") as f:\n",
    "    customer_dict = json.load(f)\n",
    "    customer_address = customer_dict[\"address\"]\n",
    "    print (customer_address)"
   ]
  },
  {
   "cell_type": "markdown",
   "metadata": {},
   "source": [
    "### EXCEPTIONS \n",
    "#### CHAPTER 76-77 - SWTLP\n",
    "Planning for things to go wrong"
   ]
  },
  {
   "cell_type": "code",
   "execution_count": 12,
   "metadata": {},
   "outputs": [
    {
     "name": "stdout",
     "output_type": "stream",
     "text": [
      "What text file to open? pi_digits\n",
      "3.1415926535 \n",
      "  8979323846 \n",
      "  2643383279\n",
      "  \n"
     ]
    }
   ],
   "source": [
    "while True:\n",
    "    try:\n",
    "        filename = input(\"What text file to open? \")\n",
    "        filename = filename+\".txt\"\n",
    "        with open(filename) as f:\n",
    "            print(f.read())\n",
    "        break\n",
    "    except FileNotFoundError:\n",
    "        print(\"Sorry, \" + filename + \" not found.\")"
   ]
  },
  {
   "cell_type": "code",
   "execution_count": null,
   "metadata": {},
   "outputs": [],
   "source": []
  }
 ],
 "metadata": {
  "kernelspec": {
   "display_name": "Python 3",
   "language": "python",
   "name": "python3"
  },
  "language_info": {
   "codemirror_mode": {
    "name": "ipython",
    "version": 3
   },
   "file_extension": ".py",
   "mimetype": "text/x-python",
   "name": "python",
   "nbconvert_exporter": "python",
   "pygments_lexer": "ipython3",
   "version": "3.7.6"
  }
 },
 "nbformat": 4,
 "nbformat_minor": 4
}
