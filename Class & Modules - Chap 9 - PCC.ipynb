{
 "cells": [
  {
   "cell_type": "code",
   "execution_count": 5,
   "metadata": {},
   "outputs": [],
   "source": [
    "# Calling a class in the program just like module for function\n",
    "from car import Car"
   ]
  },
  {
   "cell_type": "code",
   "execution_count": 6,
   "metadata": {},
   "outputs": [],
   "source": [
    "car1 = Car(\"Toyota\", \"Corolla\", 2020)"
   ]
  },
  {
   "cell_type": "code",
   "execution_count": 7,
   "metadata": {},
   "outputs": [
    {
     "data": {
      "text/plain": [
       "0"
      ]
     },
     "execution_count": 7,
     "metadata": {},
     "output_type": "execute_result"
    }
   ],
   "source": [
    "car1.gas_reading"
   ]
  },
  {
   "cell_type": "code",
   "execution_count": 8,
   "metadata": {},
   "outputs": [
    {
     "data": {
      "text/plain": [
       "'2020 Toyota Corolla'"
      ]
     },
     "execution_count": 8,
     "metadata": {},
     "output_type": "execute_result"
    }
   ],
   "source": [
    "car1.get_descriptive_name()"
   ]
  },
  {
   "cell_type": "code",
   "execution_count": 9,
   "metadata": {},
   "outputs": [],
   "source": [
    "# Importing a subclass / child class as module\n",
    "from car import ElectricCar"
   ]
  },
  {
   "cell_type": "code",
   "execution_count": 10,
   "metadata": {},
   "outputs": [],
   "source": [
    "my_tesla = ElectricCar (\"Tesla\", \"Model S\", 2020)"
   ]
  },
  {
   "cell_type": "code",
   "execution_count": 11,
   "metadata": {},
   "outputs": [
    {
     "data": {
      "text/plain": [
       "70"
      ]
     },
     "execution_count": 11,
     "metadata": {},
     "output_type": "execute_result"
    }
   ],
   "source": [
    "my_tesla.battery.battery_size"
   ]
  },
  {
   "cell_type": "code",
   "execution_count": 12,
   "metadata": {},
   "outputs": [
    {
     "name": "stdout",
     "output_type": "stream",
     "text": [
      "The car can go up to 200 miles.\n"
     ]
    }
   ],
   "source": [
    "my_tesla.battery.get_range()"
   ]
  },
  {
   "cell_type": "code",
   "execution_count": 13,
   "metadata": {},
   "outputs": [
    {
     "name": "stdout",
     "output_type": "stream",
     "text": [
      "The battery size is now 85\n"
     ]
    },
    {
     "data": {
      "text/plain": [
       "85"
      ]
     },
     "execution_count": 13,
     "metadata": {},
     "output_type": "execute_result"
    }
   ],
   "source": [
    "my_tesla.battery.set_battery_size(85)"
   ]
  },
  {
   "cell_type": "code",
   "execution_count": 14,
   "metadata": {},
   "outputs": [
    {
     "name": "stdout",
     "output_type": "stream",
     "text": [
      "The car can go up to 240 miles.\n"
     ]
    }
   ],
   "source": [
    "my_tesla.battery.get_range()"
   ]
  },
  {
   "cell_type": "code",
   "execution_count": 15,
   "metadata": {},
   "outputs": [
    {
     "name": "stdout",
     "output_type": "stream",
     "text": [
      "The battery size is already 85 kWh or higher.\n"
     ]
    }
   ],
   "source": [
    "my_tesla.battery.upgrade_battery()"
   ]
  },
  {
   "cell_type": "code",
   "execution_count": 16,
   "metadata": {},
   "outputs": [],
   "source": [
    "# Importing all modules and making two cars\n",
    "import car\n",
    "car2 = Car(\"honda\",\"city\",2020)\n",
    "e_car2 = ElectricCar(\"Chuwi\",\"Picachu\",2050)"
   ]
  },
  {
   "cell_type": "code",
   "execution_count": 18,
   "metadata": {},
   "outputs": [
    {
     "name": "stdout",
     "output_type": "stream",
     "text": [
      "The car 2050 Chuwi Picachu is electric so cannot fill gas.\n"
     ]
    }
   ],
   "source": [
    "e_car2.fill_gas(20)"
   ]
  },
  {
   "cell_type": "code",
   "execution_count": 19,
   "metadata": {},
   "outputs": [],
   "source": [
    "# 9-14. Dice: The module random contains functions that generate random numbers\n",
    "# in a variety of ways. The function randint() returns an integer in the\n",
    "# range you provide. The following code returns a number between 1 and 6:\n",
    "# from random import randint\n",
    "# x = randint(1, 6)\n",
    "# Make a class Die with one attribute called sides, which has a default\n",
    "# value of 6. Write a method called roll_die() that prints a random number\n",
    "# between 1 and the number of sides the die has. Make a 6-sided die and roll\n",
    "# it 10 times.\n",
    "# Make a 10-sided die and a 20-sided die. Roll each die 10 times."
   ]
  },
  {
   "cell_type": "code",
   "execution_count": 25,
   "metadata": {},
   "outputs": [],
   "source": [
    "from random import randint\n",
    "\n",
    "class Die():\n",
    "    \n",
    "    def __init__(self, sides = 6):\n",
    "        self.sides = sides\n",
    "        \n",
    "    def roll_die(self, no_of_rolls):\n",
    "        print (f\"Rolling the {self.sides} sides die {no_of_rolls} times.\")\n",
    "        for a in range (1, no_of_rolls + 1):\n",
    "            print (randint(1,self.sides))"
   ]
  },
  {
   "cell_type": "code",
   "execution_count": 26,
   "metadata": {},
   "outputs": [],
   "source": [
    "d6 = Die()"
   ]
  },
  {
   "cell_type": "code",
   "execution_count": 27,
   "metadata": {},
   "outputs": [
    {
     "name": "stdout",
     "output_type": "stream",
     "text": [
      "Rolling the 6 sides die 10 times.\n",
      "6\n",
      "4\n",
      "1\n",
      "6\n",
      "1\n",
      "4\n",
      "6\n",
      "5\n",
      "4\n",
      "2\n"
     ]
    }
   ],
   "source": [
    "d6.roll_die(10)"
   ]
  },
  {
   "cell_type": "code",
   "execution_count": 28,
   "metadata": {},
   "outputs": [],
   "source": [
    "d10 = Die(10)"
   ]
  },
  {
   "cell_type": "code",
   "execution_count": 29,
   "metadata": {},
   "outputs": [
    {
     "name": "stdout",
     "output_type": "stream",
     "text": [
      "Rolling the 10 sides die 10 times.\n",
      "3\n",
      "4\n",
      "6\n",
      "1\n",
      "6\n",
      "7\n",
      "3\n",
      "8\n",
      "6\n",
      "6\n"
     ]
    }
   ],
   "source": [
    "d10.roll_die(10)"
   ]
  },
  {
   "cell_type": "code",
   "execution_count": 30,
   "metadata": {},
   "outputs": [],
   "source": [
    "d20 = Die(20)"
   ]
  },
  {
   "cell_type": "code",
   "execution_count": 31,
   "metadata": {},
   "outputs": [
    {
     "name": "stdout",
     "output_type": "stream",
     "text": [
      "Rolling the 20 sides die 10 times.\n",
      "4\n",
      "2\n",
      "20\n",
      "1\n",
      "4\n",
      "17\n",
      "3\n",
      "15\n",
      "14\n",
      "9\n"
     ]
    }
   ],
   "source": [
    "d20.roll_die(10)"
   ]
  },
  {
   "cell_type": "code",
   "execution_count": null,
   "metadata": {},
   "outputs": [],
   "source": []
  }
 ],
 "metadata": {
  "kernelspec": {
   "display_name": "Python 3",
   "language": "python",
   "name": "python3"
  },
  "language_info": {
   "codemirror_mode": {
    "name": "ipython",
    "version": 3
   },
   "file_extension": ".py",
   "mimetype": "text/x-python",
   "name": "python",
   "nbconvert_exporter": "python",
   "pygments_lexer": "ipython3",
   "version": "3.7.6"
  }
 },
 "nbformat": 4,
 "nbformat_minor": 4
}
