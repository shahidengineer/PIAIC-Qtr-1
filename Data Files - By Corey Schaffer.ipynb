{
 "cells": [
  {
   "cell_type": "markdown",
   "metadata": {},
   "source": [
    "# DATA FILES"
   ]
  },
  {
   "cell_type": "markdown",
   "metadata": {},
   "source": [
    "## READING FILES"
   ]
  },
  {
   "cell_type": "code",
   "execution_count": 1,
   "metadata": {},
   "outputs": [
    {
     "name": "stdout",
     "output_type": "stream",
     "text": [
      "tests.txt\n",
      "r\n",
      "False\n",
      "True\n"
     ]
    }
   ],
   "source": [
    "# Printing the name \n",
    "# & mode (r or w or a)\n",
    "# to check if it is close or not\n",
    "file_name = \"tests.txt\"\n",
    "with open (file_name, \"r\") as f:\n",
    "    print (f.name) # Priting file name\n",
    "    print (f.mode) # Printing mode of file\n",
    "    print (f.closed) # will return False\n",
    "print (f.closed) # will return True"
   ]
  },
  {
   "cell_type": "code",
   "execution_count": 2,
   "metadata": {},
   "outputs": [
    {
     "name": "stdout",
     "output_type": "stream",
     "text": [
      "1) This is a test file!\n",
      "2) With multiple lines of dataâ€¦\n",
      "3) Third line\n",
      "4) Fourth line\n",
      "5) Fifth line\n",
      "6) Sixth line\n",
      "7) Seventh line\n",
      "8) Eighth line\n",
      "9) Ninth line\n",
      "10) Tenth line\n",
      "\n"
     ]
    }
   ],
   "source": [
    "# Reading Files\n",
    "with open (file_name, \"r\") as f:\n",
    "    f_contents = f.read()\n",
    "    print (f_contents)"
   ]
  },
  {
   "cell_type": "code",
   "execution_count": 3,
   "metadata": {},
   "outputs": [
    {
     "name": "stdout",
     "output_type": "stream",
     "text": [
      "['1) This is a test file!\\n', '2) With multiple lines of dataâ€¦\\n', '3) Third line\\n', '4) Fourth line\\n', '5) Fifth line\\n', '6) Sixth line\\n', '7) Seventh line\\n', '8) Eighth line\\n', '9) Ninth line\\n', '10) Tenth line\\n']\n"
     ]
    }
   ],
   "source": [
    "# In order to read the limited amount of data\n",
    "with open (file_name, \"r\") as f:\n",
    "    f_contents = f.readlines()\n",
    "    print (f_contents) \n",
    "    # This will return list of lines"
   ]
  },
  {
   "cell_type": "code",
   "execution_count": 4,
   "metadata": {},
   "outputs": [
    {
     "name": "stdout",
     "output_type": "stream",
     "text": [
      "1) This is a test file!\n",
      "2) With multiple lines of dataâ€¦\n"
     ]
    }
   ],
   "source": [
    "# In order to read the limited amount of lines\n",
    "with open (file_name, \"r\") as f:\n",
    "    f_contents = f.readline() # This will print 1st line\n",
    "    print (f_contents, end=\"\") \n",
    "    f_contents = f.readline() # This will print 2nd line\n",
    "    print (f_contents, end=\"\") "
   ]
  },
  {
   "cell_type": "code",
   "execution_count": 5,
   "metadata": {},
   "outputs": [
    {
     "name": "stdout",
     "output_type": "stream",
     "text": [
      "1) This is a test file!\n",
      "2) With multiple lines of dataâ€¦\n",
      "3) Third line\n",
      "4) Fourth line\n",
      "5) Fifth line\n",
      "6) Sixth line\n",
      "7) Seventh line\n",
      "8) Eighth line\n",
      "9) Ninth line\n",
      "10) Tenth line\n"
     ]
    }
   ],
   "source": [
    "# Reading Files - Looping with lines\n",
    "with open (file_name, \"r\") as f:\n",
    "    for line in f:\n",
    "        print (line, end=\"\")"
   ]
  },
  {
   "cell_type": "code",
   "execution_count": 6,
   "metadata": {},
   "outputs": [
    {
     "name": "stdout",
     "output_type": "stream",
     "text": [
      "1) This is a test file!\n",
      "2) With multiple lines of dataâ€¦\n",
      "3) Third line\n",
      "4) Fourth line\n",
      "5) Fifth line\n",
      "\n",
      "6) Sixth line\n",
      "7) Seventh line\n",
      "8) Eighth line\n",
      "9) Ninth line\n",
      "10) Tenth line\n",
      "\n",
      "\n"
     ]
    }
   ],
   "source": [
    "# for more control on reading file\n",
    "# Reading Files\n",
    "with open (file_name, \"r\") as f:\n",
    "    f_contents = f.read(100) # print first 100 characters only\n",
    "    print (f_contents)\n",
    "    # If we repeat the procedure again it will print next 100 chars\n",
    "    # Reading Files\n",
    "    f_contents = f.read(100)\n",
    "    print (f_contents)\n",
    "    # If we do again nothing will be printed\n",
    "    f_contents = f.read(100)\n",
    "    print (f_contents)"
   ]
  },
  {
   "cell_type": "code",
   "execution_count": 7,
   "metadata": {},
   "outputs": [
    {
     "name": "stdout",
     "output_type": "stream",
     "text": [
      "1) This is* a test fi*le!\n",
      "2) Wit*h multiple* lines of *dataâ€¦\n",
      "3)* Third lin*e\n",
      "4) Fourt*h line\n",
      "5) *Fifth line*\n",
      "6) Sixth *line\n",
      "7) Se*venth line*\n",
      "8) Eighth* line\n",
      "9) N*inth line\n",
      "*10) Tenth *line\n",
      "*"
     ]
    }
   ],
   "source": [
    "# For reading large file\n",
    "with open (file_name, \"r\") as f:\n",
    "    size_to_read = 10\n",
    "    f_contents = f.read(size_to_read)\n",
    "    # Running a while loop till the len of f_contents > 0\n",
    "    while len(f_contents)>0:\n",
    "        # Adding end = \"*\" to mark the loop position with *\n",
    "        print (f_contents, end=\"*\")\n",
    "        # The condition to break\n",
    "        # Since the len of f_contents is gonna get low\n",
    "        # this will stop the loop when len (f_contents) reaches zero\n",
    "        f_contents = f.read(size_to_read)"
   ]
  },
  {
   "cell_type": "code",
   "execution_count": 8,
   "metadata": {},
   "outputs": [
    {
     "name": "stdout",
     "output_type": "stream",
     "text": [
      "10\n"
     ]
    }
   ],
   "source": [
    "# For finding positon of the file / chars\n",
    "# For reading large file\n",
    "with open (file_name, \"r\") as f:\n",
    "    size_to_read = 10\n",
    "    f_contents = f.read(size_to_read)\n",
    "    print (f.tell())\n",
    "    # f.tell() gives the cursor position \n",
    "    # since we read only 10 chars therefore it will show 10"
   ]
  },
  {
   "cell_type": "code",
   "execution_count": 13,
   "metadata": {},
   "outputs": [
    {
     "name": "stdout",
     "output_type": "stream",
     "text": [
      "1) This is\n",
      " a test fi\n",
      "20\n"
     ]
    }
   ],
   "source": [
    "# Redoing the above with two print commands\n",
    "with open (file_name, \"r\") as f:\n",
    "    size_to_read = 10\n",
    "    f_contents = f.read(size_to_read)\n",
    "    print (f_contents)\n",
    "    f_contents = f.read(size_to_read)\n",
    "    print (f_contents)\n",
    "    print (f.tell())"
   ]
  },
  {
   "cell_type": "code",
   "execution_count": 14,
   "metadata": {},
   "outputs": [
    {
     "name": "stdout",
     "output_type": "stream",
     "text": [
      "1) This is\n",
      "1) This is\n",
      "10\n"
     ]
    }
   ],
   "source": [
    "# Using f.seek(pos) to get to a specific position\n",
    "# Changing position\n",
    "with open (file_name, \"r\") as f:\n",
    "    size_to_read = 10\n",
    "    f_contents = f.read(size_to_read)\n",
    "    print (f_contents)\n",
    "    f.seek(0)\n",
    "    f_contents = f.read(size_to_read)\n",
    "    print (f_contents)\n",
    "    print (f.tell())"
   ]
  },
  {
   "cell_type": "markdown",
   "metadata": {},
   "source": [
    "## WRITING FILES"
   ]
  },
  {
   "cell_type": "code",
   "execution_count": 18,
   "metadata": {},
   "outputs": [],
   "source": [
    "file_name = \"tests2.txt\"\n",
    "#\"w\" can create a new and can overwrite the new file\n",
    "with open (file_name, \"w\") as f:\n",
    "    f.write (\"Test\")\n",
    "    # f.seek can be used to get to any position\n",
    "    f.seek(0)\n",
    "    f.write (\"R\")"
   ]
  },
  {
   "cell_type": "code",
   "execution_count": 21,
   "metadata": {},
   "outputs": [],
   "source": [
    "# Running a loop copying a file from one to another\n",
    "file_name = \"tests.txt\"\n",
    "with open (file_name, \"r\") as rf: # main file\n",
    "    with open (\"tests_copy\", \"w\") as wf: # copy file \n",
    "        for line in rf:\n",
    "            wf.write(line)"
   ]
  },
  {
   "cell_type": "code",
   "execution_count": 22,
   "metadata": {},
   "outputs": [],
   "source": [
    "# Using a picture file and trying to copy it\n",
    "# For that you need to open the file in binary mode and not txt mode\n",
    "pic_name = \"greycat.jpg\"\n",
    "with open (pic_name, \"rb\") as rf:\n",
    "    with open (\"greycat_copy.jpg\", \"wb\") as wf:\n",
    "        for line in rf:\n",
    "            wf.write(line)"
   ]
  },
  {
   "cell_type": "code",
   "execution_count": 25,
   "metadata": {},
   "outputs": [],
   "source": [
    "pic_name = \"greycat.jpg\"\n",
    "with open (pic_name, \"rb\") as rf:\n",
    "    with open (\"greycat_copy.jpg\", \"wb\") as wf: \n",
    "        chunk_size = 10\n",
    "        rf_chunk = rf.read(chunk_size)\n",
    "        while len(rf_chunk) > 0:\n",
    "            wf.write (rf_chunk)\n",
    "            rf_chunk = rf.read(chunk_size)"
   ]
  },
  {
   "cell_type": "code",
   "execution_count": null,
   "metadata": {},
   "outputs": [],
   "source": []
  }
 ],
 "metadata": {
  "kernelspec": {
   "display_name": "Python 3",
   "language": "python",
   "name": "python3"
  },
  "language_info": {
   "codemirror_mode": {
    "name": "ipython",
    "version": 3
   },
   "file_extension": ".py",
   "mimetype": "text/x-python",
   "name": "python",
   "nbconvert_exporter": "python",
   "pygments_lexer": "ipython3",
   "version": "3.7.6"
  }
 },
 "nbformat": 4,
 "nbformat_minor": 4
}
