{
 "cells": [
  {
   "cell_type": "markdown",
   "metadata": {},
   "source": [
    "# FOR LOOP - PCC"
   ]
  },
  {
   "cell_type": "code",
   "execution_count": 3,
   "metadata": {},
   "outputs": [
    {
     "name": "stdout",
     "output_type": "stream",
     "text": [
      "alice\n",
      "david\n",
      "carolina\n"
     ]
    }
   ],
   "source": [
    "magicians = ['alice', 'david', 'carolina']\n",
    "# for & in combination will run the program until and unless it completes the task\n",
    "# magician will equate and repeat magicians element times\n",
    "for magician in magicians: \n",
    "    print(magician)"
   ]
  },
  {
   "cell_type": "code",
   "execution_count": 6,
   "metadata": {},
   "outputs": [
    {
     "name": "stdout",
     "output_type": "stream",
     "text": [
      "David\n"
     ]
    }
   ],
   "source": [
    "magicians = ['alice', 'david', 'carolina']\n",
    "# condition after for loop can display the result you want\n",
    "for magician in magicians:\n",
    "    if magician == \"david\": \n",
    "        print(magician.title())"
   ]
  },
  {
   "cell_type": "code",
   "execution_count": 10,
   "metadata": {},
   "outputs": [
    {
     "name": "stdout",
     "output_type": "stream",
     "text": [
      "Alice great trick!\n",
      "I cannot wait to see you again!\n",
      "\n",
      "David great trick!\n",
      "I cannot wait to see you again!\n",
      "\n",
      "Carolina great trick!\n",
      "I cannot wait to see you again!\n",
      "\n",
      "Great Show!!\n"
     ]
    }
   ],
   "source": [
    "magicians = ['alice', 'david', 'carolina']\n",
    "for magician in magicians:\n",
    "    print (magician.title(), \"great trick!\")\n",
    "    print (\"I cannot wait to see you again!\\n\")\n",
    "# If you leave the indentation you leave the loop\n",
    "# Un-necessary indentation may give you IndentationError\n",
    "# Forgetting colon (:) or putting extra or low brackets give you SyntaxError\n",
    "print (\"Great Show!!\")\n",
    "# Line 6 will repeat only once"
   ]
  },
  {
   "cell_type": "code",
   "execution_count": 13,
   "metadata": {},
   "outputs": [
    {
     "name": "stdout",
     "output_type": "stream",
     "text": [
      "1\n",
      "2\n",
      "3\n",
      "4\n",
      "\n",
      "\n",
      "0\n",
      "1\n",
      "2\n",
      "3\n",
      "4\n",
      "\n",
      "\n",
      "0\n",
      "2\n",
      "4\n"
     ]
    }
   ],
   "source": [
    "# For Loops in Integers\n",
    "for num in range (1,5): # 5 will not be printed\n",
    "    print (num)\n",
    "print (\"\\n\")\n",
    "for num in range (5): # now zero will also be included\n",
    "    print (num)\n",
    "print (\"\\n\")\n",
    "for num in range (0,5,2): # now the sequence will skip and choose every 2nd elemnet\n",
    "    print (num)"
   ]
  },
  {
   "cell_type": "code",
   "execution_count": 14,
   "metadata": {},
   "outputs": [
    {
     "name": "stdout",
     "output_type": "stream",
     "text": [
      "List of odd numbers from 1-10 (including both):\n",
      "1, 3, 5, 7, 9\n",
      "================================================\n",
      "List of odd numbers from 1-10 (including both):\n",
      "2, 4, 6, 8, 10\n"
     ]
    }
   ],
   "source": [
    "# For loop for Odd / Even nos. in 1-10 (including both)\n",
    "odd = []\n",
    "for num in range (1,10+1,2):\n",
    "    odd.append(num)\n",
    "print (\"List of odd numbers from 1-10 (including both):\")\n",
    "print (*odd, sep=\", \")\n",
    "print (\"================================================\")\n",
    "even = []\n",
    "for num in range (2,10+1,2):\n",
    "    even.append(num)\n",
    "print (\"List of odd numbers from 1-10 (including both):\")\n",
    "print (*even, sep=\", \")"
   ]
  },
  {
   "cell_type": "code",
   "execution_count": 15,
   "metadata": {},
   "outputs": [
    {
     "name": "stdout",
     "output_type": "stream",
     "text": [
      "Square of 1 is 1\n",
      "Square of 2 is 4\n",
      "Square of 3 is 9\n",
      "Square of 4 is 16\n",
      "Square of 5 is 25\n",
      "Square of 6 is 36\n",
      "Square of 7 is 49\n",
      "Square of 8 is 64\n",
      "Square of 9 is 81\n",
      "Square of 10 is 100\n"
     ]
    }
   ],
   "source": [
    "# Prting squares of numbers from 1-10\n",
    "for num in range (1,10+1):\n",
    "    squares = num**2\n",
    "    print (f\"Square of {num} is {squares}\")"
   ]
  },
  {
   "cell_type": "code",
   "execution_count": 17,
   "metadata": {},
   "outputs": [
    {
     "name": "stdout",
     "output_type": "stream",
     "text": [
      "[1, 4, 9, 16, 25, 36, 49, 64, 81, 100]\n"
     ]
    }
   ],
   "source": [
    "# Prting squares of numbers from 1-10 in list form\n",
    "squares = []\n",
    "for num in range (1,10+1):\n",
    "    sq = num**2\n",
    "    squares.append (sq)\n",
    "print (squares)"
   ]
  },
  {
   "cell_type": "code",
   "execution_count": 18,
   "metadata": {},
   "outputs": [
    {
     "name": "stdout",
     "output_type": "stream",
     "text": [
      "[1, 4, 9, 16, 25, 36, 49, 64, 81, 100]\n"
     ]
    }
   ],
   "source": [
    "# Prting squares of numbers from 1-10 in list form\n",
    "# Part 2\n",
    "squares = [num**2 for num in range (1,11)]\n",
    "print (squares)"
   ]
  },
  {
   "cell_type": "code",
   "execution_count": 23,
   "metadata": {},
   "outputs": [
    {
     "name": "stdout",
     "output_type": "stream",
     "text": [
      "Sum of Squares from 1-10 is 385\n"
     ]
    }
   ],
   "source": [
    "# Prting sum of squares of numbers from 1-10\n",
    "sum_of_sq = 0\n",
    "for num in range (1,10+1):\n",
    "    squares = num**2\n",
    "    sum_of_sq += squares\n",
    "print (f\"Sum of Squares from 1-10 is {sum_of_sq}\")"
   ]
  },
  {
   "cell_type": "code",
   "execution_count": 26,
   "metadata": {},
   "outputs": [
    {
     "name": "stdout",
     "output_type": "stream",
     "text": [
      "Great Performance Charles\n",
      "Great Performance Martina\n",
      "Great Performance Michael\n"
     ]
    }
   ],
   "source": [
    "# Looping through a list slice\n",
    "players = ['charles', 'martina', 'michael', 'florence', 'eli']\n",
    "for player in players [:3]:\n",
    "    print (\"Great Performance\", player.title())"
   ]
  },
  {
   "cell_type": "code",
   "execution_count": null,
   "metadata": {},
   "outputs": [],
   "source": []
  }
 ],
 "metadata": {
  "kernelspec": {
   "display_name": "Python 3",
   "language": "python",
   "name": "python3"
  },
  "language_info": {
   "codemirror_mode": {
    "name": "ipython",
    "version": 3
   },
   "file_extension": ".py",
   "mimetype": "text/x-python",
   "name": "python",
   "nbconvert_exporter": "python",
   "pygments_lexer": "ipython3",
   "version": "3.7.6"
  }
 },
 "nbformat": 4,
 "nbformat_minor": 4
}
