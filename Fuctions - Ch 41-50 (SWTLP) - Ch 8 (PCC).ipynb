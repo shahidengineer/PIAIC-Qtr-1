{
 "cells": [
  {
   "cell_type": "markdown",
   "metadata": {},
   "source": [
    "# SWTLP # Functions # Chap 41-50"
   ]
  },
  {
   "cell_type": "code",
   "execution_count": 3,
   "metadata": {},
   "outputs": [
    {
     "name": "stdout",
     "output_type": "stream",
     "text": [
      "5\n"
     ]
    }
   ],
   "source": [
    "# Chap 41\n",
    "# Making a simple fucntion\n",
    "# def denotes definition or define\n",
    "# add_numbers is a function name\n",
    "# () are called parenthesis\n",
    "# (a,b) anything within brackets after function name are arguments\n",
    "# function can be argument less\n",
    "def add_numbers():\n",
    "    a = 2\n",
    "    b = 3\n",
    "    total = a + b\n",
    "    return (total)\n",
    "print (add_numbers()) #calling function"
   ]
  },
  {
   "cell_type": "code",
   "execution_count": 4,
   "metadata": {},
   "outputs": [
    {
     "name": "stdout",
     "output_type": "stream",
     "text": [
      "5\n"
     ]
    }
   ],
   "source": [
    "def add_numbers():\n",
    "    a = 2\n",
    "    b = 3\n",
    "    total = a + b\n",
    "    print (total) # instead of return we used print\n",
    "                  # worked perfectly\n",
    "add_numbers() #calling function"
   ]
  },
  {
   "cell_type": "code",
   "execution_count": 10,
   "metadata": {},
   "outputs": [
    {
     "name": "stdout",
     "output_type": "stream",
     "text": [
      "300\n",
      "3.33\n",
      "15\n"
     ]
    }
   ],
   "source": [
    "# Chap-42 Functions: Passing them information\n",
    "# Instead of fixed or parameter less function \n",
    "# we will create a function that can take parameter inputs\n",
    "\n",
    "def add_numbers(a, b):\n",
    "    total = a + b\n",
    "    print (total)\n",
    "add_numbers (100,200) # in calling function (parameters,parameters)\n",
    "# Arguments like this are positional arguments—arguments that \n",
    "# are loaded into function parameters.\n",
    "# here a becomes 100 and b becomes 200\n",
    "add_numbers (1.11,2.22) # using floats\n",
    "add_numbers (1+2, 5+7) #also performed mathematical op."
   ]
  },
  {
   "cell_type": "code",
   "execution_count": 12,
   "metadata": {},
   "outputs": [
    {
     "name": "stdout",
     "output_type": "stream",
     "text": [
      "\n",
      "Hello, there!\n",
      "\n",
      "Hello, my freind!\n",
      "\n",
      "1234.456\n"
     ]
    }
   ],
   "source": [
    "# Priting a string or message with function\n",
    "def greeting (message):\n",
    "    print ()\n",
    "    print (message)\n",
    "message = \"Hello, there!\"\n",
    "greeting (message)\n",
    "xyz = \"Hello, my freind!\"\n",
    "greeting (xyz)\n",
    "#parameter can be different from argument \n",
    "#but within brackets at the right place in calling function\n",
    "#it will serve the purpose\n",
    "abc = 1234.456\n",
    "greeting (abc)\n",
    "#It's okay that the name of the argument and the name of \n",
    "#the parameter don't match."
   ]
  },
  {
   "cell_type": "code",
   "execution_count": 16,
   "metadata": {},
   "outputs": [
    {
     "name": "stdout",
     "output_type": "stream",
     "text": [
      "\n",
      "Hello, Mr. Shahid & Mrs. Nida.\n",
      "\n",
      "Hello, Mr. Shahid & Mrs. Nida.\n"
     ]
    }
   ],
   "source": [
    "#Ch-43 Functions: Passing information to them a different way\n",
    "#Keyword argument instead of positional arguments\n",
    "def couple_names (husband, wife):\n",
    "    print ()\n",
    "    print (f\"Hello, Mr. {husband} & Mrs. {wife}.\")\n",
    "couple_names (\"Shahid\",\"Nida\")\n",
    "couple_names (wife=\"Nida\",husband=\"Shahid\")"
   ]
  },
  {
   "cell_type": "code",
   "execution_count": 22,
   "metadata": {},
   "outputs": [
    {
     "name": "stdout",
     "output_type": "stream",
     "text": [
      "\n",
      "10.0\n",
      "\n",
      "20.0\n",
      "\n",
      "10.0\n"
     ]
    }
   ],
   "source": [
    "#Chap-44 Functions: Assigning a default value to a parameter\n",
    "# Lets say the tax is fixed and you want to calculate the taxable amount\n",
    "# tax rate @ 10% or 0.1\n",
    "def tax_amount (amount, tax_per=0.1):\n",
    "# The default arg must follow non-default arg\n",
    "# positional arguments cannot be default arguments\n",
    "    tax_value = amount * tax_per\n",
    "    print ()\n",
    "    print (tax_value)\n",
    "# You can now only give one argument to run the function\n",
    "tax_amount (100)\n",
    "# You can also change the amount of the tax as below \n",
    "# making it a positional argument\n",
    "tax_amount (100, tax_per = 0.2)\n",
    "# However doing so will not fix the value of tax @ 20%\n",
    "# and it will revert back to the default parameter\n",
    "tax_amount (100)"
   ]
  },
  {
   "cell_type": "code",
   "execution_count": 5,
   "metadata": {},
   "outputs": [
    {
     "name": "stdout",
     "output_type": "stream",
     "text": [
      "\n",
      "Hello, Shahid!\n"
     ]
    }
   ],
   "source": [
    "# Chap-45 Functions: Mixing positional and keyword arguments\n",
    "# you can mix positional and keyword arguments in a function\n",
    "# positional argument will always come before keyword / default argument\n",
    "\n",
    "def greeting (greeting, f_name = \"Shahid\"):\n",
    "    print ()\n",
    "    print (greeting+\", \"+f_name+\"!\")\n",
    "\n",
    "greeting (\"Hello\")"
   ]
  },
  {
   "cell_type": "code",
   "execution_count": 6,
   "metadata": {},
   "outputs": [
    {
     "ename": "SyntaxError",
     "evalue": "non-default argument follows default argument (<ipython-input-6-917eb1f1023f>, line 3)",
     "output_type": "error",
     "traceback": [
      "\u001b[1;36m  File \u001b[1;32m\"<ipython-input-6-917eb1f1023f>\"\u001b[1;36m, line \u001b[1;32m3\u001b[0m\n\u001b[1;33m    def greeting (greeting, f_name = \"Shahid\", l_name):\u001b[0m\n\u001b[1;37m                 ^\u001b[0m\n\u001b[1;31mSyntaxError\u001b[0m\u001b[1;31m:\u001b[0m non-default argument follows default argument\n"
     ]
    }
   ],
   "source": [
    "# if you try to place the default/keyword arg between positional arguments\n",
    "# then you will get an error as below\n",
    "def greeting (greeting, f_name = \"Shahid\", l_name):\n",
    "    print ()\n",
    "    print (greeting+\", \" + f_name + \" \"+l_name + \"!\")"
   ]
  },
  {
   "cell_type": "code",
   "execution_count": 9,
   "metadata": {},
   "outputs": [
    {
     "name": "stdout",
     "output_type": "stream",
     "text": [
      "Islamabad\n"
     ]
    }
   ],
   "source": [
    "# Defining functions for dictionaries to find a specific value\n",
    "customers = {\n",
    "    0:{\n",
    "        'first name': 'Shahid', \n",
    "        'last name': 'Iqbal', \n",
    "        'address': 'Karachi'\n",
    "    }, \n",
    "    1:{\n",
    "        'first name': 'Noman', \n",
    "        'last name': 'Ahmed', \n",
    "        'address': 'Lahore'\n",
    "    }, \n",
    "    2:{\n",
    "        'first name': 'Badar', \n",
    "        'last name': 'Siddiqui', \n",
    "        'address': 'Islamabad'\n",
    "    }, \n",
    "    3:{\n",
    "        'first name': 'Rizwan', \n",
    "        'last name': 'Khan', \n",
    "        'address': 'Hyderabad'\n",
    "    },\n",
    "}\n",
    "#Lets say you make a function to find the last name of customer\n",
    "def find_customer (dic, inner_dict, target):\n",
    "    print (dic[inner_dict][target])\n",
    "find_customer(customers,2,\"address\")\n",
    "# This function call will return the address of customer 2"
   ]
  },
  {
   "cell_type": "code",
   "execution_count": 11,
   "metadata": {},
   "outputs": [
    {
     "ename": "TypeError",
     "evalue": "display_result() got an unexpected keyword argument 'overtime'",
     "output_type": "error",
     "traceback": [
      "\u001b[1;31m---------------------------------------------------------------------------\u001b[0m",
      "\u001b[1;31mTypeError\u001b[0m                                 Traceback (most recent call last)",
      "\u001b[1;32m<ipython-input-11-79eaf06eef99>\u001b[0m in \u001b[0;36m<module>\u001b[1;34m\u001b[0m\n\u001b[0;32m      5\u001b[0m     \u001b[0mprint\u001b[0m \u001b[1;33m(\u001b[0m\u001b[1;34mf\"The score was {score}\"\u001b[0m\u001b[1;33m)\u001b[0m\u001b[1;33m\u001b[0m\u001b[1;33m\u001b[0m\u001b[0m\n\u001b[0;32m      6\u001b[0m \u001b[1;31m# Lets say we pass two more arguments in calling the function\u001b[0m\u001b[1;33m\u001b[0m\u001b[1;33m\u001b[0m\u001b[1;33m\u001b[0m\u001b[0m\n\u001b[1;32m----> 7\u001b[1;33m \u001b[0mdisplay_result\u001b[0m \u001b[1;33m(\u001b[0m\u001b[1;34m\"Real Madrid\"\u001b[0m\u001b[1;33m,\u001b[0m \u001b[1;34m\"5-0\"\u001b[0m\u001b[1;33m,\u001b[0m \u001b[0movertime\u001b[0m\u001b[1;33m=\u001b[0m\u001b[1;34m\"yes\"\u001b[0m\u001b[1;33m,\u001b[0m \u001b[0minjuries\u001b[0m\u001b[1;33m=\u001b[0m\u001b[1;34m\"none\"\u001b[0m\u001b[1;33m)\u001b[0m\u001b[1;33m\u001b[0m\u001b[1;33m\u001b[0m\u001b[0m\n\u001b[0m",
      "\u001b[1;31mTypeError\u001b[0m: display_result() got an unexpected keyword argument 'overtime'"
     ]
    }
   ],
   "source": [
    "# Chap-46 Functions: Dealing with an unknown number of arguments\n",
    "# Function with 02 parameters\n",
    "def display_result(winner, score):\n",
    "    print (f\"The winner was {winner}\")\n",
    "    print (f\"The score was {score}\")\n",
    "# Lets say we pass two more arguments in calling the function\n",
    "display_result (\"Real Madrid\", \"5-0\", overtime=\"yes\", injuries=\"none\")\n",
    "# This will result in an error as below"
   ]
  },
  {
   "cell_type": "code",
   "execution_count": 18,
   "metadata": {},
   "outputs": [
    {
     "name": "stdout",
     "output_type": "stream",
     "text": [
      "The winner was Real Madrid\n",
      "The score was 5-0\n",
      "\n",
      "With Return\n",
      "The winner was Real Madrid\n",
      "The score was 5-0\n",
      "\n",
      "With Print Command\n",
      "The winner was Real Madrid\n",
      "The score was 5-0\n",
      "Ohter Details - {'overtime': 'yes', 'injuries': 'none'}\n"
     ]
    }
   ],
   "source": [
    "# In order to avoid the error due to additional argumnets\n",
    "# we introduce a new parameter others as **others\n",
    "def display_result(winner, score, **others):\n",
    "    print (f\"The winner was {winner}\")\n",
    "    print (f\"The score was {score}\")\n",
    "display_result (\"Real Madrid\", \"5-0\", overtime=\"yes\", injuries=\"none\")\n",
    "# Now this will not result in an error\n",
    "# but it will not display the others we added as arguments\n",
    "\n",
    "print ()\n",
    "\n",
    "# In order to return the others, we can use print or return\n",
    "print (\"With Return Command\")\n",
    "def display_result(winner, score, **others):\n",
    "    print (f\"The winner was {winner}\")\n",
    "    print (f\"The score was {score}\")\n",
    "    return others\n",
    "display_result (\"Real Madrid\", \"5-0\", overtime=\"yes\", injuries=\"none\")\n",
    "print ()\n",
    "print (\"With Print Command\")\n",
    "def display_result(winner, score, **others):\n",
    "    print (f\"The winner was {winner}\")\n",
    "    print (f\"The score was {score}\")\n",
    "    print (f\"Ohter Details - {others}\")\n",
    "display_result (\"Real Madrid\", \"5-0\", overtime=\"yes\", injuries=\"none\")\n",
    "# Other details will be printed / returned as dictionary"
   ]
  },
  {
   "cell_type": "code",
   "execution_count": 20,
   "metadata": {},
   "outputs": [
    {
     "name": "stdout",
     "output_type": "stream",
     "text": [
      "100\n",
      "200\n",
      "(300, 400, 500, 600.52)\n"
     ]
    }
   ],
   "source": [
    "# ** will be used for optional strings\n",
    "# * single asteric will be used for integers / floats\n",
    "def show_num (f_no, s_no, *others):\n",
    "    print (f_no)\n",
    "    print (s_no)\n",
    "    print (others)\n",
    "show_num(100,200,300,400,500,600.52)\n",
    "# Others will be printed as tupple"
   ]
  },
  {
   "cell_type": "code",
   "execution_count": 25,
   "metadata": {},
   "outputs": [
    {
     "name": "stdout",
     "output_type": "stream",
     "text": [
      "The winner was Real Madrid\n",
      "The score was 5-0\n",
      "overtime : yes\n",
      "injuries : none\n"
     ]
    }
   ],
   "source": [
    "# Running a loop with optional parameters\n",
    "# Strings\n",
    "def display_result(winner, score, **others):\n",
    "    print (f\"The winner was {winner}\")\n",
    "    print (f\"The score was {score}\")\n",
    "    for key, value in others.items(): # Dictionary loop\n",
    "        print (key,\":\",value) # Priting key & value\n",
    "display_result (\"Real Madrid\", \"5-0\", overtime=\"yes\", injuries=\"none\")"
   ]
  },
  {
   "cell_type": "code",
   "execution_count": 26,
   "metadata": {},
   "outputs": [
    {
     "name": "stdout",
     "output_type": "stream",
     "text": [
      "100\n",
      "200\n",
      "300\n",
      "400\n",
      "500\n",
      "600.52\n"
     ]
    }
   ],
   "source": [
    "# Running a loop with optional parameters\n",
    "# Integers & Floats\n",
    "def show_num (f_no, s_no, *others):\n",
    "    print (f_no)\n",
    "    print (s_no)\n",
    "    for a in others:\n",
    "        print (a)\n",
    "show_num(100,200,300,400,500,600.52)"
   ]
  },
  {
   "cell_type": "code",
   "execution_count": 1,
   "metadata": {},
   "outputs": [
    {
     "name": "stdout",
     "output_type": "stream",
     "text": [
      "10.0\n",
      "10.0\n"
     ]
    }
   ],
   "source": [
    "## Chap-47 Functions: Passing information back \n",
    "## from them\n",
    "\n",
    "# Return command passes the information rather than\n",
    "# displaying it back to the calling function\n",
    "\n",
    "def calc_tax (sales_value, tax_rate):\n",
    "    tax = sales_value * tax_rate\n",
    "    return tax\n",
    "print (calc_tax(100,0.1))\n",
    "\n",
    "# OR\n",
    "\n",
    "def calc_tax (sales_value, tax_rate):\n",
    "    return (sales_value * tax_rate)\n",
    "print (calc_tax(100,0.1))"
   ]
  },
  {
   "cell_type": "code",
   "execution_count": 30,
   "metadata": {},
   "outputs": [
    {
     "name": "stdout",
     "output_type": "stream",
     "text": [
      "5\n",
      "\n",
      "5\n"
     ]
    }
   ],
   "source": [
    "# Chap-48 Using functions as variables (which is\n",
    "# what they really are)\n",
    "#----------------------\n",
    "def add_no (f_no, s_no):\n",
    "    return (f_no + s_no)\n",
    "def sub_no (f_no, s_no):\n",
    "    return (f_no - s_no)\n",
    "# Longer way of calling the sum of two func will be\n",
    "result_add = add_no (1,2)\n",
    "result_sub = sub_no (3,1)\n",
    "sum_results = result_add + result_sub\n",
    "print (sum_results)\n",
    "print ()\n",
    "# Better way of doing the above is\n",
    "print (add_no(1,2)+sub_no(3,1))"
   ]
  },
  {
   "cell_type": "code",
   "execution_count": 51,
   "metadata": {},
   "outputs": [
    {
     "name": "stdout",
     "output_type": "stream",
     "text": [
      "Other Number 5\n",
      "6\n"
     ]
    }
   ],
   "source": [
    "# Chap-49 Functions: Local vs. global variables\n",
    "# --------------------------------------------\n",
    "# Any variable defined within a function is local\n",
    "# You cannot call a local variable in the main program\n",
    "# Any variable outside the function in main program\n",
    "# can be called and are called as Global variable\n",
    "# You can however define a global variable in the function\n",
    "# using global (var)\n",
    "def add_no ():\n",
    "    global x\n",
    "    x = 5\n",
    "    y = 1\n",
    "    return (x+y)\n",
    "\n",
    "print (\"Other Number\", x)\n",
    "print (add_no())"
   ]
  },
  {
   "cell_type": "code",
   "execution_count": 53,
   "metadata": {},
   "outputs": [
    {
     "name": "stdout",
     "output_type": "stream",
     "text": [
      "fantastic\n",
      "Python is  fantastic\n"
     ]
    }
   ],
   "source": [
    "def myfunc():\n",
    "    global x\n",
    "    x = \"fantastic\"\n",
    "    return x\n",
    "\n",
    "print (myfunc())\n",
    "\n",
    "print(\"Python is \" , x)"
   ]
  },
  {
   "cell_type": "code",
   "execution_count": 54,
   "metadata": {},
   "outputs": [
    {
     "name": "stdout",
     "output_type": "stream",
     "text": [
      "Other Number before call 2\n",
      "6\n",
      "Other Number after call 5\n"
     ]
    }
   ],
   "source": [
    "x = 2\n",
    "\n",
    "def add_no ():\n",
    "    global x\n",
    "    x = 5\n",
    "    y = 1\n",
    "    return (x+y)\n",
    "\n",
    "print (\"Other Number before call\", x)\n",
    "print (add_no())\n",
    "print (\"Other Number after call\", x)"
   ]
  },
  {
   "cell_type": "code",
   "execution_count": 6,
   "metadata": {},
   "outputs": [
    {
     "name": "stdout",
     "output_type": "stream",
     "text": [
      "Shahid Iqbal\n",
      "Age 35\n",
      "Sex Male\n",
      "Address Karachi\n"
     ]
    }
   ],
   "source": [
    "# Running Loop with Functions Strings with optional parameters\n",
    "def person_details (f_name, l_name, **others):\n",
    "    print (f_name, l_name)\n",
    "    for k, v in others.items():\n",
    "        print (k.title(),v.title())\n",
    "person_details (\"Shahid\", \"Iqbal\", age = \"35\", sex = \"male\", address =\"Karachi\")"
   ]
  },
  {
   "cell_type": "markdown",
   "metadata": {},
   "source": [
    "# PYTHON CRASH COURSE"
   ]
  },
  {
   "cell_type": "code",
   "execution_count": 8,
   "metadata": {},
   "outputs": [
    {
     "name": "stdout",
     "output_type": "stream",
     "text": [
      "Hello Shahid !\n"
     ]
    }
   ],
   "source": [
    "# Simple Function with inputs\n",
    "def greet_user (name): #in function within parenthesis is parameter\n",
    "    print (\"Hello\", name.title(),\"!\")\n",
    "greet_user(\"Shahid\") #in function call within parenthesis variable is argument"
   ]
  },
  {
   "cell_type": "code",
   "execution_count": 15,
   "metadata": {},
   "outputs": [
    {
     "name": "stdout",
     "output_type": "stream",
     "text": [
      "\n",
      "I have a Dog.\n",
      "My Dog's name is Harry.\n",
      "\n",
      "I have a Cat.\n",
      "My Cat's name is Manoo.\n",
      "\n",
      "I have a Mouse.\n",
      "My Mouse's name is Chuha.\n",
      "\n",
      "I have a Chuha.\n",
      "My Chuha's name is Mouse.\n"
     ]
    }
   ],
   "source": [
    "# Positional Arguments\n",
    "# When you call a function, Python must match each argument in the function\n",
    "# call with a parameter in the function definition.\n",
    "# Values matched up this way are called positional arguments.\n",
    "def describe_pet(animal_type, pet_name):     # Display information about a pet\n",
    "    print(\"\\nI have a \" + animal_type + \".\")\n",
    "    print(\"My \" + animal_type + \"'s name is \" + pet_name.title() + \".\")\n",
    "describe_pet('Dog', 'Harry')\n",
    "# You can call the function multiple times\n",
    "describe_pet (\"Cat\", \"Manoo\")\n",
    "describe_pet (\"Mouse\", \"Chuha\")\n",
    "# Order matters in positional arguments\n",
    "describe_pet (\"Chuha\", \"Mouse\")"
   ]
  },
  {
   "cell_type": "code",
   "execution_count": 16,
   "metadata": {},
   "outputs": [
    {
     "name": "stdout",
     "output_type": "stream",
     "text": [
      "\n",
      "I have a Mouse.\n",
      "My Mouse's name is Chuha.\n"
     ]
    }
   ],
   "source": [
    "# Keyword arguments free you from having\n",
    "# to worry about correctly ordering your arguments \n",
    "# in the function call, and they clarify the role \n",
    "# of each value in the function call.\n",
    "def describe_pet(animal_type, pet_name):     # Display information about a pet\n",
    "    print(\"\\nI have a \" + animal_type + \".\")\n",
    "    print(\"My \" + animal_type + \"'s name is \" + pet_name.title() + \".\")\n",
    "describe_pet (pet_name=\"Chuha\", animal_type=\"Mouse\")"
   ]
  },
  {
   "cell_type": "code",
   "execution_count": 18,
   "metadata": {},
   "outputs": [
    {
     "name": "stdout",
     "output_type": "stream",
     "text": [
      "\n",
      "I have a Dog.\n",
      "My Dog's name is Harry.\n",
      "\n",
      "I have a deer.\n",
      "My deer's name is Sammy.\n"
     ]
    }
   ],
   "source": [
    "# You can also define a default value for each parameter.\n",
    "# If the argument is not given in the function call then\n",
    "# the default value will return the output\n",
    "def describe_pet(pet_name, animal_type = \"Dog\"):     # Display information about a pet\n",
    "    print(\"\\nI have a \" + animal_type + \".\")\n",
    "    print(\"My \" + animal_type + \"'s name is \" + pet_name.title() + \".\")\n",
    "describe_pet('Harry')\n",
    "# You can also give a positional argument in the function call\n",
    "# this will override the default value\n",
    "describe_pet(pet_name='sammy', animal_type='deer')\n",
    "# Default parameters will always follow the positional parameters and keyword arguments"
   ]
  },
  {
   "cell_type": "code",
   "execution_count": 21,
   "metadata": {},
   "outputs": [
    {
     "name": "stdout",
     "output_type": "stream",
     "text": [
      "\n",
      "The size of the shirt is Medium\n",
      "Great Shirt\n",
      "\n",
      "The size of the shirt is Medium\n",
      "Great Shirt\n"
     ]
    }
   ],
   "source": [
    "# 8-3. T-Shirt: Write a function called make_shirt() that accepts a size and the\n",
    "# text of a message that should be printed on the shirt. The function should print\n",
    "# a sentence summarizing the size of the shirt and the message printed on it.\n",
    "# Call the function once using positional arguments to make a shirt. Call the\n",
    "# function a second time using keyword arguments.\n",
    "def make_shirt (size, message):\n",
    "    print (\"\\nThe size of the shirt is\", size)\n",
    "    print (message)\n",
    "make_shirt (\"Medium\", \"Great Shirt\")\n",
    "make_shirt (message=\"Great Shirt\", size=\"Medium\")"
   ]
  },
  {
   "cell_type": "code",
   "execution_count": 22,
   "metadata": {},
   "outputs": [
    {
     "name": "stdout",
     "output_type": "stream",
     "text": [
      "Shahid Iqbal\n"
     ]
    }
   ],
   "source": [
    "# Return can help you get the value in the calling function\n",
    "# which you can assign to any variable you want and do the functions\n",
    "# return will never display the results / output\n",
    "def get_formatted_name(first_name, last_name):\n",
    "    full_name = first_name + ' ' + last_name\n",
    "    return full_name.title()\n",
    "student = get_formatted_name('shahid', 'iqbal')\n",
    "print(student)"
   ]
  },
  {
   "cell_type": "code",
   "execution_count": 24,
   "metadata": {},
   "outputs": [
    {
     "name": "stdout",
     "output_type": "stream",
     "text": [
      "Mohammed Rizwan Khan\n"
     ]
    }
   ],
   "source": [
    "# using 03 paramters / arguments\n",
    "def get_formatted_name(first_name, middle_name, last_name):\n",
    "    full_name = first_name + ' ' + middle_name + ' ' + last_name\n",
    "    return full_name.title()\n",
    "student = get_formatted_name(\"mohammed\", \"rizwan\", \"khan\")\n",
    "print(student)"
   ]
  },
  {
   "cell_type": "code",
   "execution_count": 30,
   "metadata": {},
   "outputs": [
    {
     "name": "stdout",
     "output_type": "stream",
     "text": [
      "Jimi Hendrix\n",
      "John Lee Hooker\n"
     ]
    }
   ],
   "source": [
    "# A program with optional middle name within a function parameters\n",
    "def get_formatted_name(first_name, last_name, middle_name=\"\"):\n",
    "    if middle_name: # will run only if the middle name is entered in arguments\n",
    "        full_name = first_name + ' ' + middle_name + ' ' + last_name\n",
    "    else: # will run if the middle name argument is missing\n",
    "        full_name = first_name + ' ' + last_name\n",
    "    return full_name.title()\n",
    "musician = get_formatted_name('jimi', 'hendrix')\n",
    "print(musician)\n",
    "musician = get_formatted_name('john', 'hooker', 'lee')\n",
    "print(musician)"
   ]
  },
  {
   "cell_type": "code",
   "execution_count": 33,
   "metadata": {},
   "outputs": [
    {
     "name": "stdout",
     "output_type": "stream",
     "text": [
      "{'first_name': 'jimi', 'last_name': 'hendrix'}\n",
      "{'first_name': 'john', 'middle_name': 'lee', 'last_name': 'hooker'}\n"
     ]
    }
   ],
   "source": [
    "# Returning the output as a Dictionary in a function\n",
    "def get_formatted_name(first_name, last_name, middle_name=\"\"):\n",
    "    if middle_name: # will run only if the middle name is entered in arguments\n",
    "        person = {\"first_name\":first_name, \"middle_name\":middle_name, \"last_name\":last_name}\n",
    "    else: # will run if the middle name argument is missing\n",
    "        person = {\"first_name\":first_name, \"last_name\":last_name}\n",
    "    return person\n",
    "musician = get_formatted_name('jimi', 'hendrix')\n",
    "print(musician)\n",
    "musician = get_formatted_name('john', 'hooker', 'lee')\n",
    "print(musician)"
   ]
  },
  {
   "cell_type": "code",
   "execution_count": 43,
   "metadata": {},
   "outputs": [
    {
     "name": "stdout",
     "output_type": "stream",
     "text": [
      "Enter your name or enter \"q\" to quit:\n",
      "First Name: Shahid\n",
      "Middle Name: \n",
      "Last Name: Iqbal\n",
      "Shahid Iqbal\n",
      "Enter your name or enter \"q\" to quit:\n",
      "First Name: q\n"
     ]
    }
   ],
   "source": [
    "# Using a function with While Loop\n",
    "def get_formatted_name(first_name, last_name, middle_name=\"\"):\n",
    "    if middle_name: # will run only if the middle name is entered in arguments\n",
    "        full_name = first_name + ' ' + middle_name + ' ' + last_name\n",
    "    else: # will run if the middle name argument is missing\n",
    "        full_name = first_name + ' ' + last_name\n",
    "    return full_name.title()\n",
    "while True:\n",
    "    print (\"Enter your name or enter \\\"q\\\" to quit:\")\n",
    "    first_name = str (input(\"First Name: \"))\n",
    "    if first_name == \"q\" or first_name==\"Q\":\n",
    "        break\n",
    "    middle_name = str (input(\"Middle Name: \"))\n",
    "    last_name = str (input(\"Last Name: \"))\n",
    "    name = get_formatted_name(first_name, last_name, middle_name)\n",
    "    print (name)"
   ]
  },
  {
   "cell_type": "code",
   "execution_count": 6,
   "metadata": {},
   "outputs": [
    {
     "name": "stdout",
     "output_type": "stream",
     "text": [
      "\"Karachi, Pakistan\"\n",
      "\"Delhi, India\"\n",
      "\"Newyork, Usa\"\n"
     ]
    }
   ],
   "source": [
    "# 8-6. City Names: Write a function called \n",
    "# city_country() that takes in the name of a city \n",
    "# and its country. The function should return a \n",
    "# string formatted like this: \"Santiago, Chile\"\n",
    "# Call your function with at least three city-country \n",
    "# pairs, and print the value that’s returned.\n",
    "\n",
    "def city_country (city, country):\n",
    "    full_details = \"\\\"\"+ city.title()+\", \"+ country.title() + \"\\\"\"\n",
    "    return full_details\n",
    "print (city_country (\"karachi\", \"pakistan\"))\n",
    "print (city_country (\"delhi\", \"india\"))\n",
    "print (city_country (\"newyork\", \"usa\"))"
   ]
  },
  {
   "cell_type": "code",
   "execution_count": 19,
   "metadata": {},
   "outputs": [
    {
     "name": "stdout",
     "output_type": "stream",
     "text": [
      "{'Artist': 'Atif Aslam', 'Album': 'Jal'}\n",
      "{'Artist': 'Stings', 'Album': 'Doree'}\n",
      "{'Artist': 'Farhan', 'Album': 'Jal Pari'}\n",
      "\n",
      "{'Artist': 'Atif Aslam', 'Album': 'Jal', 'Tracks': 10}\n",
      "{'Artist': 'Stings', 'Album': 'Doree'}\n"
     ]
    }
   ],
   "source": [
    "# 8-7. Album: Write a function called make_album() \n",
    "# that builds a dictionary describing a music album. \n",
    "# The function should take in an artist name and an\n",
    "# album title, and it should return a dictionary \n",
    "# containing these two pieces of information. \n",
    "# Use the function to make three dictionaries \n",
    "# representing different albums. Print each return \n",
    "# value to show that the dictionaries are storing the\n",
    "# album information correctly.\n",
    "\n",
    "def make_album(artist_name, album_title):\n",
    "    dict_artist = {\n",
    "        \"Artist\": artist_name.title(),\n",
    "        \"Album\" : album_title.title()\n",
    "    }\n",
    "    return dict_artist\n",
    "\n",
    "print (make_album (\"Atif Aslam\", \"Jal\"))\n",
    "print (make_album (\"Stings\",\"Doree\"))\n",
    "print (make_album (\"Farhan\", \"Jal Pari\"))\n",
    "\n",
    "# Add an optional parameter to make_album() that \n",
    "# allows you to store the number of tracks on an album.\n",
    "# If the calling line includes a value for the number\n",
    "# of tracks, add that value to the album’s dictionary. \n",
    "# Make at least one new function call that includes \n",
    "# the number of tracks on an album.\n",
    "\n",
    "def make_album_2 (artist_name, album_title, no_of_tracks=0):\n",
    "    if no_of_tracks:\n",
    "        dict_artist = {\n",
    "            \"Artist\": artist_name.title(),\n",
    "            \"Album\" : album_title.title(),\n",
    "            \"Tracks\": no_of_tracks\n",
    "        }\n",
    "    else: \n",
    "        dict_artist = {\n",
    "            \"Artist\": artist_name.title(),\n",
    "            \"Album\" : album_title.title()\n",
    "        }\n",
    "    return dict_artist\n",
    "print ()\n",
    "print (make_album_2 (\"Atif Aslam\", \"Jal\", 10))\n",
    "print (make_album_2 (\"Stings\",\"Doree\"))"
   ]
  },
  {
   "cell_type": "code",
   "execution_count": 22,
   "metadata": {},
   "outputs": [
    {
     "name": "stdout",
     "output_type": "stream",
     "text": [
      "\n",
      "Enter the name of the artist & album.\n",
      "Press 'q' at any point to exit\n",
      "Artist Name: Shahid\n",
      "Album Title: Shaded\n",
      "\n",
      "{'Artist': 'Shahid', 'Album': 'Shaded'}\n",
      "\n",
      "Enter the name of the artist & album.\n",
      "Press 'q' at any point to exit\n",
      "Artist Name: q\n"
     ]
    }
   ],
   "source": [
    "# 8-8. User Albums: Start with your program from \n",
    "# Exercise 8-7. Write a while loop that allows users\n",
    "# to enter an album’s artist and title. Once you have \n",
    "# that information, call make_album() with the user’s \n",
    "# input and print the dictionary that’s created. Be \n",
    "# sure to include a quit value in the while loop.\n",
    "\n",
    "def make_album(artist_name, album_title):\n",
    "    dict_artist = {\n",
    "        \"Artist\": artist_name.title(),\n",
    "        \"Album\" : album_title.title()\n",
    "    }\n",
    "    return dict_artist\n",
    "\n",
    "while True:\n",
    "    print (\"\\nEnter the name of the artist & album.\")\n",
    "    print (\"Press 'q' at any point to exit\")\n",
    "    artist_name = str (input (\"Artist Name: \"))\n",
    "    if artist_name == \"q\" or artist_name == \"Q\":\n",
    "        break\n",
    "    album_title = str (input (\"Album Title: \"))\n",
    "    if album_title == \"q\" or album_title == \"Q\":\n",
    "        break\n",
    "    print ()\n",
    "    print (make_album(artist_name,album_title))"
   ]
  },
  {
   "cell_type": "code",
   "execution_count": 23,
   "metadata": {},
   "outputs": [
    {
     "name": "stdout",
     "output_type": "stream",
     "text": [
      "Hello, Shahid!\n",
      "\n",
      "Hello, Shoiab!\n",
      "\n",
      "Hello, Sajid!\n",
      "\n",
      "Hello, Yousuf!\n",
      "\n"
     ]
    }
   ],
   "source": [
    "# Passing a List in the function\n",
    "def greet (names):\n",
    "    for name in names:\n",
    "        print (f\"Hello, {name.title()}!\\n\")\n",
    "users = [\"Shahid\",\"Shoiab\",\"Sajid\",\"Yousuf\"]\n",
    "greet (users)"
   ]
  },
  {
   "cell_type": "code",
   "execution_count": 54,
   "metadata": {},
   "outputs": [
    {
     "name": "stdout",
     "output_type": "stream",
     "text": [
      "\n",
      "The completed task is Listening.\n",
      "The balance tasks are:\n",
      "['Eating', 'Drinking', 'Working', 'Sleeping'].\n",
      "The list of completed tasks are:\n",
      " ['Listening']\n",
      "\n",
      "The completed task is Eating.\n",
      "The balance tasks are:\n",
      "['Drinking', 'Working', 'Sleeping'].\n",
      "The list of completed tasks are:\n",
      " ['Listening', 'Eating']\n"
     ]
    }
   ],
   "source": [
    "# Modifying a List with a Function\n",
    "global completed_task \n",
    "completed_task = []\n",
    "\n",
    "def list_mod (lists, task=[]):\n",
    "    if task in lists:\n",
    "        index_no = lists.index(task)\n",
    "        popped_task = lists.pop(index_no)\n",
    "        print (f\"\\nThe completed task is {task}.\")\n",
    "        print (f\"The balance tasks are:\\n{lists}.\")\n",
    "        completed_task.append(task)\n",
    "    else:\n",
    "        print (\"Task not in list\")\n",
    "\n",
    "list_of_task = [\"Eating\", \"Drinking\",\"Working\", \"Sleeping\", \"Listening\"]\n",
    "task_completed = \"Listening\"\n",
    "list_mod (list_of_task, task_completed)\n",
    "print (f\"The list of completed tasks are:\\n {completed_task}\")\n",
    "\n",
    "task_completed_new = \"Eating\"\n",
    "list_mod (list_of_task, task_completed_new)\n",
    "print (f\"The list of completed tasks are:\\n {completed_task}\")"
   ]
  },
  {
   "cell_type": "code",
   "execution_count": 57,
   "metadata": {},
   "outputs": [
    {
     "name": "stdout",
     "output_type": "stream",
     "text": [
      "Completing Task = Listening.\n",
      "Completing Task = Sleeping.\n",
      "Completing Task = Working.\n",
      "Completing Task = Drinking.\n",
      "Completing Task = Eating.\n",
      "\n",
      "Task Completed = Listening\n",
      "Task Completed = Sleeping\n",
      "Task Completed = Working\n",
      "Task Completed = Drinking\n",
      "Task Completed = Eating\n"
     ]
    }
   ],
   "source": [
    "# Modifying a List with a Function - Part 2\n",
    "# Using While loop\n",
    "\n",
    "def list_mod (lists, completed=[]):\n",
    "    while lists:\n",
    "        popped_task = lists.pop()\n",
    "        print (f\"Completing Task = {popped_task}.\")\n",
    "        completed.append(popped_task)\n",
    "    print ()\n",
    "    for task in completed:\n",
    "        print (f\"Task Completed = {task}\")\n",
    "\n",
    "list_of_task = [\"Eating\", \"Drinking\",\"Working\", \"Sleeping\", \"Listening\"]\n",
    "task_completed = []\n",
    "\n",
    "list_mod (list_of_task, task_completed)\n",
    "# remember the spelling (bavlay)"
   ]
  },
  {
   "cell_type": "code",
   "execution_count": 53,
   "metadata": {},
   "outputs": [
    {
     "name": "stdout",
     "output_type": "stream",
     "text": [
      "Printing model: dodecahedron\n",
      "Printing model: robot pendant\n",
      "Printing model: iphone case\n",
      "\n",
      "The following models have been printed:\n",
      "dodecahedron\n",
      "robot pendant\n",
      "iphone case\n"
     ]
    }
   ],
   "source": [
    "def print_models(unprinted_designs, completed_models):\n",
    "    while unprinted_designs:\n",
    "        current_design = unprinted_designs.pop()\n",
    "        print(\"Printing model: \" + current_design)\n",
    "        completed_models.append(current_design)\n",
    "def show_completed_models(completed_models):\n",
    "    print(\"\\nThe following models have been printed:\")\n",
    "    for completed_model in completed_models:\n",
    "        print(completed_model)\n",
    "\n",
    "unprinted_designs = ['iphone case', 'robot pendant', 'dodecahedron']\n",
    "completed_models = []\n",
    "print_models(unprinted_designs, completed_models)\n",
    "show_completed_models(completed_models)"
   ]
  },
  {
   "cell_type": "code",
   "execution_count": 7,
   "metadata": {},
   "outputs": [
    {
     "name": "stdout",
     "output_type": "stream",
     "text": [
      "Completing Task = Listening.\n",
      "Completing Task = Sleeping.\n",
      "Completing Task = Working.\n",
      "Completing Task = Drinking.\n",
      "Completing Task = Eating.\n",
      "\n",
      "Task Completed = Listening\n",
      "Task Completed = Sleeping\n",
      "Task Completed = Working\n",
      "Task Completed = Drinking\n",
      "Task Completed = Eating\n",
      "\n",
      "['Eating', 'Drinking', 'Working', 'Sleeping', 'Listening']\n"
     ]
    }
   ],
   "source": [
    "# Modifying a List with a Function - Part 3\n",
    "# Keeping the original list intact\n",
    "# Using While loop\n",
    "\n",
    "def list_mod (lists, completed=[]):\n",
    "    while lists:\n",
    "        popped_task = lists.pop()\n",
    "        print (f\"Completing Task = {popped_task}.\")\n",
    "        completed.append(popped_task)\n",
    "    print ()\n",
    "    for task in completed:\n",
    "        print (f\"Task Completed = {task}\")\n",
    "\n",
    "list_of_task = [\"Eating\", \"Drinking\",\"Working\", \"Sleeping\", \"Listening\"]\n",
    "task_completed = []\n",
    "\n",
    "list_mod (list_of_task[:], task_completed) \n",
    "# [:] will not allow changes in the main list\n",
    "# all the changes will be made in the copy list\n",
    "print ()\n",
    "print (list_of_task)\n",
    "# remember the spelling (bavlay)"
   ]
  },
  {
   "cell_type": "code",
   "execution_count": 11,
   "metadata": {},
   "outputs": [
    {
     "name": "stdout",
     "output_type": "stream",
     "text": [
      "('Cheese', 'Olives', 'Chicken', 'Oregano', 'Bell Pepper')\n",
      "\n",
      "Cheese\n",
      "Olives\n",
      "Chicken\n",
      "Oregano\n",
      "Bell Pepper\n"
     ]
    }
   ],
   "source": [
    "# Passing an Arbitrary Number of Arguments in Function\n",
    "def pizza_topping (*toppings): #one * makes a tupple # two ** makes a dictionary\n",
    "    print (toppings)\n",
    "pizza_topping (\"Cheese\",\"Olives\",\"Chicken\", \"Oregano\", \"Bell Pepper\")\n",
    "print ()\n",
    "#Another way\n",
    "def pizza_toppings (*toppings):\n",
    "    for a in toppings:\n",
    "        print (a)\n",
    "pizza_toppings (\"Cheese\",\"Olives\",\"Chicken\", \"Oregano\", \"Bell Pepper\")\n"
   ]
  },
  {
   "cell_type": "code",
   "execution_count": 18,
   "metadata": {},
   "outputs": [
    {
     "name": "stdout",
     "output_type": "stream",
     "text": [
      "Making a pizza of 16 inches with the following toppings.\n",
      "-  Cheese\n",
      "-  Olives\n",
      "-  Chicken\n",
      "-  Oregano\n",
      "-  Bell Pepper\n"
     ]
    }
   ],
   "source": [
    "# Mixing Positional and Arbitrary Arguments \n",
    "#    positional, aribitrary argument\n",
    "def pizza (size, *toppings):\n",
    "    print (f\"Making a pizza of {size} inches with the following toppings.\")\n",
    "    for a in toppings:\n",
    "        print (\"- \",a)\n",
    "pizza (16, \"Cheese\",\"Olives\",\"Chicken\", \"Oregano\", \"Bell Pepper\")"
   ]
  },
  {
   "cell_type": "code",
   "execution_count": 14,
   "metadata": {},
   "outputs": [
    {
     "name": "stdout",
     "output_type": "stream",
     "text": [
      "\n",
      "Please add the user data below:\n",
      "First Name: Shahid\n",
      "Last Name: Iqbal\n",
      "\n",
      "Please enter 'other' information or enter:\n",
      "Age: 35\n",
      "Number: +923212210302\n",
      "Email address: shahid.nedtex@gmail.com\n",
      "{'First Name': 'Shahid', 'Last Name': 'Iqbal', 'Age': '35', 'Telephone_No': '+923212210302', 'Email_Address': 'shahid.nedtex@gmail.com'}\n"
     ]
    }
   ],
   "source": [
    "# Using Arbitrary Keyword Arguments\n",
    "# If you dont have an idea about the no. of arguments\n",
    "# that might be added by user then use ** instead of *\n",
    "\n",
    "def user_profile (f_name,l_name,**other_info):\n",
    "    profile = {}\n",
    "    profile [\"First Name\"] = f_name.title()\n",
    "    profile [\"Last Name\"] = l_name.title()\n",
    "    if other_info:\n",
    "        for k,v in other_info.items():\n",
    "            profile [k.title()] = v\n",
    "        return profile\n",
    "    else:\n",
    "        return profile\n",
    "\n",
    "print (\"\\nPlease add the user data below:\")\n",
    "first_name = str (input (\"First Name: \"))\n",
    "last_name = str (input (\"Last Name: \"))\n",
    "print (\"\\nPlease enter 'other' information or enter:\")\n",
    "age = str (input (\"Age: \"))\n",
    "telephone_no = str (input (\"Number: \"))\n",
    "email_address = str (input (\"Email address: \"))\n",
    "user_data = user_profile (\n",
    "    first_name, \n",
    "    last_name, \n",
    "    Age = age, \n",
    "    Telephone_No = telephone_no,\n",
    "    Email_Address = email_address,\n",
    ")\n",
    "print (user_data)"
   ]
  },
  {
   "cell_type": "code",
   "execution_count": 20,
   "metadata": {},
   "outputs": [
    {
     "name": "stdout",
     "output_type": "stream",
     "text": [
      "\n",
      "Please add the user data below:\n",
      "First Name: Shahid\n",
      "Last Name: Iqbal\n",
      "\n",
      "Please enter 'other' information or enter:\n",
      "Age: \n",
      "Number: +92321221030\n",
      "Email address: shahid@ael.com.pk\n",
      "{'First Name': 'Shahid', 'Last Name': 'Iqbal', 'Telephone_No': '+92321221030'}\n"
     ]
    }
   ],
   "source": [
    "# Using Arbitrary Keyword Arguments - Part # 2\n",
    "\n",
    "# Remade the program with the possibility of excluding \n",
    "# the key:value not entered by customer\n",
    "\n",
    "def user_profile (f_name,l_name,**other_info):\n",
    "    profile = {}\n",
    "    profile [\"First Name\"] = f_name.title()\n",
    "    profile [\"Last Name\"] = l_name.title()\n",
    "    for k,v in other_info.items():\n",
    "        if v == \"\":\n",
    "            continue \n",
    "        else:\n",
    "            profile [k.title()] = v\n",
    "            return profile\n",
    "\n",
    "print (\"\\nPlease add the user data below:\")\n",
    "first_name = str (input (\"First Name: \"))\n",
    "last_name = str (input (\"Last Name: \"))\n",
    "print (\"\\nPlease enter 'other' information or enter:\")\n",
    "age = str (input (\"Age: \"))\n",
    "telephone_no = str (input (\"Number: \"))\n",
    "email_address = str (input (\"Email address: \"))\n",
    "user_data = user_profile (\n",
    "    first_name, \n",
    "    last_name, \n",
    "    Age = age, \n",
    "    Telephone_No = telephone_no,\n",
    "    Email_Address = email_address,\n",
    ")\n",
    "print (user_data)"
   ]
  },
  {
   "cell_type": "code",
   "execution_count": 8,
   "metadata": {},
   "outputs": [
    {
     "name": "stdout",
     "output_type": "stream",
     "text": [
      "\n",
      "Please add the user data below:\n",
      "First Name: Shahid\n",
      "Last Name: Iqbal\n",
      "\n",
      "Please enter 'other' information or press enter for none:\n",
      "Age: 35\n",
      "Number: 03212210302\n",
      "Email address: shahid.nedtex@gmail.com\n",
      "{'First Name': 'Shahid', 'Last Name': 'Iqbal', 'Age': '35', 'Telephone_No': '03212210302', 'Email': 'shahid.nedtex@gmail.com'}\n",
      "\n",
      "{0: {'First Name': 'Shoaib', 'Last Name': 'Iqbal', 'Age': '32', 'Telephone_No': '021-34021213', 'Email': 'shoaib_hmsi@gmail.com'}, 1: {'First Name': 'Rizwan', 'Last Name': 'Khan', 'Age': '55', 'Telephone_No': '021-35031072', 'Email': 'rizwan@ael.com.pk'}, 2: {'First Name': 'Noman', 'Last Name': 'Ahmed', 'Age': '34', 'Telephone_No': '', 'Email': 'noman@shell.pk'}, 3: {'First Name': 'Yousuf', 'Last Name': 'Iqbal', 'Age': '28', 'Telephone_No': '021-34021213', 'Email': ''}, 4: {'First Name': 'Shahid', 'Last Name': 'Iqbal', 'Age': '35', 'Telephone_No': '03212210302', 'Email': 'shahid.nedtex@gmail.com'}}\n"
     ]
    }
   ],
   "source": [
    "# Using Arbitrary Keyword Arguments\n",
    "# Creating a dict with a function and adding it to the main dictionary\n",
    "\n",
    "dict_of_users = {\n",
    "    0:{\n",
    "        \"First Name\":\"Shoaib\",\n",
    "        \"Last Name\": \"Iqbal\",\n",
    "        \"Age\": \"32\",\n",
    "        \"Telephone_No\": \"021-34021213\",\n",
    "        \"Email\":\"shoaib_hmsi@gmail.com\"\n",
    "    },\n",
    "    1:{\n",
    "        \"First Name\": \"Rizwan\",\n",
    "        \"Last Name\": \"Khan\",\n",
    "        \"Age\": \"55\",\n",
    "        \"Telephone_No\": \"021-35031072\",\n",
    "        \"Email\": \"rizwan@ael.com.pk\"\n",
    "    },\n",
    "    2:{\n",
    "        \"First Name\": \"Noman\",\n",
    "        \"Last Name\": \"Ahmed\",\n",
    "        \"Age\":\"34\",\n",
    "        \"Telephone_No\":\"\", \n",
    "        \"Email\":\"noman@shell.pk\"\n",
    "    },\n",
    "    3:{\n",
    "        \"First Name\": \"Yousuf\",\n",
    "        \"Last Name\": \"Iqbal\",\n",
    "        \"Age\": \"28\",\n",
    "        \"Telephone_No\": \"021-34021213\",\n",
    "        \"Email\":\"\"\n",
    "    },\n",
    "}\n",
    "\n",
    "def user_profile (f_name,l_name,**other_info):\n",
    "    profile = {}\n",
    "    profile [\"First Name\"] = f_name.title()\n",
    "    profile [\"Last Name\"] = l_name.title()\n",
    "    if other_info:\n",
    "        for k,v in other_info.items():\n",
    "            profile [k.title()] = v\n",
    "        return profile\n",
    "    else:\n",
    "        return profile\n",
    "\n",
    "print (\"\\nPlease add the user data below:\")\n",
    "first_name = str (input (\"First Name: \"))\n",
    "last_name = str (input (\"Last Name: \"))\n",
    "print (\"\\nPlease enter 'other' information or press enter for none:\")\n",
    "age = str (input (\"Age: \"))\n",
    "telephone_no = str (input (\"Number: \"))\n",
    "email_address = str (input (\"Email address: \"))\n",
    "user_data = user_profile (\n",
    "    first_name, \n",
    "    last_name, \n",
    "    Age = age, \n",
    "    Telephone_No = telephone_no,\n",
    "    Email = email_address,\n",
    ")\n",
    "print (user_data)\n",
    "print ()\n",
    "dict_of_users [len(dict_of_users)] = user_data\n",
    "print (dict_of_users)"
   ]
  },
  {
   "cell_type": "code",
   "execution_count": 15,
   "metadata": {},
   "outputs": [
    {
     "name": "stdout",
     "output_type": "stream",
     "text": [
      "Basic Salary = 50000.0\n",
      "Sales Commission = 15000.0\n",
      "Gross Salary = 65000.0\n"
     ]
    }
   ],
   "source": [
    "# PIAIC VIDEO 11\n",
    "# Function within a function\n",
    "\n",
    "def com_sales (sales):\n",
    "    if sales >= 100000:\n",
    "        return sales*(10/100)\n",
    "    elif sales <100000 and sales >80000:\n",
    "        return sales * (8/100)\n",
    "    elif sales <80000 and sales >50000:\n",
    "        return sales * (5/100)\n",
    "    elif sales <50000 and sales >20000:\n",
    "        return sales * (3/100)\n",
    "    else:\n",
    "        return 0\n",
    "def gross_salary (basic_salary, sales):\n",
    "    gross = basic_salary + com_sales (sales)\n",
    "    return gross\n",
    "basic_salary = 50000\n",
    "sales = 150000\n",
    "print (f\"Basic Salary = {float(basic_salary)}\")\n",
    "print (f\"Sales Commission = {com_sales(sales)}\")\n",
    "print (f\"Gross Salary = {gross_salary(basic_salary, sales)}\")"
   ]
  },
  {
   "cell_type": "markdown",
   "metadata": {},
   "source": [
    "# MODULES"
   ]
  },
  {
   "cell_type": "code",
   "execution_count": 5,
   "metadata": {},
   "outputs": [
    {
     "name": "stdout",
     "output_type": "stream",
     "text": [
      "5\n",
      "2\n",
      "50\n"
     ]
    }
   ],
   "source": [
    "import maths \n",
    "# importing maths.py using import cammand\n",
    "\n",
    "print (maths.add(1,4))\n",
    "# since you imported maths\n",
    "# you can use all the functions defined there\n",
    "print (maths.sub(4,2))\n",
    "print (maths.mul(10,5))\n",
    "\n",
    "# You can also reload the program using\n",
    "# command -> %load maths.py"
   ]
  },
  {
   "cell_type": "code",
   "execution_count": 6,
   "metadata": {},
   "outputs": [
    {
     "data": {
      "text/plain": [
       "9"
      ]
     },
     "execution_count": 6,
     "metadata": {},
     "output_type": "execute_result"
    }
   ],
   "source": [
    "# Another way of importing module\n",
    "import maths as m\n",
    "m.add (4,5)"
   ]
  },
  {
   "cell_type": "code",
   "execution_count": 9,
   "metadata": {},
   "outputs": [
    {
     "name": "stdout",
     "output_type": "stream",
     "text": [
      "Making a pizza of 16 inches with the following toppings.\n",
      "-  Chicken\n",
      "-  Cheese\n",
      "-  Olives\n",
      "-  Onion\n"
     ]
    }
   ],
   "source": [
    "# Using the pizza function\n",
    "import pizza as p\n",
    "# Here p is an alias\n",
    "# It will reduce the module name and make it simple\n",
    "p.pizza (16, \"Chicken\", \"Cheese\", \"Olives\",\"Onion\")\n",
    "# module_name.function_name(arguments)"
   ]
  },
  {
   "cell_type": "code",
   "execution_count": 12,
   "metadata": {},
   "outputs": [
    {
     "data": {
      "text/plain": [
       "9"
      ]
     },
     "execution_count": 12,
     "metadata": {},
     "output_type": "execute_result"
    }
   ],
   "source": [
    "# You can also import the function directly\n",
    "# by using -> from maths import add\n",
    "from maths import add\n",
    "# since you imported a particular function\n",
    "# you do not need to use the \n",
    "# module_name.function_name (arg) command\n",
    "# and instead can directly use function_name (arg)\n",
    "add (4,5)"
   ]
  },
  {
   "cell_type": "code",
   "execution_count": 1,
   "metadata": {},
   "outputs": [
    {
     "name": "stdout",
     "output_type": "stream",
     "text": [
      "Making a pizza of 16 inches with the following toppings.\n",
      "-  Chicken\n",
      "-  Cheese\n",
      "-  Olives\n",
      "-  Onion\n"
     ]
    }
   ],
   "source": [
    "# Similary \n",
    "from pizza import pizza as p\n",
    "# p is an \"alias\" i.e. an alternate name to a function\n",
    "# This line will even minimize the name of function\n",
    "# and stored it as p\n",
    "p(16, \"Chicken\", \"Cheese\", \"Olives\",\"Onion\")"
   ]
  },
  {
   "cell_type": "code",
   "execution_count": 2,
   "metadata": {},
   "outputs": [
    {
     "data": {
      "text/plain": [
       "9"
      ]
     },
     "execution_count": 2,
     "metadata": {},
     "output_type": "execute_result"
    }
   ],
   "source": [
    "from maths import add as a\n",
    "a(4,5)"
   ]
  },
  {
   "cell_type": "code",
   "execution_count": 5,
   "metadata": {},
   "outputs": [
    {
     "data": {
      "text/plain": [
       "65000.0"
      ]
     },
     "execution_count": 5,
     "metadata": {},
     "output_type": "execute_result"
    }
   ],
   "source": [
    "import SalaryCalc as sc\n",
    "sc.gross_salary(50000, 150000)"
   ]
  },
  {
   "cell_type": "code",
   "execution_count": 7,
   "metadata": {},
   "outputs": [
    {
     "data": {
      "text/plain": [
       "65000.0"
      ]
     },
     "execution_count": 7,
     "metadata": {},
     "output_type": "execute_result"
    }
   ],
   "source": [
    "from SalaryCalc import gross_salary as gs\n",
    "gs (50000,150000)"
   ]
  },
  {
   "cell_type": "code",
   "execution_count": 9,
   "metadata": {},
   "outputs": [
    {
     "name": "stdout",
     "output_type": "stream",
     "text": [
      "\n",
      "The items in Sandwich are:\n",
      "- Chicken\n",
      "- Cheese\n",
      "- Onion\n",
      "- Olives\n",
      "- Egg\n",
      "\n",
      "The items in Sandwich are:\n",
      "- Cheese\n",
      "- Onion\n",
      "- Olives\n",
      "- Egg\n",
      "\n",
      "The items in Sandwich are:\n",
      "- Onion\n",
      "- Olives\n",
      "- Egg\n"
     ]
    }
   ],
   "source": [
    "# 8-12. Sandwiches: Write a function that accepts a list of items a person wants\n",
    "# on a sandwich. The function should have one parameter that collects as many\n",
    "# items as the function call provides, and it should print a summary of the sandwich\n",
    "# that is being ordered. Call the function three times, using a different number\n",
    "# of arguments each time.\n",
    "def sandwich (*items):\n",
    "    print (\"\\nThe items in Sandwich are:\")\n",
    "    for a in items:\n",
    "        print (\"-\", a)\n",
    "sandwich (\"Chicken\", \"Cheese\", \"Onion\", \"Olives\", \"Egg\")\n",
    "sandwich (\"Cheese\", \"Onion\", \"Olives\", \"Egg\")\n",
    "sandwich (\"Onion\", \"Olives\", \"Egg\")"
   ]
  },
  {
   "cell_type": "code",
   "execution_count": 1,
   "metadata": {},
   "outputs": [
    {
     "name": "stdout",
     "output_type": "stream",
     "text": [
      "{'model': 'subaru', 'type': 'outback', 'color': 'blue', 'tow_package': True}\n"
     ]
    }
   ],
   "source": [
    "# 8-14. Cars: Write a function that stores information about a car in a dictionary.\n",
    "# The function should always receive a manufacturer and a model name. It\n",
    "# should then accept an arbitrary number of keyword arguments. Call the function\n",
    "# with the required information and two other name-value pairs, such as a\n",
    "# color or an optional feature. Your function should work for a call like this one:\n",
    "    \n",
    "# car = make_car('subaru', 'outback', color='blue', tow_package=True)\n",
    "\n",
    "# Print the dictionary that’s returned to make sure all the information was\n",
    "# stored correctly.\n",
    "\n",
    "def make_car(model, body, **others):\n",
    "    car_specs ={}\n",
    "    car_specs[\"model\"] = model\n",
    "    car_specs[\"type\"] = body\n",
    "    for k, v in others.items():\n",
    "        car_specs [k] = v\n",
    "    return car_specs\n",
    "car = make_car('subaru', 'outback', color='blue', tow_package=True)\n",
    "print (car)\n"
   ]
  },
  {
   "cell_type": "markdown",
   "metadata": {},
   "source": [
    "## PIAIC"
   ]
  },
  {
   "cell_type": "code",
   "execution_count": 4,
   "metadata": {},
   "outputs": [
    {
     "name": "stdout",
     "output_type": "stream",
     "text": [
      "----------------------------------------------\n",
      "Using Normal Way\n",
      "\n",
      "    Student ID:\t 1\n",
      "    First Name:\t Shahid\n",
      "    Last Name:\t Iqbal\n",
      "    Course:\t AI\n",
      "    \n",
      "----------------------------------------------\n",
      "Using Tupples\n",
      "\n",
      "    Student ID:\t 1\n",
      "    First Name:\t Shahid\n",
      "    Last Name:\t Iqbal\n",
      "    Course:\t AI\n",
      "    \n",
      "----------------------------------------------\n",
      "Using Dictionaries\n",
      "\n",
      "    Student ID:\t 1\n",
      "    First Name:\t Shahid\n",
      "    Last Name:\t Iqbal\n",
      "    Course:\t AI\n",
      "    \n"
     ]
    }
   ],
   "source": [
    "def student_card (id, first_name, last_name, course):\n",
    "    return \"\"\"\n",
    "    Student ID:\\t {}\n",
    "    First Name:\\t {}\n",
    "    Last Name:\\t {}\n",
    "    Course:\\t {}\n",
    "    \"\"\".format(id, first_name, last_name, course)\n",
    "\n",
    "print (\"----------------------------------------------\")\n",
    "print (\"Using Normal Way\")\n",
    "print (student_card(1, \"Shahid\", \"Iqbal\", \"AI\"))\n",
    "print (\"----------------------------------------------\")\n",
    "print (\"Using Tupples\")\n",
    "tpl = (1, \"Shahid\", \"Iqbal\", \"AI\")\n",
    "print (student_card(*tpl))\n",
    "print (\"----------------------------------------------\")\n",
    "print (\"Using Dictionaries\")\n",
    "dic = {\"id\":1, \"first_name\":\"Shahid\", \"last_name\":\"Iqbal\", \"course\":\"AI\"}\n",
    "print (student_card(**dic))"
   ]
  },
  {
   "cell_type": "code",
   "execution_count": 5,
   "metadata": {},
   "outputs": [
    {
     "name": "stdout",
     "output_type": "stream",
     "text": [
      "55\n"
     ]
    }
   ],
   "source": [
    "def add_num (n1, *l):\n",
    "    l_add = 0\n",
    "    for n in l:\n",
    "        l_add += n\n",
    "    total = n1 + l_add\n",
    "    return total\n",
    "a = add_num (1,2,3,4,5,6,7,8,9,10)\n",
    "print (a)"
   ]
  },
  {
   "cell_type": "code",
   "execution_count": 6,
   "metadata": {},
   "outputs": [
    {
     "name": "stdout",
     "output_type": "stream",
     "text": [
      "55\n"
     ]
    }
   ],
   "source": [
    "def add_num (n1, *l):\n",
    "    return n1 + sum(l)\n",
    "a = add_num (1,2,3,4,5,6,7,8,9,10)\n",
    "print (a)"
   ]
  },
  {
   "cell_type": "code",
   "execution_count": 8,
   "metadata": {},
   "outputs": [
    {
     "name": "stdout",
     "output_type": "stream",
     "text": [
      "10\n"
     ]
    }
   ],
   "source": [
    "def add_num (n1, **d):\n",
    "    list_of_num = []\n",
    "    list_of_num.append (n1)\n",
    "    for k,v in d.items():\n",
    "        list_of_num.append(v)\n",
    "    return sum(list_of_num)\n",
    "a = add_num (1, n2=2, n3=3, n4=4)\n",
    "print (a)"
   ]
  },
  {
   "cell_type": "markdown",
   "metadata": {},
   "source": [
    "## LAMBDA FUNCTION\n",
    "\n",
    "- Without Name Function\n",
    "- Single Line Function\n",
    "- It will neither be used before and nor after\n",
    "\n",
    "Also called as anonymous function.\n",
    "\n",
    "### WHY?\n",
    "\n",
    "- Lets say you want to sort a dictionary for keys then we can use it for this specific dictionary.\n",
    "- We can also make a specific function for this task but that will take extra space in the memory\n",
    "- Therefore it is better to use the lambda function"
   ]
  },
  {
   "cell_type": "code",
   "execution_count": 12,
   "metadata": {},
   "outputs": [
    {
     "data": {
      "text/plain": [
       "6"
      ]
     },
     "execution_count": 12,
     "metadata": {},
     "output_type": "execute_result"
    }
   ],
   "source": [
    "# Lambda function\n",
    "# func_name = lambda var1,..,var_n, task with variables /body of function\n",
    "abc = lambda x1,x2,x3: x1 + x2 + x3\n",
    "abc(1, 2, 3)"
   ]
  },
  {
   "cell_type": "code",
   "execution_count": 20,
   "metadata": {},
   "outputs": [
    {
     "name": "stdout",
     "output_type": "stream",
     "text": [
      "Solving using Lambda\n",
      "=======================================\n",
      "{'B': 15, 'A': 20, 'C': 30}\n"
     ]
    }
   ],
   "source": [
    "# Task - Sort Dictionary Based on the Values\n",
    "dic = {\n",
    "    \"A\":20,\n",
    "    \"B\":15,\n",
    "    \"C\":30\n",
    "}\n",
    "print (\"Solving using Lambda\")\n",
    "print (\"=======================================\")\n",
    "sort_dic = {k:v for k,v in sorted(dic.items(), key=lambda item:item[1])}\n",
    "print (sort_dic)"
   ]
  },
  {
   "cell_type": "code",
   "execution_count": 27,
   "metadata": {},
   "outputs": [
    {
     "name": "stdout",
     "output_type": "stream",
     "text": [
      "[2, 4, 6, 8, 10, 12, 14]\n"
     ]
    }
   ],
   "source": [
    "# LIST COMPREHENSIVE\n",
    "l = [1,2,3,4,5,6,7]\n",
    "a = [item*2 for item in l]\n",
    "print (a)"
   ]
  },
  {
   "cell_type": "code",
   "execution_count": 30,
   "metadata": {},
   "outputs": [
    {
     "name": "stdout",
     "output_type": "stream",
     "text": [
      "12\n",
      "-2\n",
      "35\n"
     ]
    }
   ],
   "source": [
    "# LAMBDA\n",
    "a = [(lambda x,y: x+y),(lambda x,y: x-y),(lambda x,y: x*y)]\n",
    "print (a[0](5,7))\n",
    "print (a[1](5,7))\n",
    "print (a[2](5,7))"
   ]
  },
  {
   "cell_type": "code",
   "execution_count": 34,
   "metadata": {},
   "outputs": [
    {
     "name": "stdout",
     "output_type": "stream",
     "text": [
      "120\n",
      "Applying Recursion Function to Factorial\n",
      "120\n"
     ]
    }
   ],
   "source": [
    "# RECURSIVE FUNCTION\n",
    "# Recursion is an image within an image within an image to infinity\n",
    "\n",
    "# Factorial function\n",
    "def abc(x):\n",
    "    if x == 0:\n",
    "        return 1\n",
    "    a = 1\n",
    "    for i in range (1,x+1):\n",
    "        a *= i\n",
    "    return a\n",
    "\n",
    "print (abc(5))\n",
    "\n",
    "# Applying Recursion Function\n",
    "print (\"Applying Recursion Function to Factorial\")\n",
    "def abc(x):\n",
    "    if x == 0:\n",
    "        return 1\n",
    "    return  x * abc(x-1)\n",
    "\n",
    "print (abc(5))"
   ]
  },
  {
   "cell_type": "code",
   "execution_count": null,
   "metadata": {},
   "outputs": [],
   "source": []
  }
 ],
 "metadata": {
  "kernelspec": {
   "display_name": "Python 3",
   "language": "python",
   "name": "python3"
  },
  "language_info": {
   "codemirror_mode": {
    "name": "ipython",
    "version": 3
   },
   "file_extension": ".py",
   "mimetype": "text/x-python",
   "name": "python",
   "nbconvert_exporter": "python",
   "pygments_lexer": "ipython3",
   "version": "3.7.6"
  }
 },
 "nbformat": 4,
 "nbformat_minor": 4
}
