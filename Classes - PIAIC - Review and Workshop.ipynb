{
 "cells": [
  {
   "cell_type": "markdown",
   "metadata": {},
   "source": [
    "# CLASSES\n",
    "## PIAIC \n",
    "Review & Workshops"
   ]
  },
  {
   "cell_type": "code",
   "execution_count": 1,
   "metadata": {},
   "outputs": [],
   "source": [
    "# attributes / properties >>> variables\n",
    "# behaviors / actiona  >>>>>> functions"
   ]
  },
  {
   "cell_type": "code",
   "execution_count": 2,
   "metadata": {},
   "outputs": [],
   "source": [
    "class Car():\n",
    "    \n",
    "    def __init__ (self, color, model, make, engine):\n",
    "        self.color = color\n",
    "        self.model = model\n",
    "        self.make = make\n",
    "        self.engine = engine\n",
    "          \n",
    "    # behaviors\n",
    "    def run(self):\n",
    "        print (f\"{self.model} Car is running.\")\n",
    "    def stop(self):\n",
    "        print (f\"{self.model} is stopping.\")"
   ]
  },
  {
   "cell_type": "code",
   "execution_count": 3,
   "metadata": {},
   "outputs": [
    {
     "ename": "NameError",
     "evalue": "name 'car1' is not defined",
     "output_type": "error",
     "traceback": [
      "\u001b[1;31m---------------------------------------------------------------------------\u001b[0m",
      "\u001b[1;31mNameError\u001b[0m                                 Traceback (most recent call last)",
      "\u001b[1;32m<ipython-input-3-aba44ccb4813>\u001b[0m in \u001b[0;36m<module>\u001b[1;34m\u001b[0m\n\u001b[1;32m----> 1\u001b[1;33m \u001b[1;32mdel\u001b[0m \u001b[0mcar1\u001b[0m\u001b[1;33m\u001b[0m\u001b[1;33m\u001b[0m\u001b[0m\n\u001b[0m\u001b[0;32m      2\u001b[0m \u001b[1;32mdel\u001b[0m \u001b[0mcar2\u001b[0m\u001b[1;33m\u001b[0m\u001b[1;33m\u001b[0m\u001b[0m\n\u001b[0;32m      3\u001b[0m \u001b[1;32mdel\u001b[0m \u001b[0mcar3\u001b[0m\u001b[1;33m\u001b[0m\u001b[1;33m\u001b[0m\u001b[0m\n",
      "\u001b[1;31mNameError\u001b[0m: name 'car1' is not defined"
     ]
    }
   ],
   "source": [
    "del car1\n",
    "del car2\n",
    "del car3"
   ]
  },
  {
   "cell_type": "code",
   "execution_count": 4,
   "metadata": {},
   "outputs": [],
   "source": [
    "car1 = Car(\"White\", \"CIVIC\", \"2020\", \"1500 cc\")"
   ]
  },
  {
   "cell_type": "code",
   "execution_count": 5,
   "metadata": {},
   "outputs": [],
   "source": [
    "car2 = Car(\"Red\", \"CIVIC\", \"2020\", \"1500 cc\")\n",
    "car3 = Car(\"Blue\", \"HONDA\", \"2020\", \"500 cc\")"
   ]
  },
  {
   "cell_type": "code",
   "execution_count": 6,
   "metadata": {},
   "outputs": [
    {
     "name": "stdout",
     "output_type": "stream",
     "text": [
      "CIVIC Car is running.\n"
     ]
    }
   ],
   "source": [
    "car1.run()"
   ]
  },
  {
   "cell_type": "code",
   "execution_count": 7,
   "metadata": {},
   "outputs": [
    {
     "name": "stdout",
     "output_type": "stream",
     "text": [
      "CIVIC is stopping.\n"
     ]
    }
   ],
   "source": [
    "car2.stop()"
   ]
  },
  {
   "cell_type": "code",
   "execution_count": 8,
   "metadata": {},
   "outputs": [
    {
     "name": "stdout",
     "output_type": "stream",
     "text": [
      "CIVIC is stopping.\n"
     ]
    }
   ],
   "source": [
    "Car.stop(car1)"
   ]
  },
  {
   "cell_type": "code",
   "execution_count": 9,
   "metadata": {},
   "outputs": [
    {
     "data": {
      "text/plain": [
       "('White', 'Red', 'Blue')"
      ]
     },
     "execution_count": 9,
     "metadata": {},
     "output_type": "execute_result"
    }
   ],
   "source": [
    "# Checking Colors of Cars\n",
    "car1.color, car2.color, car3.color"
   ]
  },
  {
   "cell_type": "code",
   "execution_count": 10,
   "metadata": {},
   "outputs": [
    {
     "data": {
      "text/plain": [
       "('1500 cc', '1500 cc', '500 cc')"
      ]
     },
     "execution_count": 10,
     "metadata": {},
     "output_type": "execute_result"
    }
   ],
   "source": [
    "# Checking cc of Cars\n",
    "car1.engine, car2.engine, car3.engine"
   ]
  },
  {
   "cell_type": "code",
   "execution_count": 11,
   "metadata": {},
   "outputs": [],
   "source": [
    "# Deifning a Class\n",
    "class Computer:\n",
    "    pass"
   ]
  },
  {
   "cell_type": "code",
   "execution_count": 12,
   "metadata": {},
   "outputs": [],
   "source": [
    "class Computer:\n",
    "    def __init__ (self):\n",
    "        self.manufacturer = \"Lenovo\"\n",
    "        self.model = \"IdeaPad3305\"\n",
    "        print(\"I am constructor, your obj is created!\")\n",
    "    \n",
    "    def show_config (self): # self actually refers to object\n",
    "        print (\"i5\", \"16GB\", \"1TB\")\n",
    "    "
   ]
  },
  {
   "cell_type": "code",
   "execution_count": 13,
   "metadata": {},
   "outputs": [
    {
     "name": "stdout",
     "output_type": "stream",
     "text": [
      "I am constructor, your obj is created!\n"
     ]
    }
   ],
   "source": [
    "# Creating object of class computer\n",
    "comp1 = Computer()\n",
    "# as soon as we press enter the object is created"
   ]
  },
  {
   "cell_type": "code",
   "execution_count": 14,
   "metadata": {},
   "outputs": [
    {
     "name": "stdout",
     "output_type": "stream",
     "text": [
      "i5 16GB 1TB\n",
      "i5 16GB 1TB\n"
     ]
    }
   ],
   "source": [
    "# Calling instance method by passing instance reference\n",
    "comp1.show_config()\n",
    "Computer.show_config(comp1)"
   ]
  },
  {
   "cell_type": "code",
   "execution_count": 15,
   "metadata": {},
   "outputs": [
    {
     "name": "stdout",
     "output_type": "stream",
     "text": [
      "I am constructor, your obj is created!\n"
     ]
    }
   ],
   "source": [
    "# Creating another object of class\n",
    "comp2 = Computer()"
   ]
  },
  {
   "cell_type": "code",
   "execution_count": 16,
   "metadata": {},
   "outputs": [
    {
     "name": "stdout",
     "output_type": "stream",
     "text": [
      "i5 16GB 1TB\n",
      "i5 16GB 1TB\n"
     ]
    }
   ],
   "source": [
    "# Calling instance method by passing instance reference\n",
    "comp2.show_config()\n",
    "Computer.show_config(comp2)"
   ]
  },
  {
   "cell_type": "markdown",
   "metadata": {},
   "source": [
    "In python everything is an object no matter what it is. Integers, Floats, Strings all are object. They are related to their respective class"
   ]
  },
  {
   "cell_type": "code",
   "execution_count": 17,
   "metadata": {},
   "outputs": [
    {
     "name": "stdout",
     "output_type": "stream",
     "text": [
      "<class 'int'>\n",
      "<class 'str'>\n",
      "<class 'float'>\n",
      "<class 'tuple'>\n",
      "<class 'dict'>\n",
      "<class 'list'>\n"
     ]
    }
   ],
   "source": [
    "a = 10\n",
    "print (type(a))\n",
    "b = \"Python\"\n",
    "print (type(b))\n",
    "c = 2.5\n",
    "print (type(c))\n",
    "d = (4,5,6)\n",
    "print (type(d))\n",
    "e = {1:2,3:5,5:\"six\"}\n",
    "print (type(e))\n",
    "f = [1,2,3,4,5, \"Six\"]\n",
    "print (type(f))"
   ]
  },
  {
   "cell_type": "code",
   "execution_count": 18,
   "metadata": {},
   "outputs": [
    {
     "name": "stdout",
     "output_type": "stream",
     "text": [
      "<class '__main__.Computer'>\n"
     ]
    }
   ],
   "source": [
    "print (type(comp1))"
   ]
  },
  {
   "cell_type": "code",
   "execution_count": 19,
   "metadata": {},
   "outputs": [
    {
     "name": "stdout",
     "output_type": "stream",
     "text": [
      "Help on method-wrapper object:\n",
      "\n",
      "__call__ = class method-wrapper(object)\n",
      " |  Methods defined here:\n",
      " |  \n",
      " |  __call__(self, /, *args, **kwargs)\n",
      " |      Call self as a function.\n",
      " |  \n",
      " |  __eq__(self, value, /)\n",
      " |      Return self==value.\n",
      " |  \n",
      " |  __ge__(self, value, /)\n",
      " |      Return self>=value.\n",
      " |  \n",
      " |  __getattribute__(self, name, /)\n",
      " |      Return getattr(self, name).\n",
      " |  \n",
      " |  __gt__(self, value, /)\n",
      " |      Return self>value.\n",
      " |  \n",
      " |  __hash__(self, /)\n",
      " |      Return hash(self).\n",
      " |  \n",
      " |  __le__(self, value, /)\n",
      " |      Return self<=value.\n",
      " |  \n",
      " |  __lt__(self, value, /)\n",
      " |      Return self<value.\n",
      " |  \n",
      " |  __ne__(self, value, /)\n",
      " |      Return self!=value.\n",
      " |  \n",
      " |  __reduce__(...)\n",
      " |      Helper for pickle.\n",
      " |  \n",
      " |  __repr__(self, /)\n",
      " |      Return repr(self).\n",
      " |  \n",
      " |  ----------------------------------------------------------------------\n",
      " |  Data descriptors defined here:\n",
      " |  \n",
      " |  __objclass__\n",
      " |  \n",
      " |  __self__\n",
      " |  \n",
      " |  __text_signature__\n",
      "\n"
     ]
    }
   ],
   "source": [
    "help (Computer.__call__)"
   ]
  },
  {
   "cell_type": "code",
   "execution_count": 20,
   "metadata": {},
   "outputs": [],
   "source": [
    "class Computer:\n",
    "    def __init__ (self, ram, cpu, storage):\n",
    "        self.ram = ram\n",
    "        self.cpu = cpu\n",
    "        self.storage = storage\n",
    "        self.manufacturer = \"Lenovo\"\n",
    "        self.model = \"IdeaPad3305\"\n",
    "    def show_config(self):\n",
    "        print(f\"The ram in system is {self.ram}\\nThe CPU in system is {self.cpu}.\")"
   ]
  },
  {
   "cell_type": "code",
   "execution_count": 21,
   "metadata": {},
   "outputs": [],
   "source": [
    "newComp = Computer(\"8GB\", \"Corei7\", \"1TB\")\n",
    "oldComp = Computer(\"2GB\", \"Core2Duo\", \"500GB\")"
   ]
  },
  {
   "cell_type": "code",
   "execution_count": 22,
   "metadata": {},
   "outputs": [
    {
     "name": "stdout",
     "output_type": "stream",
     "text": [
      "The ram in system is 8GB\n",
      "The CPU in system is Corei7.\n"
     ]
    }
   ],
   "source": [
    "newComp.show_config()"
   ]
  },
  {
   "cell_type": "code",
   "execution_count": 49,
   "metadata": {},
   "outputs": [],
   "source": [
    "# NEW PROGRAM\n",
    "\n",
    "class Car():\n",
    "    def __init__ (self, make, model, year):\n",
    "        self.make = make\n",
    "        self.model = model\n",
    "        self.year = year\n",
    "        self.oddometer_reading = 0\n",
    "        \n",
    "    def get_descriptive_name (self):\n",
    "        full_name = str(self.year) + \" \" + self.make + \" \" + self.model\n",
    "        return full_name.title()\n",
    "\n",
    "# Get & Set method should be used to change the attributes\n",
    "# This will enscapsultate our attributes\n",
    "\n",
    "    def set_oddometer_reading(self, new_reading):\n",
    "        self.oddometer_reading = new_reading\n",
    "    \n",
    "    def get_oddometer_reading (self):\n",
    "        print(\"This \"+ self.get_descriptive_name() +\" has \" + str(self.oddometer_reading) + \" miles on it.\")\n",
    "\n",
    "    def increment_oddometer_reading (self, increment_reading):\n",
    "        if increment_reading >= 1:\n",
    "            self.oddometer_reading += increment_reading\n",
    "        else:\n",
    "            print (\"Invalid Reading Addition\")"
   ]
  },
  {
   "cell_type": "code",
   "execution_count": 50,
   "metadata": {},
   "outputs": [],
   "source": [
    "my_new_car = Car (\"audi\", \"a4\", \"2016\")"
   ]
  },
  {
   "cell_type": "code",
   "execution_count": 51,
   "metadata": {},
   "outputs": [
    {
     "data": {
      "text/plain": [
       "'2016 Audi A4'"
      ]
     },
     "execution_count": 51,
     "metadata": {},
     "output_type": "execute_result"
    }
   ],
   "source": [
    "my_new_car.get_descriptive_name()"
   ]
  },
  {
   "cell_type": "code",
   "execution_count": 52,
   "metadata": {},
   "outputs": [],
   "source": [
    "my_old_car = Car(\"Toyota\", \"B4\", \"2001\")"
   ]
  },
  {
   "cell_type": "code",
   "execution_count": 53,
   "metadata": {},
   "outputs": [],
   "source": [
    "my_new_car.set_oddometer_reading(300)"
   ]
  },
  {
   "cell_type": "code",
   "execution_count": 54,
   "metadata": {},
   "outputs": [
    {
     "name": "stdout",
     "output_type": "stream",
     "text": [
      "This 2016 Audi A4 has 300 miles on it.\n"
     ]
    }
   ],
   "source": [
    "my_new_car.get_oddometer_reading()"
   ]
  },
  {
   "cell_type": "code",
   "execution_count": 55,
   "metadata": {},
   "outputs": [],
   "source": [
    "my_old_car.set_oddometer_reading(500)"
   ]
  },
  {
   "cell_type": "code",
   "execution_count": 56,
   "metadata": {},
   "outputs": [],
   "source": [
    "my_old_car.increment_oddometer_reading(50)"
   ]
  },
  {
   "cell_type": "code",
   "execution_count": 57,
   "metadata": {},
   "outputs": [
    {
     "name": "stdout",
     "output_type": "stream",
     "text": [
      "This 2001 Toyota B4 has 550 miles on it.\n"
     ]
    }
   ],
   "source": [
    "my_old_car.get_oddometer_reading()"
   ]
  },
  {
   "cell_type": "code",
   "execution_count": 98,
   "metadata": {},
   "outputs": [],
   "source": [
    "car1 = Car(\"Alto\", \"Auto\", 2020)"
   ]
  },
  {
   "cell_type": "code",
   "execution_count": 99,
   "metadata": {},
   "outputs": [
    {
     "data": {
      "text/plain": [
       "'2020 Alto Auto'"
      ]
     },
     "execution_count": 99,
     "metadata": {},
     "output_type": "execute_result"
    }
   ],
   "source": [
    "car1.get_descriptive_name()"
   ]
  },
  {
   "cell_type": "code",
   "execution_count": 100,
   "metadata": {},
   "outputs": [
    {
     "name": "stdout",
     "output_type": "stream",
     "text": [
      "This 2020 Alto Auto has 0 miles on it.\n"
     ]
    }
   ],
   "source": [
    "car1.get_oddometer_reading()"
   ]
  },
  {
   "cell_type": "code",
   "execution_count": 101,
   "metadata": {},
   "outputs": [],
   "source": [
    "car1.set_oddometer_reading(20)"
   ]
  },
  {
   "cell_type": "code",
   "execution_count": 102,
   "metadata": {},
   "outputs": [
    {
     "name": "stdout",
     "output_type": "stream",
     "text": [
      "This 2020 Alto Auto has 220 miles on it.\n"
     ]
    }
   ],
   "source": [
    "car1.increment_oddometer_reading(200)\n",
    "car1.get_oddometer_reading()"
   ]
  },
  {
   "cell_type": "code",
   "execution_count": 92,
   "metadata": {},
   "outputs": [],
   "source": [
    "class A:\n",
    "    def feature1(self):\n",
    "        print (\"Feature1 is working\")\n",
    "    def feature2(self):\n",
    "        print (\"Feature2 is working\")\n",
    "\n",
    "class B(A):\n",
    "    def feature3(self):\n",
    "        print (\"Feature3 is working\")\n",
    "    def feature4(self):\n",
    "        print (\"Feature4 is working\")\n",
    "        \n",
    "class C(B):\n",
    "    def feature5(self):\n",
    "        print (\"Feature5 is working\")\n",
    "    def feature6(self):\n",
    "        print (\"Feature6 is working\")"
   ]
  },
  {
   "cell_type": "code",
   "execution_count": 93,
   "metadata": {},
   "outputs": [],
   "source": [
    "a = A()\n",
    "b = B()\n",
    "c = C()"
   ]
  },
  {
   "cell_type": "code",
   "execution_count": 94,
   "metadata": {},
   "outputs": [
    {
     "name": "stdout",
     "output_type": "stream",
     "text": [
      "Feature1 is working\n"
     ]
    }
   ],
   "source": [
    "a.feature1()"
   ]
  },
  {
   "cell_type": "code",
   "execution_count": 95,
   "metadata": {},
   "outputs": [
    {
     "name": "stdout",
     "output_type": "stream",
     "text": [
      "Feature2 is working\n"
     ]
    }
   ],
   "source": [
    "a.feature2()"
   ]
  },
  {
   "cell_type": "code",
   "execution_count": 96,
   "metadata": {},
   "outputs": [
    {
     "name": "stdout",
     "output_type": "stream",
     "text": [
      "Feature3 is working\n",
      "Feature1 is working\n"
     ]
    }
   ],
   "source": [
    "b.feature3()\n",
    "b.feature1()"
   ]
  },
  {
   "cell_type": "code",
   "execution_count": 97,
   "metadata": {},
   "outputs": [
    {
     "name": "stdout",
     "output_type": "stream",
     "text": [
      "Feature6 is working\n",
      "Feature3 is working\n",
      "Feature1 is working\n"
     ]
    }
   ],
   "source": [
    "c.feature6()\n",
    "c.feature3()\n",
    "c.feature1()"
   ]
  },
  {
   "cell_type": "code",
   "execution_count": 103,
   "metadata": {},
   "outputs": [],
   "source": [
    "# For every variable we should have get & setter methods"
   ]
  },
  {
   "cell_type": "code",
   "execution_count": 105,
   "metadata": {},
   "outputs": [
    {
     "name": "stdout",
     "output_type": "stream",
     "text": [
      "b\n",
      "c\n",
      "d\n"
     ]
    }
   ],
   "source": [
    "class B:\n",
    "    def b(self):\n",
    "        print('b')\n",
    "\n",
    "\n",
    "class C:\n",
    "    def c(self):\n",
    "        print('c')\n",
    "\n",
    "\n",
    "class D(B, C): # Multiple Inheritance\n",
    "    def d(self):\n",
    "        print('d')\n",
    "\n",
    "\n",
    "d = D()\n",
    "d.b()\n",
    "d.c()\n",
    "d.d()"
   ]
  },
  {
   "cell_type": "code",
   "execution_count": 107,
   "metadata": {},
   "outputs": [],
   "source": [
    "class Tokenizer:\n",
    "    \"\"\"Tokenize text\"\"\"\n",
    "    def __init__(self, text):\n",
    "        print('Start Tokenizer.__init__()')\n",
    "        self.tokens = text.split()\n",
    "        print('End Tokenizer.__init__()')\n",
    "\n",
    "\n",
    "class WordCounter(Tokenizer):\n",
    "    \"\"\"Count words in text\"\"\"\n",
    "    def __init__(self, text):\n",
    "        print('Start WordCounter.__init__()')\n",
    "        super().__init__(text)\n",
    "        self.word_count = len(self.tokens)\n",
    "        print('End WordCounter.__init__()')\n",
    "\n",
    "\n",
    "class Vocabulary(Tokenizer):\n",
    "    \"\"\"Find unique words in text\"\"\"\n",
    "    def __init__(self, text):\n",
    "        print('Start init Vocabulary.__init__()')\n",
    "        super().__init__(text)\n",
    "        self.vocab = set(self.tokens)\n",
    "        print('End init Vocabulary.__init__()')\n",
    "\n",
    "\n",
    "class TextDescriber(WordCounter, Vocabulary):\n",
    "    \"\"\"Describe text with multiple metrics\"\"\"\n",
    "    def __init__(self, text):\n",
    "        print('Start init TextDescriber.__init__()')\n",
    "        super().__init__(text)\n",
    "        print('End init TextDescriber.__init__()')"
   ]
  },
  {
   "cell_type": "code",
   "execution_count": 108,
   "metadata": {},
   "outputs": [
    {
     "name": "stdout",
     "output_type": "stream",
     "text": [
      "Start init TextDescriber.__init__()\n",
      "Start WordCounter.__init__()\n",
      "Start init Vocabulary.__init__()\n",
      "Start Tokenizer.__init__()\n",
      "End Tokenizer.__init__()\n",
      "End init Vocabulary.__init__()\n",
      "End WordCounter.__init__()\n",
      "End init TextDescriber.__init__()\n"
     ]
    }
   ],
   "source": [
    "td = TextDescriber('row row row your boat')"
   ]
  },
  {
   "cell_type": "code",
   "execution_count": 109,
   "metadata": {},
   "outputs": [
    {
     "name": "stdout",
     "output_type": "stream",
     "text": [
      "--------\n",
      "['row', 'row', 'row', 'your', 'boat']\n",
      "{'your', 'boat', 'row'}\n",
      "5\n"
     ]
    }
   ],
   "source": [
    "print('--------')\n",
    "print(td.tokens)\n",
    "print(td.vocab)\n",
    "print(td.word_count)"
   ]
  },
  {
   "cell_type": "markdown",
   "metadata": {},
   "source": [
    "First off, we see the TextDescriber class has inherited all the attributes of the class family tree. Thanks to multiple inheritance we can 'combine' the functionality of more than one class.\n",
    "\n",
    "Let's now discuss the printouts that came from the class's init methods:\n",
    "\n",
    "Each __init__ method was called once and only once.\n",
    "The TextDescriber class inherited from 2 classes that inherit from Tokenizer. Why was Tokenizer.__init__ not called twice?\n",
    "\n",
    "If we replaced all of our calls to super with the old fashioned way, we would end up with 2 calls to Tokenizer.__init__. The calls to super 'think' through our pattern a little bit more and skips the extra trip to A.\n",
    "\n",
    "Each __init__ method was started before any of the others were finished.\n",
    "The order of the starts and finishes of each __init__ is worth noting in case you're attempting to set an attribute that has a naming conflict with another parent class. The attribute will be overwritten, and it can become very confusing.\n",
    "\n",
    "In our case, we avoided naming conflicts with inherited attributes, so everything is working as expected.\n",
    "\n",
    "To reiterate, the diamond problem can get complicated fast and lead to unexpected results. With most cases in programming, it's best to avoid complicated designs."
   ]
  },
  {
   "cell_type": "code",
   "execution_count": null,
   "metadata": {},
   "outputs": [],
   "source": []
  }
 ],
 "metadata": {
  "kernelspec": {
   "display_name": "Python 3",
   "language": "python",
   "name": "python3"
  },
  "language_info": {
   "codemirror_mode": {
    "name": "ipython",
    "version": 3
   },
   "file_extension": ".py",
   "mimetype": "text/x-python",
   "name": "python",
   "nbconvert_exporter": "python",
   "pygments_lexer": "ipython3",
   "version": "3.7.6"
  }
 },
 "nbformat": 4,
 "nbformat_minor": 4
}
