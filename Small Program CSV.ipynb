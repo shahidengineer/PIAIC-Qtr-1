{
 "cells": [
  {
   "cell_type": "code",
   "execution_count": 14,
   "metadata": {},
   "outputs": [
    {
     "name": "stdout",
     "output_type": "stream",
     "text": [
      "\n",
      "Please press 1 to enter guest details or press 2 to exit: 3\n",
      "Invalid number, please try again!\n",
      "\n",
      "Please press 1 to enter guest details or press 2 to exit: 9\n",
      "Invalid number, please try again!\n",
      "\n",
      "Please press 1 to enter guest details or press 2 to exit: 10\n",
      "Invalid number, please try again!\n",
      "\n",
      "Please press 1 to enter guest details or press 2 to exit: 11\n",
      "Invalid number, please try again!\n",
      "\n",
      "Please press 1 to enter guest details or press 2 to exit: 12\n",
      "Invalid number, please try again!\n",
      "\n",
      "Please press 1 to enter guest details or press 2 to exit: 2\n",
      "Please open the file guestlist.csv to review the changes. Thank you!\n"
     ]
    }
   ],
   "source": [
    "import csv\n",
    "filename = \"guestlist.csv\"\n",
    "with open (filename, \"a\", newline=\"\") as file:\n",
    "    while True:\n",
    "        try:\n",
    "            start_stop = int (input(\"\\nPlease press 1 to enter guest details or press 2 to exit: \"))\n",
    "        except:\n",
    "            print (\"Invalid entry, please enter 1 or 2!\")\n",
    "            continue\n",
    "        if start_stop not in range (1,3):\n",
    "            print (\"Invalid number, please try again!\")\n",
    "            continue\n",
    "        else:\n",
    "            if start_stop == 1:\n",
    "                guest_fname = input (\"Enter the first name of the guest: \")\n",
    "                guest_fname = guest_fname.strip()\n",
    "                guest_lname = input (\"Enter the last name of the guest: \")\n",
    "                guest_lname = guest_lname.rstrip()\n",
    "                guest_age = input (\"Enter the age of the guest: \")\n",
    "                writer = csv.writer(file)\n",
    "                writer.writerow([guest_fname.title(), guest_lname.title(), guest_age])\n",
    "                print (f\"Welcome {guest_fname} {guest_lname} :)\")\n",
    "                continue\n",
    "            else:\n",
    "                print (f\"Please open the file {filename} to review the changes. Thank you!\")\n",
    "                break"
   ]
  },
  {
   "cell_type": "code",
   "execution_count": null,
   "metadata": {},
   "outputs": [],
   "source": []
  }
 ],
 "metadata": {
  "kernelspec": {
   "display_name": "Python 3",
   "language": "python",
   "name": "python3"
  },
  "language_info": {
   "codemirror_mode": {
    "name": "ipython",
    "version": 3
   },
   "file_extension": ".py",
   "mimetype": "text/x-python",
   "name": "python",
   "nbconvert_exporter": "python",
   "pygments_lexer": "ipython3",
   "version": "3.7.6"
  }
 },
 "nbformat": 4,
 "nbformat_minor": 4
}
