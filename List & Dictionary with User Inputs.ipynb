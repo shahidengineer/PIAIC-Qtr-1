{
 "cells": [
  {
   "cell_type": "code",
   "execution_count": 1,
   "metadata": {
    "colab": {
     "base_uri": "https://localhost:8080/",
     "height": 272
    },
    "colab_type": "code",
    "executionInfo": {
     "elapsed": 55984,
     "status": "ok",
     "timestamp": 1590499642368,
     "user": {
      "displayName": "Shahid Iqbal",
      "photoUrl": "",
      "userId": "12063488604498307759"
     },
     "user_tz": -300
    },
    "id": "UKBgxaZWKGyu",
    "outputId": "812aab8e-ea8c-4dc5-b7e0-a626579938bf"
   },
   "outputs": [
    {
     "name": "stdout",
     "output_type": "stream",
     "text": [
      "PIZZA(s) WITH TOPPINGS\n",
      "=========================\n",
      "\n",
      "Enter the no. of pizzas you want to buy (max 3): 2\n",
      "Enter the toppings you would like in each pizza (max 4): 2\n",
      "\n",
      "Enter the flavor of Pizza No. 1: 1\n",
      "Enter the flavor of Topping No. 1: 2\n",
      "Enter the flavor of Topping No. 2: 3\n",
      "\n",
      "Enter the flavor of Pizza No. 2: 4\n",
      "Enter the flavor of Topping No. 1: 5\n",
      "Enter the flavor of Topping No. 2: 6\n",
      "\n",
      "dict_keys(['1', '4'])\n",
      "dict_values([['2', '3'], ['5', '6']])\n",
      "{'1': ['2', '3'], '4': ['5', '6']}\n"
     ]
    }
   ],
   "source": [
    "# List in Dictionary\n",
    "# Making a list and dictionary with user inputs\n",
    "print (\"PIZZA(s) WITH TOPPINGS\")\n",
    "print (\"=========================\\n\")\n",
    "p = int (input (\"Enter the no. of pizzas you want to buy (max 3): \"))\n",
    "t = int (input (\"Enter the toppings you would like in each pizza (max 4): \"))\n",
    "if p <= 3 and t <= 4:\n",
    "    b = 1\n",
    "    dict_pizza = {}\n",
    "    for _ in range(p):\n",
    "        pizza = \"\"\n",
    "        pizza = str(input(f\"\\nEnter the flavor of Pizza No. {b}: \"))\n",
    "        dict_pizza[pizza] = []\n",
    "        b += 1\n",
    "        c = 1\n",
    "        for _ in range(t):    \n",
    "            topping = str(input(f\"Enter the flavor of Topping No. {c}: \"))\n",
    "            dict_pizza[pizza].append(topping)\n",
    "            c += 1\n",
    "    print ()\n",
    "    print (dict_pizza.keys())\n",
    "    print (dict_pizza.values())\n",
    "    print (dict_pizza)\n",
    "else:\n",
    "    print (\"\\nYou exceeded the limit of pizzas or toppings!\")"
   ]
  },
  {
   "cell_type": "code",
   "execution_count": 0,
   "metadata": {
    "colab": {},
    "colab_type": "code",
    "id": "YAJNd77DKGy0"
   },
   "outputs": [],
   "source": []
  }
 ],
 "metadata": {
  "colab": {
   "name": "List & Dictionary with User Inputs - Issue.ipynb",
   "provenance": []
  },
  "kernelspec": {
   "display_name": "Python 3",
   "language": "python",
   "name": "python3"
  },
  "language_info": {
   "codemirror_mode": {
    "name": "ipython",
    "version": 3
   },
   "file_extension": ".py",
   "mimetype": "text/x-python",
   "name": "python",
   "nbconvert_exporter": "python",
   "pygments_lexer": "ipython3",
   "version": "3.7.6"
  }
 },
 "nbformat": 4,
 "nbformat_minor": 1
}
