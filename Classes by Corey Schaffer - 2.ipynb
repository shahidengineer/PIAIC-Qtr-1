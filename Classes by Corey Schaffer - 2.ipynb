{
 "cells": [
  {
   "cell_type": "code",
   "execution_count": 1,
   "metadata": {},
   "outputs": [],
   "source": [
    "class Employee:\n",
    "\n",
    "# CLASS VARIABLES\n",
    "\n",
    "    raise_amt = 1.04 #class variable\n",
    "    num_of_emps = 0  #class variable\n",
    "\n",
    "# INIT FOR DEFINING INSTANCE\n",
    "\n",
    "    def __init__ (self, first, last, pay):\n",
    "        self.first = first\n",
    "        self.last = last\n",
    "        self.pay = pay\n",
    "        self.email = first.lower()+\".\"+last.lower()+\"@company.com\"\n",
    "# Calling Class Variable    \n",
    "        Employee.num_of_emps += 1 \n",
    "\n",
    "# REGULAR METHODS\n",
    "\n",
    "# These are regular method that take instance as the first arg\n",
    "    def fullname(self):\n",
    "        return f\"{self.first} {self.last}\"\n",
    "    \n",
    "    def apply_raise(self): #regular method\n",
    "        self.pay = int (self.pay * self.raise_amt) \n",
    "\n",
    "# DUNDERS / SPECIAL METHODS\n",
    "# This call method is added to delete an instance\n",
    "# # once deleted we need to decrease the num of emps as well\n",
    "    def __del__ (self):\n",
    "        print (\"Deleted!\")\n",
    "        Employee.num_of_emps -= 1\n",
    "        \n",
    "# The goal of repr is to be unambiguous\n",
    "# This will return the actual type of var\n",
    "# These are basically for developers for debugging\n",
    "    def __repr__ (self):\n",
    "        return f\"Employee({self.first}, {self.last}, {self.pay})\"\n",
    "    \n",
    "# # The goal of str is to be readable\n",
    "# These are basically for novice programmers\n",
    "    def __str__(self):\n",
    "        return f\"{self.fullname()} - {self.email}\"\n",
    "    \n",
    "# Using the add dunder for salary addition\n",
    "    def __add__ (self, other):\n",
    "        return self.pay + other.pay\n",
    "\n",
    "# Using the len dunder for finding the lenght of full name\n",
    "    def __len__(self):\n",
    "        return len(self.fullname())"
   ]
  },
  {
   "cell_type": "code",
   "execution_count": 2,
   "metadata": {},
   "outputs": [],
   "source": [
    "emp_1 = Employee (\"Corey\",\"Schaffer\",50000)\n",
    "emp_2 = Employee (\"Test\", \"Employee\", 60000)"
   ]
  },
  {
   "cell_type": "code",
   "execution_count": 3,
   "metadata": {},
   "outputs": [
    {
     "data": {
      "text/plain": [
       "2"
      ]
     },
     "execution_count": 3,
     "metadata": {},
     "output_type": "execute_result"
    }
   ],
   "source": [
    "Employee.num_of_emps"
   ]
  },
  {
   "cell_type": "code",
   "execution_count": 4,
   "metadata": {},
   "outputs": [
    {
     "name": "stdout",
     "output_type": "stream",
     "text": [
      "Deleted!\n"
     ]
    }
   ],
   "source": [
    "del emp_1"
   ]
  },
  {
   "cell_type": "code",
   "execution_count": 5,
   "metadata": {},
   "outputs": [
    {
     "data": {
      "text/plain": [
       "1"
      ]
     },
     "execution_count": 5,
     "metadata": {},
     "output_type": "execute_result"
    }
   ],
   "source": [
    "Employee.num_of_emps"
   ]
  },
  {
   "cell_type": "code",
   "execution_count": 6,
   "metadata": {},
   "outputs": [],
   "source": [
    "emp_1 = Employee (\"Corey\",\"Schaffer\",50000)"
   ]
  },
  {
   "cell_type": "code",
   "execution_count": 7,
   "metadata": {},
   "outputs": [
    {
     "name": "stdout",
     "output_type": "stream",
     "text": [
      "Employee(Corey, Schaffer, 50000)\n"
     ]
    }
   ],
   "source": [
    "print(emp_1.__repr__())"
   ]
  },
  {
   "cell_type": "code",
   "execution_count": 8,
   "metadata": {},
   "outputs": [
    {
     "name": "stdout",
     "output_type": "stream",
     "text": [
      "Corey Schaffer - corey.schaffer@company.com\n"
     ]
    }
   ],
   "source": [
    "print (emp_1)"
   ]
  },
  {
   "cell_type": "code",
   "execution_count": 9,
   "metadata": {},
   "outputs": [
    {
     "data": {
      "text/plain": [
       "'Corey Schaffer - corey.schaffer@company.com'"
      ]
     },
     "execution_count": 9,
     "metadata": {},
     "output_type": "execute_result"
    }
   ],
   "source": [
    "Employee.__str__(emp_1)"
   ]
  },
  {
   "cell_type": "code",
   "execution_count": 10,
   "metadata": {},
   "outputs": [
    {
     "name": "stdout",
     "output_type": "stream",
     "text": [
      "Corey Schaffer - corey.schaffer@company.com\n"
     ]
    }
   ],
   "source": [
    "print(Employee.__str__(emp_1))"
   ]
  },
  {
   "cell_type": "code",
   "execution_count": 11,
   "metadata": {},
   "outputs": [
    {
     "name": "stdout",
     "output_type": "stream",
     "text": [
      "Test Employee - test.employee@company.com\n"
     ]
    }
   ],
   "source": [
    "print(Employee.__str__(emp_2))"
   ]
  },
  {
   "cell_type": "code",
   "execution_count": 12,
   "metadata": {},
   "outputs": [
    {
     "name": "stdout",
     "output_type": "stream",
     "text": [
      "110000\n"
     ]
    }
   ],
   "source": [
    "# Add dunder added the pays for the two employees\n",
    "print (emp_1 + emp_2)"
   ]
  },
  {
   "cell_type": "code",
   "execution_count": 13,
   "metadata": {},
   "outputs": [
    {
     "name": "stdout",
     "output_type": "stream",
     "text": [
      "14\n"
     ]
    }
   ],
   "source": [
    "print (len(emp_1))"
   ]
  },
  {
   "cell_type": "code",
   "execution_count": null,
   "metadata": {},
   "outputs": [],
   "source": []
  }
 ],
 "metadata": {
  "kernelspec": {
   "display_name": "Python 3",
   "language": "python",
   "name": "python3"
  },
  "language_info": {
   "codemirror_mode": {
    "name": "ipython",
    "version": 3
   },
   "file_extension": ".py",
   "mimetype": "text/x-python",
   "name": "python",
   "nbconvert_exporter": "python",
   "pygments_lexer": "ipython3",
   "version": "3.7.6"
  }
 },
 "nbformat": 4,
 "nbformat_minor": 4
}
