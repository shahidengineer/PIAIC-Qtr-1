{
 "cells": [
  {
   "cell_type": "code",
   "execution_count": null,
   "metadata": {},
   "outputs": [],
   "source": [
    "# 9-3. Users: Make a class called User. Create two attributes called first_name\n",
    "# and last_name, and then create several other attributes that are typically stored\n",
    "# in a user profile. Make a method called describe_user() that prints a summary\n",
    "# of the user’s information. Make another method called greet_user() that prints\n",
    "# a personalized greeting to the user.\n",
    "# Create several instances representing different users, and call both methods\n",
    "# # for each user.\n",
    "# Write a method called increment_\n",
    "# login_attempts() that increments the value of login_attempts by 1. Write\n",
    "# another method called reset_login_attempts() that resets the value of login_\n",
    "# attempts to 0.\n",
    "# Make an instance of the User class and call increment_login_attempts()\n",
    "# several times. Print the value of login_attempts to make sure it was incremented\n",
    "# properly, and then call reset_login_attempts(). Print login_attempts again to\n",
    "# make sure it was reset to 0.\n",
    "# An administrator is a special kind of user. Write a class called Admin that inherits \n",
    "# from the User class you wrote in Exercise 9-3 (page 166) or Exercise 9-5 (page 171). \n",
    "# Add an attribute, privileges, that stores a list of strings like \"can add post\", \n",
    "# \"can delete post\", \"can ban user\", and so on. WRite a method called show_privileges() \n",
    "# that lists the administrator’s set of privileges. Create an instance of Admin, \n",
    "# and call your method."
   ]
  },
  {
   "cell_type": "code",
   "execution_count": 1,
   "metadata": {},
   "outputs": [],
   "source": [
    "class User():\n",
    "    \n",
    "    def __init__ (self, first_name, last_name, location):\n",
    "        self.first_name = first_name.title()\n",
    "        self.last_name = last_name.title()\n",
    "        self.username = first_name[0].lower() +\"_\"+last_name.lower()\n",
    "        self.email = self.username+\"@example.com\"\n",
    "        self.location = location\n",
    "        self.login_attempts = 0\n",
    "        \n",
    "    def describe_user (self):\n",
    "        full_name = self.first_name +\" \"+ self.last_name\n",
    "        print (\"Full Name: \\t\\t\", full_name)\n",
    "        print (\"Username: \\t\\t\", self.username)\n",
    "        print (\"Email Address: \\t\\t\", self.email)\n",
    "        print (\"Location: \\t\\t\", self.location)\n",
    "    \n",
    "    def greet_user (self):\n",
    "        greet = \"Welcome\" +\" \"+ self.first_name + \" \"+ self.last_name + \"!\"\n",
    "        return greet\n",
    "    \n",
    "    def increment_login_attempts(self):\n",
    "        self.login_attempts += 1\n",
    "        print (f\"{self.first_name} {self.last_name} logged into the system.\")\n",
    "    \n",
    "    def reset_login_attempts (self):\n",
    "        self.login_attempts = 0\n",
    "        print (f\"The login attempts for {self.first_name} {self.last_name} has been restted to zero.\")\n",
    "\n",
    "class Privileges():\n",
    "    \n",
    "    def __init__ (self, privileges = []):\n",
    "        self.privileges = privileges\n",
    "    \n",
    "    def show_privileges(self):\n",
    "        for a in self.privileges:\n",
    "            print (\"-\", a.title())    \n",
    "    \n",
    "class Administrator(User):\n",
    "    \n",
    "    def __init__ (self, first_name, last_name, location):\n",
    "        super().__init__(first_name, last_name, location)\n",
    "        self.privileges = Privileges()\n",
    "    \n",
    "#     def show_privileges(self):\n",
    "#         for a in self.privileges:\n",
    "#             print (a.title())\n",
    "\n",
    "            "
   ]
  },
  {
   "cell_type": "code",
   "execution_count": 2,
   "metadata": {},
   "outputs": [],
   "source": [
    "user1= User(\"Shahid\", \"Iqbal\", \"Karachi\")\n",
    "user2 = User (\"Noman\", \"Ahmed\", \"Lahore\")"
   ]
  },
  {
   "cell_type": "code",
   "execution_count": 3,
   "metadata": {},
   "outputs": [
    {
     "name": "stdout",
     "output_type": "stream",
     "text": [
      "Full Name: \t\t Shahid Iqbal\n",
      "Username: \t\t s_iqbal\n",
      "Email Address: \t\t s_iqbal@example.com\n",
      "Location: \t\t Karachi\n"
     ]
    }
   ],
   "source": [
    "user1.describe_user()"
   ]
  },
  {
   "cell_type": "code",
   "execution_count": 4,
   "metadata": {},
   "outputs": [
    {
     "data": {
      "text/plain": [
       "'Welcome Noman Ahmed!'"
      ]
     },
     "execution_count": 4,
     "metadata": {},
     "output_type": "execute_result"
    }
   ],
   "source": [
    "user2.greet_user()"
   ]
  },
  {
   "cell_type": "code",
   "execution_count": 5,
   "metadata": {},
   "outputs": [
    {
     "name": "stdout",
     "output_type": "stream",
     "text": [
      "Shahid Iqbal logged into the system.\n",
      "Shahid Iqbal logged into the system.\n",
      "Shahid Iqbal logged into the system.\n"
     ]
    }
   ],
   "source": [
    "user1.increment_login_attempts()\n",
    "user1.increment_login_attempts()\n",
    "user1.increment_login_attempts()"
   ]
  },
  {
   "cell_type": "code",
   "execution_count": 6,
   "metadata": {},
   "outputs": [
    {
     "data": {
      "text/plain": [
       "3"
      ]
     },
     "execution_count": 6,
     "metadata": {},
     "output_type": "execute_result"
    }
   ],
   "source": [
    "user1.login_attempts"
   ]
  },
  {
   "cell_type": "code",
   "execution_count": 7,
   "metadata": {},
   "outputs": [
    {
     "name": "stdout",
     "output_type": "stream",
     "text": [
      "The login attempts for Shahid Iqbal has been restted to zero.\n"
     ]
    }
   ],
   "source": [
    "user1.reset_login_attempts()"
   ]
  },
  {
   "cell_type": "code",
   "execution_count": 8,
   "metadata": {},
   "outputs": [
    {
     "data": {
      "text/plain": [
       "0"
      ]
     },
     "execution_count": 8,
     "metadata": {},
     "output_type": "execute_result"
    }
   ],
   "source": [
    "user1.login_attempts"
   ]
  },
  {
   "cell_type": "code",
   "execution_count": 9,
   "metadata": {},
   "outputs": [],
   "source": [
    "super_user = Administrator (\"Iqbal\", \"Hashim\", \"Karachi\")"
   ]
  },
  {
   "cell_type": "code",
   "execution_count": 12,
   "metadata": {},
   "outputs": [],
   "source": [
    "super_user.privileges.privileges = [\"can add user\",\"can delete user\", \"can ban user\", \"can delete posts\"]"
   ]
  },
  {
   "cell_type": "code",
   "execution_count": 13,
   "metadata": {},
   "outputs": [
    {
     "name": "stdout",
     "output_type": "stream",
     "text": [
      "- Can Add User\n",
      "- Can Delete User\n",
      "- Can Ban User\n",
      "- Can Delete Posts\n"
     ]
    }
   ],
   "source": [
    "super_user.privileges.show_privileges()"
   ]
  }
 ],
 "metadata": {
  "kernelspec": {
   "display_name": "Python 3",
   "language": "python",
   "name": "python3"
  },
  "language_info": {
   "codemirror_mode": {
    "name": "ipython",
    "version": 3
   },
   "file_extension": ".py",
   "mimetype": "text/x-python",
   "name": "python",
   "nbconvert_exporter": "python",
   "pygments_lexer": "ipython3",
   "version": "3.7.6"
  }
 },
 "nbformat": 4,
 "nbformat_minor": 4
}
