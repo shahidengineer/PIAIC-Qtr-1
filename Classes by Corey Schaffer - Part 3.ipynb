{
 "cells": [
  {
   "cell_type": "code",
   "execution_count": 31,
   "metadata": {},
   "outputs": [],
   "source": [
    "class Employee:\n",
    "\n",
    "# CLASS VARIABLES\n",
    "    raise_amt = 1.04 #class variable\n",
    "    num_of_emps = 0  #class variable\n",
    "\n",
    "# INIT FOR DEFINING INSTANCE\n",
    "    def __init__ (self, first, last, pay):\n",
    "        self.first = first\n",
    "        self.last = last\n",
    "        self.pay = pay\n",
    "#       self.email = email - must be removed\n",
    "        # Calling Class Variable    \n",
    "        Employee.num_of_emps += 1 \n",
    "\n",
    "# REGULAR METHODS\n",
    "#     def fullname(self):\n",
    "#         return f\"{self.first} {self.last}\"\n",
    "    \n",
    "    def apply_raise(self): #regular method\n",
    "        self.pay = int (self.pay * self.raise_amt) \n",
    "\n",
    "# CLASS METHODS\n",
    "    @classmethod \n",
    "    def set_raise_amt(cls, amount): #cls is class variable name\n",
    "        cls.raise_amt = amount\n",
    "\n",
    "    @classmethod\n",
    "    def from_string (cls, emp_str):\n",
    "        first, last, pay = emp_str.split(\"-\")\n",
    "        return cls(first, last, pay)\n",
    "\n",
    "#STATIC METHODS    \n",
    "    @staticmethod\n",
    "    def is_workday(day):\n",
    "    # the below is from datetime module\n",
    "        if day.weekday() == 5 or day.weekday() == 6:\n",
    "            return False\n",
    "        return True\n",
    "\n",
    "# PROPERTY DECORATORS\n",
    "#     print (emp_1.first)\n",
    "#     print (emp_1.email)\n",
    "#     print (emp_1.fullname())\n",
    "#     # In this case the email has not changed \n",
    "#     # even we changed the first name\n",
    "#     OUTPUT\n",
    "#     Jane\n",
    "#     john.smith@company.com\n",
    "#     Jane Smith\n",
    "\n",
    "# In order to avoid the above we will use property decorators \n",
    "# The property decorator @property will take the attribute directly to class    \n",
    "# in order to remove the () brackets and make it a class attribute we \n",
    "# will use the property deorator i.e. @property\n",
    "    \n",
    "    @property\n",
    "    def email(self):\n",
    "        return f\"{self.first.lower()}.{self.last.lower()}@company.com\"\n",
    "    \n",
    "# emp_1.fullname = \"Shahid Iqbal\"\n",
    "# print (emp_1.first)\n",
    "# print (emp_1.email)\n",
    "# OUTPUT\n",
    "# Jane\n",
    "# jane.smith@company.com    \n",
    "# In order to avoid this issue we will use the property decorator with\n",
    "# setter & deleter\n",
    "    \n",
    "    @property\n",
    "    def fullname(self):\n",
    "        return f\"{self.first} {self.last}\"\n",
    "\n",
    "# However changing this will not change the first & last name\n",
    "# in order to change the first & last name we will define a\n",
    "# setter decorator as below\n",
    "# Setter decorator - \n",
    "# @ property_class_name.setter\n",
    "# def property class name (self, parameters):\n",
    "\n",
    "    @fullname.setter\n",
    "    def fullname (self, name):\n",
    "        first, last = name.split(\" \")\n",
    "        self.first = first\n",
    "        self.last = last\n",
    "\n",
    "#similary for deleting a full_name we will use deleter\n",
    "    \n",
    "    @fullname.deleter\n",
    "    def fullname (self):\n",
    "        print (\"Deleted\")\n",
    "        self.first = None\n",
    "        self.last = None\n",
    "    "
   ]
  },
  {
   "cell_type": "code",
   "execution_count": 32,
   "metadata": {},
   "outputs": [],
   "source": [
    "emp_1 = Employee (\"John\", \"Smith\", 50000)"
   ]
  },
  {
   "cell_type": "code",
   "execution_count": 33,
   "metadata": {},
   "outputs": [
    {
     "name": "stdout",
     "output_type": "stream",
     "text": [
      "John\n",
      "john.smith@company.com\n",
      "John Smith\n"
     ]
    }
   ],
   "source": [
    "print (emp_1.first)\n",
    "print (emp_1.email)\n",
    "print (emp_1.fullname)"
   ]
  },
  {
   "cell_type": "code",
   "execution_count": 34,
   "metadata": {},
   "outputs": [],
   "source": [
    "# Changing the first name and printing the same as above\n",
    "emp_1.first = \"Jane\""
   ]
  },
  {
   "cell_type": "code",
   "execution_count": 35,
   "metadata": {},
   "outputs": [],
   "source": [
    "emp_1.fullname = \"Shahid Iqbal\""
   ]
  },
  {
   "cell_type": "code",
   "execution_count": 36,
   "metadata": {},
   "outputs": [
    {
     "name": "stdout",
     "output_type": "stream",
     "text": [
      "Shahid\n",
      "Iqbal\n",
      "shahid.iqbal@company.com\n",
      "Shahid Iqbal\n"
     ]
    }
   ],
   "source": [
    "print (emp_1.first)\n",
    "print (emp_1.last)\n",
    "print (emp_1.email)\n",
    "print (emp_1.fullname)"
   ]
  },
  {
   "cell_type": "code",
   "execution_count": 37,
   "metadata": {},
   "outputs": [
    {
     "name": "stdout",
     "output_type": "stream",
     "text": [
      "Deleted\n"
     ]
    }
   ],
   "source": [
    "del emp_1.fullname"
   ]
  }
 ],
 "metadata": {
  "kernelspec": {
   "display_name": "Python 3",
   "language": "python",
   "name": "python3"
  },
  "language_info": {
   "codemirror_mode": {
    "name": "ipython",
    "version": 3
   },
   "file_extension": ".py",
   "mimetype": "text/x-python",
   "name": "python",
   "nbconvert_exporter": "python",
   "pygments_lexer": "ipython3",
   "version": "3.7.6"
  }
 },
 "nbformat": 4,
 "nbformat_minor": 4
}
