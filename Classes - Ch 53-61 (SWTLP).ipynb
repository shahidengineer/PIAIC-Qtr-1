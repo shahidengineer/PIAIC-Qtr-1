{
 "cells": [
  {
   "cell_type": "markdown",
   "metadata": {},
   "source": [
    "# CLASSES - SWTLP"
   ]
  },
  {
   "cell_type": "code",
   "execution_count": 1,
   "metadata": {},
   "outputs": [],
   "source": [
    "# In Python, classes are templates. \n",
    "# They help you standardize and organize\n",
    "# information.\n",
    "class Patient (): # This way you created a class of patients\n",
    "                   \n",
    "    count_f = 0      # These are class variables\n",
    "    count_m = 0      # These can be called with Classname.variable_name in the call\n",
    "    count_total = 0\n",
    "                 # (Instance variables are unique) \n",
    "    def __init__ (self, last_name, first_name, sex, age): \n",
    "        \n",
    "        # This is an attribute i.e. a chunck of infomration about each patient\n",
    "        # here self is a keyword and Last_anem is an attribute\n",
    "        self.last_name = last_name      \n",
    "        self.first_name = first_name\n",
    "        self.sex = sex\n",
    "        self.age = age\n",
    "        \n",
    "        Patient.count_total += 1         # Counting the total enteries\n",
    "        if self.sex == \"female\": # This code will count male and females \n",
    "            Patient.count_f += 1         # Made it a part of the class (Patient)\n",
    "        else: \n",
    "            Patient.count_m += 1\n",
    "        # This line has to start with self.(xyz) =\n",
    "        # you can use anything in (xyz) w/o brackets ofcourse\n",
    "       \n",
    "        # Adding the function for minor age \n",
    "        # This process is called \"Adding a method in Class\"\n",
    "    \n",
    "    def minor_age(self):\n",
    "        if self.age < 18:\n",
    "            print (f\"The Pateint {self.first_name} {self.last_name} is a minor.\")\n",
    "        else:\n",
    "            print (f\"The Patient {self.first_name} {self.last_name} is not a minor.\")\n",
    "    \n",
    "    # Defining a second function for full name\n",
    "    def full_name(self):\n",
    "        return f\"{self.first_name} {self.last_name}\""
   ]
  },
  {
   "cell_type": "code",
   "execution_count": 2,
   "metadata": {},
   "outputs": [
    {
     "data": {
      "text/plain": [
       "0"
      ]
     },
     "execution_count": 2,
     "metadata": {},
     "output_type": "execute_result"
    }
   ],
   "source": [
    "Patient.count_total"
   ]
  },
  {
   "cell_type": "code",
   "execution_count": 3,
   "metadata": {},
   "outputs": [],
   "source": [
    "# Instantiation of class 05 times\n",
    "# You add the patients in the class as per prescribed format\n",
    "# The following are instances\n",
    "PID001 = Patient (\"Ahsan\", \"Ali\", \"male\", 33)\n",
    "PID002 = Patient (\"Mahmood\", \"Zafar\",\"male\", 44)\n",
    "PID003 = Patient (\"Mughal\", \"Faida\",\"female\", 15)\n",
    "PID004 = Patient (\"Haroon\", \"Bilal\",\"male\", 10)\n",
    "PID005 = Patient (\"Farooque\", \"Nasreen\", \"female\", 61)"
   ]
  },
  {
   "cell_type": "code",
   "execution_count": 4,
   "metadata": {},
   "outputs": [
    {
     "name": "stdout",
     "output_type": "stream",
     "text": [
      "33\n"
     ]
    }
   ],
   "source": [
    "# Getting info out of the instances\n",
    "# Checking age of PID001\n",
    "# Using variable.age()\n",
    "print (PID001.age)"
   ]
  },
  {
   "cell_type": "code",
   "execution_count": 5,
   "metadata": {},
   "outputs": [
    {
     "name": "stdout",
     "output_type": "stream",
     "text": [
      "Nasreen\n"
     ]
    }
   ],
   "source": [
    "# Getting info of first name of PID005\n",
    "print(PID005.first_name)"
   ]
  },
  {
   "cell_type": "code",
   "execution_count": 6,
   "metadata": {},
   "outputs": [
    {
     "name": "stdout",
     "output_type": "stream",
     "text": [
      "The Patient Ali Ahsan is not a minor.\n"
     ]
    }
   ],
   "source": [
    "# Calling the function of minor age\n",
    "PID001.minor_age()"
   ]
  },
  {
   "cell_type": "code",
   "execution_count": 7,
   "metadata": {},
   "outputs": [
    {
     "data": {
      "text/plain": [
       "'Ali Ahsan'"
      ]
     },
     "execution_count": 7,
     "metadata": {},
     "output_type": "execute_result"
    }
   ],
   "source": [
    "# Calling ful name\n",
    "PID001.full_name()"
   ]
  },
  {
   "cell_type": "code",
   "execution_count": 8,
   "metadata": {},
   "outputs": [
    {
     "data": {
      "text/plain": [
       "'Ali Ahsan'"
      ]
     },
     "execution_count": 8,
     "metadata": {},
     "output_type": "execute_result"
    }
   ],
   "source": [
    "# Another way of calling full name\n",
    "# Class.function (self)\n",
    "Patient.full_name(PID001)"
   ]
  },
  {
   "cell_type": "code",
   "execution_count": 9,
   "metadata": {},
   "outputs": [
    {
     "data": {
      "text/plain": [
       "5"
      ]
     },
     "execution_count": 9,
     "metadata": {},
     "output_type": "execute_result"
    }
   ],
   "source": [
    "# calling class variable\n",
    "Patient.count_total"
   ]
  },
  {
   "cell_type": "code",
   "execution_count": 10,
   "metadata": {},
   "outputs": [
    {
     "data": {
      "text/plain": [
       "2"
      ]
     },
     "execution_count": 10,
     "metadata": {},
     "output_type": "execute_result"
    }
   ],
   "source": [
    "# Calling class variable with if condition\n",
    "# for females\n",
    "Patient.count_f"
   ]
  },
  {
   "cell_type": "code",
   "execution_count": 11,
   "metadata": {},
   "outputs": [
    {
     "data": {
      "text/plain": [
       "3"
      ]
     },
     "execution_count": 11,
     "metadata": {},
     "output_type": "execute_result"
    }
   ],
   "source": [
    "# Calling class variable with if condition\n",
    "# for males\n",
    "Patient.count_m"
   ]
  },
  {
   "cell_type": "code",
   "execution_count": null,
   "metadata": {},
   "outputs": [],
   "source": []
  }
 ],
 "metadata": {
  "kernelspec": {
   "display_name": "Python 3",
   "language": "python",
   "name": "python3"
  },
  "language_info": {
   "codemirror_mode": {
    "name": "ipython",
    "version": 3
   },
   "file_extension": ".py",
   "mimetype": "text/x-python",
   "name": "python",
   "nbconvert_exporter": "python",
   "pygments_lexer": "ipython3",
   "version": "3.7.6"
  }
 },
 "nbformat": 4,
 "nbformat_minor": 4
}
