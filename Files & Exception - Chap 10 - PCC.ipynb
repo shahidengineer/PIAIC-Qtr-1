{
 "cells": [
  {
   "cell_type": "markdown",
   "metadata": {},
   "source": [
    "### FILES & EXCEPTION - PCC - CHAP 10"
   ]
  },
  {
   "cell_type": "code",
   "execution_count": 1,
   "metadata": {},
   "outputs": [
    {
     "name": "stdout",
     "output_type": "stream",
     "text": [
      "3.1415926535 \n",
      "  8979323846 \n",
      "  2643383279\n",
      "  "
     ]
    }
   ],
   "source": [
    "# Reading from a File\n",
    "# Reading an Entire File\n",
    "file_name = \"pi_digits.txt\"\n",
    "with open (file_name, \"r\") as f:\n",
    "    contents = f.read()\n",
    "    print (contents, end=\"\")"
   ]
  },
  {
   "cell_type": "code",
   "execution_count": 2,
   "metadata": {},
   "outputs": [
    {
     "name": "stdout",
     "output_type": "stream",
     "text": [
      "3.1415926535 \n",
      "  8979323846 \n",
      "  2643383279\n",
      "  "
     ]
    }
   ],
   "source": [
    "# Reading an Entire File\n",
    "# File Paths\n",
    "file_path = \"E:\\Anaconda\\PythonPrograms\\pi_digits.txt\"\n",
    "with open (file_path, \"r\") as f:\n",
    "    contents = f.read()\n",
    "    print (contents, end=\"\")"
   ]
  },
  {
   "cell_type": "code",
   "execution_count": 3,
   "metadata": {},
   "outputs": [
    {
     "name": "stdout",
     "output_type": "stream",
     "text": [
      "3.1415926535\n",
      "8979323846\n",
      "2643383279\n",
      "\n"
     ]
    }
   ],
   "source": [
    "# Reading Line by Line\n",
    "file_name = \"pi_digits.txt\"\n",
    "with open (file_name, \"r\") as f:\n",
    "    for line in f:\n",
    "        print (line.strip())"
   ]
  },
  {
   "cell_type": "code",
   "execution_count": 4,
   "metadata": {},
   "outputs": [
    {
     "name": "stdout",
     "output_type": "stream",
     "text": [
      "['3.1415926535 \\n', '  8979323846 \\n', '  2643383279\\n', '  ']\n",
      "3.1415926535\n",
      "  8979323846\n",
      "  2643383279\n",
      "\n"
     ]
    }
   ],
   "source": [
    "# Making a List of Lines from a File\n",
    "file_name = \"pi_digits.txt\"\n",
    "with open (file_name, \"r\") as f:\n",
    "    lines = f.readlines()\n",
    "    print (lines)\n",
    "    for line in lines:\n",
    "        print(line.rstrip())"
   ]
  },
  {
   "cell_type": "code",
   "execution_count": 5,
   "metadata": {},
   "outputs": [
    {
     "name": "stdout",
     "output_type": "stream",
     "text": [
      "3.141592653589793238462643383279\n",
      "32\n"
     ]
    }
   ],
   "source": [
    "# Working with a File’s Contents\n",
    "# Making a single line for the entire file\n",
    "file_name = \"pi_digits.txt\"\n",
    "with open (file_name, \"r\") as f:\n",
    "    pi_string = \"\"\n",
    "    for line in f:\n",
    "        pi_string += line.strip()\n",
    "    print (pi_string)\n",
    "    print (len(pi_string))"
   ]
  },
  {
   "cell_type": "code",
   "execution_count": 6,
   "metadata": {},
   "outputs": [
    {
     "name": "stdout",
     "output_type": "stream",
     "text": [
      "3.14159265358979323846264338327950288419716939937510\n",
      "1000002\n"
     ]
    }
   ],
   "source": [
    "# Large Files: One Million Digits\n",
    "filename = 'pi_million_digits.txt'\n",
    "with open (filename, \"r\") as f:\n",
    "    pi_million_string = \"\"\n",
    "    for line in f:\n",
    "        pi_million_string += line.strip()\n",
    "    print (pi_million_string[:52])\n",
    "    print (len (pi_million_string))"
   ]
  },
  {
   "cell_type": "code",
   "execution_count": 7,
   "metadata": {},
   "outputs": [
    {
     "name": "stdout",
     "output_type": "stream",
     "text": [
      "Enter your birthday in format mmddyy: \n",
      "\n",
      "Your birthday appears in Pi million digits :)\n"
     ]
    }
   ],
   "source": [
    "# Is Your Birthday Contained in Pi?\n",
    "print (\"Enter your birthday in format mmddyy: \")\n",
    "birth_date = input()\n",
    "filename = 'pi_million_digits.txt'\n",
    "with open (filename, \"r\") as f:\n",
    "    pi_million_string = \"\"\n",
    "    for line in f:\n",
    "        pi_million_string += line.strip()\n",
    "    if birth_date in pi_million_string:\n",
    "        print (\"Your birthday appears in Pi million digits :)\")\n",
    "    else:\n",
    "        print (\"Your birthday is not in Pi million digits :(\")"
   ]
  },
  {
   "cell_type": "code",
   "execution_count": 8,
   "metadata": {},
   "outputs": [
    {
     "name": "stdout",
     "output_type": "stream",
     "text": [
      "1. Python is a great language for Data Sceinces.\n",
      "2. Python is really easy to learn.\n",
      "3. Python is fun.\n",
      "=========================================\n",
      "1. Python is a great language for Data Sceinces.\n",
      "2. Python is really easy to learn.\n",
      "3. Python is fun.\n",
      "=========================================\n",
      "1. Python is a great language for Data Sceinces.\n",
      "2. Python is really easy to learn.\n",
      "3. Python is fun.\n"
     ]
    }
   ],
   "source": [
    "# 10-1. Learning Python: Open a blank file in your text editor and write a few\n",
    "# lines summarizing what you’ve learned about Python so far. Start each line\n",
    "# with the phrase In Python you can.... Save the file as learning_python.txt in the\n",
    "# same directory as your exercises from this chapter. Write a program that reads\n",
    "# the file and prints what you wrote three times. Print the contents once by reading\n",
    "# in the entire file, once by looping over the file object, and once by storing\n",
    "# the lines in a list and then working with them outside the with block.\n",
    "filename = \"Programming_language_10-1 & 10-2.txt\"\n",
    "with open (filename, \"r\") as f:\n",
    "    contents = f.read()\n",
    "    print (contents)\n",
    "print (\"=========================================\")\n",
    "filename = \"Programming_language_10-1 & 10-2.txt\"\n",
    "with open (filename, \"r\") as f:\n",
    "    for line in f:\n",
    "        print (line.strip())\n",
    "print (\"=========================================\")\n",
    "filename = \"Programming_language_10-1 & 10-2.txt\"\n",
    "with open (filename, \"r\") as f:\n",
    "    lines = f.readlines()\n",
    "    string = \"\"\n",
    "    for line in lines:\n",
    "        string += line\n",
    "print (string)"
   ]
  },
  {
   "cell_type": "code",
   "execution_count": 9,
   "metadata": {},
   "outputs": [
    {
     "name": "stdout",
     "output_type": "stream",
     "text": [
      "1. C is a great language for Data Sceinces.\n",
      "2. C is really easy to learn.\n",
      "3. C is fun.\n"
     ]
    }
   ],
   "source": [
    "# 10-2. Learning C: You can use the replace() method to replace any word in a\n",
    "# string with a different word. Here’s a quick example showing how to replace\n",
    "# 'dog' with 'cat' in a sentence:\n",
    "# >>> message = \"I really like dogs.\"\n",
    "# >>> message.replace('dog', 'cat')\n",
    "# 'I really like cats.'\n",
    "# Read in each line from the file you just created, learning_python.txt, and\n",
    "# replace the word Python with the name of another language, such as C. Print\n",
    "# each modified line to the screen.\n",
    "filename = \"Programming_language_10-1 & 10-2.txt\"\n",
    "with open (filename, \"r\") as f:\n",
    "    lines = f.readlines()\n",
    "    string = \"\"\n",
    "    for line in lines:\n",
    "        string += line\n",
    "print (string.replace(\"Python\", \"C\"))"
   ]
  },
  {
   "cell_type": "code",
   "execution_count": 10,
   "metadata": {},
   "outputs": [
    {
     "name": "stdout",
     "output_type": "stream",
     "text": [
      "I Love Programming\n"
     ]
    }
   ],
   "source": [
    "# Writing to a File\n",
    "filename = \"programming.txt\"\n",
    "with open (filename, \"w\") as f:\n",
    "    f.write(\"I Love Programming\")\n",
    "with open (filename) as f:\n",
    "    print(f.read())"
   ]
  },
  {
   "cell_type": "code",
   "execution_count": 11,
   "metadata": {},
   "outputs": [
    {
     "name": "stdout",
     "output_type": "stream",
     "text": [
      "I Love Programming.\n",
      "I love creating new games.\n",
      "\n"
     ]
    }
   ],
   "source": [
    "# Writing Multiple Lines\n",
    "filename = \"programming.txt\"\n",
    "with open (filename, \"w\") as f:\n",
    "    f.write(\"I Love Programming.\\n\")\n",
    "    f.write (\"I love creating new games.\\n\")\n",
    "with open (filename) as f:\n",
    "    print(f.read())"
   ]
  },
  {
   "cell_type": "code",
   "execution_count": 12,
   "metadata": {},
   "outputs": [
    {
     "name": "stdout",
     "output_type": "stream",
     "text": [
      "I Love Programming.\n",
      "I love creating new games.\n",
      "I also love finding meaning in large datasets.\n",
      "I love creating apps that can run in a browser.\n",
      "\n"
     ]
    }
   ],
   "source": [
    "# Appending to a File\n",
    "filename = 'programming.txt'\n",
    "\n",
    "with open(filename, 'a') as file_object:\n",
    "    file_object.write(\"I also love finding meaning in large datasets.\\n\")\n",
    "    file_object.write(\"I love creating apps that can run in a browser.\\n\")\n",
    "with open (filename) as f:\n",
    "    print(f.read())"
   ]
  },
  {
   "cell_type": "code",
   "execution_count": 13,
   "metadata": {},
   "outputs": [
    {
     "name": "stdout",
     "output_type": "stream",
     "text": [
      "Enter your name for the guest list :\n",
      "\n",
      "===============\n",
      "Guest Name: \n"
     ]
    }
   ],
   "source": [
    "# 10-3. Guest: Write a program that prompts the user for their name. When they\n",
    "# respond, write their name to a file called guest.txt.\n",
    "filename = \"guest.txt\"\n",
    "with open (filename, \"w\") as f:\n",
    "    print (\"Enter your name for the guest list :\")\n",
    "    guest_name = str (input())\n",
    "    f.write (f\"Guest Name: {guest_name}\")\n",
    "with open (filename) as f:\n",
    "    print(\"===============\")\n",
    "    print(f.read())    "
   ]
  },
  {
   "cell_type": "code",
   "execution_count": 15,
   "metadata": {},
   "outputs": [
    {
     "name": "stdout",
     "output_type": "stream",
     "text": [
      "Enter your name for the guest list or press 'q' for exit: \n",
      "Shahid\n",
      "Shahid! welcome to the party.\n",
      "Enter your name for the guest list or press 'q' for exit: \n",
      "Jawed\n",
      "Jawed! welcome to the party.\n",
      "Enter your name for the guest list or press 'q' for exit: \n",
      "Munaf\n",
      "Munaf! welcome to the party.\n",
      "Enter your name for the guest list or press 'q' for exit: \n",
      "q\n",
      "===============\n",
      "Guest Shahid has arrived.\n",
      "Guest Jawed has arrived.\n",
      "Guest Munaf has arrived.\n",
      "\n"
     ]
    }
   ],
   "source": [
    "# 10-4. Guest Book: Write a while loop that prompts users for their name. When\n",
    "# they enter their name, print a greeting to the screen and add a line recording\n",
    "# their visit in a file called guest_book.txt. Make sure each entry appears on a\n",
    "# new line in the file.\n",
    "filename = \"guest_book 10-4.txt\"\n",
    "with open (filename, \"w\") as f:\n",
    "    while True:\n",
    "        print (\"Enter your name for the guest list or press 'q' for exit: \")\n",
    "        guest_name = str (input())\n",
    "        if guest_name ==\"q\" or guest_name ==\"Q\":\n",
    "            break\n",
    "        else:\n",
    "            print (f\"{guest_name}! welcome to the party.\")\n",
    "            f.write (f\"Guest {guest_name} has arrived.\\n\")\n",
    "            continue\n",
    "with open (filename) as f:\n",
    "    print(\"===============\")\n",
    "    print(f.read())  "
   ]
  },
  {
   "cell_type": "code",
   "execution_count": 19,
   "metadata": {},
   "outputs": [
    {
     "name": "stdout",
     "output_type": "stream",
     "text": [
      "\n",
      "Please let us know why you love programming: \n",
      "It is fun\n",
      "Would you like others to participate (y/n):\n",
      "y\n",
      "\n",
      "Please let us know why you love programming: \n",
      "It is great\n",
      "Would you like others to participate (y/n):\n",
      "y\n",
      "\n",
      "Please let us know why you love programming: \n",
      "It is the need of time\n",
      "Would you like others to participate (y/n):\n",
      "n\n",
      "===============\n",
      "It is fun.\n",
      "It is great.\n",
      "It is the need of time.\n",
      "\n"
     ]
    }
   ],
   "source": [
    "# 10-5. Programming Poll: Write a while loop that asks people why they like\n",
    "# programming. Each time someone enters a reason, add their reason to a file\n",
    "# that stores all the responses\n",
    "filename = \"prog_lang 10-4.txt\"\n",
    "with open (filename, \"w\") as f:\n",
    "    while True:\n",
    "        print (\"\\nPlease let us know why you love programming: \")\n",
    "        reason = str (input())\n",
    "        f.write (f\"{reason}.\\n\")\n",
    "        print (\"Would you like others to participate (y/n):\")\n",
    "        comment_yn = str(input())\n",
    "        comment_yn = comment_yn.lower()\n",
    "        if comment_yn == \"n\":\n",
    "            break\n",
    "        else:\n",
    "            continue\n",
    "with open (filename) as f:\n",
    "    print(\"===========================\")\n",
    "    print(f.read())  "
   ]
  },
  {
   "cell_type": "code",
   "execution_count": 20,
   "metadata": {},
   "outputs": [
    {
     "name": "stdout",
     "output_type": "stream",
     "text": [
      "Cannot divide a number with zero!\n"
     ]
    }
   ],
   "source": [
    "# Exceptions\n",
    "# Handling the ZeroDivisionError Exception\n",
    "# Try / Except blocks\n",
    "# exceptions do not halt a program\n",
    "try:\n",
    "    print (5/0)\n",
    "except ZeroDivisionError:\n",
    "    print (\"Cannot divide a number with zero!\")"
   ]
  },
  {
   "cell_type": "code",
   "execution_count": 24,
   "metadata": {},
   "outputs": [
    {
     "name": "stdout",
     "output_type": "stream",
     "text": [
      "Give me two numbers, and I'll divide them.\n",
      "Enter 'q' to quit.\n",
      "\n",
      "First number: 2\n",
      "Second number: 1\n",
      "2.0\n",
      "\n",
      "First number: 2\n",
      "Second number: 0\n",
      "You cannot divide a number by zero.\n",
      "TRY AGAIN!!\n",
      "\n",
      "First number: q\n"
     ]
    }
   ],
   "source": [
    "# Using Exceptions to Prevent Crashes\n",
    "print(\"Give me two numbers, and I'll divide them.\")\n",
    "print(\"Enter 'q' to quit.\")\n",
    "while True:\n",
    "    try:\n",
    "        first_number = input(\"\\nFirst number: \")\n",
    "        if first_number == 'q':\n",
    "            break\n",
    "        second_number = input(\"Second number: \")\n",
    "        if second_number == 'q':\n",
    "            break\n",
    "        answer = int(first_number) / int(second_number)\n",
    "    except ZeroDivisionError:\n",
    "        print (\"You cannot divide a number by zero.\")\n",
    "        print (\"TRY AGAIN!!\")\n",
    "    else:\n",
    "        print(answer)"
   ]
  },
  {
   "cell_type": "code",
   "execution_count": 27,
   "metadata": {},
   "outputs": [
    {
     "name": "stdout",
     "output_type": "stream",
     "text": [
      "The file alice.txt doesn't exist !!\n"
     ]
    }
   ],
   "source": [
    "# Handling the FileNotFoundError Exception\n",
    "filename = \"alice.txt\"\n",
    "try:\n",
    "    with open (filename, \"r\") as f:\n",
    "        contents = f.read()\n",
    "except FileNotFoundError:\n",
    "    print (f\"The file {filename} doesn't exist !!\")\n",
    "else: \n",
    "    print (contents)"
   ]
  },
  {
   "cell_type": "code",
   "execution_count": 31,
   "metadata": {},
   "outputs": [
    {
     "name": "stdout",
     "output_type": "stream",
     "text": [
      "50984\n"
     ]
    }
   ],
   "source": [
    "# Analyzing Text\n",
    "# Counting the number of words in the large file\n",
    "filename = \"Alice in Wonderland (story).txt\"\n",
    "try:\n",
    "    with open (filename, \"r\") as f:\n",
    "        contents = f.read()\n",
    "except FileNotFoundError:\n",
    "    print (f\"The file {filename} doesn't exist!!\")\n",
    "else:\n",
    "    count_of_words = contents.split()\n",
    "    print (len(count_of_words))\n",
    "# The split() method separates a string into parts wherever it finds a\n",
    "# space and stores all the parts of the string in a list."
   ]
  },
  {
   "cell_type": "code",
   "execution_count": 39,
   "metadata": {},
   "outputs": [
    {
     "name": "stdout",
     "output_type": "stream",
     "text": [
      "50984\n",
      "===================\n",
      "12\n",
      "===================\n",
      "1\n",
      "===================\n",
      "The file File_Not_Available.txt doesn't exist!!\n",
      "None\n"
     ]
    }
   ],
   "source": [
    "# Working with Multiple Files\n",
    "# Making a function of count first\n",
    "def count_words(filename):\n",
    "    try:\n",
    "        with open (filename, \"r\") as f:\n",
    "            contents = f.read()\n",
    "    except FileNotFoundError:\n",
    "        print (f\"The file {filename} doesn't exist!!\")\n",
    "    else:\n",
    "        count_of_words = contents.split()\n",
    "        return len(count_of_words)\n",
    "\n",
    "filename = \"Alice in Wonderland (story).txt\"\n",
    "print (count_words(filename))\n",
    "print (\"===================\")\n",
    "filename = \"guest_book 10-4.txt\"\n",
    "print (count_words(filename))\n",
    "print (\"===================\")\n",
    "filename = \"Programming_Poll.txt\"\n",
    "print (count_words(filename))\n",
    "print (\"===================\")\n",
    "filename = \"File_Not_Available.txt\"\n",
    "print (count_words(filename))\n"
   ]
  },
  {
   "cell_type": "code",
   "execution_count": 50,
   "metadata": {},
   "outputs": [
    {
     "name": "stdout",
     "output_type": "stream",
     "text": [
      "The file Alice in Wonderland (story).txt contains 50984 words.\n",
      "***************************************************\n",
      "The file guest.txt contains 2 words.\n",
      "***************************************************\n",
      "The file Programming_language_10-1 & 10-2.txt contains 20 words.\n",
      "***************************************************\n",
      "The file File_not_available.txt doesn't exist!!\n",
      "***************************************************\n"
     ]
    }
   ],
   "source": [
    "# Working with Multiple Files\n",
    "# Making a function of count first\n",
    "def count_words(filename):\n",
    "    try:\n",
    "        with open (filename, \"r\") as f:\n",
    "            contents = f.read()\n",
    "    except FileNotFoundError:\n",
    "        return f\"The file {filename} doesn't exist!!\"\n",
    "    else:\n",
    "        count_of_words = contents.split()\n",
    "        return f\"The file {filename} contains {len(count_of_words)} words.\" \n",
    "filenames = [\"Alice in Wonderland (story).txt\", \"guest.txt\", \"Programming_language_10-1 & 10-2.txt\", \"File_not_available.txt\"]\n",
    "for filename in filenames:\n",
    "    a = count_words(filename)\n",
    "    print(a)\n",
    "    print (\"***************************************************\")"
   ]
  },
  {
   "cell_type": "code",
   "execution_count": 53,
   "metadata": {},
   "outputs": [
    {
     "name": "stdout",
     "output_type": "stream",
     "text": [
      "The file Alice in Wonderland (story).txt contains 50984 words.\n",
      "The file guest.txt contains 2 words.\n",
      "The file Programming_language_10-1 & 10-2.txt contains 20 words.\n"
     ]
    }
   ],
   "source": [
    "# Failing Silently\n",
    "# you don’t need to report every exception you catch.\n",
    "# Sometimes you’ll want the program to fail silently when \n",
    "# an exception occurs and continue on as if nothing happened.\n",
    "\n",
    "# Working with Multiple Files\n",
    "# Making a function of count first\n",
    "def count_words(filename):\n",
    "    try:\n",
    "        with open (filename, \"r\") as f:\n",
    "            contents = f.read()\n",
    "    except FileNotFoundError:\n",
    "        pass\n",
    "    else:\n",
    "        count_of_words = contents.split()\n",
    "        print (f\"The file {filename} contains {len(count_of_words)} words.\") \n",
    "filenames = [\"Alice in Wonderland (story).txt\", \"guest.txt\", \"File_not_available.txt\", \"Programming_language_10-1 & 10-2.txt\"]\n",
    "for filename in filenames:\n",
    "    count_words(filename)"
   ]
  },
  {
   "cell_type": "code",
   "execution_count": 58,
   "metadata": {},
   "outputs": [],
   "source": [
    "# EXERCISES"
   ]
  },
  {
   "cell_type": "markdown",
   "metadata": {},
   "source": [
    "10-6. Addition: One common problem when prompting for numerical input occurs when people provide text instead of numbers. When you try to convert the input to an int, you’ll get a ValueError. Write a program that prompts for two numbers. Add them together and print the result. Catch the TypeError if either input value is not a number, and print a friendly error message. Test your program by entering two numbers and then by entering some text instead of a number."
   ]
  },
  {
   "cell_type": "code",
   "execution_count": 63,
   "metadata": {},
   "outputs": [
    {
     "name": "stdout",
     "output_type": "stream",
     "text": [
      "I will perform the addition operation of whole numbers\n",
      "Please input the variables below\n",
      "a: 1\n",
      "b: a\n",
      "You entered a string instead of a number.\n"
     ]
    }
   ],
   "source": [
    "try:\n",
    "    print (\"I will perform the addition operation of whole numbers\")\n",
    "    print (\"Please input the variables below\")\n",
    "    a = input(\"a: \")\n",
    "    a = int(a)\n",
    "    b = input(\"b: \")\n",
    "    b = int(b)\n",
    "except ValueError:\n",
    "    print (\"You entered a string instead of a number.\")\n",
    "else:\n",
    "    print (f\"The addition of {a} & {b} = {a+b}.\")\n",
    "    print (\"Thank you!\")"
   ]
  },
  {
   "cell_type": "markdown",
   "metadata": {},
   "source": [
    "10-7. Addition Calculator: Wrap your code from Exercise 10-6 in a while loop so the user can continue entering numbers even if they make a mistake and enter text instead of a number.\n"
   ]
  },
  {
   "cell_type": "code",
   "execution_count": 1,
   "metadata": {},
   "outputs": [
    {
     "name": "stdout",
     "output_type": "stream",
     "text": [
      "a: 1\n",
      "b: 2\n",
      "The addition of 1 & 1 = 2.\n",
      "Thank you!\n",
      "a: 2\n",
      "b: q\n"
     ]
    }
   ],
   "source": [
    "print (\"I will perform the addition operation of whole numbers\")\n",
    "print (\"Please input the variables below or press 'q' to quit:\")\n",
    "while True:\n",
    "    try:\n",
    "        a = input(\"a: \")\n",
    "        if a == \"q\" or a ==\"Q\":\n",
    "            break\n",
    "        else:\n",
    "            a = int(a)\n",
    "        b = input(\"b: \")\n",
    "        if b == \"q\" or b ==\"Q\":\n",
    "            break\n",
    "        else:\n",
    "            b = int(a)\n",
    "    except ValueError:\n",
    "        print (\"You entered a string instead of a number.\")\n",
    "        print (\"TRY AGAIN\")\n",
    "    else:\n",
    "        print (f\"The addition of {a} & {b} = {a+b}.\")\n",
    "        print (\"Thank you!\")"
   ]
  },
  {
   "cell_type": "markdown",
   "metadata": {},
   "source": [
    "10-8. Cats and Dogs: Make two files, cats.txt and dogs.txt. Store at least three names of cats in the first file and three names of dogs in the second file. Write a program that tries to read these files and print the contents of the file to the screen. Wrap your code in a try-except block to catch the FileNotFound error, and print a friendly message if a file is missing. Move one of the files to a different location on your system, and make sure the code in the except block executes properly.\n"
   ]
  },
  {
   "cell_type": "code",
   "execution_count": 5,
   "metadata": {},
   "outputs": [
    {
     "name": "stdout",
     "output_type": "stream",
     "text": [
      "Mano Billi\n",
      "Tom Billi\n",
      "Sheroo Billa\n",
      "\n",
      "Spike\n",
      "Tike\n",
      "Tommy\n",
      "\n",
      "The file is not availabe\n",
      "\n"
     ]
    }
   ],
   "source": [
    "def read_files (file):\n",
    "    try:\n",
    "        with open (file, \"r\") as f:\n",
    "            contents = f.read()\n",
    "    except FileNotFoundError:\n",
    "        print (\"The file is not availabe\")\n",
    "    else:\n",
    "        print (contents)\n",
    "\n",
    "filenames = [\"cat 10-8.txt\", \"dog 10-8.txt\", \"file_not_found.txt\"]\n",
    "for file in filenames:\n",
    "    read_files (file)\n",
    "    print ()"
   ]
  },
  {
   "cell_type": "markdown",
   "metadata": {},
   "source": [
    "10-9. Silent Cats and Dogs: Modify your except block in Exercise 10-8 to fail silently if either file is missing.\n"
   ]
  },
  {
   "cell_type": "code",
   "execution_count": 6,
   "metadata": {},
   "outputs": [
    {
     "name": "stdout",
     "output_type": "stream",
     "text": [
      "Mano Billi\n",
      "Tom Billi\n",
      "Sheroo Billa\n",
      "\n",
      "Spike\n",
      "Tike\n",
      "Tommy\n",
      "\n",
      "\n"
     ]
    }
   ],
   "source": [
    "def read_files (file):\n",
    "    try:\n",
    "        with open (file, \"r\") as f:\n",
    "            contents = f.read()\n",
    "    except FileNotFoundError:\n",
    "        pass\n",
    "    else:\n",
    "        print (contents)\n",
    "\n",
    "filenames = [\"cat 10-8.txt\", \"dog 10-8.txt\", \"file_not_found.txt\"]\n",
    "for file in filenames:\n",
    "    read_files (file)\n",
    "    print ()"
   ]
  },
  {
   "cell_type": "markdown",
   "metadata": {},
   "source": [
    "10-10. Common Words: Visit Project Gutenberg (http://gutenberg.org/) and find a few texts you’d like to analyze. Download the text files for these works, or copy the raw text from your browser into a text file on your computer. You can use the count() method to find out how many times a word or phrase appears in a string. For example, the following code counts the number of times 'row' appears in a string:\n",
    "\n",
    "    line = \"Row, row, row your boat\"\n",
    "    line.count('row')\n",
    "    2\n",
    "    line.lower().count('row')\n",
    "    3\n",
    "\n",
    "Notice that converting the string to lowercase using lower() catches all appearances of the word you’re looking for, regardless of how it’s formatted. Write a program that reads the files you found at Project Gutenberg and determines how many times the word 'the' appears in each text."
   ]
  },
  {
   "cell_type": "code",
   "execution_count": 12,
   "metadata": {},
   "outputs": [
    {
     "name": "stdout",
     "output_type": "stream",
     "text": [
      "The word 'the' appeared '2398' times in the file 'Alice.txt'.\n"
     ]
    }
   ],
   "source": [
    "def find_common_words (filename, word):\n",
    "    try:\n",
    "        with open (filename, \"r\") as f:\n",
    "            contents = f.read()\n",
    "    except FileNotFoundError:\n",
    "        print (\"The file doesn't exist!\")\n",
    "    else:\n",
    "        count_common_words = contents.lower().count(word)\n",
    "        print (f\"The word '{word}' appeared '{count_common_words}' times in the file '{filename}'.\")\n",
    "\n",
    "filename = \"Alice.txt\"\n",
    "word = \"the\"\n",
    "find_common_words (filename, word)"
   ]
  },
  {
   "cell_type": "markdown",
   "metadata": {},
   "source": [
    "### STORING DATA\n",
    "\n",
    "The json module allows you to dump simple Python data structures into a\n",
    "file and load the data from that file the next time the program runs. You can also use json to share data between different Python programs. Even better, the JSON data format is not specific to Python, so you can share data you store in the JSON format with people who work in many other programming languages. It’s a useful and portable format, and it’s easy to learn.\n",
    "\n",
    "#### WHAT IS JSON?\n",
    "\n",
    "The JSON (JavaScript Object Notation) format was originally developed for JavaScript. However, it has since become a common format used by many languages, including Python."
   ]
  },
  {
   "cell_type": "code",
   "execution_count": 14,
   "metadata": {},
   "outputs": [],
   "source": [
    "# Using json.dump()\n",
    "import json\n",
    "\n",
    "numbers = [2,3,4,5,6,7,9,10]\n",
    "filename = \"numbers.json\" #Filename\n",
    "with open (filename, \"w\") as file:\n",
    "    json.dump(numbers, file) \n",
    "# The json.dump() function takes two arguments: a piece of data to\n",
    "# store and a file object it can use to store the data."
   ]
  },
  {
   "cell_type": "code",
   "execution_count": 17,
   "metadata": {},
   "outputs": [
    {
     "name": "stdout",
     "output_type": "stream",
     "text": [
      "[2, 3, 4, 5, 6, 7, 9, 10]\n"
     ]
    }
   ],
   "source": [
    "# Using json.load()\n",
    "import json\n",
    "filename = \"numbers.json\"\n",
    "with open (filename,\"r\") as file:\n",
    "    numbers = json.load (file)\n",
    "print (numbers)\n",
    "# we use the json.load() function to load the\n",
    "# information stored in numbers.json, and we store \n",
    "# it in the variable numbers. Finally we print the recovered \n",
    "# list of numbers and see that it’s the same list"
   ]
  },
  {
   "cell_type": "code",
   "execution_count": 18,
   "metadata": {},
   "outputs": [
    {
     "name": "stdout",
     "output_type": "stream",
     "text": [
      "Enter your name: Shahid\n",
      "We'll remember you when you come back, Shahid.\n"
     ]
    }
   ],
   "source": [
    "# Saving and Reading User-Generated Data\n",
    "import json\n",
    "username = input (\"Enter your name: \")\n",
    "filename = \"username.json\"\n",
    "with open (filename, \"w\") as f:\n",
    "    json.dump (username, f)\n",
    "    print (f\"We'll remember you when you come back, {username}.\")"
   ]
  },
  {
   "cell_type": "code",
   "execution_count": 19,
   "metadata": {},
   "outputs": [
    {
     "name": "stdout",
     "output_type": "stream",
     "text": [
      "Welcome back Shahid!\n"
     ]
    }
   ],
   "source": [
    "import json\n",
    "filename = \"username.json\"\n",
    "with open (filename,\"r\") as f:\n",
    "    username = json.load (f)\n",
    "print (f\"Welcome back {username}!\")"
   ]
  },
  {
   "cell_type": "code",
   "execution_count": 21,
   "metadata": {},
   "outputs": [
    {
     "name": "stdout",
     "output_type": "stream",
     "text": [
      "Welcome back Shahid!\n"
     ]
    }
   ],
   "source": [
    "# Combining the above two programs\n",
    "filename = \"username.json\"\n",
    "try:\n",
    "    with open (filename,\"r\") as f:\n",
    "        username = json.load(f)\n",
    "except FileNotFoundError:\n",
    "    username = input (\"What is your name? \")\n",
    "    with open (filename, \"w\") as f:\n",
    "        json.dump(username, f)\n",
    "        print (f\"We'll remember you when you come back, {username}.\")\n",
    "else:\n",
    "    print (f\"Welcome back {username}!\")"
   ]
  },
  {
   "cell_type": "markdown",
   "metadata": {},
   "source": [
    "#### Refactoring\n",
    "Often, you’ll come to a point where your code will work, but you’ll recognize that you could improve the code by breaking it up into a series of functions that have specific jobs. This process is called refactoring. Refactoring makes your code cleaner, easier to understand, and easier to extend."
   ]
  },
  {
   "cell_type": "code",
   "execution_count": 22,
   "metadata": {},
   "outputs": [
    {
     "name": "stdout",
     "output_type": "stream",
     "text": [
      "Welcome back Shahid!\n"
     ]
    }
   ],
   "source": [
    "def greet_user():\n",
    "    filename = \"username.json\"\n",
    "    try:\n",
    "        with open (filename,\"r\") as f:\n",
    "            username = json.load(f)\n",
    "    except FileNotFoundError:\n",
    "        username = input (\"What is your name? \")\n",
    "        with open (filename, \"w\") as f:\n",
    "            json.dump(username, f)\n",
    "            print (f\"We'll remember you when you come back, {username}.\")\n",
    "    else:\n",
    "        print (f\"Welcome back {username}!\")\n",
    "        \n",
    "greet_user()"
   ]
  },
  {
   "cell_type": "code",
   "execution_count": 9,
   "metadata": {},
   "outputs": [
    {
     "name": "stdout",
     "output_type": "stream",
     "text": [
      "Welcome back, Insan!\n"
     ]
    }
   ],
   "source": [
    "# Defining 03 functions in Json\n",
    "# 1st = greet_user\n",
    "# 2nd = get_stored_username\n",
    "# 3rd = get_new_username\n",
    "\n",
    "def get_stored_username(filename):\n",
    "    try:\n",
    "        with open (filename, \"r\") as f:\n",
    "            username = json.load(f)\n",
    "    except FileNotFoundError:\n",
    "        None\n",
    "    else:\n",
    "        return username\n",
    "\n",
    "def get_new_username(filename):\n",
    "    username = input (\"What is your name? \")\n",
    "    with open (filename,\"w\") as f:\n",
    "        json.dump(username, f)\n",
    "    return username\n",
    "\n",
    "def greet_user(filename):\n",
    "    username = get_stored_username(filename)\n",
    "    if username:\n",
    "        print (f\"Welcome back, {username}!\")\n",
    "    else:\n",
    "        username =  get_new_username(filename)\n",
    "        print (f\"{username}, we'll remember you.\")\n",
    "\n",
    "import json\n",
    "filename = \"usernames.json\"\n",
    "greet_user(filename)\n",
    "    "
   ]
  },
  {
   "cell_type": "markdown",
   "metadata": {},
   "source": [
    "10-11. Favorite Number: Write a program that prompts for the user’s favorite number. Use json.dump() to store this number in a file. Write a separate program that reads in this value and prints the message, “I know your favorite number! It’s _____.”\n"
   ]
  },
  {
   "cell_type": "code",
   "execution_count": 10,
   "metadata": {},
   "outputs": [
    {
     "name": "stdout",
     "output_type": "stream",
     "text": [
      "Please enter your favourite number: 4\n",
      "We'll remember that '4' is your favourite number.\n"
     ]
    }
   ],
   "source": [
    "def fav_number():\n",
    "    try:\n",
    "        num = int (input (\"Please enter your favourite number: \"))\n",
    "    except:\n",
    "        print (\"Re-run the program and enter a valid number!\")\n",
    "    else:\n",
    "        filename = \"fav_number.json\"\n",
    "        with open (filename, \"w\") as f:\n",
    "            json.dump(num, f)\n",
    "        print (f\"We'll remember that '{num}' is your favourite number.\")\n",
    "fav_number()"
   ]
  },
  {
   "cell_type": "code",
   "execution_count": 13,
   "metadata": {},
   "outputs": [
    {
     "name": "stdout",
     "output_type": "stream",
     "text": [
      "Your favourite number is '4'!\n"
     ]
    }
   ],
   "source": [
    "def get_fav_number():\n",
    "    filename = \"fav_number.json\"\n",
    "    try:\n",
    "        with open (filename, \"r\") as f:\n",
    "            fav_num = json.load(f)\n",
    "    except FileNotFoundError:\n",
    "        print (\"The file doesn't exist.\")\n",
    "    else:\n",
    "        print (f\"Your favourite number is '{fav_num}'!\")\n",
    "\n",
    "get_fav_number()"
   ]
  },
  {
   "cell_type": "markdown",
   "metadata": {},
   "source": [
    "10-12. Favorite Number Remembered: Combine the two programs from Exercise 10-11 into one file. If the number is already stored, report the favorite number to the user. If not, prompt for the user’s favorite number and store it in a file. Run the program twice to see that it works."
   ]
  },
  {
   "cell_type": "code",
   "execution_count": 19,
   "metadata": {},
   "outputs": [
    {
     "name": "stdout",
     "output_type": "stream",
     "text": [
      "Your favourite number is 7\n"
     ]
    }
   ],
   "source": [
    "def get_stored_fav_num (filename):\n",
    "    try:\n",
    "        with open (filename, \"r\") as f:\n",
    "            fav_num = json.load(f)\n",
    "    except FileNotFoundError:\n",
    "        None\n",
    "    else:\n",
    "        return fav_num\n",
    "        \n",
    "\n",
    "def new_fav_number(filename):\n",
    "    while True:\n",
    "        try:\n",
    "            fav_num = int (input (\"Please enter your favourite number: \"))\n",
    "        except:\n",
    "            print (\"Re-run the program and enter a valid number!\")\n",
    "            continue\n",
    "        else:\n",
    "            with open (filename, \"w\") as f:\n",
    "                json.dump(fav_num, f)\n",
    "            print (f\"We'll remember that '{fav_num}' is your favourite number.\")\n",
    "            break\n",
    "\n",
    "def get_fav_number(filename):\n",
    "    fav_num = get_stored_fav_num(filename)\n",
    "    if fav_num:\n",
    "        print (f\"Your favourite number is {fav_num}\")\n",
    "    else:\n",
    "        fav_num = new_fav_number(filename)\n",
    "\n",
    "import json\n",
    "filename = \"fav_number2.json\"\n",
    "get_fav_number(filename)"
   ]
  },
  {
   "cell_type": "markdown",
   "metadata": {},
   "source": [
    "10-13. Verify User: The final listing for remember_me.py assumes either that the user has already entered their username or that the program is running for the first time. We should modify it in case the current user is not the person who last used the program. Before printing a welcome back message in greet_user(), ask the user if this is the correct username. If it’s not, call get_new_username() to get the correct username."
   ]
  },
  {
   "cell_type": "code",
   "execution_count": 21,
   "metadata": {},
   "outputs": [
    {
     "name": "stdout",
     "output_type": "stream",
     "text": [
      "Please confirm that your username is Shahid Iqbal - (y/n): y\n",
      "Welcome back, Shahid Iqbal!\n"
     ]
    }
   ],
   "source": [
    "def get_stored_username(filename):\n",
    "    try:\n",
    "        with open (filename, \"r\") as f:\n",
    "            username = json.load(f)\n",
    "    except FileNotFoundError:\n",
    "        None\n",
    "    else:\n",
    "        return username\n",
    "\n",
    "def get_new_username(filename):\n",
    "    username = input (\"What is your name? \")\n",
    "    with open (filename,\"w\") as f:\n",
    "        json.dump(username, f)\n",
    "    return username\n",
    "\n",
    "def greet_user(filename):\n",
    "    username = get_stored_username(filename)\n",
    "    choice = str(input(f\"Please confirm that your username is {username} - (y/n): \"))\n",
    "    choice = choice.lower()\n",
    "    if choice == \"y\":\n",
    "        print (f\"Welcome back, {username}!\")\n",
    "    else:\n",
    "        username =  get_new_username(filename)\n",
    "        print (f\"{username}, we'll remember you.\")\n",
    "\n",
    "import json\n",
    "filename = \"username.json\"\n",
    "greet_user(filename)"
   ]
  },
  {
   "cell_type": "code",
   "execution_count": null,
   "metadata": {},
   "outputs": [],
   "source": []
  }
 ],
 "metadata": {
  "kernelspec": {
   "display_name": "Python 3",
   "language": "python",
   "name": "python3"
  },
  "language_info": {
   "codemirror_mode": {
    "name": "ipython",
    "version": 3
   },
   "file_extension": ".py",
   "mimetype": "text/x-python",
   "name": "python",
   "nbconvert_exporter": "python",
   "pygments_lexer": "ipython3",
   "version": "3.7.6"
  }
 },
 "nbformat": 4,
 "nbformat_minor": 4
}
