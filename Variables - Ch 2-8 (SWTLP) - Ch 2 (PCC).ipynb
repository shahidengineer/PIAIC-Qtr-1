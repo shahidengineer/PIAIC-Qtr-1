{
 "cells": [
  {
   "cell_type": "code",
   "execution_count": 1,
   "metadata": {},
   "outputs": [
    {
     "name": "stdout",
     "output_type": "stream",
     "text": [
      "Shahid\n",
      "<class 'str'>\n",
      "Iqbal\n"
     ]
    }
   ],
   "source": [
    "name = \"Shahid\"\n",
    "print (name)\n",
    "# Str \"Shahid\" stored as in variable name\n",
    "# variable are not fixed and the assigning value determines the variable type\n",
    "print (type(name))\n",
    "# when you enter another value in name the old one is deleted\n",
    "name = \"Iqbal\"\n",
    "print (name)"
   ]
  },
  {
   "cell_type": "code",
   "execution_count": 2,
   "metadata": {},
   "outputs": [
    {
     "name": "stdout",
     "output_type": "stream",
     "text": [
      "Shahid Iqbal\n"
     ]
    }
   ],
   "source": [
    "# You can use concatenate to combine the string variables\n",
    "f_name = \"Shahid\"\n",
    "l_name = \"Iqbal\"\n",
    "print (f_name + \" \" + l_name)"
   ]
  },
  {
   "cell_type": "code",
   "execution_count": 3,
   "metadata": {},
   "outputs": [
    {
     "name": "stdout",
     "output_type": "stream",
     "text": [
      "Hello Shahid Iqbal!\n"
     ]
    }
   ],
   "source": [
    "# Combining strings with concatenate difference example\n",
    "greeting = \"Hello\"\n",
    "f_name = \"Shahid\"\n",
    "l_name = \"Iqbal\"\n",
    "sep = \" \"\n",
    "message = greeting + sep + f_name + sep + l_name + \"!\"\n",
    "print (message)"
   ]
  },
  {
   "cell_type": "code",
   "execution_count": 4,
   "metadata": {},
   "outputs": [
    {
     "name": "stdout",
     "output_type": "stream",
     "text": [
      "Number = 12   Type = <class 'int'>\n",
      "Number = 12.24   Type = <class 'float'>\n"
     ]
    }
   ],
   "source": [
    "# Likewise str you can assign float and int to the variables\n",
    "num_a = 12\n",
    "num_b = 12.24\n",
    "print (\"Number =\", num_a, \" \", \"Type =\", type(num_a))\n",
    "print (\"Number =\", num_b, \" \", \"Type =\", type(num_b))"
   ]
  },
  {
   "cell_type": "code",
   "execution_count": 5,
   "metadata": {},
   "outputs": [
    {
     "name": "stdout",
     "output_type": "stream",
     "text": [
      "37\n"
     ]
    }
   ],
   "source": [
    "# you can do mathematical operation with numbers as below\n",
    "num_c = num_a +25\n",
    "print (num_c)"
   ]
  },
  {
   "cell_type": "code",
   "execution_count": 6,
   "metadata": {},
   "outputs": [
    {
     "name": "stdout",
     "output_type": "stream",
     "text": [
      "4\n",
      "4\n"
     ]
    }
   ],
   "source": [
    "num = 1\n",
    "numa = 3\n",
    "print (num + numa)\n",
    "print (num + 3)"
   ]
  },
  {
   "cell_type": "code",
   "execution_count": 7,
   "metadata": {},
   "outputs": [
    {
     "data": {
      "text/plain": [
       "'Illegal Variables are - and, as, assert, break, class, continue, def, del, elif, else, except, False, finally, for, from, global, if, import, in, is, lambda, None, nonlocal, not, or, pass, print, raise, return, True, try, while, with, yield.'"
      ]
     },
     "execution_count": 7,
     "metadata": {},
     "output_type": "execute_result"
    }
   ],
   "source": [
    "'''Illegal Variables are - and, as, assert, break, class, continue, def, del, elif, else, except, False, finally, for, from, global, if, import, in, is, lambda, None, nonlocal, not, or, pass, print, raise, return, True, try, while, with, yield.'''"
   ]
  },
  {
   "cell_type": "code",
   "execution_count": 8,
   "metadata": {},
   "outputs": [
    {
     "name": "stdout",
     "output_type": "stream",
     "text": [
      "Modulo Operator % Remainder - For 10%3 = 1\n",
      "age = age + 1 or age +=1 will give the same answer\n",
      "age = 25\n",
      "age + 1 = 26\n",
      "age =+ 1 = 26\n",
      "26\n"
     ]
    }
   ],
   "source": [
    "print (\"Modulo Operator % Remainder - For 10%3 =\", 10%3)\n",
    "print (\"age = age + 1 or age +=1 will give the same answer\")\n",
    "print (\"age = 25\")\n",
    "age = 25\n",
    "age = 25 + 1\n",
    "print (\"age + 1 =\", age)\n",
    "age = 25\n",
    "age +=1\n",
    "print (\"age =+ 1 =\",age)\n",
    "age = 25\n",
    "inc = 1\n",
    "age += inc\n",
    "print (age)\n",
    "#Similar is the case with subtraction, mult & division"
   ]
  },
  {
   "cell_type": "code",
   "execution_count": 9,
   "metadata": {},
   "outputs": [
    {
     "name": "stdout",
     "output_type": "stream",
     "text": [
      "Result of 2+3*2 = 8\n",
      "Result of (2+3)*2 = 10\n",
      "Result of 2+(3*2) = 8\n"
     ]
    }
   ],
   "source": [
    "# Python Functions with BODMAS\n",
    "# It is advisable to have the parenthesis to make it easier to read\n",
    "stra = 2+3*2\n",
    "strb = (2+3)*2\n",
    "strc = 2+(3*2)\n",
    "print (\"Result of 2+3*2 =\", stra)\n",
    "print (\"Result of (2+3)*2 =\", strb)\n",
    "print (\"Result of 2+(3*2) =\", strc)\n",
    "# Avoid ambiguity all the times."
   ]
  },
  {
   "cell_type": "markdown",
   "metadata": {},
   "source": [
    "# PYTHON CRASH COURSE"
   ]
  },
  {
   "cell_type": "code",
   "execution_count": 10,
   "metadata": {},
   "outputs": [
    {
     "name": "stdout",
     "output_type": "stream",
     "text": [
      "Hello World!\n"
     ]
    }
   ],
   "source": [
    "message = \"Hello World!\"\n",
    "print (message)\n",
    "#Keywords in python cannot be made variables and the numbers should not be used to name variables"
   ]
  },
  {
   "cell_type": "code",
   "execution_count": 11,
   "metadata": {},
   "outputs": [
    {
     "name": "stdout",
     "output_type": "stream",
     "text": [
      "Shahid Iqbal\n",
      "SHAHID IQBAL\n",
      "shahid iqbal\n"
     ]
    }
   ],
   "source": [
    "# Changing the case of the strings\n",
    "name = \"shahid Iqbal\" # Mixed String\n",
    "print (name.title()) # for title case\n",
    "print (name.upper()) # for upper case\n",
    "print (name.lower()) # for lower case"
   ]
  },
  {
   "cell_type": "code",
   "execution_count": 12,
   "metadata": {},
   "outputs": [
    {
     "name": "stdout",
     "output_type": "stream",
     "text": [
      "Shahid Iqbal!\n",
      "Hello Shahid Iqbal!\n"
     ]
    }
   ],
   "source": [
    "f_name = \"Shahid\"\n",
    "l_name = \"Iqbal\"\n",
    "full_name = f_name + \" \" + l_name + \"!\"\n",
    "# Here the space & exclamation mark are also assigned to the variable full_name\n",
    "print (full_name.title())\n",
    "print (\"Hello \"+ full_name.title())"
   ]
  },
  {
   "cell_type": "code",
   "execution_count": 13,
   "metadata": {},
   "outputs": [
    {
     "name": "stdout",
     "output_type": "stream",
     "text": [
      "Courses\n",
      "Python\n",
      "\tAI\n",
      "\n",
      "\t\tCNC\n"
     ]
    }
   ],
   "source": [
    "# Combining escape characters with strings\n",
    "print (\"Courses\\nPython\\n\\tAI\\n\\n\\t\\tCNC\")"
   ]
  },
  {
   "cell_type": "code",
   "execution_count": 14,
   "metadata": {},
   "outputs": [
    {
     "name": "stdout",
     "output_type": "stream",
     "text": [
      "Left Strip: Shahid .\n",
      "-------\n",
      "Right Strip:  Shahid.\n",
      "-------\n",
      "Full Strip: Shahid.\n",
      "-------\n"
     ]
    }
   ],
   "source": [
    "#Stripping White Spaces\n",
    "name = \" Shahid \"\n",
    "print (\"Left Strip: \",name.lstrip(),\".\", \"\\n-------\", sep=\"\") #left space strip\n",
    "print (\"Right Strip: \",name.rstrip(),\".\", \"\\n-------\", sep=\"\") #right space strip\n",
    "print (\"Full Strip: \",name.strip(),\".\", \"\\n-------\", sep=\"\") #full strip"
   ]
  },
  {
   "cell_type": "code",
   "execution_count": 15,
   "metadata": {},
   "outputs": [
    {
     "name": "stdout",
     "output_type": "stream",
     "text": [
      "Python is a good language.\n"
     ]
    }
   ],
   "source": [
    "message = 'Python is a good language.'\n",
    "print (message)"
   ]
  },
  {
   "cell_type": "markdown",
   "metadata": {},
   "source": [
    "# Integers & Floats"
   ]
  },
  {
   "cell_type": "code",
   "execution_count": 16,
   "metadata": {},
   "outputs": [
    {
     "data": {
      "text/plain": [
       "5"
      ]
     },
     "execution_count": 16,
     "metadata": {},
     "output_type": "execute_result"
    }
   ],
   "source": [
    "2+3"
   ]
  },
  {
   "cell_type": "code",
   "execution_count": 17,
   "metadata": {},
   "outputs": [
    {
     "data": {
      "text/plain": [
       "0.6666666666666666"
      ]
     },
     "execution_count": 17,
     "metadata": {},
     "output_type": "execute_result"
    }
   ],
   "source": [
    "2/3"
   ]
  },
  {
   "cell_type": "code",
   "execution_count": 18,
   "metadata": {},
   "outputs": [
    {
     "data": {
      "text/plain": [
       "-1"
      ]
     },
     "execution_count": 18,
     "metadata": {},
     "output_type": "execute_result"
    }
   ],
   "source": [
    "2-3"
   ]
  },
  {
   "cell_type": "code",
   "execution_count": 19,
   "metadata": {},
   "outputs": [
    {
     "data": {
      "text/plain": [
       "6"
      ]
     },
     "execution_count": 19,
     "metadata": {},
     "output_type": "execute_result"
    }
   ],
   "source": [
    "2*3"
   ]
  },
  {
   "cell_type": "code",
   "execution_count": 20,
   "metadata": {},
   "outputs": [
    {
     "name": "stdout",
     "output_type": "stream",
     "text": [
      "Exponent Function - 2**3: 8\n",
      "Exponent Function - 10**6: 1000000\n"
     ]
    }
   ],
   "source": [
    "# Exponents are worked out as **\n",
    "print (\"Exponent Function - 2**3:\", 2**3)\n",
    "print (\"Exponent Function - 10**6:\", 10**6)"
   ]
  },
  {
   "cell_type": "code",
   "execution_count": 21,
   "metadata": {},
   "outputs": [
    {
     "name": "stdout",
     "output_type": "stream",
     "text": [
      "Enter the Number: 4\n",
      "Enter the Power / Exp: 2\n",
      "Exponent Function - 4.0**2.0: 16.0\n"
     ]
    }
   ],
   "source": [
    "num = float (input (\"Enter the Number: \"))\n",
    "power = float (input (\"Enter the Power / Exp: \"))\n",
    "print (f\"Exponent Function - {num}**{power}:\", num**power)"
   ]
  },
  {
   "cell_type": "code",
   "execution_count": 22,
   "metadata": {},
   "outputs": [
    {
     "name": "stdout",
     "output_type": "stream",
     "text": [
      "Happy 25rd Birthday!\n"
     ]
    }
   ],
   "source": [
    "age = 25\n",
    "message = \"Happy \"+str(age)+ \"rd Birthday!\" #Type Casting int to str.\n",
    "print (message)"
   ]
  },
  {
   "cell_type": "code",
   "execution_count": 23,
   "metadata": {},
   "outputs": [
    {
     "data": {
      "text/plain": [
       "1.5"
      ]
     },
     "execution_count": 23,
     "metadata": {},
     "output_type": "execute_result"
    }
   ],
   "source": [
    "#python performs all division functions in float by default\n",
    "3/2"
   ]
  },
  {
   "cell_type": "code",
   "execution_count": 24,
   "metadata": {},
   "outputs": [
    {
     "name": "stdout",
     "output_type": "stream",
     "text": [
      "3//2 = 1\n"
     ]
    },
    {
     "data": {
      "text/plain": [
       "'Here we get the soultion but it is not correct'"
      ]
     },
     "execution_count": 24,
     "metadata": {},
     "output_type": "execute_result"
    }
   ],
   "source": [
    "# In order to get only the answer in int form we can use //\n",
    "print (\"3//2 =\", 3//2,)\n",
    "'''Here we get the soultion but it is not correct'''"
   ]
  },
  {
   "cell_type": "code",
   "execution_count": 25,
   "metadata": {},
   "outputs": [
    {
     "data": {
      "text/plain": [
       "4.0"
      ]
     },
     "execution_count": 25,
     "metadata": {},
     "output_type": "execute_result"
    }
   ],
   "source": [
    "2*2.0"
   ]
  },
  {
   "cell_type": "code",
   "execution_count": 26,
   "metadata": {},
   "outputs": [
    {
     "name": "stdout",
     "output_type": "stream",
     "text": [
      "The Zen of Python, by Tim Peters\n",
      "\n",
      "Beautiful is better than ugly.\n",
      "Explicit is better than implicit.\n",
      "Simple is better than complex.\n",
      "Complex is better than complicated.\n",
      "Flat is better than nested.\n",
      "Sparse is better than dense.\n",
      "Readability counts.\n",
      "Special cases aren't special enough to break the rules.\n",
      "Although practicality beats purity.\n",
      "Errors should never pass silently.\n",
      "Unless explicitly silenced.\n",
      "In the face of ambiguity, refuse the temptation to guess.\n",
      "There should be one-- and preferably only one --obvious way to do it.\n",
      "Although that way may not be obvious at first unless you're Dutch.\n",
      "Now is better than never.\n",
      "Although never is often better than *right* now.\n",
      "If the implementation is hard to explain, it's a bad idea.\n",
      "If the implementation is easy to explain, it may be a good idea.\n",
      "Namespaces are one honking great idea -- let's do more of those!\n"
     ]
    }
   ],
   "source": [
    "import this"
   ]
  },
  {
   "cell_type": "code",
   "execution_count": null,
   "metadata": {},
   "outputs": [],
   "source": []
  }
 ],
 "metadata": {
  "kernelspec": {
   "display_name": "Python 3",
   "language": "python",
   "name": "python3"
  },
  "language_info": {
   "codemirror_mode": {
    "name": "ipython",
    "version": 3
   },
   "file_extension": ".py",
   "mimetype": "text/x-python",
   "name": "python",
   "nbconvert_exporter": "python",
   "pygments_lexer": "ipython3",
   "version": "3.7.6"
  }
 },
 "nbformat": 4,
 "nbformat_minor": 4
}
