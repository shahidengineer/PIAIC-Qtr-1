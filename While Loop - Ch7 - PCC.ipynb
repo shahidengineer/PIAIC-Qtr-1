{
 "cells": [
  {
   "cell_type": "code",
   "execution_count": 3,
   "metadata": {},
   "outputs": [],
   "source": [
    "# The for loop takes a collection of items and executes a block of code once\n",
    "# for each item in the collection. In contrast, the while loop runs as long as,\n",
    "# or while, a certain condition is true."
   ]
  },
  {
   "cell_type": "code",
   "execution_count": 4,
   "metadata": {},
   "outputs": [
    {
     "name": "stdout",
     "output_type": "stream",
     "text": [
      "0\n",
      "1\n",
      "2\n",
      "3\n",
      "4\n",
      "5\n"
     ]
    }
   ],
   "source": [
    "num = 0\n",
    "while num <=5:\n",
    "    print (num)\n",
    "    num += 1"
   ]
  },
  {
   "cell_type": "code",
   "execution_count": 4,
   "metadata": {},
   "outputs": [
    {
     "name": "stdout",
     "output_type": "stream",
     "text": [
      "Tell me something, I will repeat itor write quit to close the program.quit\n",
      "quit\n"
     ]
    }
   ],
   "source": [
    "# Using if loop for inputs and termination\n",
    "# This program will run once only\n",
    "prompt = \"Tell me something, I will repeat it\"\n",
    "prompt += \"or write quit to close the program.\"\n",
    "message = \"\"\n",
    "if message.lower() == \"quit\":\n",
    "    print (\"\\nEnd of Program\\n\")\n",
    "else:\n",
    "    message = input (prompt)\n",
    "    print (message)\n",
    "# The if loop is useless in running this program infinitely"
   ]
  },
  {
   "cell_type": "code",
   "execution_count": 7,
   "metadata": {},
   "outputs": [
    {
     "name": "stdout",
     "output_type": "stream",
     "text": [
      "Tell me something, I will repeat it\n",
      "or write quit to close the program: 454\n",
      "454 \n",
      "\n",
      "Tell me something, I will repeat it\n",
      "or write quit to close the program: quit\n",
      "quit \n",
      "\n",
      "End of Program\n",
      "\n"
     ]
    }
   ],
   "source": [
    "# Using while loop for inputs and termination\n",
    "# This program will run continuously\n",
    "prompt = \"Tell me something, I will repeat it\"\n",
    "prompt += \"\\nor write quit to close the program: \"\n",
    "message = \"\"\n",
    "while message.lower() != \"quit\":\n",
    "    message = input (prompt)\n",
    "    print (message,\"\\n\")\n",
    "else:\n",
    "    print (\"End of Program\\n\")"
   ]
  },
  {
   "cell_type": "code",
   "execution_count": 15,
   "metadata": {},
   "outputs": [
    {
     "name": "stdout",
     "output_type": "stream",
     "text": [
      "Tell me something, I will repeat it\n",
      "or write quit to close the program: 123\n",
      "\n",
      "This is your message 123\n",
      "Tell me something, I will repeat it\n",
      "or write quit to close the program: quit\n",
      "\n",
      "End of Program\n"
     ]
    }
   ],
   "source": [
    "# Using Flags in While loop\n",
    "# This is used for multiple failure situations\n",
    "prompt = \"Tell me something, I will repeat it\"\n",
    "prompt += \"\\nor write quit to close the program: \"\n",
    "active = True \n",
    "#this true condition will start the program in active infinite loop\n",
    "while active:\n",
    "    message = input (prompt)\n",
    "    if message.lower() == \"quit\":\n",
    "        print (\"\\nEnd of Program\")\n",
    "        active = False #This will deactivate the while loop\n",
    "    else:\n",
    "        print (f\"\\nThis is your message {message.upper()}\", sep=\"\")"
   ]
  },
  {
   "cell_type": "code",
   "execution_count": 17,
   "metadata": {},
   "outputs": [],
   "source": [
    "# PAGE 124 done in PCC"
   ]
  },
  {
   "cell_type": "code",
   "execution_count": 1,
   "metadata": {},
   "outputs": [
    {
     "name": "stdout",
     "output_type": "stream",
     "text": [
      "\n",
      "Please enter the name of a city you have visited:\n",
      "(Enter 'quit' when you are finished.) 123\n",
      "I'd love to go to 123!\n",
      "\n",
      "Please enter the name of a city you have visited:\n",
      "(Enter 'quit' when you are finished.) 123\n",
      "I'd love to go to 123!\n",
      "\n",
      "Please enter the name of a city you have visited:\n",
      "(Enter 'quit' when you are finished.) 456\n",
      "I'd love to go to 456!\n",
      "\n",
      "Please enter the name of a city you have visited:\n",
      "(Enter 'quit' when you are finished.) quit\n"
     ]
    }
   ],
   "source": [
    "# Using Break in While Flags or while True\n",
    "prompt = \"\\nPlease enter the name of a city you have visited:\"\n",
    "prompt += \"\\n(Enter 'quit' when you are finished.) \"\n",
    "# While True started this program in continuous loop\n",
    "while True:\n",
    "    city = input(prompt)\n",
    "    # If condition here will \"break\" the continual loop\n",
    "    # i.e. the cycle is interuppted within a program\n",
    "    if city == 'quit':\n",
    "        break\n",
    "    else:\n",
    "        print(\"I'd love to go to \" + city.title() + \"!\")"
   ]
  },
  {
   "cell_type": "code",
   "execution_count": 9,
   "metadata": {},
   "outputs": [
    {
     "name": "stdout",
     "output_type": "stream",
     "text": [
      "1 !\n",
      "3 !\n",
      "5 !\n",
      "7 !\n",
      "9 !\n"
     ]
    }
   ],
   "source": [
    "# Using continue in While loop\n",
    "# The if condition if true will skip that part and let the while loop continue\n",
    "num = 0\n",
    "while num < 10: # start of infinite loop with condition of infinity\n",
    "        num += 1 # adding a number at every turn\n",
    "        if num % 2 == 0:\n",
    "            continue #here all even numbers will be skipped and odd numbers will be returned\n",
    "        else:\n",
    "            print (num, \"!\")"
   ]
  },
  {
   "cell_type": "code",
   "execution_count": 10,
   "metadata": {},
   "outputs": [
    {
     "name": "stdout",
     "output_type": "stream",
     "text": [
      "['dog', 'cat', 'dog', 'goldfish', 'cat', 'rabbit', 'cat']\n",
      "['dog', 'dog', 'goldfish', 'rabbit']\n"
     ]
    }
   ],
   "source": [
    "# While loop in Lists\n",
    "\n",
    "pets = ['dog', 'cat', 'dog', 'goldfish', 'cat', 'rabbit', 'cat']\n",
    "print(pets)\n",
    "while 'cat' in pets: # For assign values and while check values\n",
    "    pets.remove('cat') # assinged word cats will be removed\n",
    "print(pets)"
   ]
  },
  {
   "cell_type": "code",
   "execution_count": null,
   "metadata": {},
   "outputs": [],
   "source": []
  }
 ],
 "metadata": {
  "kernelspec": {
   "display_name": "Python 3",
   "language": "python",
   "name": "python3"
  },
  "language_info": {
   "codemirror_mode": {
    "name": "ipython",
    "version": 3
   },
   "file_extension": ".py",
   "mimetype": "text/x-python",
   "name": "python",
   "nbconvert_exporter": "python",
   "pygments_lexer": "ipython3",
   "version": "3.7.6"
  }
 },
 "nbformat": 4,
 "nbformat_minor": 4
}
