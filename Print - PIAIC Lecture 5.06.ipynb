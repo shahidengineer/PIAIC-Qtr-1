{
 "cells": [
  {
   "cell_type": "code",
   "execution_count": 1,
   "metadata": {},
   "outputs": [
    {
     "name": "stdout",
     "output_type": "stream",
     "text": [
      "1000\n"
     ]
    }
   ],
   "source": [
    "print (1000)"
   ]
  },
  {
   "cell_type": "code",
   "execution_count": 2,
   "metadata": {},
   "outputs": [
    {
     "name": "stdout",
     "output_type": "stream",
     "text": [
      "123 456\n"
     ]
    }
   ],
   "source": [
    "print (123, 456)"
   ]
  },
  {
   "cell_type": "code",
   "execution_count": 3,
   "metadata": {},
   "outputs": [],
   "source": [
    "# 2 = integer\n",
    "# 2.02 = float\n",
    "# \"abc\" or \"2\" = string"
   ]
  },
  {
   "cell_type": "code",
   "execution_count": 4,
   "metadata": {},
   "outputs": [
    {
     "name": "stdout",
     "output_type": "stream",
     "text": [
      "Shahid\n"
     ]
    }
   ],
   "source": [
    "print (\"Shahid\")"
   ]
  },
  {
   "cell_type": "code",
   "execution_count": 10,
   "metadata": {},
   "outputs": [
    {
     "name": "stdout",
     "output_type": "stream",
     "text": [
      "PAKISTAN     PYTHON\n",
      "PAKISTAN++PYTHON\n"
     ]
    }
   ],
   "source": [
    "print('PAKISTAN','PYTHON', sep=\"     \")\n",
    "# sep = \"\" acts as a space between variable\n",
    "# with sep = \"\" we can also use special characters as below\n",
    "print('PAKISTAN','PYTHON', sep=\"++\")"
   ]
  },
  {
   "cell_type": "code",
   "execution_count": 12,
   "metadata": {},
   "outputs": [
    {
     "name": "stdout",
     "output_type": "stream",
     "text": [
      "123 \n",
      "Python \n",
      "\t Shahid Iqbal\n"
     ]
    }
   ],
   "source": [
    "#\\n is an escape character and it is used for new line\n",
    "#\\t puts a tab between variables\n",
    "# by default \\n is added with every line and there is not tab in default mode \n",
    "print (123, \"\\nPython\", \"\\n\\t Shahid Iqbal\")"
   ]
  },
  {
   "cell_type": "code",
   "execution_count": 15,
   "metadata": {},
   "outputs": [
    {
     "name": "stdout",
     "output_type": "stream",
     "text": [
      "Hello world\n",
      "\n",
      "Hello world\n",
      "Hello world\n"
     ]
    }
   ],
   "source": [
    "print ('Hello world', end = \"\\n\\n\")\n",
    "print ('Hello world', end = \"\\n\")\n",
    "print ('Hello world')"
   ]
  },
  {
   "cell_type": "code",
   "execution_count": null,
   "metadata": {},
   "outputs": [],
   "source": []
  }
 ],
 "metadata": {
  "kernelspec": {
   "display_name": "Python 3",
   "language": "python",
   "name": "python3"
  },
  "language_info": {
   "codemirror_mode": {
    "name": "ipython",
    "version": 3
   },
   "file_extension": ".py",
   "mimetype": "text/x-python",
   "name": "python",
   "nbconvert_exporter": "python",
   "pygments_lexer": "ipython3",
   "version": "3.7.6"
  }
 },
 "nbformat": 4,
 "nbformat_minor": 4
}
