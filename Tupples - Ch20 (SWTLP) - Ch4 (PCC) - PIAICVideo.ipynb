{
 "cells": [
  {
   "cell_type": "markdown",
   "metadata": {},
   "source": [
    "# TUPPLE"
   ]
  },
  {
   "cell_type": "code",
   "execution_count": 1,
   "metadata": {},
   "outputs": [
    {
     "name": "stdout",
     "output_type": "stream",
     "text": [
      "Type of Tup_a is <class 'tuple'>\n",
      "Type of Tup_b is <class 'tuple'>\n"
     ]
    }
   ],
   "source": [
    "# Tupple are immutable sets\n",
    "# You cannot change, add or delete a value in tupple\n",
    "tup_a = (\"Shahid\", \"Iqbal\", 4, 3.23, \"Shahid\")\n",
    "# Tupple can also be formed using the equal to sign as below\n",
    "tup_b = \"Shahid\", 4, 3.23\n",
    "print (\"Type of Tup_a is\", type(tup_a))\n",
    "print (\"Type of Tup_b is\", type(tup_b))"
   ]
  },
  {
   "cell_type": "code",
   "execution_count": 2,
   "metadata": {},
   "outputs": [
    {
     "data": {
      "text/plain": [
       "5"
      ]
     },
     "execution_count": 2,
     "metadata": {},
     "output_type": "execute_result"
    }
   ],
   "source": [
    "# Checking length of Tupple\n",
    "len (tup_a)"
   ]
  },
  {
   "cell_type": "code",
   "execution_count": 3,
   "metadata": {},
   "outputs": [
    {
     "name": "stdout",
     "output_type": "stream",
     "text": [
      "Iqbal\n",
      "('Shahid', 'Iqbal', 4)\n",
      "('Shahid', 4)\n"
     ]
    }
   ],
   "source": [
    "# Accessing elements in Tupple\n",
    "print (tup_a[1])\n",
    "print (tup_a[:3])\n",
    "print (tup_a[0:3:2])"
   ]
  },
  {
   "cell_type": "code",
   "execution_count": 4,
   "metadata": {},
   "outputs": [
    {
     "data": {
      "text/plain": [
       "2"
      ]
     },
     "execution_count": 4,
     "metadata": {},
     "output_type": "execute_result"
    }
   ],
   "source": [
    "# Finding counts of element in tupple\n",
    "tup_a.count(\"Shahid\")"
   ]
  },
  {
   "cell_type": "code",
   "execution_count": 5,
   "metadata": {},
   "outputs": [
    {
     "data": {
      "text/plain": [
       "3"
      ]
     },
     "execution_count": 5,
     "metadata": {},
     "output_type": "execute_result"
    }
   ],
   "source": [
    "# Finding index of a specific elemnt in tupple\n",
    "tup_a.index(3.23)"
   ]
  }
 ],
 "metadata": {
  "kernelspec": {
   "display_name": "Python 3",
   "language": "python",
   "name": "python3"
  },
  "language_info": {
   "codemirror_mode": {
    "name": "ipython",
    "version": 3
   },
   "file_extension": ".py",
   "mimetype": "text/x-python",
   "name": "python",
   "nbconvert_exporter": "python",
   "pygments_lexer": "ipython3",
   "version": "3.7.6"
  }
 },
 "nbformat": 4,
 "nbformat_minor": 4
}
