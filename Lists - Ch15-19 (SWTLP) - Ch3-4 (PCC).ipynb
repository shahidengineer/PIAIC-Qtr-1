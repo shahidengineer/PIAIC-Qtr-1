{
 "cells": [
  {
   "cell_type": "code",
   "execution_count": 1,
   "metadata": {},
   "outputs": [
    {
     "name": "stdout",
     "output_type": "stream",
     "text": [
      "cat\n",
      "goat\n"
     ]
    }
   ],
   "source": [
    "# List is a group of variables within [] square brackets\n",
    "# Deifining list\n",
    "pets = [\"cat\", \"dog\", \"horse\", \"goat\"]\n",
    "# accessing list element\n",
    "print (pets[0])\n",
    "# The first variable of the list has index no. 0 and then 1,2 & 3\n",
    "# The index no. (max) for a list will be n-1\n",
    "# From the extreme right, the index no. will start from -1,-2,-3 & -4\n",
    "print (pets[-1])"
   ]
  },
  {
   "cell_type": "code",
   "execution_count": 2,
   "metadata": {},
   "outputs": [
    {
     "data": {
      "text/plain": [
       "['shahid', 2, 1.59]"
      ]
     },
     "execution_count": 2,
     "metadata": {},
     "output_type": "execute_result"
    }
   ],
   "source": [
    "# List can be str, float, integer or a combination of these\n",
    "combination = [\"shahid\", 2, 1.59]\n",
    "combination"
   ]
  },
  {
   "cell_type": "code",
   "execution_count": 3,
   "metadata": {},
   "outputs": [
    {
     "name": "stdout",
     "output_type": "stream",
     "text": [
      "My first pet was DOG.\n"
     ]
    }
   ],
   "source": [
    "# Using individual elements from the list \n",
    "print (f\"My first pet was {pets[1].upper()}.\")\n",
    "#used f, list function and variable upper function."
   ]
  },
  {
   "cell_type": "code",
   "execution_count": 4,
   "metadata": {},
   "outputs": [
    {
     "name": "stdout",
     "output_type": "stream",
     "text": [
      "['cat', 'dog', 'horse', 'sheep']\n"
     ]
    }
   ],
   "source": [
    "# MODIFYING LIST\n",
    "pets = [\"cat\", \"dog\", \"horse\", \"goat\"]\n",
    "pets[3] = \"sheep\"\n",
    "#list[index #] = \"element to be added\"\n",
    "print (pets)"
   ]
  },
  {
   "cell_type": "code",
   "execution_count": 5,
   "metadata": {},
   "outputs": [
    {
     "name": "stdout",
     "output_type": "stream",
     "text": [
      "['cat', 'dog', 'horse', 'goat', 'sheep']\n"
     ]
    }
   ],
   "source": [
    "# ADDING ELEMENTS\n",
    "# (1) Append\n",
    "pets = [\"cat\", \"dog\", \"horse\", \"goat\"]\n",
    "pets.append(\"sheep\")\n",
    "# append will only add the element at the end of the list.\n",
    "print (pets)"
   ]
  },
  {
   "cell_type": "code",
   "execution_count": 6,
   "metadata": {},
   "outputs": [
    {
     "name": "stdout",
     "output_type": "stream",
     "text": [
      "['cat', 'dog', 'sheep', 'horse', 'goat']\n"
     ]
    }
   ],
   "source": [
    "# ADDING ELEMENTS\n",
    "# (2) Insert\n",
    "pets = [\"cat\", \"dog\", \"horse\", \"goat\"]\n",
    "pets.insert(2, \"sheep\")\n",
    "# Insert adds the element at the specific index number unlike append.\n",
    "print (pets)"
   ]
  },
  {
   "cell_type": "code",
   "execution_count": 7,
   "metadata": {},
   "outputs": [
    {
     "name": "stdout",
     "output_type": "stream",
     "text": [
      "['lion', 'tiger', 'wolf', 'fox', 'cat', 'dog', 'horse', 'goat']\n"
     ]
    }
   ],
   "source": [
    "# ADDING ELEMENTS\n",
    "# (3) Adding two List using +\n",
    "wild = [\"lion\", \"tiger\", \"wolf\", \"fox\"]\n",
    "pets = [\"cat\", \"dog\", \"horse\", \"goat\"]\n",
    "animals = wild + pets\n",
    "# adding two list with \"+\" sign\n",
    "print (animals)"
   ]
  },
  {
   "cell_type": "code",
   "execution_count": 8,
   "metadata": {},
   "outputs": [
    {
     "name": "stdout",
     "output_type": "stream",
     "text": [
      "Extending List using listname.extend() command:\n",
      "['cat', 'dog', 'horse', 'goat', 'sheep', 'parrot', 'turtle']\n"
     ]
    }
   ],
   "source": [
    "# ADDING ELEMENTS\n",
    "# (4) Using Listname.extend()\n",
    "pets = [\"cat\", \"dog\", \"horse\", \"goat\"]\n",
    "pets.extend([\"sheep\",\"parrot\",\"turtle\"])\n",
    "print (\"Extending List using listname.extend() command:\")\n",
    "print (pets)"
   ]
  },
  {
   "cell_type": "code",
   "execution_count": 9,
   "metadata": {},
   "outputs": [
    {
     "name": "stdout",
     "output_type": "stream",
     "text": [
      "['cat', 'dog', 'horse', 'goat', 'cat', 'dog', 'horse', 'goat']\n"
     ]
    }
   ],
   "source": [
    "# ADDING ELEMENTS\n",
    "# (5) Using * multiply operator\n",
    "pets = [\"cat\", \"dog\", \"horse\", \"goat\"]\n",
    "petss = pets*2\n",
    "print (petss)"
   ]
  },
  {
   "cell_type": "code",
   "execution_count": 10,
   "metadata": {},
   "outputs": [
    {
     "name": "stdout",
     "output_type": "stream",
     "text": [
      "['dog', 'horse', 'goat']\n"
     ]
    },
    {
     "ename": "NameError",
     "evalue": "name 'pets' is not defined",
     "output_type": "error",
     "traceback": [
      "\u001b[1;31m---------------------------------------------------------------------------\u001b[0m",
      "\u001b[1;31mNameError\u001b[0m                                 Traceback (most recent call last)",
      "\u001b[1;32m<ipython-input-10-e25abe6d92c9>\u001b[0m in \u001b[0;36m<module>\u001b[1;34m\u001b[0m\n\u001b[0;32m      6\u001b[0m \u001b[1;32mdel\u001b[0m \u001b[0mpets\u001b[0m\u001b[1;33m\u001b[0m\u001b[1;33m\u001b[0m\u001b[0m\n\u001b[0;32m      7\u001b[0m \u001b[1;31m# without index number, the entire list will be deleted\u001b[0m\u001b[1;33m\u001b[0m\u001b[1;33m\u001b[0m\u001b[1;33m\u001b[0m\u001b[0m\n\u001b[1;32m----> 8\u001b[1;33m \u001b[0mprint\u001b[0m \u001b[1;33m(\u001b[0m\u001b[0mpets\u001b[0m\u001b[1;33m)\u001b[0m \u001b[1;31m#printing will show NameError as below.\u001b[0m\u001b[1;33m\u001b[0m\u001b[1;33m\u001b[0m\u001b[0m\n\u001b[0m",
      "\u001b[1;31mNameError\u001b[0m: name 'pets' is not defined"
     ]
    }
   ],
   "source": [
    "# REMOVING ELEMENTS\n",
    "# (1) Using del[index_no] to delete the corresponding element\n",
    "pets = [\"cat\", \"dog\", \"horse\", \"goat\"]\n",
    "del pets[0]\n",
    "print (pets)\n",
    "del pets\n",
    "# without index number, the entire list will be deleted\n",
    "print (pets) #printing will show NameError as below."
   ]
  },
  {
   "cell_type": "code",
   "execution_count": 11,
   "metadata": {},
   "outputs": [
    {
     "name": "stdout",
     "output_type": "stream",
     "text": [
      "['cat', 'dog', 'horse']\n"
     ]
    }
   ],
   "source": [
    "# REMOVING ELEMENTS\n",
    "# (2) Using remove() function\n",
    "pets = [\"cat\", \"dog\", \"horse\", \"goat\"]\n",
    "pets.remove(\"goat\")\n",
    "# removing using the element name\n",
    "# for multiple enteries with similar name, only the first one will be deleted\n",
    "print (pets)"
   ]
  },
  {
   "cell_type": "code",
   "execution_count": 13,
   "metadata": {},
   "outputs": [
    {
     "name": "stdout",
     "output_type": "stream",
     "text": [
      "First List ['cat', 'dog', 'horse', 'goat'].\n",
      "\n",
      "1. CAT\n",
      "2. DOG\n",
      "3. HORSE\n",
      "4. GOAT\n",
      "\n",
      "Enter the no. of the pet you dislike:4\n",
      "\n",
      "The animal you don't like is goat.\n",
      "\n",
      "Final List ['cat', 'dog', 'horse'].\n"
     ]
    }
   ],
   "source": [
    "# REMOVING ELEMENTS\n",
    "# (3) Using pop() function\n",
    "pets = [\"cat\", \"dog\", \"horse\", \"goat\"]\n",
    "# pop not only deletes the element but will also return the same\n",
    "# this returned value can be used for assigning values\n",
    "print (f\"First List {pets}.\\n\")\n",
    "i = 1\n",
    "for a in pets:\n",
    "    print (i,\". \",a.upper(), sep=\"\")\n",
    "    i += 1\n",
    "pop_e = int (input(\"\\nEnter the no. of the pet you dislike:\"))\n",
    "print (f\"\\nThe animal you don't like is {pets.pop(pop_e-1)}.\")\n",
    "print (f\"\\nFinal List {pets}.\")"
   ]
  },
  {
   "cell_type": "code",
   "execution_count": 14,
   "metadata": {},
   "outputs": [
    {
     "name": "stdout",
     "output_type": "stream",
     "text": [
      "List: ['cat', 'dog', 'horse', 'goat']\n",
      "List: []\n"
     ]
    }
   ],
   "source": [
    "# REMOVING ELEMENTS\n",
    "# (4) Using clear function\n",
    "pets = [\"cat\", \"dog\", \"horse\", \"goat\"]\n",
    "print (\"List:\", pets)\n",
    "pets.clear() #clear the entire list elements\n",
    "print (\"List:\", pets)"
   ]
  },
  {
   "cell_type": "code",
   "execution_count": 15,
   "metadata": {},
   "outputs": [
    {
     "name": "stdout",
     "output_type": "stream",
     "text": [
      "Printing with starting & ending (+1) index number:\n",
      "['cat', 'dog']\n",
      "\n",
      "Printing without starting index number:\n",
      "['cat', 'dog']\n",
      "\n",
      "Printing without ending index number:\n",
      "['cat', 'dog', 'horse', 'goat']\n"
     ]
    }
   ],
   "source": [
    "# SLICING LIST\n",
    "# Using in list_name[start index, end index + 1]\n",
    "pets = [\"cat\", \"dog\", \"horse\", \"goat\"]\n",
    "print(\"Printing with starting & ending (+1) index number:\\n\",pets[0:2], sep=\"\")\n",
    "# Without Starting index number the slicing will always start from index 0.\n",
    "print (\"\\nPrinting without starting index number:\\n\",pets[:2], sep=\"\")\n",
    "# Without ending index number the slicing will always end at max.\n",
    "print (\"\\nPrinting without ending index number:\\n\",pets[0:], sep=\"\")"
   ]
  },
  {
   "cell_type": "code",
   "execution_count": 16,
   "metadata": {},
   "outputs": [
    {
     "name": "stdout",
     "output_type": "stream",
     "text": [
      "['lion', 'tiger', 'wolf', 'fox', 'cat', 'dog', 'horse', 'goat']\n",
      "\n",
      "Sort Ascending :\n",
      " ['cat', 'dog', 'fox', 'goat', 'horse', 'lion', 'tiger', 'wolf']\n",
      "\n",
      "Sort Descending :\n",
      " ['wolf', 'tiger', 'lion', 'horse', 'goat', 'fox', 'dog', 'cat']\n"
     ]
    }
   ],
   "source": [
    "# ORGANIZING LIST\n",
    "# 1. Sorting Elements (Permanently)\n",
    "wild = [\"lion\", \"tiger\", \"wolf\", \"fox\"]\n",
    "pets = [\"cat\", \"dog\", \"horse\", \"goat\"]\n",
    "animals = wild + pets\n",
    "print (animals)\n",
    "animals.sort()\n",
    "print (\"\\nSort Ascending :\\n\", animals)\n",
    "animals.sort(reverse=True)\n",
    "print (\"\\nSort Descending :\\n\", animals)"
   ]
  },
  {
   "cell_type": "code",
   "execution_count": 17,
   "metadata": {},
   "outputs": [
    {
     "name": "stdout",
     "output_type": "stream",
     "text": [
      "Original List:\n",
      " ['lion', 'tiger', 'wolf', 'fox', 'cat', 'dog', 'horse', 'goat']\n",
      "\n",
      "Sort Ascending :\n",
      " ['cat', 'dog', 'fox', 'goat', 'horse', 'lion', 'tiger', 'wolf']\n",
      "\n",
      "Sort Descending :\n",
      " ['wolf', 'tiger', 'lion', 'horse', 'goat', 'fox', 'dog', 'cat']\n",
      "\n",
      "Original List:\n",
      " ['lion', 'tiger', 'wolf', 'fox', 'cat', 'dog', 'horse', 'goat']\n"
     ]
    }
   ],
   "source": [
    "# ORGANIZING LIST\n",
    "# 2. Sorting Elements (Temporarily)\n",
    "wild = [\"lion\", \"tiger\", \"wolf\", \"fox\"]\n",
    "pets = [\"cat\", \"dog\", \"horse\", \"goat\"]\n",
    "animals = wild + pets\n",
    "print (\"Original List:\\n\", animals)\n",
    "print (\"\\nSort Ascending :\\n\", sorted(animals))\n",
    "print (\"\\nSort Descending :\\n\", sorted(animals, reverse=True))\n",
    "print (\"\\nOriginal List:\\n\", animals)"
   ]
  },
  {
   "cell_type": "code",
   "execution_count": 18,
   "metadata": {},
   "outputs": [
    {
     "name": "stdout",
     "output_type": "stream",
     "text": [
      "Original List:\n",
      " ['lion', 'tiger', 'wolf', 'fox', 'cat', 'dog', 'horse', 'goat']\n",
      "\n",
      "Reverse Order:\n",
      " ['goat', 'horse', 'dog', 'cat', 'fox', 'wolf', 'tiger', 'lion']\n"
     ]
    }
   ],
   "source": [
    "# ORGANIZING LIST\n",
    "# 3. Printing in reverse order\n",
    "wild = [\"lion\", \"tiger\", \"wolf\", \"fox\"]\n",
    "pets = [\"cat\", \"dog\", \"horse\", \"goat\"]\n",
    "animals = wild + pets\n",
    "print (\"Original List:\\n\", animals)\n",
    "animals.reverse()\n",
    "print (\"\\nReverse Order:\\n\", animals)"
   ]
  },
  {
   "cell_type": "code",
   "execution_count": 19,
   "metadata": {},
   "outputs": [
    {
     "name": "stdout",
     "output_type": "stream",
     "text": [
      "cat\n",
      "dog\n",
      "horse\n",
      "goat\n",
      "\n",
      "Thank you!\n"
     ]
    }
   ],
   "source": [
    "# LOOPING \n",
    "# THROUGH A LIST\n",
    "# Using For - in method \n",
    "pets = [\"cat\", \"dog\", \"horse\", \"goat\"]\n",
    "for pet in pets: # assigning pet to pets list and running a loop\n",
    "    print (pet)\n",
    "print (\"\\nThank you!\")"
   ]
  },
  {
   "cell_type": "code",
   "execution_count": 20,
   "metadata": {},
   "outputs": [
    {
     "name": "stdout",
     "output_type": "stream",
     "text": [
      "Alice, that was a great trick!\n",
      "I can't wait to see your next trick, Alice.\n",
      "\n",
      "David, that was a great trick!\n",
      "I can't wait to see your next trick, David.\n",
      "\n",
      "Carolina, that was a great trick!\n",
      "I can't wait to see your next trick, Carolina.\n",
      "\n",
      "Thank you everyone, that was a great magic show!\n"
     ]
    }
   ],
   "source": [
    "# LOOPING \n",
    "# THROUGH A LIST\n",
    "# Using For - in method - Part 2\n",
    "magicians = ['alice', 'david', 'carolina']\n",
    "for magician in magicians:\n",
    "    print(magician.title() + \", that was a great trick!\")\n",
    "    print(\"I can't wait to see your next trick, \" + magician.title() + \".\\n\")\n",
    "print(\"Thank you everyone, that was a great magic show!\")"
   ]
  },
  {
   "cell_type": "code",
   "execution_count": 21,
   "metadata": {},
   "outputs": [
    {
     "name": "stdout",
     "output_type": "stream",
     "text": [
      "1\n",
      "2\n",
      "3\n",
      "4\n",
      "\n",
      "Even Numbers from 1 to 10:\n",
      "2\n",
      "4\n",
      "6\n",
      "8\n",
      "10\n",
      "\n"
     ]
    }
   ],
   "source": [
    "# LOOPING \n",
    "# WITH RANGE (INTEGERS)\n",
    "for value in range (1,5): # Range cannot be in float\n",
    "    print (value)\n",
    "print (\"\\nEven Numbers from 1 to 10:\")\n",
    "for b in range (2,11,2): # raneg (st_no,end_no-1,jump-every2number)\n",
    "    print (b)\n",
    "print ()\n"
   ]
  },
  {
   "cell_type": "code",
   "execution_count": 22,
   "metadata": {},
   "outputs": [
    {
     "name": "stdout",
     "output_type": "stream",
     "text": [
      "Square of all numbers from 1 to 10:\n",
      "\n",
      "Square of 1 is: 1\n",
      "Square of 2 is: 4\n",
      "Square of 3 is: 9\n",
      "Square of 4 is: 16\n",
      "Square of 5 is: 25\n",
      "Square of 6 is: 36\n",
      "Square of 7 is: 49\n",
      "Square of 8 is: 64\n",
      "Square of 9 is: 81\n",
      "Square of 10 is: 100\n",
      "\n",
      "[1, 4, 9, 16, 25, 36, 49, 64, 81, 100]\n"
     ]
    }
   ],
   "source": [
    "# LOOPING \n",
    "# WITH RANGE (INTEGERS) AND APPENDING IN LIST\n",
    "print (\"Square of all numbers from 1 to 10:\\n\")\n",
    "squares=[]\n",
    "for c in range (1,11):\n",
    "    print (f\"Square of {c} is:\", c**2)\n",
    "    squares.append(c**2)\n",
    "print (\"\\n\", squares, sep=\"\")"
   ]
  },
  {
   "cell_type": "code",
   "execution_count": 23,
   "metadata": {},
   "outputs": [
    {
     "name": "stdout",
     "output_type": "stream",
     "text": [
      "Square of all numbers from 1 to 10:\n",
      "\n",
      "[1, 4, 9, 16, 25, 36, 49, 64, 81, 100]\n"
     ]
    }
   ],
   "source": [
    "# LOOPING \n",
    "# WITH RANGE (INTEGERS) AND APPENDING IN LIST - PART 2\n",
    "# Faster and better example to loop, do math operation and append together in a single line.\n",
    "print (\"Square of all numbers from 1 to 10:\\n\")\n",
    "squares=[]\n",
    "squares = [value**2 for value in range(1,11)] # Page 64\n",
    "print (squares)"
   ]
  },
  {
   "cell_type": "code",
   "execution_count": 24,
   "metadata": {},
   "outputs": [
    {
     "name": "stdout",
     "output_type": "stream",
     "text": [
      "Original List:\n",
      " ['lion', 'tiger', 'wolf', 'fox', 'cat', 'dog', 'horse', 'goat']\n",
      "\n",
      "First 04 alphabetical animals in list is:\n",
      " ['cat', 'dog', 'fox', 'goat']\n"
     ]
    }
   ],
   "source": [
    "# LOOPING \n",
    "# WITH LIST SLICES\n",
    "wild = [\"lion\", \"tiger\", \"wolf\", \"fox\"]\n",
    "pets = [\"cat\", \"dog\", \"horse\", \"goat\"]\n",
    "animals = wild + pets\n",
    "print (\"Original List:\\n\", animals)\n",
    "animals.sort()\n",
    "sorted_list = [a for a in animals[0:4]]\n",
    "print (\"\\nFirst 04 alphabetical animals in list is:\\n\", sorted_list)"
   ]
  },
  {
   "cell_type": "code",
   "execution_count": 25,
   "metadata": {},
   "outputs": [
    {
     "name": "stdout",
     "output_type": "stream",
     "text": [
      "Min. of Squares List: 1\n",
      "Max of Squares List: 100\n",
      "Sum of Squares List: 385\n"
     ]
    }
   ],
   "source": [
    "# OTHER LIST FUNCTIONS\n",
    "# MATHEMATICAL OPERATORS IN LIST (MIN, MAX, SUM)\n",
    "squares = [1, 4, 9, 16, 25, 36, 49, 64, 81, 100]\n",
    "print (\"Min. of Squares List:\", min (squares)) # minimum\n",
    "print (\"Max of Squares List:\", max(squares)) # maximum\n",
    "print (\"Sum of Squares List:\", sum(squares)) # sum of full list"
   ]
  },
  {
   "cell_type": "code",
   "execution_count": 26,
   "metadata": {},
   "outputs": [
    {
     "data": {
      "text/plain": [
       "8"
      ]
     },
     "execution_count": 26,
     "metadata": {},
     "output_type": "execute_result"
    }
   ],
   "source": [
    "# OTHER LIST FUNCTIONS\n",
    "# FINDING LENGTH OF LIST\n",
    "animals =  ['lion', 'tiger', 'wolf', 'fox', 'cat', 'dog', 'horse', 'goat']\n",
    "len (animals)"
   ]
  },
  {
   "cell_type": "code",
   "execution_count": 27,
   "metadata": {},
   "outputs": [
    {
     "data": {
      "text/plain": [
       "True"
      ]
     },
     "execution_count": 27,
     "metadata": {},
     "output_type": "execute_result"
    }
   ],
   "source": [
    "# OTHER LIST FUNCTIONS\n",
    "# FINDING ELEMENTS\n",
    "# Using in \n",
    "pets = [\"cat\", \"dog\", \"horse\", \"goat\"]\n",
    "\"cat\" in pets\n",
    "# returns true or false"
   ]
  },
  {
   "cell_type": "code",
   "execution_count": 28,
   "metadata": {},
   "outputs": [
    {
     "data": {
      "text/plain": [
       "False"
      ]
     },
     "execution_count": 28,
     "metadata": {},
     "output_type": "execute_result"
    }
   ],
   "source": [
    "# OTHER LIST FUNCTIONS\n",
    "# FINDING ELEMENTS - Part 2\n",
    "# Using in \n",
    "pets = [\"cat\", \"dog\", \"horse\", \"goat\"]\n",
    "\"SHEEP\" in pets\n",
    "# returns true or false"
   ]
  },
  {
   "cell_type": "code",
   "execution_count": 29,
   "metadata": {},
   "outputs": [
    {
     "name": "stdout",
     "output_type": "stream",
     "text": [
      "PETS LIST:\n",
      "['cat', 'dog', 'horse', 'goat', 'cat', 'dog', 'horse', 'goat', 'cat', 'dog', 'horse', 'goat']\n",
      "\n",
      "\n",
      "No. of Cats in Pets List is: 3\n"
     ]
    }
   ],
   "source": [
    "# OTHER LIST FUNCTIONS\n",
    "# Finding count of elements using listname.count\n",
    "pets = [\"cat\", \"dog\", \"horse\", \"goat\"]\n",
    "pets = pets*3\n",
    "print (\"PETS LIST:\\n\", pets, sep=\"\")\n",
    "print (\"\\n\\nNo. of Cats in Pets List is:\", pets.count(\"cat\"))"
   ]
  },
  {
   "cell_type": "code",
   "execution_count": 30,
   "metadata": {},
   "outputs": [
    {
     "name": "stdout",
     "output_type": "stream",
     "text": [
      "1st Index No. of Dog = 1\n"
     ]
    }
   ],
   "source": [
    "# OTHER LIST FUNCTIONS\n",
    "# Finding Index no. of specific element using listname.index(element_name)\n",
    "pets = ['cat', 'dog', 'horse', 'goat', 'cat', 'dog', 'horse', 'goat', 'cat', 'dog', 'horse', 'goat']\n",
    "print (\"1st Index No. of Dog =\", pets.index(\"dog\"))\n",
    "# Index only returns the index of first found value"
   ]
  },
  {
   "cell_type": "code",
   "execution_count": 31,
   "metadata": {},
   "outputs": [
    {
     "name": "stdout",
     "output_type": "stream",
     "text": [
      "Original List: ['cat', 'dog', 'horse', 'goat']\n",
      "Copied List: ['cat', 'dog', 'horse', 'goat']\n",
      "Original List After Append: ['cat', 'dog', 'horse', 'goat', 'sheep']\n",
      "Copied List after Append in Original: ['cat', 'dog', 'horse', 'goat']\n"
     ]
    }
   ],
   "source": [
    "# OTHER LIST FUNCTIONS - COPYING LISTS\n",
    "# (1) Copying by Value\n",
    "pets = [\"cat\", \"dog\", \"horse\", \"goat\"]\n",
    "pets_a = pets.copy()\n",
    "print (\"Original List:\", pets)\n",
    "print (\"Copied List:\", pets_a)\n",
    "pets.append (\"sheep\")\n",
    "print (\"Original List After Append:\", pets)\n",
    "print (\"Copied List after Append in Original:\", pets_a)\n",
    "# listname.copy only copies the elements from one list to other\n",
    "# any changes made in the original list after pets.copy() will not make change in the pets_a list"
   ]
  },
  {
   "cell_type": "code",
   "execution_count": 32,
   "metadata": {},
   "outputs": [
    {
     "name": "stdout",
     "output_type": "stream",
     "text": [
      "Original List: ['cat', 'dog', 'horse', 'goat']\n",
      "Copied List: ['cat', 'dog', 'horse', 'goat']\n",
      "Original List After Append: ['cat', 'dog', 'horse', 'goat', 'sheep']\n",
      "Copied List after Append in Original: ['cat', 'dog', 'horse', 'goat', 'sheep']\n"
     ]
    }
   ],
   "source": [
    "# OTHER LIST FUNCTIONS - COPYING LISTS\n",
    "# (1) Copying by Reference\n",
    "pets = [\"cat\", \"dog\", \"horse\", \"goat\"]\n",
    "pets_a = pets\n",
    "print (\"Original List:\", pets)\n",
    "print (\"Copied List:\", pets_a)\n",
    "pets.append (\"sheep\")\n",
    "print (\"Original List After Append:\", pets)\n",
    "print (\"Copied List after Append in Original:\", pets_a)\n",
    "# listname.copy only copies the elements from one list to other\n",
    "# any changes made in the original list will make change in the pets_a list"
   ]
  }
 ],
 "metadata": {
  "kernelspec": {
   "display_name": "Python 3",
   "language": "python",
   "name": "python3"
  },
  "language_info": {
   "codemirror_mode": {
    "name": "ipython",
    "version": 3
   },
   "file_extension": ".py",
   "mimetype": "text/x-python",
   "name": "python",
   "nbconvert_exporter": "python",
   "pygments_lexer": "ipython3",
   "version": "3.7.6"
  }
 },
 "nbformat": 4,
 "nbformat_minor": 4
}
